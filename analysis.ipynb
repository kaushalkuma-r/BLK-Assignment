{
 "cells": [
  {
   "cell_type": "code",
   "execution_count": 3,
   "metadata": {},
   "outputs": [
    {
     "name": "stdout",
     "output_type": "stream",
     "text": [
      "Defaulting to user installation because normal site-packages is not writeable\n",
      "Collecting openpyxl\n",
      "  Downloading openpyxl-3.1.5-py2.py3-none-any.whl (250 kB)\n",
      "\u001b[2K     \u001b[38;2;114;156;31m━━━━━━━━━━━━━━━━━━━━━━━━━━━━━━━━━━━━━━━\u001b[0m \u001b[32m250.9/250.9 KB\u001b[0m \u001b[31m6.9 MB/s\u001b[0m eta \u001b[36m0:00:00\u001b[0m[36m0:00:01\u001b[0m\n",
      "\u001b[?25hCollecting et-xmlfile\n",
      "  Using cached et_xmlfile-2.0.0-py3-none-any.whl (18 kB)\n",
      "Installing collected packages: et-xmlfile, openpyxl\n",
      "Successfully installed et-xmlfile-2.0.0 openpyxl-3.1.5\n"
     ]
    }
   ],
   "source": [
    "!pip install openpyxl"
   ]
  },
  {
   "cell_type": "code",
   "execution_count": 1,
   "metadata": {},
   "outputs": [],
   "source": [
    "import pandas as pd\n",
    "import matplotlib.pyplot as plt\n",
    "import seaborn as sns"
   ]
  },
  {
   "cell_type": "code",
   "execution_count": 16,
   "metadata": {},
   "outputs": [],
   "source": [
    "def load_data():\n",
    "    # Load data\n",
    "    portfolio_data = pd.read_excel(\"data/PortfolioX.xlsx\")\n",
    "    location_data = pd.read_excel(\"data/location_data.xlsx\")\n",
    "\n",
    "    # Merge on 'Obligor Name'\n",
    "    return portfolio_data, location_data, merged"
   ]
  },
  {
   "cell_type": "code",
   "execution_count": 17,
   "metadata": {},
   "outputs": [],
   "source": [
    "def clean_data(df):\n",
    "    \n",
    "    df_clean = df.dropna(subset=[\"Latitude\", \"Longitude\", \"Obligor Name\"])\n",
    "    df_unique = df_clean.drop_duplicates(subset=[\"Obligor Name\", \"Latitude\", \"Longitude\"])\n",
    "    df_unique = df_unique.reset_index(drop=True)\n",
    "    print(f\"Final unique entries: {df_unique.shape[0]}\")\n",
    "    df_unique.head()\n",
    "    return df_unique"
   ]
  },
  {
   "cell_type": "code",
   "execution_count": 18,
   "metadata": {},
   "outputs": [
    {
     "name": "stdout",
     "output_type": "stream",
     "text": [
      "Final unique entries: 3908\n"
     ]
    }
   ],
   "source": [
    "portfolio_data, location_data, merged= load_data()"
   ]
  },
  {
   "cell_type": "code",
   "execution_count": 53,
   "metadata": {},
   "outputs": [
    {
     "name": "stdout",
     "output_type": "stream",
     "text": [
      "['portX', 'sector dcodes']\n"
     ]
    }
   ],
   "source": [
    "excel_file = pd.ExcelFile(\"data/PortfolioX.xlsx\")\n",
    "\n",
    "# Step 2: See all sheet names\n",
    "print(excel_file.sheet_names) \n",
    "sector_dcodes = pd.read_excel(excel_file, sheet_name='sector dcodes')"
   ]
  },
  {
   "cell_type": "code",
   "execution_count": 55,
   "metadata": {},
   "outputs": [],
   "source": [
    "# sector_dcodes"
   ]
  },
  {
   "cell_type": "code",
   "execution_count": 12,
   "metadata": {},
   "outputs": [
    {
     "name": "stdout",
     "output_type": "stream",
     "text": [
      "Final unique entries: 3908\n"
     ]
    }
   ],
   "source": [
    "location_data=clean_data(location_data)"
   ]
  },
  {
   "cell_type": "code",
   "execution_count": 19,
   "metadata": {},
   "outputs": [
    {
     "data": {
      "text/html": [
       "<div>\n",
       "<style scoped>\n",
       "    .dataframe tbody tr th:only-of-type {\n",
       "        vertical-align: middle;\n",
       "    }\n",
       "\n",
       "    .dataframe tbody tr th {\n",
       "        vertical-align: top;\n",
       "    }\n",
       "\n",
       "    .dataframe thead th {\n",
       "        text-align: right;\n",
       "    }\n",
       "</style>\n",
       "<table border=\"1\" class=\"dataframe\">\n",
       "  <thead>\n",
       "    <tr style=\"text-align: right;\">\n",
       "      <th></th>\n",
       "      <th>Obligor Name</th>\n",
       "      <th>County Code</th>\n",
       "      <th>County</th>\n",
       "      <th>State</th>\n",
       "      <th>CBSA</th>\n",
       "      <th>CBSA_title</th>\n",
       "      <th>Latitude</th>\n",
       "      <th>ZIP</th>\n",
       "      <th>Longitude</th>\n",
       "    </tr>\n",
       "  </thead>\n",
       "  <tbody>\n",
       "    <tr>\n",
       "      <th>0</th>\n",
       "      <td>BROWARD CNTY FLA PORT AUTH</td>\n",
       "      <td>12011.0</td>\n",
       "      <td>Broward, FL</td>\n",
       "      <td>FL</td>\n",
       "      <td>33100.0</td>\n",
       "      <td>Miami-Fort Lauderdale-West Palm Beach, FL</td>\n",
       "      <td>26.1216</td>\n",
       "      <td>33301</td>\n",
       "      <td>-80.1288</td>\n",
       "    </tr>\n",
       "    <tr>\n",
       "      <th>1</th>\n",
       "      <td>HAWAII (STATE OF)</td>\n",
       "      <td>15003.0</td>\n",
       "      <td>Honolulu, HI</td>\n",
       "      <td>HI</td>\n",
       "      <td>46520.0</td>\n",
       "      <td>Urban Honolulu, HI</td>\n",
       "      <td>21.3179</td>\n",
       "      <td>96813</td>\n",
       "      <td>-157.8521</td>\n",
       "    </tr>\n",
       "    <tr>\n",
       "      <th>2</th>\n",
       "      <td>INTERMOUNTAIN PWR AGY UTAH</td>\n",
       "      <td>49035.0</td>\n",
       "      <td>Salt Lake, UT</td>\n",
       "      <td>UT</td>\n",
       "      <td>41620.0</td>\n",
       "      <td>Salt Lake City, UT</td>\n",
       "      <td>40.5541</td>\n",
       "      <td>84095</td>\n",
       "      <td>-111.9539</td>\n",
       "    </tr>\n",
       "    <tr>\n",
       "      <th>3</th>\n",
       "      <td>NEW JERSEY ST TURNPIKE AUTHORITY</td>\n",
       "      <td>34023.0</td>\n",
       "      <td>Middlesex, NJ</td>\n",
       "      <td>NJ</td>\n",
       "      <td>35620.0</td>\n",
       "      <td>New York-Newark-Jersey City, NY-NJ-PA</td>\n",
       "      <td>40.5560</td>\n",
       "      <td>07095</td>\n",
       "      <td>-74.2845</td>\n",
       "    </tr>\n",
       "    <tr>\n",
       "      <th>4</th>\n",
       "      <td>TRIBOROUGH BRIDGE &amp; TUNNEL AUTHORITY</td>\n",
       "      <td>36061.0</td>\n",
       "      <td>New York, NY</td>\n",
       "      <td>NY</td>\n",
       "      <td>35620.0</td>\n",
       "      <td>New York-Newark-Jersey City, NY-NJ-PA</td>\n",
       "      <td>40.8011</td>\n",
       "      <td>10035</td>\n",
       "      <td>-73.9371</td>\n",
       "    </tr>\n",
       "    <tr>\n",
       "      <th>...</th>\n",
       "      <td>...</td>\n",
       "      <td>...</td>\n",
       "      <td>...</td>\n",
       "      <td>...</td>\n",
       "      <td>...</td>\n",
       "      <td>...</td>\n",
       "      <td>...</td>\n",
       "      <td>...</td>\n",
       "      <td>...</td>\n",
       "    </tr>\n",
       "    <tr>\n",
       "      <th>3903</th>\n",
       "      <td>AMERICAN EAGLE NORTHWEST LLC WASH MILITARY HSG</td>\n",
       "      <td>22033.0</td>\n",
       "      <td>East Baton Rouge Parish, LA</td>\n",
       "      <td>LA</td>\n",
       "      <td>12940.0</td>\n",
       "      <td>Baton Rouge, LA</td>\n",
       "      <td>30.4089</td>\n",
       "      <td>70809</td>\n",
       "      <td>-91.0842</td>\n",
       "    </tr>\n",
       "    <tr>\n",
       "      <th>3904</th>\n",
       "      <td>VILLAGES AT TWO RIVERS PROJECT</td>\n",
       "      <td>24003.0</td>\n",
       "      <td>Anne Arundel, MD</td>\n",
       "      <td>MD</td>\n",
       "      <td>12580.0</td>\n",
       "      <td>Baltimore-Columbia-Towson, MD</td>\n",
       "      <td>39.0762</td>\n",
       "      <td>21113</td>\n",
       "      <td>-76.6996</td>\n",
       "    </tr>\n",
       "    <tr>\n",
       "      <th>3905</th>\n",
       "      <td>TENNESSEE STATE SCHOOL BOND AUTHORITY</td>\n",
       "      <td>47037.0</td>\n",
       "      <td>Davidson, TN</td>\n",
       "      <td>TN</td>\n",
       "      <td>34980.0</td>\n",
       "      <td>Nashville-Davidson--Murfreesboro--Franklin, TN</td>\n",
       "      <td>36.1650</td>\n",
       "      <td>37243</td>\n",
       "      <td>-86.7821</td>\n",
       "    </tr>\n",
       "    <tr>\n",
       "      <th>3906</th>\n",
       "      <td>VERNON CONN</td>\n",
       "      <td>9013.0</td>\n",
       "      <td>Tolland, CT</td>\n",
       "      <td>CT</td>\n",
       "      <td>25540.0</td>\n",
       "      <td>Hartford-West Hartford-East Hartford, CT</td>\n",
       "      <td>41.8501</td>\n",
       "      <td>06066</td>\n",
       "      <td>-72.4649</td>\n",
       "    </tr>\n",
       "    <tr>\n",
       "      <th>3907</th>\n",
       "      <td>REID HOSPITAL &amp; HEALTH CARE SERVICES INC</td>\n",
       "      <td>18177.0</td>\n",
       "      <td>Wayne, IN</td>\n",
       "      <td>IN</td>\n",
       "      <td>39980.0</td>\n",
       "      <td>Richmond, IN</td>\n",
       "      <td>39.8324</td>\n",
       "      <td>47374</td>\n",
       "      <td>-84.8936</td>\n",
       "    </tr>\n",
       "  </tbody>\n",
       "</table>\n",
       "<p>3908 rows × 9 columns</p>\n",
       "</div>"
      ],
      "text/plain": [
       "                                         Obligor Name  County Code  \\\n",
       "0                          BROWARD CNTY FLA PORT AUTH      12011.0   \n",
       "1                                   HAWAII (STATE OF)      15003.0   \n",
       "2                          INTERMOUNTAIN PWR AGY UTAH      49035.0   \n",
       "3                    NEW JERSEY ST TURNPIKE AUTHORITY      34023.0   \n",
       "4                TRIBOROUGH BRIDGE & TUNNEL AUTHORITY      36061.0   \n",
       "...                                               ...          ...   \n",
       "3903   AMERICAN EAGLE NORTHWEST LLC WASH MILITARY HSG      22033.0   \n",
       "3904                   VILLAGES AT TWO RIVERS PROJECT      24003.0   \n",
       "3905            TENNESSEE STATE SCHOOL BOND AUTHORITY      47037.0   \n",
       "3906                                      VERNON CONN       9013.0   \n",
       "3907         REID HOSPITAL & HEALTH CARE SERVICES INC      18177.0   \n",
       "\n",
       "                           County State     CBSA  \\\n",
       "0                     Broward, FL    FL  33100.0   \n",
       "1                    Honolulu, HI    HI  46520.0   \n",
       "2                   Salt Lake, UT    UT  41620.0   \n",
       "3                   Middlesex, NJ    NJ  35620.0   \n",
       "4                    New York, NY    NY  35620.0   \n",
       "...                           ...   ...      ...   \n",
       "3903  East Baton Rouge Parish, LA    LA  12940.0   \n",
       "3904             Anne Arundel, MD    MD  12580.0   \n",
       "3905                 Davidson, TN    TN  34980.0   \n",
       "3906                  Tolland, CT    CT  25540.0   \n",
       "3907                    Wayne, IN    IN  39980.0   \n",
       "\n",
       "                                          CBSA_title  Latitude    ZIP  \\\n",
       "0          Miami-Fort Lauderdale-West Palm Beach, FL   26.1216  33301   \n",
       "1                                 Urban Honolulu, HI   21.3179  96813   \n",
       "2                                 Salt Lake City, UT   40.5541  84095   \n",
       "3              New York-Newark-Jersey City, NY-NJ-PA   40.5560  07095   \n",
       "4              New York-Newark-Jersey City, NY-NJ-PA   40.8011  10035   \n",
       "...                                              ...       ...    ...   \n",
       "3903                                 Baton Rouge, LA   30.4089  70809   \n",
       "3904                   Baltimore-Columbia-Towson, MD   39.0762  21113   \n",
       "3905  Nashville-Davidson--Murfreesboro--Franklin, TN   36.1650  37243   \n",
       "3906        Hartford-West Hartford-East Hartford, CT   41.8501  06066   \n",
       "3907                                    Richmond, IN   39.8324  47374   \n",
       "\n",
       "      Longitude  \n",
       "0      -80.1288  \n",
       "1     -157.8521  \n",
       "2     -111.9539  \n",
       "3      -74.2845  \n",
       "4      -73.9371  \n",
       "...         ...  \n",
       "3903   -91.0842  \n",
       "3904   -76.6996  \n",
       "3905   -86.7821  \n",
       "3906   -72.4649  \n",
       "3907   -84.8936  \n",
       "\n",
       "[3908 rows x 9 columns]"
      ]
     },
     "execution_count": 19,
     "metadata": {},
     "output_type": "execute_result"
    }
   ],
   "source": [
    "location_data"
   ]
  },
  {
   "cell_type": "code",
   "execution_count": 20,
   "metadata": {},
   "outputs": [
    {
     "data": {
      "text/html": [
       "<div>\n",
       "<style scoped>\n",
       "    .dataframe tbody tr th:only-of-type {\n",
       "        vertical-align: middle;\n",
       "    }\n",
       "\n",
       "    .dataframe tbody tr th {\n",
       "        vertical-align: top;\n",
       "    }\n",
       "\n",
       "    .dataframe thead th {\n",
       "        text-align: right;\n",
       "    }\n",
       "</style>\n",
       "<table border=\"1\" class=\"dataframe\">\n",
       "  <thead>\n",
       "    <tr style=\"text-align: right;\">\n",
       "      <th></th>\n",
       "      <th>cusip</th>\n",
       "      <th>Obligor</th>\n",
       "      <th>Obligor Name</th>\n",
       "      <th>maturity</th>\n",
       "      <th>coupon</th>\n",
       "      <th>Sec_Group</th>\n",
       "      <th>Sec_Type</th>\n",
       "      <th>book_yield</th>\n",
       "      <th>unrealized_gl</th>\n",
       "      <th>Par</th>\n",
       "      <th>Rating</th>\n",
       "      <th>Outlook</th>\n",
       "      <th>Sector_Level_1</th>\n",
       "      <th>Sector</th>\n",
       "    </tr>\n",
       "  </thead>\n",
       "  <tbody>\n",
       "    <tr>\n",
       "      <th>0</th>\n",
       "      <td>546398ZP6</td>\n",
       "      <td>009158</td>\n",
       "      <td>AIR PRODUCTS AND CHEMICALS INC</td>\n",
       "      <td>2043-12-01</td>\n",
       "      <td>-99.000</td>\n",
       "      <td>CASH</td>\n",
       "      <td>MVRDN</td>\n",
       "      <td>3.00000</td>\n",
       "      <td>0.00000</td>\n",
       "      <td>37000000.0</td>\n",
       "      <td>A1</td>\n",
       "      <td>NaN</td>\n",
       "      <td>CORP</td>\n",
       "      <td>CHEM</td>\n",
       "    </tr>\n",
       "    <tr>\n",
       "      <th>1</th>\n",
       "      <td>56678TAA7</td>\n",
       "      <td>201723</td>\n",
       "      <td>COMMERCIAL METALS COMPANY</td>\n",
       "      <td>2047-10-15</td>\n",
       "      <td>4.000</td>\n",
       "      <td>BND</td>\n",
       "      <td>MUNI</td>\n",
       "      <td>3.65993</td>\n",
       "      <td>-861401.04000</td>\n",
       "      <td>7175000.0</td>\n",
       "      <td>BB1</td>\n",
       "      <td>Stable</td>\n",
       "      <td>CORP</td>\n",
       "      <td>METL</td>\n",
       "    </tr>\n",
       "    <tr>\n",
       "      <th>2</th>\n",
       "      <td>64984EDG7</td>\n",
       "      <td>209111</td>\n",
       "      <td>CONSOLIDATED EDISON COMPANY OF NEW YORK INC</td>\n",
       "      <td>2039-05-01</td>\n",
       "      <td>-99.000</td>\n",
       "      <td>CASH</td>\n",
       "      <td>MVRDN</td>\n",
       "      <td>4.55000</td>\n",
       "      <td>99999.90000</td>\n",
       "      <td>100000.0</td>\n",
       "      <td>BBB1</td>\n",
       "      <td>Stable</td>\n",
       "      <td>CORP</td>\n",
       "      <td>ELEC</td>\n",
       "    </tr>\n",
       "    <tr>\n",
       "      <th>3</th>\n",
       "      <td>4423485T1</td>\n",
       "      <td>210795</td>\n",
       "      <td>UNITED AIRLINES INC</td>\n",
       "      <td>2038-07-15</td>\n",
       "      <td>6.625</td>\n",
       "      <td>BND</td>\n",
       "      <td>MUNI</td>\n",
       "      <td>4.05000</td>\n",
       "      <td>-12979.08765</td>\n",
       "      <td>405000.0</td>\n",
       "      <td>BB3</td>\n",
       "      <td>Stable</td>\n",
       "      <td>CORP</td>\n",
       "      <td>AIRL</td>\n",
       "    </tr>\n",
       "    <tr>\n",
       "      <th>4</th>\n",
       "      <td>13050RAA0</td>\n",
       "      <td>210795</td>\n",
       "      <td>UNITED AIRLINES INC</td>\n",
       "      <td>2029-07-15</td>\n",
       "      <td>4.000</td>\n",
       "      <td>BND</td>\n",
       "      <td>MUNI</td>\n",
       "      <td>4.23300</td>\n",
       "      <td>32715.02500</td>\n",
       "      <td>2500000.0</td>\n",
       "      <td>BB3</td>\n",
       "      <td>Stable</td>\n",
       "      <td>CORP</td>\n",
       "      <td>AIRL</td>\n",
       "    </tr>\n",
       "    <tr>\n",
       "      <th>...</th>\n",
       "      <td>...</td>\n",
       "      <td>...</td>\n",
       "      <td>...</td>\n",
       "      <td>...</td>\n",
       "      <td>...</td>\n",
       "      <td>...</td>\n",
       "      <td>...</td>\n",
       "      <td>...</td>\n",
       "      <td>...</td>\n",
       "      <td>...</td>\n",
       "      <td>...</td>\n",
       "      <td>...</td>\n",
       "      <td>...</td>\n",
       "      <td>...</td>\n",
       "    </tr>\n",
       "    <tr>\n",
       "      <th>8098</th>\n",
       "      <td>13057EHB3</td>\n",
       "      <td>R96714</td>\n",
       "      <td>SHARP HEALTHCARE</td>\n",
       "      <td>2029-08-01</td>\n",
       "      <td>5.000</td>\n",
       "      <td>BND</td>\n",
       "      <td>MUNI</td>\n",
       "      <td>2.40000</td>\n",
       "      <td>56841.72400</td>\n",
       "      <td>50000.0</td>\n",
       "      <td>AA3</td>\n",
       "      <td>Stable</td>\n",
       "      <td>HEALTH</td>\n",
       "      <td>HOSP</td>\n",
       "    </tr>\n",
       "    <tr>\n",
       "      <th>8099</th>\n",
       "      <td>57585BAA6</td>\n",
       "      <td>R97926</td>\n",
       "      <td>BOSTON CHILDRENS HOSPITAL TRUST</td>\n",
       "      <td>2034-03-01</td>\n",
       "      <td>5.000</td>\n",
       "      <td>BND</td>\n",
       "      <td>MUNI</td>\n",
       "      <td>2.71100</td>\n",
       "      <td>212470.44175</td>\n",
       "      <td>175000.0</td>\n",
       "      <td>NaN</td>\n",
       "      <td>NaN</td>\n",
       "      <td>HEALTH</td>\n",
       "      <td>HOSP</td>\n",
       "    </tr>\n",
       "    <tr>\n",
       "      <th>8100</th>\n",
       "      <td>57584YLJ6</td>\n",
       "      <td>R97932</td>\n",
       "      <td>BRANDEIS UNIVERSITY</td>\n",
       "      <td>2039-10-01</td>\n",
       "      <td>5.000</td>\n",
       "      <td>BND</td>\n",
       "      <td>MUNI</td>\n",
       "      <td>0.00000</td>\n",
       "      <td>21646.72540</td>\n",
       "      <td>20000.0</td>\n",
       "      <td>A1</td>\n",
       "      <td>Stable</td>\n",
       "      <td>EDUC</td>\n",
       "      <td>UNIVPRIV</td>\n",
       "    </tr>\n",
       "    <tr>\n",
       "      <th>8101</th>\n",
       "      <td>57584YLG2</td>\n",
       "      <td>R97932</td>\n",
       "      <td>BRANDEIS UNIVERSITY</td>\n",
       "      <td>2037-10-01</td>\n",
       "      <td>5.000</td>\n",
       "      <td>BND</td>\n",
       "      <td>MUNI</td>\n",
       "      <td>0.00000</td>\n",
       "      <td>10948.00560</td>\n",
       "      <td>10000.0</td>\n",
       "      <td>A1</td>\n",
       "      <td>Stable</td>\n",
       "      <td>EDUC</td>\n",
       "      <td>UNIVPRIV</td>\n",
       "    </tr>\n",
       "    <tr>\n",
       "      <th>8102</th>\n",
       "      <td>57584YNQ8</td>\n",
       "      <td>R97932</td>\n",
       "      <td>BRANDEIS UNIVERSITY</td>\n",
       "      <td>2027-10-01</td>\n",
       "      <td>5.000</td>\n",
       "      <td>BND</td>\n",
       "      <td>MUNI</td>\n",
       "      <td>2.66000</td>\n",
       "      <td>48880.43955</td>\n",
       "      <td>45000.0</td>\n",
       "      <td>A1</td>\n",
       "      <td>Stable</td>\n",
       "      <td>EDUC</td>\n",
       "      <td>UNIVPRIV</td>\n",
       "    </tr>\n",
       "  </tbody>\n",
       "</table>\n",
       "<p>8103 rows × 14 columns</p>\n",
       "</div>"
      ],
      "text/plain": [
       "          cusip Obligor                                 Obligor Name  \\\n",
       "0     546398ZP6  009158               AIR PRODUCTS AND CHEMICALS INC   \n",
       "1     56678TAA7  201723                    COMMERCIAL METALS COMPANY   \n",
       "2     64984EDG7  209111  CONSOLIDATED EDISON COMPANY OF NEW YORK INC   \n",
       "3     4423485T1  210795                          UNITED AIRLINES INC   \n",
       "4     13050RAA0  210795                          UNITED AIRLINES INC   \n",
       "...         ...     ...                                          ...   \n",
       "8098  13057EHB3  R96714                             SHARP HEALTHCARE   \n",
       "8099  57585BAA6  R97926              BOSTON CHILDRENS HOSPITAL TRUST   \n",
       "8100  57584YLJ6  R97932                          BRANDEIS UNIVERSITY   \n",
       "8101  57584YLG2  R97932                          BRANDEIS UNIVERSITY   \n",
       "8102  57584YNQ8  R97932                          BRANDEIS UNIVERSITY   \n",
       "\n",
       "       maturity  coupon Sec_Group Sec_Type  book_yield  unrealized_gl  \\\n",
       "0    2043-12-01 -99.000      CASH    MVRDN     3.00000        0.00000   \n",
       "1    2047-10-15   4.000       BND     MUNI     3.65993  -861401.04000   \n",
       "2    2039-05-01 -99.000      CASH    MVRDN     4.55000    99999.90000   \n",
       "3    2038-07-15   6.625       BND     MUNI     4.05000   -12979.08765   \n",
       "4    2029-07-15   4.000       BND     MUNI     4.23300    32715.02500   \n",
       "...         ...     ...       ...      ...         ...            ...   \n",
       "8098 2029-08-01   5.000       BND     MUNI     2.40000    56841.72400   \n",
       "8099 2034-03-01   5.000       BND     MUNI     2.71100   212470.44175   \n",
       "8100 2039-10-01   5.000       BND     MUNI     0.00000    21646.72540   \n",
       "8101 2037-10-01   5.000       BND     MUNI     0.00000    10948.00560   \n",
       "8102 2027-10-01   5.000       BND     MUNI     2.66000    48880.43955   \n",
       "\n",
       "             Par Rating Outlook Sector_Level_1    Sector  \n",
       "0     37000000.0     A1     NaN           CORP      CHEM  \n",
       "1      7175000.0    BB1  Stable           CORP      METL  \n",
       "2       100000.0   BBB1  Stable           CORP      ELEC  \n",
       "3       405000.0    BB3  Stable           CORP      AIRL  \n",
       "4      2500000.0    BB3  Stable           CORP      AIRL  \n",
       "...          ...    ...     ...            ...       ...  \n",
       "8098     50000.0    AA3  Stable         HEALTH      HOSP  \n",
       "8099    175000.0    NaN     NaN         HEALTH      HOSP  \n",
       "8100     20000.0     A1  Stable           EDUC  UNIVPRIV  \n",
       "8101     10000.0     A1  Stable           EDUC  UNIVPRIV  \n",
       "8102     45000.0     A1  Stable           EDUC  UNIVPRIV  \n",
       "\n",
       "[8103 rows x 14 columns]"
      ]
     },
     "execution_count": 20,
     "metadata": {},
     "output_type": "execute_result"
    }
   ],
   "source": [
    "portfolio_data"
   ]
  },
  {
   "cell_type": "code",
   "execution_count": 25,
   "metadata": {},
   "outputs": [],
   "source": [
    "def merge_portfolio_with_location(portfolio_data: pd.DataFrame, location_data: pd.DataFrame) -> pd.DataFrame:\n",
    "    \"\"\"\n",
    "    Merges portfolio_data with location_data on 'Obligor Name' after uppercasing and stripping whitespace.\n",
    "    \n",
    "    Parameters:\n",
    "        portfolio_data (pd.DataFrame): DataFrame containing portfolio information.\n",
    "        location_data (pd.DataFrame): DataFrame containing obligor location details (lat, long, state, etc.).\n",
    "        \n",
    "    Returns:\n",
    "        pd.DataFrame: Merged DataFrame with additional location fields.\n",
    "    \"\"\"\n",
    "    portfolio_data = portfolio_data.copy()\n",
    "    location_data = location_data.copy()\n",
    "    \n",
    "    portfolio_data['Obligor Name'] = portfolio_data['Obligor Name'].str.upper().str.strip()\n",
    "    location_data['Obligor Name'] = location_data['Obligor Name'].str.upper().str.strip()\n",
    "    merged_data = pd.merge(\n",
    "        portfolio_data,\n",
    "        location_data[['Obligor Name', 'County', 'State', 'ZIP', 'Latitude', 'Longitude']],\n",
    "        on='Obligor Name',\n",
    "        how='left'\n",
    "    )\n",
    "    unmatched = merged_data[merged_data['Latitude'].isna()]\n",
    "\n",
    "    print(f\"Unmatched rows: {len(unmatched)}\")\n",
    "    return merged_data\n"
   ]
  },
  {
   "cell_type": "code",
   "execution_count": 26,
   "metadata": {
    "scrolled": true
   },
   "outputs": [
    {
     "data": {
      "text/html": [
       "<div>\n",
       "<style scoped>\n",
       "    .dataframe tbody tr th:only-of-type {\n",
       "        vertical-align: middle;\n",
       "    }\n",
       "\n",
       "    .dataframe tbody tr th {\n",
       "        vertical-align: top;\n",
       "    }\n",
       "\n",
       "    .dataframe thead th {\n",
       "        text-align: right;\n",
       "    }\n",
       "</style>\n",
       "<table border=\"1\" class=\"dataframe\">\n",
       "  <thead>\n",
       "    <tr style=\"text-align: right;\">\n",
       "      <th></th>\n",
       "      <th>cusip</th>\n",
       "      <th>Obligor</th>\n",
       "      <th>Obligor Name</th>\n",
       "      <th>maturity</th>\n",
       "      <th>coupon</th>\n",
       "      <th>Sec_Group</th>\n",
       "      <th>Sec_Type</th>\n",
       "      <th>book_yield</th>\n",
       "      <th>unrealized_gl</th>\n",
       "      <th>Par</th>\n",
       "      <th>Rating</th>\n",
       "      <th>Outlook</th>\n",
       "      <th>Sector_Level_1</th>\n",
       "      <th>Sector</th>\n",
       "      <th>County</th>\n",
       "      <th>State</th>\n",
       "      <th>ZIP</th>\n",
       "      <th>Latitude</th>\n",
       "      <th>Longitude</th>\n",
       "    </tr>\n",
       "  </thead>\n",
       "  <tbody>\n",
       "    <tr>\n",
       "      <th>0</th>\n",
       "      <td>546398ZP6</td>\n",
       "      <td>009158</td>\n",
       "      <td>AIR PRODUCTS AND CHEMICALS INC</td>\n",
       "      <td>2043-12-01</td>\n",
       "      <td>-99.000</td>\n",
       "      <td>CASH</td>\n",
       "      <td>MVRDN</td>\n",
       "      <td>3.00000</td>\n",
       "      <td>0.00000</td>\n",
       "      <td>37000000.0</td>\n",
       "      <td>A1</td>\n",
       "      <td>NaN</td>\n",
       "      <td>CORP</td>\n",
       "      <td>CHEM</td>\n",
       "      <td>NaN</td>\n",
       "      <td>NaN</td>\n",
       "      <td>NaN</td>\n",
       "      <td>NaN</td>\n",
       "      <td>NaN</td>\n",
       "    </tr>\n",
       "    <tr>\n",
       "      <th>1</th>\n",
       "      <td>56678TAA7</td>\n",
       "      <td>201723</td>\n",
       "      <td>COMMERCIAL METALS COMPANY</td>\n",
       "      <td>2047-10-15</td>\n",
       "      <td>4.000</td>\n",
       "      <td>BND</td>\n",
       "      <td>MUNI</td>\n",
       "      <td>3.65993</td>\n",
       "      <td>-861401.04000</td>\n",
       "      <td>7175000.0</td>\n",
       "      <td>BB1</td>\n",
       "      <td>Stable</td>\n",
       "      <td>CORP</td>\n",
       "      <td>METL</td>\n",
       "      <td>NaN</td>\n",
       "      <td>NaN</td>\n",
       "      <td>NaN</td>\n",
       "      <td>NaN</td>\n",
       "      <td>NaN</td>\n",
       "    </tr>\n",
       "    <tr>\n",
       "      <th>2</th>\n",
       "      <td>64984EDG7</td>\n",
       "      <td>209111</td>\n",
       "      <td>CONSOLIDATED EDISON COMPANY OF NEW YORK INC</td>\n",
       "      <td>2039-05-01</td>\n",
       "      <td>-99.000</td>\n",
       "      <td>CASH</td>\n",
       "      <td>MVRDN</td>\n",
       "      <td>4.55000</td>\n",
       "      <td>99999.90000</td>\n",
       "      <td>100000.0</td>\n",
       "      <td>BBB1</td>\n",
       "      <td>Stable</td>\n",
       "      <td>CORP</td>\n",
       "      <td>ELEC</td>\n",
       "      <td>NaN</td>\n",
       "      <td>NaN</td>\n",
       "      <td>NaN</td>\n",
       "      <td>NaN</td>\n",
       "      <td>NaN</td>\n",
       "    </tr>\n",
       "    <tr>\n",
       "      <th>3</th>\n",
       "      <td>4423485T1</td>\n",
       "      <td>210795</td>\n",
       "      <td>UNITED AIRLINES INC</td>\n",
       "      <td>2038-07-15</td>\n",
       "      <td>6.625</td>\n",
       "      <td>BND</td>\n",
       "      <td>MUNI</td>\n",
       "      <td>4.05000</td>\n",
       "      <td>-12979.08765</td>\n",
       "      <td>405000.0</td>\n",
       "      <td>BB3</td>\n",
       "      <td>Stable</td>\n",
       "      <td>CORP</td>\n",
       "      <td>AIRL</td>\n",
       "      <td>Cook, IL</td>\n",
       "      <td>IL</td>\n",
       "      <td>60606</td>\n",
       "      <td>41.8868</td>\n",
       "      <td>-87.6386</td>\n",
       "    </tr>\n",
       "    <tr>\n",
       "      <th>4</th>\n",
       "      <td>13050RAA0</td>\n",
       "      <td>210795</td>\n",
       "      <td>UNITED AIRLINES INC</td>\n",
       "      <td>2029-07-15</td>\n",
       "      <td>4.000</td>\n",
       "      <td>BND</td>\n",
       "      <td>MUNI</td>\n",
       "      <td>4.23300</td>\n",
       "      <td>32715.02500</td>\n",
       "      <td>2500000.0</td>\n",
       "      <td>BB3</td>\n",
       "      <td>Stable</td>\n",
       "      <td>CORP</td>\n",
       "      <td>AIRL</td>\n",
       "      <td>Cook, IL</td>\n",
       "      <td>IL</td>\n",
       "      <td>60606</td>\n",
       "      <td>41.8868</td>\n",
       "      <td>-87.6386</td>\n",
       "    </tr>\n",
       "    <tr>\n",
       "      <th>...</th>\n",
       "      <td>...</td>\n",
       "      <td>...</td>\n",
       "      <td>...</td>\n",
       "      <td>...</td>\n",
       "      <td>...</td>\n",
       "      <td>...</td>\n",
       "      <td>...</td>\n",
       "      <td>...</td>\n",
       "      <td>...</td>\n",
       "      <td>...</td>\n",
       "      <td>...</td>\n",
       "      <td>...</td>\n",
       "      <td>...</td>\n",
       "      <td>...</td>\n",
       "      <td>...</td>\n",
       "      <td>...</td>\n",
       "      <td>...</td>\n",
       "      <td>...</td>\n",
       "      <td>...</td>\n",
       "    </tr>\n",
       "    <tr>\n",
       "      <th>8098</th>\n",
       "      <td>13057EHB3</td>\n",
       "      <td>R96714</td>\n",
       "      <td>SHARP HEALTHCARE</td>\n",
       "      <td>2029-08-01</td>\n",
       "      <td>5.000</td>\n",
       "      <td>BND</td>\n",
       "      <td>MUNI</td>\n",
       "      <td>2.40000</td>\n",
       "      <td>56841.72400</td>\n",
       "      <td>50000.0</td>\n",
       "      <td>AA3</td>\n",
       "      <td>Stable</td>\n",
       "      <td>HEALTH</td>\n",
       "      <td>HOSP</td>\n",
       "      <td>San Diego, CA</td>\n",
       "      <td>CA</td>\n",
       "      <td>92123</td>\n",
       "      <td>32.7973</td>\n",
       "      <td>-117.1392</td>\n",
       "    </tr>\n",
       "    <tr>\n",
       "      <th>8099</th>\n",
       "      <td>57585BAA6</td>\n",
       "      <td>R97926</td>\n",
       "      <td>BOSTON CHILDRENS HOSPITAL TRUST</td>\n",
       "      <td>2034-03-01</td>\n",
       "      <td>5.000</td>\n",
       "      <td>BND</td>\n",
       "      <td>MUNI</td>\n",
       "      <td>2.71100</td>\n",
       "      <td>212470.44175</td>\n",
       "      <td>175000.0</td>\n",
       "      <td>NaN</td>\n",
       "      <td>NaN</td>\n",
       "      <td>HEALTH</td>\n",
       "      <td>HOSP</td>\n",
       "      <td>NaN</td>\n",
       "      <td>NaN</td>\n",
       "      <td>NaN</td>\n",
       "      <td>NaN</td>\n",
       "      <td>NaN</td>\n",
       "    </tr>\n",
       "    <tr>\n",
       "      <th>8100</th>\n",
       "      <td>57584YLJ6</td>\n",
       "      <td>R97932</td>\n",
       "      <td>BRANDEIS UNIVERSITY</td>\n",
       "      <td>2039-10-01</td>\n",
       "      <td>5.000</td>\n",
       "      <td>BND</td>\n",
       "      <td>MUNI</td>\n",
       "      <td>0.00000</td>\n",
       "      <td>21646.72540</td>\n",
       "      <td>20000.0</td>\n",
       "      <td>A1</td>\n",
       "      <td>Stable</td>\n",
       "      <td>EDUC</td>\n",
       "      <td>UNIVPRIV</td>\n",
       "      <td>Middlesex, MA</td>\n",
       "      <td>MA</td>\n",
       "      <td>02454</td>\n",
       "      <td>42.3567</td>\n",
       "      <td>-71.2505</td>\n",
       "    </tr>\n",
       "    <tr>\n",
       "      <th>8101</th>\n",
       "      <td>57584YLG2</td>\n",
       "      <td>R97932</td>\n",
       "      <td>BRANDEIS UNIVERSITY</td>\n",
       "      <td>2037-10-01</td>\n",
       "      <td>5.000</td>\n",
       "      <td>BND</td>\n",
       "      <td>MUNI</td>\n",
       "      <td>0.00000</td>\n",
       "      <td>10948.00560</td>\n",
       "      <td>10000.0</td>\n",
       "      <td>A1</td>\n",
       "      <td>Stable</td>\n",
       "      <td>EDUC</td>\n",
       "      <td>UNIVPRIV</td>\n",
       "      <td>Middlesex, MA</td>\n",
       "      <td>MA</td>\n",
       "      <td>02454</td>\n",
       "      <td>42.3567</td>\n",
       "      <td>-71.2505</td>\n",
       "    </tr>\n",
       "    <tr>\n",
       "      <th>8102</th>\n",
       "      <td>57584YNQ8</td>\n",
       "      <td>R97932</td>\n",
       "      <td>BRANDEIS UNIVERSITY</td>\n",
       "      <td>2027-10-01</td>\n",
       "      <td>5.000</td>\n",
       "      <td>BND</td>\n",
       "      <td>MUNI</td>\n",
       "      <td>2.66000</td>\n",
       "      <td>48880.43955</td>\n",
       "      <td>45000.0</td>\n",
       "      <td>A1</td>\n",
       "      <td>Stable</td>\n",
       "      <td>EDUC</td>\n",
       "      <td>UNIVPRIV</td>\n",
       "      <td>Middlesex, MA</td>\n",
       "      <td>MA</td>\n",
       "      <td>02454</td>\n",
       "      <td>42.3567</td>\n",
       "      <td>-71.2505</td>\n",
       "    </tr>\n",
       "  </tbody>\n",
       "</table>\n",
       "<p>8103 rows × 19 columns</p>\n",
       "</div>"
      ],
      "text/plain": [
       "          cusip Obligor                                 Obligor Name  \\\n",
       "0     546398ZP6  009158               AIR PRODUCTS AND CHEMICALS INC   \n",
       "1     56678TAA7  201723                    COMMERCIAL METALS COMPANY   \n",
       "2     64984EDG7  209111  CONSOLIDATED EDISON COMPANY OF NEW YORK INC   \n",
       "3     4423485T1  210795                          UNITED AIRLINES INC   \n",
       "4     13050RAA0  210795                          UNITED AIRLINES INC   \n",
       "...         ...     ...                                          ...   \n",
       "8098  13057EHB3  R96714                             SHARP HEALTHCARE   \n",
       "8099  57585BAA6  R97926              BOSTON CHILDRENS HOSPITAL TRUST   \n",
       "8100  57584YLJ6  R97932                          BRANDEIS UNIVERSITY   \n",
       "8101  57584YLG2  R97932                          BRANDEIS UNIVERSITY   \n",
       "8102  57584YNQ8  R97932                          BRANDEIS UNIVERSITY   \n",
       "\n",
       "       maturity  coupon Sec_Group Sec_Type  book_yield  unrealized_gl  \\\n",
       "0    2043-12-01 -99.000      CASH    MVRDN     3.00000        0.00000   \n",
       "1    2047-10-15   4.000       BND     MUNI     3.65993  -861401.04000   \n",
       "2    2039-05-01 -99.000      CASH    MVRDN     4.55000    99999.90000   \n",
       "3    2038-07-15   6.625       BND     MUNI     4.05000   -12979.08765   \n",
       "4    2029-07-15   4.000       BND     MUNI     4.23300    32715.02500   \n",
       "...         ...     ...       ...      ...         ...            ...   \n",
       "8098 2029-08-01   5.000       BND     MUNI     2.40000    56841.72400   \n",
       "8099 2034-03-01   5.000       BND     MUNI     2.71100   212470.44175   \n",
       "8100 2039-10-01   5.000       BND     MUNI     0.00000    21646.72540   \n",
       "8101 2037-10-01   5.000       BND     MUNI     0.00000    10948.00560   \n",
       "8102 2027-10-01   5.000       BND     MUNI     2.66000    48880.43955   \n",
       "\n",
       "             Par Rating Outlook Sector_Level_1    Sector         County State  \\\n",
       "0     37000000.0     A1     NaN           CORP      CHEM            NaN   NaN   \n",
       "1      7175000.0    BB1  Stable           CORP      METL            NaN   NaN   \n",
       "2       100000.0   BBB1  Stable           CORP      ELEC            NaN   NaN   \n",
       "3       405000.0    BB3  Stable           CORP      AIRL       Cook, IL    IL   \n",
       "4      2500000.0    BB3  Stable           CORP      AIRL       Cook, IL    IL   \n",
       "...          ...    ...     ...            ...       ...            ...   ...   \n",
       "8098     50000.0    AA3  Stable         HEALTH      HOSP  San Diego, CA    CA   \n",
       "8099    175000.0    NaN     NaN         HEALTH      HOSP            NaN   NaN   \n",
       "8100     20000.0     A1  Stable           EDUC  UNIVPRIV  Middlesex, MA    MA   \n",
       "8101     10000.0     A1  Stable           EDUC  UNIVPRIV  Middlesex, MA    MA   \n",
       "8102     45000.0     A1  Stable           EDUC  UNIVPRIV  Middlesex, MA    MA   \n",
       "\n",
       "        ZIP  Latitude  Longitude  \n",
       "0       NaN       NaN        NaN  \n",
       "1       NaN       NaN        NaN  \n",
       "2       NaN       NaN        NaN  \n",
       "3     60606   41.8868   -87.6386  \n",
       "4     60606   41.8868   -87.6386  \n",
       "...     ...       ...        ...  \n",
       "8098  92123   32.7973  -117.1392  \n",
       "8099    NaN       NaN        NaN  \n",
       "8100  02454   42.3567   -71.2505  \n",
       "8101  02454   42.3567   -71.2505  \n",
       "8102  02454   42.3567   -71.2505  \n",
       "\n",
       "[8103 rows x 19 columns]"
      ]
     },
     "execution_count": 26,
     "metadata": {},
     "output_type": "execute_result"
    }
   ],
   "source": [
    "merged_data"
   ]
  },
  {
   "cell_type": "code",
   "execution_count": 36,
   "metadata": {},
   "outputs": [
    {
     "data": {
      "text/html": [
       "<div>\n",
       "<style scoped>\n",
       "    .dataframe tbody tr th:only-of-type {\n",
       "        vertical-align: middle;\n",
       "    }\n",
       "\n",
       "    .dataframe tbody tr th {\n",
       "        vertical-align: top;\n",
       "    }\n",
       "\n",
       "    .dataframe thead th {\n",
       "        text-align: right;\n",
       "    }\n",
       "</style>\n",
       "<table border=\"1\" class=\"dataframe\">\n",
       "  <thead>\n",
       "    <tr style=\"text-align: right;\">\n",
       "      <th></th>\n",
       "      <th>Obligor Name</th>\n",
       "      <th>County Code</th>\n",
       "      <th>County</th>\n",
       "      <th>State</th>\n",
       "      <th>CBSA</th>\n",
       "      <th>CBSA_title</th>\n",
       "      <th>Latitude</th>\n",
       "      <th>ZIP</th>\n",
       "      <th>Longitude</th>\n",
       "    </tr>\n",
       "  </thead>\n",
       "  <tbody>\n",
       "    <tr>\n",
       "      <th>0</th>\n",
       "      <td>Broward Cnty Fla Port Auth</td>\n",
       "      <td>12011.0</td>\n",
       "      <td>Broward, FL</td>\n",
       "      <td>FL</td>\n",
       "      <td>33100.0</td>\n",
       "      <td>Miami-Fort Lauderdale-West Palm Beach, FL</td>\n",
       "      <td>26.1216</td>\n",
       "      <td>33301</td>\n",
       "      <td>-80.1288</td>\n",
       "    </tr>\n",
       "    <tr>\n",
       "      <th>1</th>\n",
       "      <td>Hawaii (State Of)</td>\n",
       "      <td>15003.0</td>\n",
       "      <td>Honolulu, HI</td>\n",
       "      <td>HI</td>\n",
       "      <td>46520.0</td>\n",
       "      <td>Urban Honolulu, HI</td>\n",
       "      <td>21.3179</td>\n",
       "      <td>96813</td>\n",
       "      <td>-157.8521</td>\n",
       "    </tr>\n",
       "    <tr>\n",
       "      <th>2</th>\n",
       "      <td>Intermountain Pwr Agy Utah</td>\n",
       "      <td>49035.0</td>\n",
       "      <td>Salt Lake, UT</td>\n",
       "      <td>UT</td>\n",
       "      <td>41620.0</td>\n",
       "      <td>Salt Lake City, UT</td>\n",
       "      <td>40.5541</td>\n",
       "      <td>84095</td>\n",
       "      <td>-111.9539</td>\n",
       "    </tr>\n",
       "    <tr>\n",
       "      <th>3</th>\n",
       "      <td>New Jersey St Turnpike Authority</td>\n",
       "      <td>34023.0</td>\n",
       "      <td>Middlesex, NJ</td>\n",
       "      <td>NJ</td>\n",
       "      <td>35620.0</td>\n",
       "      <td>New York-Newark-Jersey City, NY-NJ-PA</td>\n",
       "      <td>40.5560</td>\n",
       "      <td>07095</td>\n",
       "      <td>-74.2845</td>\n",
       "    </tr>\n",
       "    <tr>\n",
       "      <th>4</th>\n",
       "      <td>Triborough Bridge &amp; Tunnel Authority</td>\n",
       "      <td>36061.0</td>\n",
       "      <td>New York, NY</td>\n",
       "      <td>NY</td>\n",
       "      <td>35620.0</td>\n",
       "      <td>New York-Newark-Jersey City, NY-NJ-PA</td>\n",
       "      <td>40.8011</td>\n",
       "      <td>10035</td>\n",
       "      <td>-73.9371</td>\n",
       "    </tr>\n",
       "  </tbody>\n",
       "</table>\n",
       "</div>"
      ],
      "text/plain": [
       "                            Obligor Name  County Code         County State  \\\n",
       "0             Broward Cnty Fla Port Auth      12011.0    Broward, FL    FL   \n",
       "1                      Hawaii (State Of)      15003.0   Honolulu, HI    HI   \n",
       "2             Intermountain Pwr Agy Utah      49035.0  Salt Lake, UT    UT   \n",
       "3       New Jersey St Turnpike Authority      34023.0  Middlesex, NJ    NJ   \n",
       "4   Triborough Bridge & Tunnel Authority      36061.0   New York, NY    NY   \n",
       "\n",
       "      CBSA                                 CBSA_title  Latitude    ZIP  \\\n",
       "0  33100.0  Miami-Fort Lauderdale-West Palm Beach, FL   26.1216  33301   \n",
       "1  46520.0                         Urban Honolulu, HI   21.3179  96813   \n",
       "2  41620.0                         Salt Lake City, UT   40.5541  84095   \n",
       "3  35620.0      New York-Newark-Jersey City, NY-NJ-PA   40.5560  07095   \n",
       "4  35620.0      New York-Newark-Jersey City, NY-NJ-PA   40.8011  10035   \n",
       "\n",
       "   Longitude  \n",
       "0   -80.1288  \n",
       "1  -157.8521  \n",
       "2  -111.9539  \n",
       "3   -74.2845  \n",
       "4   -73.9371  "
      ]
     },
     "execution_count": 36,
     "metadata": {},
     "output_type": "execute_result"
    }
   ],
   "source": [
    "location_data.head()"
   ]
  },
  {
   "cell_type": "code",
   "execution_count": 6,
   "metadata": {},
   "outputs": [
    {
     "data": {
      "text/html": [
       "<div>\n",
       "<style scoped>\n",
       "    .dataframe tbody tr th:only-of-type {\n",
       "        vertical-align: middle;\n",
       "    }\n",
       "\n",
       "    .dataframe tbody tr th {\n",
       "        vertical-align: top;\n",
       "    }\n",
       "\n",
       "    .dataframe thead th {\n",
       "        text-align: right;\n",
       "    }\n",
       "</style>\n",
       "<table border=\"1\" class=\"dataframe\">\n",
       "  <thead>\n",
       "    <tr style=\"text-align: right;\">\n",
       "      <th></th>\n",
       "      <th>cusip</th>\n",
       "      <th>Obligor</th>\n",
       "      <th>Obligor Name</th>\n",
       "      <th>maturity</th>\n",
       "      <th>coupon</th>\n",
       "      <th>Sec_Group</th>\n",
       "      <th>Sec_Type</th>\n",
       "      <th>book_yield</th>\n",
       "      <th>unrealized_gl</th>\n",
       "      <th>Par</th>\n",
       "      <th>Rating</th>\n",
       "      <th>Outlook</th>\n",
       "      <th>Sector_Level_1</th>\n",
       "      <th>Sector</th>\n",
       "    </tr>\n",
       "  </thead>\n",
       "  <tbody>\n",
       "    <tr>\n",
       "      <th>0</th>\n",
       "      <td>546398ZP6</td>\n",
       "      <td>009158</td>\n",
       "      <td>AIR PRODUCTS AND CHEMICALS INC</td>\n",
       "      <td>2043-12-01</td>\n",
       "      <td>-99.000</td>\n",
       "      <td>CASH</td>\n",
       "      <td>MVRDN</td>\n",
       "      <td>3.00000</td>\n",
       "      <td>0.00000</td>\n",
       "      <td>37000000.0</td>\n",
       "      <td>A1</td>\n",
       "      <td>NaN</td>\n",
       "      <td>CORP</td>\n",
       "      <td>CHEM</td>\n",
       "    </tr>\n",
       "    <tr>\n",
       "      <th>1</th>\n",
       "      <td>56678TAA7</td>\n",
       "      <td>201723</td>\n",
       "      <td>COMMERCIAL METALS COMPANY</td>\n",
       "      <td>2047-10-15</td>\n",
       "      <td>4.000</td>\n",
       "      <td>BND</td>\n",
       "      <td>MUNI</td>\n",
       "      <td>3.65993</td>\n",
       "      <td>-861401.04000</td>\n",
       "      <td>7175000.0</td>\n",
       "      <td>BB1</td>\n",
       "      <td>Stable</td>\n",
       "      <td>CORP</td>\n",
       "      <td>METL</td>\n",
       "    </tr>\n",
       "    <tr>\n",
       "      <th>2</th>\n",
       "      <td>64984EDG7</td>\n",
       "      <td>209111</td>\n",
       "      <td>CONSOLIDATED EDISON COMPANY OF NEW YORK INC</td>\n",
       "      <td>2039-05-01</td>\n",
       "      <td>-99.000</td>\n",
       "      <td>CASH</td>\n",
       "      <td>MVRDN</td>\n",
       "      <td>4.55000</td>\n",
       "      <td>99999.90000</td>\n",
       "      <td>100000.0</td>\n",
       "      <td>BBB1</td>\n",
       "      <td>Stable</td>\n",
       "      <td>CORP</td>\n",
       "      <td>ELEC</td>\n",
       "    </tr>\n",
       "    <tr>\n",
       "      <th>3</th>\n",
       "      <td>4423485T1</td>\n",
       "      <td>210795</td>\n",
       "      <td>UNITED AIRLINES INC</td>\n",
       "      <td>2038-07-15</td>\n",
       "      <td>6.625</td>\n",
       "      <td>BND</td>\n",
       "      <td>MUNI</td>\n",
       "      <td>4.05000</td>\n",
       "      <td>-12979.08765</td>\n",
       "      <td>405000.0</td>\n",
       "      <td>BB3</td>\n",
       "      <td>Stable</td>\n",
       "      <td>CORP</td>\n",
       "      <td>AIRL</td>\n",
       "    </tr>\n",
       "    <tr>\n",
       "      <th>4</th>\n",
       "      <td>13050RAA0</td>\n",
       "      <td>210795</td>\n",
       "      <td>UNITED AIRLINES INC</td>\n",
       "      <td>2029-07-15</td>\n",
       "      <td>4.000</td>\n",
       "      <td>BND</td>\n",
       "      <td>MUNI</td>\n",
       "      <td>4.23300</td>\n",
       "      <td>32715.02500</td>\n",
       "      <td>2500000.0</td>\n",
       "      <td>BB3</td>\n",
       "      <td>Stable</td>\n",
       "      <td>CORP</td>\n",
       "      <td>AIRL</td>\n",
       "    </tr>\n",
       "  </tbody>\n",
       "</table>\n",
       "</div>"
      ],
      "text/plain": [
       "       cusip Obligor                                 Obligor Name   maturity  \\\n",
       "0  546398ZP6  009158               AIR PRODUCTS AND CHEMICALS INC 2043-12-01   \n",
       "1  56678TAA7  201723                    COMMERCIAL METALS COMPANY 2047-10-15   \n",
       "2  64984EDG7  209111  CONSOLIDATED EDISON COMPANY OF NEW YORK INC 2039-05-01   \n",
       "3  4423485T1  210795                          UNITED AIRLINES INC 2038-07-15   \n",
       "4  13050RAA0  210795                          UNITED AIRLINES INC 2029-07-15   \n",
       "\n",
       "   coupon Sec_Group Sec_Type  book_yield  unrealized_gl         Par Rating  \\\n",
       "0 -99.000      CASH    MVRDN     3.00000        0.00000  37000000.0     A1   \n",
       "1   4.000       BND     MUNI     3.65993  -861401.04000   7175000.0    BB1   \n",
       "2 -99.000      CASH    MVRDN     4.55000    99999.90000    100000.0   BBB1   \n",
       "3   6.625       BND     MUNI     4.05000   -12979.08765    405000.0    BB3   \n",
       "4   4.000       BND     MUNI     4.23300    32715.02500   2500000.0    BB3   \n",
       "\n",
       "  Outlook Sector_Level_1 Sector  \n",
       "0     NaN           CORP   CHEM  \n",
       "1  Stable           CORP   METL  \n",
       "2  Stable           CORP   ELEC  \n",
       "3  Stable           CORP   AIRL  \n",
       "4  Stable           CORP   AIRL  "
      ]
     },
     "execution_count": 6,
     "metadata": {},
     "output_type": "execute_result"
    }
   ],
   "source": [
    "portfolio_data.head()"
   ]
  },
  {
   "cell_type": "code",
   "execution_count": 4,
   "metadata": {},
   "outputs": [
    {
     "name": "stdout",
     "output_type": "stream",
     "text": [
      "<class 'pandas.core.frame.DataFrame'>\n",
      "RangeIndex: 8103 entries, 0 to 8102\n",
      "Data columns (total 14 columns):\n",
      " #   Column          Non-Null Count  Dtype         \n",
      "---  ------          --------------  -----         \n",
      " 0   cusip           8103 non-null   object        \n",
      " 1   Obligor         8103 non-null   object        \n",
      " 2   Obligor Name    8103 non-null   object        \n",
      " 3   maturity        8103 non-null   datetime64[ns]\n",
      " 4   coupon          8103 non-null   float64       \n",
      " 5   Sec_Group       8103 non-null   object        \n",
      " 6   Sec_Type        8103 non-null   object        \n",
      " 7   book_yield      8103 non-null   float64       \n",
      " 8   unrealized_gl   8103 non-null   float64       \n",
      " 9   Par             8103 non-null   float64       \n",
      " 10  Rating          8026 non-null   object        \n",
      " 11  Outlook         7984 non-null   object        \n",
      " 12  Sector_Level_1  8094 non-null   object        \n",
      " 13  Sector          8103 non-null   object        \n",
      "dtypes: datetime64[ns](1), float64(4), object(9)\n",
      "memory usage: 886.4+ KB\n"
     ]
    }
   ],
   "source": [
    "portfolio_data.info()"
   ]
  },
  {
   "cell_type": "code",
   "execution_count": 5,
   "metadata": {},
   "outputs": [
    {
     "data": {
      "text/html": [
       "<div>\n",
       "<style scoped>\n",
       "    .dataframe tbody tr th:only-of-type {\n",
       "        vertical-align: middle;\n",
       "    }\n",
       "\n",
       "    .dataframe tbody tr th {\n",
       "        vertical-align: top;\n",
       "    }\n",
       "\n",
       "    .dataframe thead th {\n",
       "        text-align: right;\n",
       "    }\n",
       "</style>\n",
       "<table border=\"1\" class=\"dataframe\">\n",
       "  <thead>\n",
       "    <tr style=\"text-align: right;\">\n",
       "      <th></th>\n",
       "      <th>maturity</th>\n",
       "      <th>coupon</th>\n",
       "      <th>book_yield</th>\n",
       "      <th>unrealized_gl</th>\n",
       "      <th>Par</th>\n",
       "    </tr>\n",
       "  </thead>\n",
       "  <tbody>\n",
       "    <tr>\n",
       "      <th>count</th>\n",
       "      <td>8103</td>\n",
       "      <td>8103.000000</td>\n",
       "      <td>8103.000000</td>\n",
       "      <td>8.103000e+03</td>\n",
       "      <td>8.103000e+03</td>\n",
       "    </tr>\n",
       "    <tr>\n",
       "      <th>mean</th>\n",
       "      <td>2031-04-27 07:00:17.326916096</td>\n",
       "      <td>4.193450</td>\n",
       "      <td>1.880043</td>\n",
       "      <td>6.657059e+04</td>\n",
       "      <td>3.477979e+05</td>\n",
       "    </tr>\n",
       "    <tr>\n",
       "      <th>min</th>\n",
       "      <td>2020-01-01 00:00:00</td>\n",
       "      <td>-99.000000</td>\n",
       "      <td>-59.402000</td>\n",
       "      <td>-4.843873e+06</td>\n",
       "      <td>1.000000e+03</td>\n",
       "    </tr>\n",
       "    <tr>\n",
       "      <th>25%</th>\n",
       "      <td>2026-07-01 00:00:00</td>\n",
       "      <td>5.000000</td>\n",
       "      <td>0.000000</td>\n",
       "      <td>1.175208e+04</td>\n",
       "      <td>1.500000e+04</td>\n",
       "    </tr>\n",
       "    <tr>\n",
       "      <th>50%</th>\n",
       "      <td>2029-03-15 00:00:00</td>\n",
       "      <td>5.000000</td>\n",
       "      <td>2.101000</td>\n",
       "      <td>2.742599e+04</td>\n",
       "      <td>3.500000e+04</td>\n",
       "    </tr>\n",
       "    <tr>\n",
       "      <th>75%</th>\n",
       "      <td>2033-08-01 00:00:00</td>\n",
       "      <td>5.000000</td>\n",
       "      <td>2.970000</td>\n",
       "      <td>6.356409e+04</td>\n",
       "      <td>1.000000e+05</td>\n",
       "    </tr>\n",
       "    <tr>\n",
       "      <th>max</th>\n",
       "      <td>2122-04-15 00:00:00</td>\n",
       "      <td>8.250000</td>\n",
       "      <td>520.536000</td>\n",
       "      <td>1.478031e+07</td>\n",
       "      <td>4.000000e+07</td>\n",
       "    </tr>\n",
       "    <tr>\n",
       "      <th>std</th>\n",
       "      <td>NaN</td>\n",
       "      <td>7.742533</td>\n",
       "      <td>6.315697</td>\n",
       "      <td>3.176658e+05</td>\n",
       "      <td>1.732748e+06</td>\n",
       "    </tr>\n",
       "  </tbody>\n",
       "</table>\n",
       "</div>"
      ],
      "text/plain": [
       "                            maturity       coupon   book_yield  unrealized_gl  \\\n",
       "count                           8103  8103.000000  8103.000000   8.103000e+03   \n",
       "mean   2031-04-27 07:00:17.326916096     4.193450     1.880043   6.657059e+04   \n",
       "min              2020-01-01 00:00:00   -99.000000   -59.402000  -4.843873e+06   \n",
       "25%              2026-07-01 00:00:00     5.000000     0.000000   1.175208e+04   \n",
       "50%              2029-03-15 00:00:00     5.000000     2.101000   2.742599e+04   \n",
       "75%              2033-08-01 00:00:00     5.000000     2.970000   6.356409e+04   \n",
       "max              2122-04-15 00:00:00     8.250000   520.536000   1.478031e+07   \n",
       "std                              NaN     7.742533     6.315697   3.176658e+05   \n",
       "\n",
       "                Par  \n",
       "count  8.103000e+03  \n",
       "mean   3.477979e+05  \n",
       "min    1.000000e+03  \n",
       "25%    1.500000e+04  \n",
       "50%    3.500000e+04  \n",
       "75%    1.000000e+05  \n",
       "max    4.000000e+07  \n",
       "std    1.732748e+06  "
      ]
     },
     "execution_count": 5,
     "metadata": {},
     "output_type": "execute_result"
    }
   ],
   "source": [
    "portfolio_data.describe()"
   ]
  },
  {
   "cell_type": "code",
   "execution_count": 6,
   "metadata": {},
   "outputs": [
    {
     "data": {
      "text/plain": [
       "cusip               0\n",
       "Obligor             0\n",
       "Obligor Name        0\n",
       "maturity            0\n",
       "coupon              0\n",
       "Sec_Group           0\n",
       "Sec_Type            0\n",
       "book_yield          0\n",
       "unrealized_gl       0\n",
       "Par                 0\n",
       "Rating             77\n",
       "Outlook           119\n",
       "Sector_Level_1      9\n",
       "Sector              0\n",
       "dtype: int64"
      ]
     },
     "execution_count": 6,
     "metadata": {},
     "output_type": "execute_result"
    }
   ],
   "source": [
    "portfolio_data.isnull().sum()\n"
   ]
  },
  {
   "cell_type": "code",
   "execution_count": 7,
   "metadata": {},
   "outputs": [
    {
     "name": "stdout",
     "output_type": "stream",
     "text": [
      "(8103, 14)\n",
      "Index(['cusip', 'Obligor', 'Obligor Name', 'maturity', 'coupon', 'Sec_Group',\n",
      "       'Sec_Type', 'book_yield', 'unrealized_gl', 'Par', 'Rating', 'Outlook',\n",
      "       'Sector_Level_1', 'Sector'],\n",
      "      dtype='object')\n"
     ]
    }
   ],
   "source": [
    "portfolio_data.drop_duplicates(inplace=True)\n",
    "print(portfolio_data.shape)\n",
    "print(portfolio_data.columns)"
   ]
  },
  {
   "cell_type": "code",
   "execution_count": 8,
   "metadata": {},
   "outputs": [
    {
     "data": {
      "text/plain": [
       "cusip                     object\n",
       "Obligor                   object\n",
       "Obligor Name              object\n",
       "maturity          datetime64[ns]\n",
       "coupon                   float64\n",
       "Sec_Group                 object\n",
       "Sec_Type                  object\n",
       "book_yield               float64\n",
       "unrealized_gl            float64\n",
       "Par                      float64\n",
       "Rating                    object\n",
       "Outlook                   object\n",
       "Sector_Level_1            object\n",
       "Sector                    object\n",
       "dtype: object"
      ]
     },
     "execution_count": 8,
     "metadata": {},
     "output_type": "execute_result"
    }
   ],
   "source": [
    "portfolio_data.dtypes"
   ]
  },
  {
   "cell_type": "markdown",
   "metadata": {},
   "source": [
    "### Question 1"
   ]
  },
  {
   "cell_type": "code",
   "execution_count": 11,
   "metadata": {},
   "outputs": [],
   "source": [
    "import plotly.express as px\n",
    "\n",
    "def analyze_sector_distribution(portfolio_data):\n",
    "    \"\"\"\n",
    "    Create a wide interactive Plotly vertical bar chart showing the Par distribution across sectors.\n",
    "\n",
    "    Args:\n",
    "        portfolio_data (pd.DataFrame): DataFrame with 'Sector' and 'Par' columns.\n",
    "\n",
    "    Returns:\n",
    "        fig (plotly.graph_objects.Figure): Interactive bar chart.\n",
    "    \"\"\"\n",
    "    # Aggregate Par amount by sector\n",
    "    sector_distribution = (\n",
    "        portfolio_data.groupby('Sector', as_index=False)['Par'].sum()\n",
    "    )\n",
    "    \n",
    "    # Calculate percentage share\n",
    "    total_par = sector_distribution['Par'].sum()\n",
    "    sector_distribution['Percentage'] = 100 * sector_distribution['Par'] / total_par\n",
    "\n",
    "    # Sort by Par descending\n",
    "    sector_distribution.sort_values('Par', ascending=False, inplace=True)\n",
    "\n",
    "    # Create Plotly bar chart\n",
    "    fig = px.bar(\n",
    "        sector_distribution,\n",
    "        x='Sector',\n",
    "        y='Par',\n",
    "        text=sector_distribution['Percentage'].map(lambda x: f\"{x:.1f}%\"),\n",
    "        labels={'Par': 'Total Par Amount'},\n",
    "        title='Portfolio Distribution by Sector (Par Amount)',\n",
    "        color='Par',\n",
    "        color_continuous_scale='Viridis'\n",
    "    )\n",
    "\n",
    "    # Update trace: smaller text, position outside\n",
    "    fig.update_traces(\n",
    "        textposition='outside',\n",
    "        textfont_size=10\n",
    "    )\n",
    "\n",
    "    # Wider layout, smaller ticks, rotated x-axis\n",
    "    fig.update_layout(\n",
    "        width=1400,\n",
    "        height=600,\n",
    "        margin=dict(l=40, r=40, t=60, b=160),\n",
    "        xaxis_tickangle=45,\n",
    "        xaxis_tickfont_size=10,\n",
    "        yaxis_title_font_size=12,\n",
    "        title_font_size=18,\n",
    "        showlegend=False\n",
    "    )\n",
    "\n",
    "    fig.show()\n"
   ]
  },
  {
   "cell_type": "code",
   "execution_count": 12,
   "metadata": {},
   "outputs": [
    {
     "data": {
      "application/vnd.plotly.v1+json": {
       "config": {
        "plotlyServerURL": "https://plot.ly"
       },
       "data": [
        {
         "alignmentgroup": "True",
         "hovertemplate": "Sector=%{x}<br>Total Par Amount=%{marker.color}<br>text=%{text}<extra></extra>",
         "legendgroup": "",
         "marker": {
          "color": [
           646776418.06285,
           361516894.65544426,
           220451000,
           208927500,
           187758000,
           164290688.92518,
           163567500,
           142034000,
           94273000,
           83151000,
           61005000,
           45055000,
           37105000,
           37000000,
           33832000,
           32335000,
           29184168.4461895,
           26925000,
           24785000,
           23891526,
           22410000,
           22110000,
           21885606.867968,
           18190000,
           14820000,
           13795000,
           13045000,
           11887848.305399999,
           11685542.112171,
           11305000,
           7175000,
           6000000,
           4734000,
           4205000,
           4070000,
           3855000,
           1160000,
           1015000,
           905000,
           55000,
           25000,
           10000
          ],
          "coloraxis": "coloraxis",
          "pattern": {
           "shape": ""
          }
         },
         "name": "",
         "offsetgroup": "",
         "orientation": "v",
         "showlegend": false,
         "text": [
          "22.9%",
          "12.8%",
          "7.8%",
          "7.4%",
          "6.7%",
          "5.8%",
          "5.8%",
          "5.0%",
          "3.3%",
          "3.0%",
          "2.2%",
          "1.6%",
          "1.3%",
          "1.3%",
          "1.2%",
          "1.1%",
          "1.0%",
          "1.0%",
          "0.9%",
          "0.8%",
          "0.8%",
          "0.8%",
          "0.8%",
          "0.6%",
          "0.5%",
          "0.5%",
          "0.5%",
          "0.4%",
          "0.4%",
          "0.4%",
          "0.3%",
          "0.2%",
          "0.2%",
          "0.1%",
          "0.1%",
          "0.1%",
          "0.0%",
          "0.0%",
          "0.0%",
          "0.0%",
          "0.0%",
          "0.0%"
         ],
         "textfont": {
          "size": 10
         },
         "textposition": "outside",
         "type": "bar",
         "x": [
          "TAXSTATE",
          "TAXLOCAL",
          "HOSP",
          "USD",
          "WTR",
          "PUBPWR",
          "ARPT",
          "TOLL",
          "UNIVPRIV",
          "UNIVPUBL",
          "ESCPRE",
          "SCHCHAR",
          "SFM",
          "CHEM",
          "MASSTRAN",
          "PREPAID",
          "ELEC",
          "TOBSTATE",
          "CCRC",
          "MULT",
          "OTHOTH",
          "TAXAUTH",
          "DEVDIST",
          "ENVI",
          "TRANOTH",
          "ESCETM",
          "PORT",
          "MISSING",
          "STDLN",
          "GASL",
          "METL",
          "PAPR",
          "INST",
          "AIRL",
          "LEASE",
          "TOBLOCAL",
          "SCHPRIV",
          "SECS",
          "SANTN",
          "GAS",
          "OTHU",
          "STUHOUS"
         ],
         "xaxis": "x",
         "y": [
          646776418.06285,
          361516894.65544426,
          220451000,
          208927500,
          187758000,
          164290688.92518,
          163567500,
          142034000,
          94273000,
          83151000,
          61005000,
          45055000,
          37105000,
          37000000,
          33832000,
          32335000,
          29184168.4461895,
          26925000,
          24785000,
          23891526,
          22410000,
          22110000,
          21885606.867968,
          18190000,
          14820000,
          13795000,
          13045000,
          11887848.305399999,
          11685542.112171,
          11305000,
          7175000,
          6000000,
          4734000,
          4205000,
          4070000,
          3855000,
          1160000,
          1015000,
          905000,
          55000,
          25000,
          10000
         ],
         "yaxis": "y"
        }
       ],
       "layout": {
        "barmode": "relative",
        "coloraxis": {
         "colorbar": {
          "title": {
           "text": "Total Par Amount"
          }
         },
         "colorscale": [
          [
           0,
           "#440154"
          ],
          [
           0.1111111111111111,
           "#482878"
          ],
          [
           0.2222222222222222,
           "#3e4989"
          ],
          [
           0.3333333333333333,
           "#31688e"
          ],
          [
           0.4444444444444444,
           "#26828e"
          ],
          [
           0.5555555555555556,
           "#1f9e89"
          ],
          [
           0.6666666666666666,
           "#35b779"
          ],
          [
           0.7777777777777778,
           "#6ece58"
          ],
          [
           0.8888888888888888,
           "#b5de2b"
          ],
          [
           1,
           "#fde725"
          ]
         ]
        },
        "height": 600,
        "legend": {
         "tracegroupgap": 0
        },
        "margin": {
         "b": 160,
         "l": 40,
         "r": 40,
         "t": 60
        },
        "showlegend": false,
        "template": {
         "data": {
          "bar": [
           {
            "error_x": {
             "color": "#2a3f5f"
            },
            "error_y": {
             "color": "#2a3f5f"
            },
            "marker": {
             "line": {
              "color": "#E5ECF6",
              "width": 0.5
             },
             "pattern": {
              "fillmode": "overlay",
              "size": 10,
              "solidity": 0.2
             }
            },
            "type": "bar"
           }
          ],
          "barpolar": [
           {
            "marker": {
             "line": {
              "color": "#E5ECF6",
              "width": 0.5
             },
             "pattern": {
              "fillmode": "overlay",
              "size": 10,
              "solidity": 0.2
             }
            },
            "type": "barpolar"
           }
          ],
          "carpet": [
           {
            "aaxis": {
             "endlinecolor": "#2a3f5f",
             "gridcolor": "white",
             "linecolor": "white",
             "minorgridcolor": "white",
             "startlinecolor": "#2a3f5f"
            },
            "baxis": {
             "endlinecolor": "#2a3f5f",
             "gridcolor": "white",
             "linecolor": "white",
             "minorgridcolor": "white",
             "startlinecolor": "#2a3f5f"
            },
            "type": "carpet"
           }
          ],
          "choropleth": [
           {
            "colorbar": {
             "outlinewidth": 0,
             "ticks": ""
            },
            "type": "choropleth"
           }
          ],
          "contour": [
           {
            "colorbar": {
             "outlinewidth": 0,
             "ticks": ""
            },
            "colorscale": [
             [
              0,
              "#0d0887"
             ],
             [
              0.1111111111111111,
              "#46039f"
             ],
             [
              0.2222222222222222,
              "#7201a8"
             ],
             [
              0.3333333333333333,
              "#9c179e"
             ],
             [
              0.4444444444444444,
              "#bd3786"
             ],
             [
              0.5555555555555556,
              "#d8576b"
             ],
             [
              0.6666666666666666,
              "#ed7953"
             ],
             [
              0.7777777777777778,
              "#fb9f3a"
             ],
             [
              0.8888888888888888,
              "#fdca26"
             ],
             [
              1,
              "#f0f921"
             ]
            ],
            "type": "contour"
           }
          ],
          "contourcarpet": [
           {
            "colorbar": {
             "outlinewidth": 0,
             "ticks": ""
            },
            "type": "contourcarpet"
           }
          ],
          "heatmap": [
           {
            "colorbar": {
             "outlinewidth": 0,
             "ticks": ""
            },
            "colorscale": [
             [
              0,
              "#0d0887"
             ],
             [
              0.1111111111111111,
              "#46039f"
             ],
             [
              0.2222222222222222,
              "#7201a8"
             ],
             [
              0.3333333333333333,
              "#9c179e"
             ],
             [
              0.4444444444444444,
              "#bd3786"
             ],
             [
              0.5555555555555556,
              "#d8576b"
             ],
             [
              0.6666666666666666,
              "#ed7953"
             ],
             [
              0.7777777777777778,
              "#fb9f3a"
             ],
             [
              0.8888888888888888,
              "#fdca26"
             ],
             [
              1,
              "#f0f921"
             ]
            ],
            "type": "heatmap"
           }
          ],
          "heatmapgl": [
           {
            "colorbar": {
             "outlinewidth": 0,
             "ticks": ""
            },
            "colorscale": [
             [
              0,
              "#0d0887"
             ],
             [
              0.1111111111111111,
              "#46039f"
             ],
             [
              0.2222222222222222,
              "#7201a8"
             ],
             [
              0.3333333333333333,
              "#9c179e"
             ],
             [
              0.4444444444444444,
              "#bd3786"
             ],
             [
              0.5555555555555556,
              "#d8576b"
             ],
             [
              0.6666666666666666,
              "#ed7953"
             ],
             [
              0.7777777777777778,
              "#fb9f3a"
             ],
             [
              0.8888888888888888,
              "#fdca26"
             ],
             [
              1,
              "#f0f921"
             ]
            ],
            "type": "heatmapgl"
           }
          ],
          "histogram": [
           {
            "marker": {
             "pattern": {
              "fillmode": "overlay",
              "size": 10,
              "solidity": 0.2
             }
            },
            "type": "histogram"
           }
          ],
          "histogram2d": [
           {
            "colorbar": {
             "outlinewidth": 0,
             "ticks": ""
            },
            "colorscale": [
             [
              0,
              "#0d0887"
             ],
             [
              0.1111111111111111,
              "#46039f"
             ],
             [
              0.2222222222222222,
              "#7201a8"
             ],
             [
              0.3333333333333333,
              "#9c179e"
             ],
             [
              0.4444444444444444,
              "#bd3786"
             ],
             [
              0.5555555555555556,
              "#d8576b"
             ],
             [
              0.6666666666666666,
              "#ed7953"
             ],
             [
              0.7777777777777778,
              "#fb9f3a"
             ],
             [
              0.8888888888888888,
              "#fdca26"
             ],
             [
              1,
              "#f0f921"
             ]
            ],
            "type": "histogram2d"
           }
          ],
          "histogram2dcontour": [
           {
            "colorbar": {
             "outlinewidth": 0,
             "ticks": ""
            },
            "colorscale": [
             [
              0,
              "#0d0887"
             ],
             [
              0.1111111111111111,
              "#46039f"
             ],
             [
              0.2222222222222222,
              "#7201a8"
             ],
             [
              0.3333333333333333,
              "#9c179e"
             ],
             [
              0.4444444444444444,
              "#bd3786"
             ],
             [
              0.5555555555555556,
              "#d8576b"
             ],
             [
              0.6666666666666666,
              "#ed7953"
             ],
             [
              0.7777777777777778,
              "#fb9f3a"
             ],
             [
              0.8888888888888888,
              "#fdca26"
             ],
             [
              1,
              "#f0f921"
             ]
            ],
            "type": "histogram2dcontour"
           }
          ],
          "mesh3d": [
           {
            "colorbar": {
             "outlinewidth": 0,
             "ticks": ""
            },
            "type": "mesh3d"
           }
          ],
          "parcoords": [
           {
            "line": {
             "colorbar": {
              "outlinewidth": 0,
              "ticks": ""
             }
            },
            "type": "parcoords"
           }
          ],
          "pie": [
           {
            "automargin": true,
            "type": "pie"
           }
          ],
          "scatter": [
           {
            "fillpattern": {
             "fillmode": "overlay",
             "size": 10,
             "solidity": 0.2
            },
            "type": "scatter"
           }
          ],
          "scatter3d": [
           {
            "line": {
             "colorbar": {
              "outlinewidth": 0,
              "ticks": ""
             }
            },
            "marker": {
             "colorbar": {
              "outlinewidth": 0,
              "ticks": ""
             }
            },
            "type": "scatter3d"
           }
          ],
          "scattercarpet": [
           {
            "marker": {
             "colorbar": {
              "outlinewidth": 0,
              "ticks": ""
             }
            },
            "type": "scattercarpet"
           }
          ],
          "scattergeo": [
           {
            "marker": {
             "colorbar": {
              "outlinewidth": 0,
              "ticks": ""
             }
            },
            "type": "scattergeo"
           }
          ],
          "scattergl": [
           {
            "marker": {
             "colorbar": {
              "outlinewidth": 0,
              "ticks": ""
             }
            },
            "type": "scattergl"
           }
          ],
          "scattermapbox": [
           {
            "marker": {
             "colorbar": {
              "outlinewidth": 0,
              "ticks": ""
             }
            },
            "type": "scattermapbox"
           }
          ],
          "scatterpolar": [
           {
            "marker": {
             "colorbar": {
              "outlinewidth": 0,
              "ticks": ""
             }
            },
            "type": "scatterpolar"
           }
          ],
          "scatterpolargl": [
           {
            "marker": {
             "colorbar": {
              "outlinewidth": 0,
              "ticks": ""
             }
            },
            "type": "scatterpolargl"
           }
          ],
          "scatterternary": [
           {
            "marker": {
             "colorbar": {
              "outlinewidth": 0,
              "ticks": ""
             }
            },
            "type": "scatterternary"
           }
          ],
          "surface": [
           {
            "colorbar": {
             "outlinewidth": 0,
             "ticks": ""
            },
            "colorscale": [
             [
              0,
              "#0d0887"
             ],
             [
              0.1111111111111111,
              "#46039f"
             ],
             [
              0.2222222222222222,
              "#7201a8"
             ],
             [
              0.3333333333333333,
              "#9c179e"
             ],
             [
              0.4444444444444444,
              "#bd3786"
             ],
             [
              0.5555555555555556,
              "#d8576b"
             ],
             [
              0.6666666666666666,
              "#ed7953"
             ],
             [
              0.7777777777777778,
              "#fb9f3a"
             ],
             [
              0.8888888888888888,
              "#fdca26"
             ],
             [
              1,
              "#f0f921"
             ]
            ],
            "type": "surface"
           }
          ],
          "table": [
           {
            "cells": {
             "fill": {
              "color": "#EBF0F8"
             },
             "line": {
              "color": "white"
             }
            },
            "header": {
             "fill": {
              "color": "#C8D4E3"
             },
             "line": {
              "color": "white"
             }
            },
            "type": "table"
           }
          ]
         },
         "layout": {
          "annotationdefaults": {
           "arrowcolor": "#2a3f5f",
           "arrowhead": 0,
           "arrowwidth": 1
          },
          "autotypenumbers": "strict",
          "coloraxis": {
           "colorbar": {
            "outlinewidth": 0,
            "ticks": ""
           }
          },
          "colorscale": {
           "diverging": [
            [
             0,
             "#8e0152"
            ],
            [
             0.1,
             "#c51b7d"
            ],
            [
             0.2,
             "#de77ae"
            ],
            [
             0.3,
             "#f1b6da"
            ],
            [
             0.4,
             "#fde0ef"
            ],
            [
             0.5,
             "#f7f7f7"
            ],
            [
             0.6,
             "#e6f5d0"
            ],
            [
             0.7,
             "#b8e186"
            ],
            [
             0.8,
             "#7fbc41"
            ],
            [
             0.9,
             "#4d9221"
            ],
            [
             1,
             "#276419"
            ]
           ],
           "sequential": [
            [
             0,
             "#0d0887"
            ],
            [
             0.1111111111111111,
             "#46039f"
            ],
            [
             0.2222222222222222,
             "#7201a8"
            ],
            [
             0.3333333333333333,
             "#9c179e"
            ],
            [
             0.4444444444444444,
             "#bd3786"
            ],
            [
             0.5555555555555556,
             "#d8576b"
            ],
            [
             0.6666666666666666,
             "#ed7953"
            ],
            [
             0.7777777777777778,
             "#fb9f3a"
            ],
            [
             0.8888888888888888,
             "#fdca26"
            ],
            [
             1,
             "#f0f921"
            ]
           ],
           "sequentialminus": [
            [
             0,
             "#0d0887"
            ],
            [
             0.1111111111111111,
             "#46039f"
            ],
            [
             0.2222222222222222,
             "#7201a8"
            ],
            [
             0.3333333333333333,
             "#9c179e"
            ],
            [
             0.4444444444444444,
             "#bd3786"
            ],
            [
             0.5555555555555556,
             "#d8576b"
            ],
            [
             0.6666666666666666,
             "#ed7953"
            ],
            [
             0.7777777777777778,
             "#fb9f3a"
            ],
            [
             0.8888888888888888,
             "#fdca26"
            ],
            [
             1,
             "#f0f921"
            ]
           ]
          },
          "colorway": [
           "#636efa",
           "#EF553B",
           "#00cc96",
           "#ab63fa",
           "#FFA15A",
           "#19d3f3",
           "#FF6692",
           "#B6E880",
           "#FF97FF",
           "#FECB52"
          ],
          "font": {
           "color": "#2a3f5f"
          },
          "geo": {
           "bgcolor": "white",
           "lakecolor": "white",
           "landcolor": "#E5ECF6",
           "showlakes": true,
           "showland": true,
           "subunitcolor": "white"
          },
          "hoverlabel": {
           "align": "left"
          },
          "hovermode": "closest",
          "mapbox": {
           "style": "light"
          },
          "paper_bgcolor": "white",
          "plot_bgcolor": "#E5ECF6",
          "polar": {
           "angularaxis": {
            "gridcolor": "white",
            "linecolor": "white",
            "ticks": ""
           },
           "bgcolor": "#E5ECF6",
           "radialaxis": {
            "gridcolor": "white",
            "linecolor": "white",
            "ticks": ""
           }
          },
          "scene": {
           "xaxis": {
            "backgroundcolor": "#E5ECF6",
            "gridcolor": "white",
            "gridwidth": 2,
            "linecolor": "white",
            "showbackground": true,
            "ticks": "",
            "zerolinecolor": "white"
           },
           "yaxis": {
            "backgroundcolor": "#E5ECF6",
            "gridcolor": "white",
            "gridwidth": 2,
            "linecolor": "white",
            "showbackground": true,
            "ticks": "",
            "zerolinecolor": "white"
           },
           "zaxis": {
            "backgroundcolor": "#E5ECF6",
            "gridcolor": "white",
            "gridwidth": 2,
            "linecolor": "white",
            "showbackground": true,
            "ticks": "",
            "zerolinecolor": "white"
           }
          },
          "shapedefaults": {
           "line": {
            "color": "#2a3f5f"
           }
          },
          "ternary": {
           "aaxis": {
            "gridcolor": "white",
            "linecolor": "white",
            "ticks": ""
           },
           "baxis": {
            "gridcolor": "white",
            "linecolor": "white",
            "ticks": ""
           },
           "bgcolor": "#E5ECF6",
           "caxis": {
            "gridcolor": "white",
            "linecolor": "white",
            "ticks": ""
           }
          },
          "title": {
           "x": 0.05
          },
          "xaxis": {
           "automargin": true,
           "gridcolor": "white",
           "linecolor": "white",
           "ticks": "",
           "title": {
            "standoff": 15
           },
           "zerolinecolor": "white",
           "zerolinewidth": 2
          },
          "yaxis": {
           "automargin": true,
           "gridcolor": "white",
           "linecolor": "white",
           "ticks": "",
           "title": {
            "standoff": 15
           },
           "zerolinecolor": "white",
           "zerolinewidth": 2
          }
         }
        },
        "title": {
         "font": {
          "size": 18
         },
         "text": "Portfolio Distribution by Sector (Par Amount)"
        },
        "width": 1400,
        "xaxis": {
         "anchor": "y",
         "domain": [
          0,
          1
         ],
         "tickangle": 45,
         "tickfont": {
          "size": 10
         },
         "title": {
          "text": "Sector"
         }
        },
        "yaxis": {
         "anchor": "x",
         "domain": [
          0,
          1
         ],
         "title": {
          "font": {
           "size": 12
          },
          "text": "Total Par Amount"
         }
        }
       }
      }
     },
     "metadata": {},
     "output_type": "display_data"
    }
   ],
   "source": [
    "analyze_sector_distribution(portfolio_data)"
   ]
  },
  {
   "cell_type": "code",
   "execution_count": 17,
   "metadata": {},
   "outputs": [],
   "source": [
    "import plotly.express as px\n",
    "\n",
    "def analyze_credit_risk_distribution(portfolio_data):\n",
    "    \"\"\"\n",
    "    Analyzes and plots the distribution of credit risk across obligors in defined rating buckets.\n",
    "    \n",
    "    Args:\n",
    "        portfolio_data (pd.DataFrame): Must contain 'Rating' and 'Obligor' columns.\n",
    "    \"\"\"\n",
    "    def map_rating_to_bucket(rating):\n",
    "        if pd.isnull(rating):\n",
    "            return None\n",
    "        rating = rating.upper().strip()\n",
    "        if rating == 'AAA':\n",
    "            return 'AAA'\n",
    "        elif rating.startswith('AA'):\n",
    "            return 'AA'\n",
    "        elif rating.startswith('A'):\n",
    "            return 'A'\n",
    "        elif rating.startswith('BBB'):\n",
    "            return 'BBB'\n",
    "        elif rating.startswith(('BB', 'B', 'CCC', 'CC', 'C', 'D')):\n",
    "            return 'HY'\n",
    "        else:\n",
    "            return None\n",
    "\n",
    "    # Apply rating bucketing\n",
    "    portfolio_data['Rating_Bucket'] = portfolio_data['Rating'].apply(map_rating_to_bucket)\n",
    "\n",
    "    # Filter out unrated\n",
    "    rated_data = portfolio_data.dropna(subset=['Rating_Bucket'])\n",
    "\n",
    "    # Count obligors\n",
    "    rating_counts = (\n",
    "        rated_data.groupby('Rating_Bucket')['Obligor']\n",
    "        .nunique()\n",
    "        .reindex(['AAA', 'AA', 'A', 'BBB', 'HY'])\n",
    "        .reset_index(name='Obligor_Count')\n",
    "    )\n",
    "\n",
    "    # Calculate percentage\n",
    "    total = rating_counts['Obligor_Count'].sum()\n",
    "    rating_counts['Percentage'] = 100 * rating_counts['Obligor_Count'] / total\n",
    "\n",
    "    # Use Plotly color palette (clean, professional)\n",
    "    fig = px.bar(\n",
    "        rating_counts,\n",
    "        x='Rating_Bucket',\n",
    "        y='Obligor_Count',\n",
    "        text=rating_counts['Percentage'].map(lambda x: f\"{x:.1f}%\"),\n",
    "        color='Rating_Bucket',\n",
    "        color_discrete_sequence=px.colors.qualitative.Plotly,\n",
    "        title='Credit Risk Distribution Across Obligor Ratings',\n",
    "        labels={'Rating_Bucket': 'Rating Bucket', 'Obligor_Count': 'Number of Obligors'}\n",
    "    )\n",
    "\n",
    "    fig.update_traces(textposition='outside', textfont_size=10)\n",
    "    fig.update_layout(\n",
    "        width=900,\n",
    "        height=500,\n",
    "        xaxis_title='Rating Bucket',\n",
    "        yaxis_title='Number of Unique Obligors',\n",
    "        title_font_size=18,\n",
    "        showlegend=False,\n",
    "        plot_bgcolor='white',\n",
    "        font=dict(family=\"Segoe UI, sans-serif\", size=12)\n",
    "    )\n",
    "\n",
    "    fig.show()\n"
   ]
  },
  {
   "cell_type": "code",
   "execution_count": 18,
   "metadata": {},
   "outputs": [
    {
     "data": {
      "application/vnd.plotly.v1+json": {
       "config": {
        "plotlyServerURL": "https://plot.ly"
       },
       "data": [
        {
         "alignmentgroup": "True",
         "hovertemplate": "Rating Bucket=%{x}<br>Number of Obligors=%{y}<br>text=%{text}<extra></extra>",
         "legendgroup": "AAA",
         "marker": {
          "color": "#636EFA",
          "pattern": {
           "shape": ""
          }
         },
         "name": "AAA",
         "offsetgroup": "AAA",
         "orientation": "v",
         "showlegend": true,
         "text": [
          "2.9%"
         ],
         "textfont": {
          "size": 10
         },
         "textposition": "outside",
         "type": "bar",
         "x": [
          "AAA"
         ],
         "xaxis": "x",
         "y": [
          67
         ],
         "yaxis": "y"
        },
        {
         "alignmentgroup": "True",
         "hovertemplate": "Rating Bucket=%{x}<br>Number of Obligors=%{y}<br>text=%{text}<extra></extra>",
         "legendgroup": "AA",
         "marker": {
          "color": "#EF553B",
          "pattern": {
           "shape": ""
          }
         },
         "name": "AA",
         "offsetgroup": "AA",
         "orientation": "v",
         "showlegend": true,
         "text": [
          "53.6%"
         ],
         "textfont": {
          "size": 10
         },
         "textposition": "outside",
         "type": "bar",
         "x": [
          "AA"
         ],
         "xaxis": "x",
         "y": [
          1254
         ],
         "yaxis": "y"
        },
        {
         "alignmentgroup": "True",
         "hovertemplate": "Rating Bucket=%{x}<br>Number of Obligors=%{y}<br>text=%{text}<extra></extra>",
         "legendgroup": "A",
         "marker": {
          "color": "#00CC96",
          "pattern": {
           "shape": ""
          }
         },
         "name": "A",
         "offsetgroup": "A",
         "orientation": "v",
         "showlegend": true,
         "text": [
          "37.3%"
         ],
         "textfont": {
          "size": 10
         },
         "textposition": "outside",
         "type": "bar",
         "x": [
          "A"
         ],
         "xaxis": "x",
         "y": [
          872
         ],
         "yaxis": "y"
        },
        {
         "alignmentgroup": "True",
         "hovertemplate": "Rating Bucket=%{x}<br>Number of Obligors=%{y}<br>text=%{text}<extra></extra>",
         "legendgroup": "BBB",
         "marker": {
          "color": "#AB63FA",
          "pattern": {
           "shape": ""
          }
         },
         "name": "BBB",
         "offsetgroup": "BBB",
         "orientation": "v",
         "showlegend": true,
         "text": [
          "3.6%"
         ],
         "textfont": {
          "size": 10
         },
         "textposition": "outside",
         "type": "bar",
         "x": [
          "BBB"
         ],
         "xaxis": "x",
         "y": [
          84
         ],
         "yaxis": "y"
        },
        {
         "alignmentgroup": "True",
         "hovertemplate": "Rating Bucket=%{x}<br>Number of Obligors=%{y}<br>text=%{text}<extra></extra>",
         "legendgroup": "HY",
         "marker": {
          "color": "#FFA15A",
          "pattern": {
           "shape": ""
          }
         },
         "name": "HY",
         "offsetgroup": "HY",
         "orientation": "v",
         "showlegend": true,
         "text": [
          "2.7%"
         ],
         "textfont": {
          "size": 10
         },
         "textposition": "outside",
         "type": "bar",
         "x": [
          "HY"
         ],
         "xaxis": "x",
         "y": [
          63
         ],
         "yaxis": "y"
        }
       ],
       "layout": {
        "barmode": "relative",
        "font": {
         "family": "Segoe UI, sans-serif",
         "size": 12
        },
        "height": 500,
        "legend": {
         "title": {
          "text": "Rating Bucket"
         },
         "tracegroupgap": 0
        },
        "plot_bgcolor": "white",
        "showlegend": false,
        "template": {
         "data": {
          "bar": [
           {
            "error_x": {
             "color": "#2a3f5f"
            },
            "error_y": {
             "color": "#2a3f5f"
            },
            "marker": {
             "line": {
              "color": "#E5ECF6",
              "width": 0.5
             },
             "pattern": {
              "fillmode": "overlay",
              "size": 10,
              "solidity": 0.2
             }
            },
            "type": "bar"
           }
          ],
          "barpolar": [
           {
            "marker": {
             "line": {
              "color": "#E5ECF6",
              "width": 0.5
             },
             "pattern": {
              "fillmode": "overlay",
              "size": 10,
              "solidity": 0.2
             }
            },
            "type": "barpolar"
           }
          ],
          "carpet": [
           {
            "aaxis": {
             "endlinecolor": "#2a3f5f",
             "gridcolor": "white",
             "linecolor": "white",
             "minorgridcolor": "white",
             "startlinecolor": "#2a3f5f"
            },
            "baxis": {
             "endlinecolor": "#2a3f5f",
             "gridcolor": "white",
             "linecolor": "white",
             "minorgridcolor": "white",
             "startlinecolor": "#2a3f5f"
            },
            "type": "carpet"
           }
          ],
          "choropleth": [
           {
            "colorbar": {
             "outlinewidth": 0,
             "ticks": ""
            },
            "type": "choropleth"
           }
          ],
          "contour": [
           {
            "colorbar": {
             "outlinewidth": 0,
             "ticks": ""
            },
            "colorscale": [
             [
              0,
              "#0d0887"
             ],
             [
              0.1111111111111111,
              "#46039f"
             ],
             [
              0.2222222222222222,
              "#7201a8"
             ],
             [
              0.3333333333333333,
              "#9c179e"
             ],
             [
              0.4444444444444444,
              "#bd3786"
             ],
             [
              0.5555555555555556,
              "#d8576b"
             ],
             [
              0.6666666666666666,
              "#ed7953"
             ],
             [
              0.7777777777777778,
              "#fb9f3a"
             ],
             [
              0.8888888888888888,
              "#fdca26"
             ],
             [
              1,
              "#f0f921"
             ]
            ],
            "type": "contour"
           }
          ],
          "contourcarpet": [
           {
            "colorbar": {
             "outlinewidth": 0,
             "ticks": ""
            },
            "type": "contourcarpet"
           }
          ],
          "heatmap": [
           {
            "colorbar": {
             "outlinewidth": 0,
             "ticks": ""
            },
            "colorscale": [
             [
              0,
              "#0d0887"
             ],
             [
              0.1111111111111111,
              "#46039f"
             ],
             [
              0.2222222222222222,
              "#7201a8"
             ],
             [
              0.3333333333333333,
              "#9c179e"
             ],
             [
              0.4444444444444444,
              "#bd3786"
             ],
             [
              0.5555555555555556,
              "#d8576b"
             ],
             [
              0.6666666666666666,
              "#ed7953"
             ],
             [
              0.7777777777777778,
              "#fb9f3a"
             ],
             [
              0.8888888888888888,
              "#fdca26"
             ],
             [
              1,
              "#f0f921"
             ]
            ],
            "type": "heatmap"
           }
          ],
          "heatmapgl": [
           {
            "colorbar": {
             "outlinewidth": 0,
             "ticks": ""
            },
            "colorscale": [
             [
              0,
              "#0d0887"
             ],
             [
              0.1111111111111111,
              "#46039f"
             ],
             [
              0.2222222222222222,
              "#7201a8"
             ],
             [
              0.3333333333333333,
              "#9c179e"
             ],
             [
              0.4444444444444444,
              "#bd3786"
             ],
             [
              0.5555555555555556,
              "#d8576b"
             ],
             [
              0.6666666666666666,
              "#ed7953"
             ],
             [
              0.7777777777777778,
              "#fb9f3a"
             ],
             [
              0.8888888888888888,
              "#fdca26"
             ],
             [
              1,
              "#f0f921"
             ]
            ],
            "type": "heatmapgl"
           }
          ],
          "histogram": [
           {
            "marker": {
             "pattern": {
              "fillmode": "overlay",
              "size": 10,
              "solidity": 0.2
             }
            },
            "type": "histogram"
           }
          ],
          "histogram2d": [
           {
            "colorbar": {
             "outlinewidth": 0,
             "ticks": ""
            },
            "colorscale": [
             [
              0,
              "#0d0887"
             ],
             [
              0.1111111111111111,
              "#46039f"
             ],
             [
              0.2222222222222222,
              "#7201a8"
             ],
             [
              0.3333333333333333,
              "#9c179e"
             ],
             [
              0.4444444444444444,
              "#bd3786"
             ],
             [
              0.5555555555555556,
              "#d8576b"
             ],
             [
              0.6666666666666666,
              "#ed7953"
             ],
             [
              0.7777777777777778,
              "#fb9f3a"
             ],
             [
              0.8888888888888888,
              "#fdca26"
             ],
             [
              1,
              "#f0f921"
             ]
            ],
            "type": "histogram2d"
           }
          ],
          "histogram2dcontour": [
           {
            "colorbar": {
             "outlinewidth": 0,
             "ticks": ""
            },
            "colorscale": [
             [
              0,
              "#0d0887"
             ],
             [
              0.1111111111111111,
              "#46039f"
             ],
             [
              0.2222222222222222,
              "#7201a8"
             ],
             [
              0.3333333333333333,
              "#9c179e"
             ],
             [
              0.4444444444444444,
              "#bd3786"
             ],
             [
              0.5555555555555556,
              "#d8576b"
             ],
             [
              0.6666666666666666,
              "#ed7953"
             ],
             [
              0.7777777777777778,
              "#fb9f3a"
             ],
             [
              0.8888888888888888,
              "#fdca26"
             ],
             [
              1,
              "#f0f921"
             ]
            ],
            "type": "histogram2dcontour"
           }
          ],
          "mesh3d": [
           {
            "colorbar": {
             "outlinewidth": 0,
             "ticks": ""
            },
            "type": "mesh3d"
           }
          ],
          "parcoords": [
           {
            "line": {
             "colorbar": {
              "outlinewidth": 0,
              "ticks": ""
             }
            },
            "type": "parcoords"
           }
          ],
          "pie": [
           {
            "automargin": true,
            "type": "pie"
           }
          ],
          "scatter": [
           {
            "fillpattern": {
             "fillmode": "overlay",
             "size": 10,
             "solidity": 0.2
            },
            "type": "scatter"
           }
          ],
          "scatter3d": [
           {
            "line": {
             "colorbar": {
              "outlinewidth": 0,
              "ticks": ""
             }
            },
            "marker": {
             "colorbar": {
              "outlinewidth": 0,
              "ticks": ""
             }
            },
            "type": "scatter3d"
           }
          ],
          "scattercarpet": [
           {
            "marker": {
             "colorbar": {
              "outlinewidth": 0,
              "ticks": ""
             }
            },
            "type": "scattercarpet"
           }
          ],
          "scattergeo": [
           {
            "marker": {
             "colorbar": {
              "outlinewidth": 0,
              "ticks": ""
             }
            },
            "type": "scattergeo"
           }
          ],
          "scattergl": [
           {
            "marker": {
             "colorbar": {
              "outlinewidth": 0,
              "ticks": ""
             }
            },
            "type": "scattergl"
           }
          ],
          "scattermapbox": [
           {
            "marker": {
             "colorbar": {
              "outlinewidth": 0,
              "ticks": ""
             }
            },
            "type": "scattermapbox"
           }
          ],
          "scatterpolar": [
           {
            "marker": {
             "colorbar": {
              "outlinewidth": 0,
              "ticks": ""
             }
            },
            "type": "scatterpolar"
           }
          ],
          "scatterpolargl": [
           {
            "marker": {
             "colorbar": {
              "outlinewidth": 0,
              "ticks": ""
             }
            },
            "type": "scatterpolargl"
           }
          ],
          "scatterternary": [
           {
            "marker": {
             "colorbar": {
              "outlinewidth": 0,
              "ticks": ""
             }
            },
            "type": "scatterternary"
           }
          ],
          "surface": [
           {
            "colorbar": {
             "outlinewidth": 0,
             "ticks": ""
            },
            "colorscale": [
             [
              0,
              "#0d0887"
             ],
             [
              0.1111111111111111,
              "#46039f"
             ],
             [
              0.2222222222222222,
              "#7201a8"
             ],
             [
              0.3333333333333333,
              "#9c179e"
             ],
             [
              0.4444444444444444,
              "#bd3786"
             ],
             [
              0.5555555555555556,
              "#d8576b"
             ],
             [
              0.6666666666666666,
              "#ed7953"
             ],
             [
              0.7777777777777778,
              "#fb9f3a"
             ],
             [
              0.8888888888888888,
              "#fdca26"
             ],
             [
              1,
              "#f0f921"
             ]
            ],
            "type": "surface"
           }
          ],
          "table": [
           {
            "cells": {
             "fill": {
              "color": "#EBF0F8"
             },
             "line": {
              "color": "white"
             }
            },
            "header": {
             "fill": {
              "color": "#C8D4E3"
             },
             "line": {
              "color": "white"
             }
            },
            "type": "table"
           }
          ]
         },
         "layout": {
          "annotationdefaults": {
           "arrowcolor": "#2a3f5f",
           "arrowhead": 0,
           "arrowwidth": 1
          },
          "autotypenumbers": "strict",
          "coloraxis": {
           "colorbar": {
            "outlinewidth": 0,
            "ticks": ""
           }
          },
          "colorscale": {
           "diverging": [
            [
             0,
             "#8e0152"
            ],
            [
             0.1,
             "#c51b7d"
            ],
            [
             0.2,
             "#de77ae"
            ],
            [
             0.3,
             "#f1b6da"
            ],
            [
             0.4,
             "#fde0ef"
            ],
            [
             0.5,
             "#f7f7f7"
            ],
            [
             0.6,
             "#e6f5d0"
            ],
            [
             0.7,
             "#b8e186"
            ],
            [
             0.8,
             "#7fbc41"
            ],
            [
             0.9,
             "#4d9221"
            ],
            [
             1,
             "#276419"
            ]
           ],
           "sequential": [
            [
             0,
             "#0d0887"
            ],
            [
             0.1111111111111111,
             "#46039f"
            ],
            [
             0.2222222222222222,
             "#7201a8"
            ],
            [
             0.3333333333333333,
             "#9c179e"
            ],
            [
             0.4444444444444444,
             "#bd3786"
            ],
            [
             0.5555555555555556,
             "#d8576b"
            ],
            [
             0.6666666666666666,
             "#ed7953"
            ],
            [
             0.7777777777777778,
             "#fb9f3a"
            ],
            [
             0.8888888888888888,
             "#fdca26"
            ],
            [
             1,
             "#f0f921"
            ]
           ],
           "sequentialminus": [
            [
             0,
             "#0d0887"
            ],
            [
             0.1111111111111111,
             "#46039f"
            ],
            [
             0.2222222222222222,
             "#7201a8"
            ],
            [
             0.3333333333333333,
             "#9c179e"
            ],
            [
             0.4444444444444444,
             "#bd3786"
            ],
            [
             0.5555555555555556,
             "#d8576b"
            ],
            [
             0.6666666666666666,
             "#ed7953"
            ],
            [
             0.7777777777777778,
             "#fb9f3a"
            ],
            [
             0.8888888888888888,
             "#fdca26"
            ],
            [
             1,
             "#f0f921"
            ]
           ]
          },
          "colorway": [
           "#636efa",
           "#EF553B",
           "#00cc96",
           "#ab63fa",
           "#FFA15A",
           "#19d3f3",
           "#FF6692",
           "#B6E880",
           "#FF97FF",
           "#FECB52"
          ],
          "font": {
           "color": "#2a3f5f"
          },
          "geo": {
           "bgcolor": "white",
           "lakecolor": "white",
           "landcolor": "#E5ECF6",
           "showlakes": true,
           "showland": true,
           "subunitcolor": "white"
          },
          "hoverlabel": {
           "align": "left"
          },
          "hovermode": "closest",
          "mapbox": {
           "style": "light"
          },
          "paper_bgcolor": "white",
          "plot_bgcolor": "#E5ECF6",
          "polar": {
           "angularaxis": {
            "gridcolor": "white",
            "linecolor": "white",
            "ticks": ""
           },
           "bgcolor": "#E5ECF6",
           "radialaxis": {
            "gridcolor": "white",
            "linecolor": "white",
            "ticks": ""
           }
          },
          "scene": {
           "xaxis": {
            "backgroundcolor": "#E5ECF6",
            "gridcolor": "white",
            "gridwidth": 2,
            "linecolor": "white",
            "showbackground": true,
            "ticks": "",
            "zerolinecolor": "white"
           },
           "yaxis": {
            "backgroundcolor": "#E5ECF6",
            "gridcolor": "white",
            "gridwidth": 2,
            "linecolor": "white",
            "showbackground": true,
            "ticks": "",
            "zerolinecolor": "white"
           },
           "zaxis": {
            "backgroundcolor": "#E5ECF6",
            "gridcolor": "white",
            "gridwidth": 2,
            "linecolor": "white",
            "showbackground": true,
            "ticks": "",
            "zerolinecolor": "white"
           }
          },
          "shapedefaults": {
           "line": {
            "color": "#2a3f5f"
           }
          },
          "ternary": {
           "aaxis": {
            "gridcolor": "white",
            "linecolor": "white",
            "ticks": ""
           },
           "baxis": {
            "gridcolor": "white",
            "linecolor": "white",
            "ticks": ""
           },
           "bgcolor": "#E5ECF6",
           "caxis": {
            "gridcolor": "white",
            "linecolor": "white",
            "ticks": ""
           }
          },
          "title": {
           "x": 0.05
          },
          "xaxis": {
           "automargin": true,
           "gridcolor": "white",
           "linecolor": "white",
           "ticks": "",
           "title": {
            "standoff": 15
           },
           "zerolinecolor": "white",
           "zerolinewidth": 2
          },
          "yaxis": {
           "automargin": true,
           "gridcolor": "white",
           "linecolor": "white",
           "ticks": "",
           "title": {
            "standoff": 15
           },
           "zerolinecolor": "white",
           "zerolinewidth": 2
          }
         }
        },
        "title": {
         "font": {
          "size": 18
         },
         "text": "Credit Risk Distribution Across Obligor Ratings"
        },
        "width": 900,
        "xaxis": {
         "anchor": "y",
         "categoryarray": [
          "AAA",
          "AA",
          "A",
          "BBB",
          "HY"
         ],
         "categoryorder": "array",
         "domain": [
          0,
          1
         ],
         "title": {
          "text": "Rating Bucket"
         }
        },
        "yaxis": {
         "anchor": "x",
         "domain": [
          0,
          1
         ],
         "title": {
          "text": "Number of Unique Obligors"
         }
        }
       }
      }
     },
     "metadata": {},
     "output_type": "display_data"
    }
   ],
   "source": [
    "analyze_credit_risk_distribution(portfolio_data)"
   ]
  },
  {
   "cell_type": "code",
   "execution_count": 21,
   "metadata": {},
   "outputs": [],
   "source": [
    "import plotly.express as px\n",
    "\n",
    "def analyze_rating_coverage_bar(portfolio_data):\n",
    "    \"\"\"\n",
    "    Analyzes and plots rating coverage (Rated vs Unrated obligors) using a horizontal bar chart.\n",
    "    \n",
    "    Args:\n",
    "        portfolio_data (pd.DataFrame): Must contain 'Rating' and 'Obligor' columns.\n",
    "    \"\"\"\n",
    "    def is_rated(rating):\n",
    "        if pd.isnull(rating):\n",
    "            return False\n",
    "        rating = rating.upper().strip()\n",
    "        return rating not in ['NR', 'UR', '']\n",
    "\n",
    "    # Flag each row as rated/unrated\n",
    "    portfolio_data['Is_Rated'] = portfolio_data['Rating'].apply(is_rated)\n",
    "\n",
    "    # Group by obligor — if any bond is rated, mark the obligor as rated\n",
    "    obligor_rating_status = (\n",
    "        portfolio_data.groupby('Obligor')['Is_Rated']\n",
    "        .any()\n",
    "        .reset_index()\n",
    "    )\n",
    "\n",
    "    # Label\n",
    "    obligor_rating_status['Rating_Status'] = obligor_rating_status['Is_Rated'].map({True: 'Rated', False: 'Unrated'})\n",
    "\n",
    "    # Count\n",
    "    rating_coverage = obligor_rating_status['Rating_Status'].value_counts().reset_index()\n",
    "    rating_coverage.columns = ['Rating_Status', 'Obligor_Count']\n",
    "    total = rating_coverage['Obligor_Count'].sum()\n",
    "    rating_coverage['Percentage'] = 100 * rating_coverage['Obligor_Count'] / total\n",
    "\n",
    "    # Plot\n",
    "    fig = px.bar(\n",
    "        rating_coverage.sort_values('Obligor_Count', ascending=True),\n",
    "        x='Obligor_Count',\n",
    "        y='Rating_Status',\n",
    "        orientation='h',\n",
    "        color='Rating_Status',\n",
    "        color_discrete_map={\n",
    "            'Rated': '#1f77b4',     # Blue\n",
    "            'Unrated': '#ff7f0e'    # Orange\n",
    "        },\n",
    "        text=rating_coverage['Percentage'].map(lambda x: f\"{x:.1f}%\"),\n",
    "        title='Rating Coverage of Portfolio Obligors'\n",
    "    )\n",
    "\n",
    "    fig.update_traces(textposition='outside', textfont_size=12)\n",
    "    fig.update_layout(\n",
    "        xaxis_title='Number of Unique Obligors',\n",
    "        yaxis_title='',\n",
    "        width=800,\n",
    "        height=400,\n",
    "        showlegend=False,\n",
    "        font=dict(family='Segoe UI', size=12),\n",
    "        plot_bgcolor='white',\n",
    "        title_font_size=18\n",
    "    )\n",
    "\n",
    "    fig.show()\n"
   ]
  },
  {
   "cell_type": "code",
   "execution_count": 23,
   "metadata": {},
   "outputs": [
    {
     "data": {
      "application/vnd.plotly.v1+json": {
       "config": {
        "plotlyServerURL": "https://plot.ly"
       },
       "data": [
        {
         "alignmentgroup": "True",
         "hovertemplate": "Rating_Status=%{y}<br>Obligor_Count=%{x}<br>text=%{text}<extra></extra>",
         "legendgroup": "Unrated",
         "marker": {
          "color": "#ff7f0e",
          "pattern": {
           "shape": ""
          }
         },
         "name": "Unrated",
         "offsetgroup": "Unrated",
         "orientation": "h",
         "showlegend": true,
         "text": [
          "93.8%"
         ],
         "textfont": {
          "size": 12
         },
         "textposition": "outside",
         "type": "bar",
         "x": [
          155
         ],
         "xaxis": "x",
         "y": [
          "Unrated"
         ],
         "yaxis": "y"
        },
        {
         "alignmentgroup": "True",
         "hovertemplate": "Rating_Status=%{y}<br>Obligor_Count=%{x}<br>text=%{text}<extra></extra>",
         "legendgroup": "Rated",
         "marker": {
          "color": "#1f77b4",
          "pattern": {
           "shape": ""
          }
         },
         "name": "Rated",
         "offsetgroup": "Rated",
         "orientation": "h",
         "showlegend": true,
         "text": [
          "6.2%"
         ],
         "textfont": {
          "size": 12
         },
         "textposition": "outside",
         "type": "bar",
         "x": [
          2340
         ],
         "xaxis": "x",
         "y": [
          "Rated"
         ],
         "yaxis": "y"
        }
       ],
       "layout": {
        "barmode": "relative",
        "font": {
         "family": "Segoe UI",
         "size": 12
        },
        "height": 400,
        "legend": {
         "title": {
          "text": "Rating_Status"
         },
         "tracegroupgap": 0
        },
        "plot_bgcolor": "white",
        "showlegend": false,
        "template": {
         "data": {
          "bar": [
           {
            "error_x": {
             "color": "#2a3f5f"
            },
            "error_y": {
             "color": "#2a3f5f"
            },
            "marker": {
             "line": {
              "color": "#E5ECF6",
              "width": 0.5
             },
             "pattern": {
              "fillmode": "overlay",
              "size": 10,
              "solidity": 0.2
             }
            },
            "type": "bar"
           }
          ],
          "barpolar": [
           {
            "marker": {
             "line": {
              "color": "#E5ECF6",
              "width": 0.5
             },
             "pattern": {
              "fillmode": "overlay",
              "size": 10,
              "solidity": 0.2
             }
            },
            "type": "barpolar"
           }
          ],
          "carpet": [
           {
            "aaxis": {
             "endlinecolor": "#2a3f5f",
             "gridcolor": "white",
             "linecolor": "white",
             "minorgridcolor": "white",
             "startlinecolor": "#2a3f5f"
            },
            "baxis": {
             "endlinecolor": "#2a3f5f",
             "gridcolor": "white",
             "linecolor": "white",
             "minorgridcolor": "white",
             "startlinecolor": "#2a3f5f"
            },
            "type": "carpet"
           }
          ],
          "choropleth": [
           {
            "colorbar": {
             "outlinewidth": 0,
             "ticks": ""
            },
            "type": "choropleth"
           }
          ],
          "contour": [
           {
            "colorbar": {
             "outlinewidth": 0,
             "ticks": ""
            },
            "colorscale": [
             [
              0,
              "#0d0887"
             ],
             [
              0.1111111111111111,
              "#46039f"
             ],
             [
              0.2222222222222222,
              "#7201a8"
             ],
             [
              0.3333333333333333,
              "#9c179e"
             ],
             [
              0.4444444444444444,
              "#bd3786"
             ],
             [
              0.5555555555555556,
              "#d8576b"
             ],
             [
              0.6666666666666666,
              "#ed7953"
             ],
             [
              0.7777777777777778,
              "#fb9f3a"
             ],
             [
              0.8888888888888888,
              "#fdca26"
             ],
             [
              1,
              "#f0f921"
             ]
            ],
            "type": "contour"
           }
          ],
          "contourcarpet": [
           {
            "colorbar": {
             "outlinewidth": 0,
             "ticks": ""
            },
            "type": "contourcarpet"
           }
          ],
          "heatmap": [
           {
            "colorbar": {
             "outlinewidth": 0,
             "ticks": ""
            },
            "colorscale": [
             [
              0,
              "#0d0887"
             ],
             [
              0.1111111111111111,
              "#46039f"
             ],
             [
              0.2222222222222222,
              "#7201a8"
             ],
             [
              0.3333333333333333,
              "#9c179e"
             ],
             [
              0.4444444444444444,
              "#bd3786"
             ],
             [
              0.5555555555555556,
              "#d8576b"
             ],
             [
              0.6666666666666666,
              "#ed7953"
             ],
             [
              0.7777777777777778,
              "#fb9f3a"
             ],
             [
              0.8888888888888888,
              "#fdca26"
             ],
             [
              1,
              "#f0f921"
             ]
            ],
            "type": "heatmap"
           }
          ],
          "heatmapgl": [
           {
            "colorbar": {
             "outlinewidth": 0,
             "ticks": ""
            },
            "colorscale": [
             [
              0,
              "#0d0887"
             ],
             [
              0.1111111111111111,
              "#46039f"
             ],
             [
              0.2222222222222222,
              "#7201a8"
             ],
             [
              0.3333333333333333,
              "#9c179e"
             ],
             [
              0.4444444444444444,
              "#bd3786"
             ],
             [
              0.5555555555555556,
              "#d8576b"
             ],
             [
              0.6666666666666666,
              "#ed7953"
             ],
             [
              0.7777777777777778,
              "#fb9f3a"
             ],
             [
              0.8888888888888888,
              "#fdca26"
             ],
             [
              1,
              "#f0f921"
             ]
            ],
            "type": "heatmapgl"
           }
          ],
          "histogram": [
           {
            "marker": {
             "pattern": {
              "fillmode": "overlay",
              "size": 10,
              "solidity": 0.2
             }
            },
            "type": "histogram"
           }
          ],
          "histogram2d": [
           {
            "colorbar": {
             "outlinewidth": 0,
             "ticks": ""
            },
            "colorscale": [
             [
              0,
              "#0d0887"
             ],
             [
              0.1111111111111111,
              "#46039f"
             ],
             [
              0.2222222222222222,
              "#7201a8"
             ],
             [
              0.3333333333333333,
              "#9c179e"
             ],
             [
              0.4444444444444444,
              "#bd3786"
             ],
             [
              0.5555555555555556,
              "#d8576b"
             ],
             [
              0.6666666666666666,
              "#ed7953"
             ],
             [
              0.7777777777777778,
              "#fb9f3a"
             ],
             [
              0.8888888888888888,
              "#fdca26"
             ],
             [
              1,
              "#f0f921"
             ]
            ],
            "type": "histogram2d"
           }
          ],
          "histogram2dcontour": [
           {
            "colorbar": {
             "outlinewidth": 0,
             "ticks": ""
            },
            "colorscale": [
             [
              0,
              "#0d0887"
             ],
             [
              0.1111111111111111,
              "#46039f"
             ],
             [
              0.2222222222222222,
              "#7201a8"
             ],
             [
              0.3333333333333333,
              "#9c179e"
             ],
             [
              0.4444444444444444,
              "#bd3786"
             ],
             [
              0.5555555555555556,
              "#d8576b"
             ],
             [
              0.6666666666666666,
              "#ed7953"
             ],
             [
              0.7777777777777778,
              "#fb9f3a"
             ],
             [
              0.8888888888888888,
              "#fdca26"
             ],
             [
              1,
              "#f0f921"
             ]
            ],
            "type": "histogram2dcontour"
           }
          ],
          "mesh3d": [
           {
            "colorbar": {
             "outlinewidth": 0,
             "ticks": ""
            },
            "type": "mesh3d"
           }
          ],
          "parcoords": [
           {
            "line": {
             "colorbar": {
              "outlinewidth": 0,
              "ticks": ""
             }
            },
            "type": "parcoords"
           }
          ],
          "pie": [
           {
            "automargin": true,
            "type": "pie"
           }
          ],
          "scatter": [
           {
            "fillpattern": {
             "fillmode": "overlay",
             "size": 10,
             "solidity": 0.2
            },
            "type": "scatter"
           }
          ],
          "scatter3d": [
           {
            "line": {
             "colorbar": {
              "outlinewidth": 0,
              "ticks": ""
             }
            },
            "marker": {
             "colorbar": {
              "outlinewidth": 0,
              "ticks": ""
             }
            },
            "type": "scatter3d"
           }
          ],
          "scattercarpet": [
           {
            "marker": {
             "colorbar": {
              "outlinewidth": 0,
              "ticks": ""
             }
            },
            "type": "scattercarpet"
           }
          ],
          "scattergeo": [
           {
            "marker": {
             "colorbar": {
              "outlinewidth": 0,
              "ticks": ""
             }
            },
            "type": "scattergeo"
           }
          ],
          "scattergl": [
           {
            "marker": {
             "colorbar": {
              "outlinewidth": 0,
              "ticks": ""
             }
            },
            "type": "scattergl"
           }
          ],
          "scattermapbox": [
           {
            "marker": {
             "colorbar": {
              "outlinewidth": 0,
              "ticks": ""
             }
            },
            "type": "scattermapbox"
           }
          ],
          "scatterpolar": [
           {
            "marker": {
             "colorbar": {
              "outlinewidth": 0,
              "ticks": ""
             }
            },
            "type": "scatterpolar"
           }
          ],
          "scatterpolargl": [
           {
            "marker": {
             "colorbar": {
              "outlinewidth": 0,
              "ticks": ""
             }
            },
            "type": "scatterpolargl"
           }
          ],
          "scatterternary": [
           {
            "marker": {
             "colorbar": {
              "outlinewidth": 0,
              "ticks": ""
             }
            },
            "type": "scatterternary"
           }
          ],
          "surface": [
           {
            "colorbar": {
             "outlinewidth": 0,
             "ticks": ""
            },
            "colorscale": [
             [
              0,
              "#0d0887"
             ],
             [
              0.1111111111111111,
              "#46039f"
             ],
             [
              0.2222222222222222,
              "#7201a8"
             ],
             [
              0.3333333333333333,
              "#9c179e"
             ],
             [
              0.4444444444444444,
              "#bd3786"
             ],
             [
              0.5555555555555556,
              "#d8576b"
             ],
             [
              0.6666666666666666,
              "#ed7953"
             ],
             [
              0.7777777777777778,
              "#fb9f3a"
             ],
             [
              0.8888888888888888,
              "#fdca26"
             ],
             [
              1,
              "#f0f921"
             ]
            ],
            "type": "surface"
           }
          ],
          "table": [
           {
            "cells": {
             "fill": {
              "color": "#EBF0F8"
             },
             "line": {
              "color": "white"
             }
            },
            "header": {
             "fill": {
              "color": "#C8D4E3"
             },
             "line": {
              "color": "white"
             }
            },
            "type": "table"
           }
          ]
         },
         "layout": {
          "annotationdefaults": {
           "arrowcolor": "#2a3f5f",
           "arrowhead": 0,
           "arrowwidth": 1
          },
          "autotypenumbers": "strict",
          "coloraxis": {
           "colorbar": {
            "outlinewidth": 0,
            "ticks": ""
           }
          },
          "colorscale": {
           "diverging": [
            [
             0,
             "#8e0152"
            ],
            [
             0.1,
             "#c51b7d"
            ],
            [
             0.2,
             "#de77ae"
            ],
            [
             0.3,
             "#f1b6da"
            ],
            [
             0.4,
             "#fde0ef"
            ],
            [
             0.5,
             "#f7f7f7"
            ],
            [
             0.6,
             "#e6f5d0"
            ],
            [
             0.7,
             "#b8e186"
            ],
            [
             0.8,
             "#7fbc41"
            ],
            [
             0.9,
             "#4d9221"
            ],
            [
             1,
             "#276419"
            ]
           ],
           "sequential": [
            [
             0,
             "#0d0887"
            ],
            [
             0.1111111111111111,
             "#46039f"
            ],
            [
             0.2222222222222222,
             "#7201a8"
            ],
            [
             0.3333333333333333,
             "#9c179e"
            ],
            [
             0.4444444444444444,
             "#bd3786"
            ],
            [
             0.5555555555555556,
             "#d8576b"
            ],
            [
             0.6666666666666666,
             "#ed7953"
            ],
            [
             0.7777777777777778,
             "#fb9f3a"
            ],
            [
             0.8888888888888888,
             "#fdca26"
            ],
            [
             1,
             "#f0f921"
            ]
           ],
           "sequentialminus": [
            [
             0,
             "#0d0887"
            ],
            [
             0.1111111111111111,
             "#46039f"
            ],
            [
             0.2222222222222222,
             "#7201a8"
            ],
            [
             0.3333333333333333,
             "#9c179e"
            ],
            [
             0.4444444444444444,
             "#bd3786"
            ],
            [
             0.5555555555555556,
             "#d8576b"
            ],
            [
             0.6666666666666666,
             "#ed7953"
            ],
            [
             0.7777777777777778,
             "#fb9f3a"
            ],
            [
             0.8888888888888888,
             "#fdca26"
            ],
            [
             1,
             "#f0f921"
            ]
           ]
          },
          "colorway": [
           "#636efa",
           "#EF553B",
           "#00cc96",
           "#ab63fa",
           "#FFA15A",
           "#19d3f3",
           "#FF6692",
           "#B6E880",
           "#FF97FF",
           "#FECB52"
          ],
          "font": {
           "color": "#2a3f5f"
          },
          "geo": {
           "bgcolor": "white",
           "lakecolor": "white",
           "landcolor": "#E5ECF6",
           "showlakes": true,
           "showland": true,
           "subunitcolor": "white"
          },
          "hoverlabel": {
           "align": "left"
          },
          "hovermode": "closest",
          "mapbox": {
           "style": "light"
          },
          "paper_bgcolor": "white",
          "plot_bgcolor": "#E5ECF6",
          "polar": {
           "angularaxis": {
            "gridcolor": "white",
            "linecolor": "white",
            "ticks": ""
           },
           "bgcolor": "#E5ECF6",
           "radialaxis": {
            "gridcolor": "white",
            "linecolor": "white",
            "ticks": ""
           }
          },
          "scene": {
           "xaxis": {
            "backgroundcolor": "#E5ECF6",
            "gridcolor": "white",
            "gridwidth": 2,
            "linecolor": "white",
            "showbackground": true,
            "ticks": "",
            "zerolinecolor": "white"
           },
           "yaxis": {
            "backgroundcolor": "#E5ECF6",
            "gridcolor": "white",
            "gridwidth": 2,
            "linecolor": "white",
            "showbackground": true,
            "ticks": "",
            "zerolinecolor": "white"
           },
           "zaxis": {
            "backgroundcolor": "#E5ECF6",
            "gridcolor": "white",
            "gridwidth": 2,
            "linecolor": "white",
            "showbackground": true,
            "ticks": "",
            "zerolinecolor": "white"
           }
          },
          "shapedefaults": {
           "line": {
            "color": "#2a3f5f"
           }
          },
          "ternary": {
           "aaxis": {
            "gridcolor": "white",
            "linecolor": "white",
            "ticks": ""
           },
           "baxis": {
            "gridcolor": "white",
            "linecolor": "white",
            "ticks": ""
           },
           "bgcolor": "#E5ECF6",
           "caxis": {
            "gridcolor": "white",
            "linecolor": "white",
            "ticks": ""
           }
          },
          "title": {
           "x": 0.05
          },
          "xaxis": {
           "automargin": true,
           "gridcolor": "white",
           "linecolor": "white",
           "ticks": "",
           "title": {
            "standoff": 15
           },
           "zerolinecolor": "white",
           "zerolinewidth": 2
          },
          "yaxis": {
           "automargin": true,
           "gridcolor": "white",
           "linecolor": "white",
           "ticks": "",
           "title": {
            "standoff": 15
           },
           "zerolinecolor": "white",
           "zerolinewidth": 2
          }
         }
        },
        "title": {
         "font": {
          "size": 18
         },
         "text": "Rating Coverage of Portfolio Obligors"
        },
        "width": 800,
        "xaxis": {
         "anchor": "y",
         "domain": [
          0,
          1
         ],
         "title": {
          "text": "Number of Unique Obligors"
         }
        },
        "yaxis": {
         "anchor": "x",
         "categoryarray": [
          "Rated",
          "Unrated"
         ],
         "categoryorder": "array",
         "domain": [
          0,
          1
         ],
         "title": {
          "text": ""
         }
        }
       }
      }
     },
     "metadata": {},
     "output_type": "display_data"
    }
   ],
   "source": [
    "analyze_rating_coverage_bar(portfolio_data)"
   ]
  },
  {
   "cell_type": "code",
   "execution_count": 81,
   "metadata": {},
   "outputs": [
    {
     "data": {
      "text/html": [
       "<div>\n",
       "<style scoped>\n",
       "    .dataframe tbody tr th:only-of-type {\n",
       "        vertical-align: middle;\n",
       "    }\n",
       "\n",
       "    .dataframe tbody tr th {\n",
       "        vertical-align: top;\n",
       "    }\n",
       "\n",
       "    .dataframe thead th {\n",
       "        text-align: right;\n",
       "    }\n",
       "</style>\n",
       "<table border=\"1\" class=\"dataframe\">\n",
       "  <thead>\n",
       "    <tr style=\"text-align: right;\">\n",
       "      <th></th>\n",
       "      <th>cusip</th>\n",
       "      <th>Obligor</th>\n",
       "      <th>Obligor Name</th>\n",
       "      <th>maturity</th>\n",
       "      <th>coupon</th>\n",
       "      <th>Sec_Group</th>\n",
       "      <th>Sec_Type</th>\n",
       "      <th>book_yield</th>\n",
       "      <th>unrealized_gl</th>\n",
       "      <th>Par</th>\n",
       "      <th>Rating</th>\n",
       "      <th>Outlook</th>\n",
       "      <th>Sector_Level_1</th>\n",
       "      <th>Sector</th>\n",
       "      <th>Sector_Full</th>\n",
       "    </tr>\n",
       "  </thead>\n",
       "  <tbody>\n",
       "    <tr>\n",
       "      <th>2</th>\n",
       "      <td>64984EDG7</td>\n",
       "      <td>209111</td>\n",
       "      <td>CONSOLIDATED EDISON COMPANY OF NEW YORK INC</td>\n",
       "      <td>2039-05-01</td>\n",
       "      <td>-99.00</td>\n",
       "      <td>CASH</td>\n",
       "      <td>MVRDN</td>\n",
       "      <td>4.550000</td>\n",
       "      <td>99999.90000</td>\n",
       "      <td>100000.0</td>\n",
       "      <td>BBB1</td>\n",
       "      <td>Stable</td>\n",
       "      <td>CORP</td>\n",
       "      <td>ELEC</td>\n",
       "      <td>IDB</td>\n",
       "    </tr>\n",
       "    <tr>\n",
       "      <th>7</th>\n",
       "      <td>424898FH2</td>\n",
       "      <td>424888</td>\n",
       "      <td>HENDERSON CNTY N C CTFS PARTN</td>\n",
       "      <td>2027-06-01</td>\n",
       "      <td>4.00</td>\n",
       "      <td>BND</td>\n",
       "      <td>MUNI</td>\n",
       "      <td>0.000000</td>\n",
       "      <td>20859.99580</td>\n",
       "      <td>20000.0</td>\n",
       "      <td>AA3</td>\n",
       "      <td>Stable</td>\n",
       "      <td>TAX</td>\n",
       "      <td>TAXLOCAL</td>\n",
       "      <td>Local Government</td>\n",
       "    </tr>\n",
       "    <tr>\n",
       "      <th>8</th>\n",
       "      <td>42806KAB9</td>\n",
       "      <td>42806C</td>\n",
       "      <td>HESPERIA CA CMNTY REDEV AGY</td>\n",
       "      <td>2027-09-01</td>\n",
       "      <td>5.00</td>\n",
       "      <td>BND</td>\n",
       "      <td>MUNI</td>\n",
       "      <td>2.461000</td>\n",
       "      <td>107533.14900</td>\n",
       "      <td>100000.0</td>\n",
       "      <td>A1</td>\n",
       "      <td>Nan</td>\n",
       "      <td>TAX</td>\n",
       "      <td>DEVDIST</td>\n",
       "      <td>Development District</td>\n",
       "    </tr>\n",
       "    <tr>\n",
       "      <th>9</th>\n",
       "      <td>42806KAC7</td>\n",
       "      <td>42806C</td>\n",
       "      <td>HESPERIA CA CMNTY REDEV AGY</td>\n",
       "      <td>2028-09-01</td>\n",
       "      <td>5.00</td>\n",
       "      <td>BND</td>\n",
       "      <td>MUNI</td>\n",
       "      <td>2.540000</td>\n",
       "      <td>21993.99400</td>\n",
       "      <td>20000.0</td>\n",
       "      <td>A1</td>\n",
       "      <td>Nan</td>\n",
       "      <td>TAX</td>\n",
       "      <td>DEVDIST</td>\n",
       "      <td>Development District</td>\n",
       "    </tr>\n",
       "    <tr>\n",
       "      <th>10</th>\n",
       "      <td>543103EB7</td>\n",
       "      <td>543103</td>\n",
       "      <td>LONGMONT COLO SALES &amp; USE TAX REVS</td>\n",
       "      <td>2028-11-15</td>\n",
       "      <td>5.00</td>\n",
       "      <td>BND</td>\n",
       "      <td>MUNI</td>\n",
       "      <td>0.000000</td>\n",
       "      <td>55808.56650</td>\n",
       "      <td>50000.0</td>\n",
       "      <td>AA1</td>\n",
       "      <td>Stable</td>\n",
       "      <td>TAX</td>\n",
       "      <td>TAXLOCAL</td>\n",
       "      <td>Local Government</td>\n",
       "    </tr>\n",
       "    <tr>\n",
       "      <th>...</th>\n",
       "      <td>...</td>\n",
       "      <td>...</td>\n",
       "      <td>...</td>\n",
       "      <td>...</td>\n",
       "      <td>...</td>\n",
       "      <td>...</td>\n",
       "      <td>...</td>\n",
       "      <td>...</td>\n",
       "      <td>...</td>\n",
       "      <td>...</td>\n",
       "      <td>...</td>\n",
       "      <td>...</td>\n",
       "      <td>...</td>\n",
       "      <td>...</td>\n",
       "      <td>...</td>\n",
       "    </tr>\n",
       "    <tr>\n",
       "      <th>8097</th>\n",
       "      <td>819892AL4</td>\n",
       "      <td>R96714</td>\n",
       "      <td>SHARP HEALTHCARE</td>\n",
       "      <td>2050-08-01</td>\n",
       "      <td>2.68</td>\n",
       "      <td>BND</td>\n",
       "      <td>CORP</td>\n",
       "      <td>65.565002</td>\n",
       "      <td>-300980.65268</td>\n",
       "      <td>1071000.0</td>\n",
       "      <td>AA3</td>\n",
       "      <td>Stable</td>\n",
       "      <td>HEALTH</td>\n",
       "      <td>HOSP</td>\n",
       "      <td>Hospital</td>\n",
       "    </tr>\n",
       "    <tr>\n",
       "      <th>8098</th>\n",
       "      <td>13057EHB3</td>\n",
       "      <td>R96714</td>\n",
       "      <td>SHARP HEALTHCARE</td>\n",
       "      <td>2029-08-01</td>\n",
       "      <td>5.00</td>\n",
       "      <td>BND</td>\n",
       "      <td>MUNI</td>\n",
       "      <td>2.400000</td>\n",
       "      <td>56841.72400</td>\n",
       "      <td>50000.0</td>\n",
       "      <td>AA3</td>\n",
       "      <td>Stable</td>\n",
       "      <td>HEALTH</td>\n",
       "      <td>HOSP</td>\n",
       "      <td>Hospital</td>\n",
       "    </tr>\n",
       "    <tr>\n",
       "      <th>8100</th>\n",
       "      <td>57584YLJ6</td>\n",
       "      <td>R97932</td>\n",
       "      <td>BRANDEIS UNIVERSITY</td>\n",
       "      <td>2039-10-01</td>\n",
       "      <td>5.00</td>\n",
       "      <td>BND</td>\n",
       "      <td>MUNI</td>\n",
       "      <td>0.000000</td>\n",
       "      <td>21646.72540</td>\n",
       "      <td>20000.0</td>\n",
       "      <td>A1</td>\n",
       "      <td>Stable</td>\n",
       "      <td>EDUC</td>\n",
       "      <td>UNIVPRIV</td>\n",
       "      <td>Private University</td>\n",
       "    </tr>\n",
       "    <tr>\n",
       "      <th>8101</th>\n",
       "      <td>57584YLG2</td>\n",
       "      <td>R97932</td>\n",
       "      <td>BRANDEIS UNIVERSITY</td>\n",
       "      <td>2037-10-01</td>\n",
       "      <td>5.00</td>\n",
       "      <td>BND</td>\n",
       "      <td>MUNI</td>\n",
       "      <td>0.000000</td>\n",
       "      <td>10948.00560</td>\n",
       "      <td>10000.0</td>\n",
       "      <td>A1</td>\n",
       "      <td>Stable</td>\n",
       "      <td>EDUC</td>\n",
       "      <td>UNIVPRIV</td>\n",
       "      <td>Private University</td>\n",
       "    </tr>\n",
       "    <tr>\n",
       "      <th>8102</th>\n",
       "      <td>57584YNQ8</td>\n",
       "      <td>R97932</td>\n",
       "      <td>BRANDEIS UNIVERSITY</td>\n",
       "      <td>2027-10-01</td>\n",
       "      <td>5.00</td>\n",
       "      <td>BND</td>\n",
       "      <td>MUNI</td>\n",
       "      <td>2.660000</td>\n",
       "      <td>48880.43955</td>\n",
       "      <td>45000.0</td>\n",
       "      <td>A1</td>\n",
       "      <td>Stable</td>\n",
       "      <td>EDUC</td>\n",
       "      <td>UNIVPRIV</td>\n",
       "      <td>Private University</td>\n",
       "    </tr>\n",
       "  </tbody>\n",
       "</table>\n",
       "<p>8005 rows × 15 columns</p>\n",
       "</div>"
      ],
      "text/plain": [
       "          cusip Obligor                                 Obligor Name  \\\n",
       "2     64984EDG7  209111  CONSOLIDATED EDISON COMPANY OF NEW YORK INC   \n",
       "7     424898FH2  424888                HENDERSON CNTY N C CTFS PARTN   \n",
       "8     42806KAB9  42806C                  HESPERIA CA CMNTY REDEV AGY   \n",
       "9     42806KAC7  42806C                  HESPERIA CA CMNTY REDEV AGY   \n",
       "10    543103EB7  543103           LONGMONT COLO SALES & USE TAX REVS   \n",
       "...         ...     ...                                          ...   \n",
       "8097  819892AL4  R96714                             SHARP HEALTHCARE   \n",
       "8098  13057EHB3  R96714                             SHARP HEALTHCARE   \n",
       "8100  57584YLJ6  R97932                          BRANDEIS UNIVERSITY   \n",
       "8101  57584YLG2  R97932                          BRANDEIS UNIVERSITY   \n",
       "8102  57584YNQ8  R97932                          BRANDEIS UNIVERSITY   \n",
       "\n",
       "       maturity  coupon Sec_Group Sec_Type  book_yield  unrealized_gl  \\\n",
       "2    2039-05-01  -99.00      CASH    MVRDN    4.550000    99999.90000   \n",
       "7    2027-06-01    4.00       BND     MUNI    0.000000    20859.99580   \n",
       "8    2027-09-01    5.00       BND     MUNI    2.461000   107533.14900   \n",
       "9    2028-09-01    5.00       BND     MUNI    2.540000    21993.99400   \n",
       "10   2028-11-15    5.00       BND     MUNI    0.000000    55808.56650   \n",
       "...         ...     ...       ...      ...         ...            ...   \n",
       "8097 2050-08-01    2.68       BND     CORP   65.565002  -300980.65268   \n",
       "8098 2029-08-01    5.00       BND     MUNI    2.400000    56841.72400   \n",
       "8100 2039-10-01    5.00       BND     MUNI    0.000000    21646.72540   \n",
       "8101 2037-10-01    5.00       BND     MUNI    0.000000    10948.00560   \n",
       "8102 2027-10-01    5.00       BND     MUNI    2.660000    48880.43955   \n",
       "\n",
       "            Par Rating Outlook Sector_Level_1    Sector           Sector_Full  \n",
       "2      100000.0   BBB1  Stable           CORP      ELEC                   IDB  \n",
       "7       20000.0    AA3  Stable            TAX  TAXLOCAL      Local Government  \n",
       "8      100000.0     A1     Nan            TAX   DEVDIST  Development District  \n",
       "9       20000.0     A1     Nan            TAX   DEVDIST  Development District  \n",
       "10      50000.0    AA1  Stable            TAX  TAXLOCAL      Local Government  \n",
       "...         ...    ...     ...            ...       ...                   ...  \n",
       "8097  1071000.0    AA3  Stable         HEALTH      HOSP              Hospital  \n",
       "8098    50000.0    AA3  Stable         HEALTH      HOSP              Hospital  \n",
       "8100    20000.0     A1  Stable           EDUC  UNIVPRIV    Private University  \n",
       "8101    10000.0     A1  Stable           EDUC  UNIVPRIV    Private University  \n",
       "8102    45000.0     A1  Stable           EDUC  UNIVPRIV    Private University  \n",
       "\n",
       "[8005 rows x 15 columns]"
      ]
     },
     "execution_count": 81,
     "metadata": {},
     "output_type": "execute_result"
    }
   ],
   "source": [
    "portfolio_data"
   ]
  },
  {
   "cell_type": "code",
   "execution_count": 80,
   "metadata": {},
   "outputs": [],
   "source": [
    "portfolio_data.dropna(inplace=True)"
   ]
  },
  {
   "cell_type": "code",
   "execution_count": 86,
   "metadata": {},
   "outputs": [
    {
     "data": {
      "text/plain": [
       "Outlook\n",
       "Stable           7478\n",
       "Deteriorating     411\n",
       "Provisional        58\n",
       "Unspecified        41\n",
       "Improving          17\n",
       "Name: count, dtype: int64"
      ]
     },
     "execution_count": 86,
     "metadata": {},
     "output_type": "execute_result"
    }
   ],
   "source": [
    "portfolio_data[\"Outlook\"].value_counts()"
   ]
  },
  {
   "cell_type": "code",
   "execution_count": 92,
   "metadata": {},
   "outputs": [],
   "source": [
    "portfolio_data['Outlook'] = (\n",
    "    portfolio_data['Outlook']\n",
    "    .fillna('Unspecified')\n",
    "    .astype(str)\n",
    "    .str.strip()\n",
    "    .str.title()\n",
    ")\n",
    "\n",
    "# Count each outlook\n",
    "outlook_counts = (\n",
    "    portfolio_data['Outlook']\n",
    "    .value_counts()\n",
    "    .reset_index()\n",
    "    .rename(columns={'index': 'Outlook', 'Outlook': 'Bond_Count'})\n",
    ")\n"
   ]
  },
  {
   "cell_type": "code",
   "execution_count": 93,
   "metadata": {},
   "outputs": [
    {
     "data": {
      "text/html": [
       "<div>\n",
       "<style scoped>\n",
       "    .dataframe tbody tr th:only-of-type {\n",
       "        vertical-align: middle;\n",
       "    }\n",
       "\n",
       "    .dataframe tbody tr th {\n",
       "        vertical-align: top;\n",
       "    }\n",
       "\n",
       "    .dataframe thead th {\n",
       "        text-align: right;\n",
       "    }\n",
       "</style>\n",
       "<table border=\"1\" class=\"dataframe\">\n",
       "  <thead>\n",
       "    <tr style=\"text-align: right;\">\n",
       "      <th></th>\n",
       "      <th>Bond_Count</th>\n",
       "      <th>count</th>\n",
       "    </tr>\n",
       "  </thead>\n",
       "  <tbody>\n",
       "    <tr>\n",
       "      <th>0</th>\n",
       "      <td>Stable</td>\n",
       "      <td>7478</td>\n",
       "    </tr>\n",
       "    <tr>\n",
       "      <th>1</th>\n",
       "      <td>Deteriorating</td>\n",
       "      <td>411</td>\n",
       "    </tr>\n",
       "    <tr>\n",
       "      <th>2</th>\n",
       "      <td>Provisional</td>\n",
       "      <td>58</td>\n",
       "    </tr>\n",
       "    <tr>\n",
       "      <th>3</th>\n",
       "      <td>Unspecified</td>\n",
       "      <td>41</td>\n",
       "    </tr>\n",
       "    <tr>\n",
       "      <th>4</th>\n",
       "      <td>Improving</td>\n",
       "      <td>17</td>\n",
       "    </tr>\n",
       "  </tbody>\n",
       "</table>\n",
       "</div>"
      ],
      "text/plain": [
       "      Bond_Count  count\n",
       "0         Stable   7478\n",
       "1  Deteriorating    411\n",
       "2    Provisional     58\n",
       "3    Unspecified     41\n",
       "4      Improving     17"
      ]
     },
     "execution_count": 93,
     "metadata": {},
     "output_type": "execute_result"
    }
   ],
   "source": [
    "outlook_counts"
   ]
  },
  {
   "cell_type": "code",
   "execution_count": 102,
   "metadata": {},
   "outputs": [],
   "source": [
    "total_bonds = outlook_counts['count'].sum()\n",
    "outlook_counts['Percentage'] = (100 * outlook_counts['count'] / total_bonds).round(1)\n"
   ]
  },
  {
   "cell_type": "code",
   "execution_count": 105,
   "metadata": {},
   "outputs": [
    {
     "data": {
      "text/html": [
       "<div>\n",
       "<style scoped>\n",
       "    .dataframe tbody tr th:only-of-type {\n",
       "        vertical-align: middle;\n",
       "    }\n",
       "\n",
       "    .dataframe tbody tr th {\n",
       "        vertical-align: top;\n",
       "    }\n",
       "\n",
       "    .dataframe thead th {\n",
       "        text-align: right;\n",
       "    }\n",
       "</style>\n",
       "<table border=\"1\" class=\"dataframe\">\n",
       "  <thead>\n",
       "    <tr style=\"text-align: right;\">\n",
       "      <th></th>\n",
       "      <th>Bond_Count</th>\n",
       "      <th>count</th>\n",
       "      <th>Percentage</th>\n",
       "    </tr>\n",
       "  </thead>\n",
       "  <tbody>\n",
       "    <tr>\n",
       "      <th>0</th>\n",
       "      <td>Stable</td>\n",
       "      <td>7478</td>\n",
       "      <td>93.4</td>\n",
       "    </tr>\n",
       "    <tr>\n",
       "      <th>1</th>\n",
       "      <td>Deteriorating</td>\n",
       "      <td>411</td>\n",
       "      <td>5.1</td>\n",
       "    </tr>\n",
       "    <tr>\n",
       "      <th>2</th>\n",
       "      <td>Provisional</td>\n",
       "      <td>58</td>\n",
       "      <td>0.7</td>\n",
       "    </tr>\n",
       "    <tr>\n",
       "      <th>3</th>\n",
       "      <td>Unspecified</td>\n",
       "      <td>41</td>\n",
       "      <td>0.5</td>\n",
       "    </tr>\n",
       "    <tr>\n",
       "      <th>4</th>\n",
       "      <td>Improving</td>\n",
       "      <td>17</td>\n",
       "      <td>0.2</td>\n",
       "    </tr>\n",
       "  </tbody>\n",
       "</table>\n",
       "</div>"
      ],
      "text/plain": [
       "      Bond_Count  count  Percentage\n",
       "0         Stable   7478        93.4\n",
       "1  Deteriorating    411         5.1\n",
       "2    Provisional     58         0.7\n",
       "3    Unspecified     41         0.5\n",
       "4      Improving     17         0.2"
      ]
     },
     "execution_count": 105,
     "metadata": {},
     "output_type": "execute_result"
    }
   ],
   "source": [
    "outlook_counts"
   ]
  },
  {
   "cell_type": "code",
   "execution_count": 112,
   "metadata": {},
   "outputs": [
    {
     "data": {
      "application/vnd.plotly.v1+json": {
       "config": {
        "plotlyServerURL": "https://plot.ly"
       },
       "data": [
        {
         "hovertemplate": "Bond_Count=%{y}<br>count=%{x}<br>text=%{text}<extra></extra>",
         "legendgroup": "Improving",
         "marker": {
          "color": "rgb(102,194,165)",
          "pattern": {
           "shape": ""
          }
         },
         "name": "Improving",
         "orientation": "h",
         "showlegend": true,
         "text": [
          "93.4%"
         ],
         "textfont": {
          "size": 12
         },
         "textposition": "outside",
         "type": "bar",
         "x": {
          "_inputArray": {
           "0": 17,
           "bdata": "EQ==",
           "dtype": "i1",
           "shape": "1"
          },
          "bdata": "EQ==",
          "dtype": "i1"
         },
         "xaxis": "x",
         "y": [
          "Improving"
         ],
         "yaxis": "y"
        },
        {
         "hovertemplate": "Bond_Count=%{y}<br>count=%{x}<br>text=%{text}<extra></extra>",
         "legendgroup": "Unspecified",
         "marker": {
          "color": "rgb(252,141,98)",
          "pattern": {
           "shape": ""
          }
         },
         "name": "Unspecified",
         "orientation": "h",
         "showlegend": true,
         "text": [
          "5.1%"
         ],
         "textfont": {
          "size": 12
         },
         "textposition": "outside",
         "type": "bar",
         "x": {
          "_inputArray": {
           "0": 41,
           "bdata": "KQ==",
           "dtype": "i1",
           "shape": "1"
          },
          "bdata": "KQ==",
          "dtype": "i1"
         },
         "xaxis": "x",
         "y": [
          "Unspecified"
         ],
         "yaxis": "y"
        },
        {
         "hovertemplate": "Bond_Count=%{y}<br>count=%{x}<br>text=%{text}<extra></extra>",
         "legendgroup": "Provisional",
         "marker": {
          "color": "rgb(141,160,203)",
          "pattern": {
           "shape": ""
          }
         },
         "name": "Provisional",
         "orientation": "h",
         "showlegend": true,
         "text": [
          "0.7%"
         ],
         "textfont": {
          "size": 12
         },
         "textposition": "outside",
         "type": "bar",
         "x": {
          "_inputArray": {
           "0": 58,
           "bdata": "Og==",
           "dtype": "i1",
           "shape": "1"
          },
          "bdata": "Og==",
          "dtype": "i1"
         },
         "xaxis": "x",
         "y": [
          "Provisional"
         ],
         "yaxis": "y"
        },
        {
         "hovertemplate": "Bond_Count=%{y}<br>count=%{x}<br>text=%{text}<extra></extra>",
         "legendgroup": "Deteriorating",
         "marker": {
          "color": "rgb(231,138,195)",
          "pattern": {
           "shape": ""
          }
         },
         "name": "Deteriorating",
         "orientation": "h",
         "showlegend": true,
         "text": [
          "0.5%"
         ],
         "textfont": {
          "size": 12
         },
         "textposition": "outside",
         "type": "bar",
         "x": {
          "_inputArray": {
           "0": 411,
           "bdata": "mwE=",
           "dtype": "i2",
           "shape": "1"
          },
          "bdata": "mwE=",
          "dtype": "i2"
         },
         "xaxis": "x",
         "y": [
          "Deteriorating"
         ],
         "yaxis": "y"
        },
        {
         "hovertemplate": "Bond_Count=%{y}<br>count=%{x}<br>text=%{text}<extra></extra>",
         "legendgroup": "Stable",
         "marker": {
          "color": "rgb(166,216,84)",
          "pattern": {
           "shape": ""
          }
         },
         "name": "Stable",
         "orientation": "h",
         "showlegend": true,
         "text": [
          "0.2%"
         ],
         "textfont": {
          "size": 12
         },
         "textposition": "outside",
         "type": "bar",
         "x": {
          "_inputArray": {
           "0": 7478,
           "bdata": "Nh0=",
           "dtype": "i2",
           "shape": "1"
          },
          "bdata": "Nh0=",
          "dtype": "i2"
         },
         "xaxis": "x",
         "y": [
          "Stable"
         ],
         "yaxis": "y"
        }
       ],
       "layout": {
        "barmode": "relative",
        "font": {
         "family": "Segoe UI",
         "size": 12
        },
        "height": 450,
        "legend": {
         "title": {
          "text": "Bond_Count"
         },
         "tracegroupgap": 0
        },
        "plot_bgcolor": "white",
        "showlegend": false,
        "template": {
         "data": {
          "bar": [
           {
            "error_x": {
             "color": "#2a3f5f"
            },
            "error_y": {
             "color": "#2a3f5f"
            },
            "marker": {
             "line": {
              "color": "#E5ECF6",
              "width": 0.5
             },
             "pattern": {
              "fillmode": "overlay",
              "size": 10,
              "solidity": 0.2
             }
            },
            "type": "bar"
           }
          ],
          "barpolar": [
           {
            "marker": {
             "line": {
              "color": "#E5ECF6",
              "width": 0.5
             },
             "pattern": {
              "fillmode": "overlay",
              "size": 10,
              "solidity": 0.2
             }
            },
            "type": "barpolar"
           }
          ],
          "carpet": [
           {
            "aaxis": {
             "endlinecolor": "#2a3f5f",
             "gridcolor": "white",
             "linecolor": "white",
             "minorgridcolor": "white",
             "startlinecolor": "#2a3f5f"
            },
            "baxis": {
             "endlinecolor": "#2a3f5f",
             "gridcolor": "white",
             "linecolor": "white",
             "minorgridcolor": "white",
             "startlinecolor": "#2a3f5f"
            },
            "type": "carpet"
           }
          ],
          "choropleth": [
           {
            "colorbar": {
             "outlinewidth": 0,
             "ticks": ""
            },
            "type": "choropleth"
           }
          ],
          "contour": [
           {
            "colorbar": {
             "outlinewidth": 0,
             "ticks": ""
            },
            "colorscale": [
             [
              0,
              "#0d0887"
             ],
             [
              0.1111111111111111,
              "#46039f"
             ],
             [
              0.2222222222222222,
              "#7201a8"
             ],
             [
              0.3333333333333333,
              "#9c179e"
             ],
             [
              0.4444444444444444,
              "#bd3786"
             ],
             [
              0.5555555555555556,
              "#d8576b"
             ],
             [
              0.6666666666666666,
              "#ed7953"
             ],
             [
              0.7777777777777778,
              "#fb9f3a"
             ],
             [
              0.8888888888888888,
              "#fdca26"
             ],
             [
              1,
              "#f0f921"
             ]
            ],
            "type": "contour"
           }
          ],
          "contourcarpet": [
           {
            "colorbar": {
             "outlinewidth": 0,
             "ticks": ""
            },
            "type": "contourcarpet"
           }
          ],
          "heatmap": [
           {
            "colorbar": {
             "outlinewidth": 0,
             "ticks": ""
            },
            "colorscale": [
             [
              0,
              "#0d0887"
             ],
             [
              0.1111111111111111,
              "#46039f"
             ],
             [
              0.2222222222222222,
              "#7201a8"
             ],
             [
              0.3333333333333333,
              "#9c179e"
             ],
             [
              0.4444444444444444,
              "#bd3786"
             ],
             [
              0.5555555555555556,
              "#d8576b"
             ],
             [
              0.6666666666666666,
              "#ed7953"
             ],
             [
              0.7777777777777778,
              "#fb9f3a"
             ],
             [
              0.8888888888888888,
              "#fdca26"
             ],
             [
              1,
              "#f0f921"
             ]
            ],
            "type": "heatmap"
           }
          ],
          "histogram": [
           {
            "marker": {
             "pattern": {
              "fillmode": "overlay",
              "size": 10,
              "solidity": 0.2
             }
            },
            "type": "histogram"
           }
          ],
          "histogram2d": [
           {
            "colorbar": {
             "outlinewidth": 0,
             "ticks": ""
            },
            "colorscale": [
             [
              0,
              "#0d0887"
             ],
             [
              0.1111111111111111,
              "#46039f"
             ],
             [
              0.2222222222222222,
              "#7201a8"
             ],
             [
              0.3333333333333333,
              "#9c179e"
             ],
             [
              0.4444444444444444,
              "#bd3786"
             ],
             [
              0.5555555555555556,
              "#d8576b"
             ],
             [
              0.6666666666666666,
              "#ed7953"
             ],
             [
              0.7777777777777778,
              "#fb9f3a"
             ],
             [
              0.8888888888888888,
              "#fdca26"
             ],
             [
              1,
              "#f0f921"
             ]
            ],
            "type": "histogram2d"
           }
          ],
          "histogram2dcontour": [
           {
            "colorbar": {
             "outlinewidth": 0,
             "ticks": ""
            },
            "colorscale": [
             [
              0,
              "#0d0887"
             ],
             [
              0.1111111111111111,
              "#46039f"
             ],
             [
              0.2222222222222222,
              "#7201a8"
             ],
             [
              0.3333333333333333,
              "#9c179e"
             ],
             [
              0.4444444444444444,
              "#bd3786"
             ],
             [
              0.5555555555555556,
              "#d8576b"
             ],
             [
              0.6666666666666666,
              "#ed7953"
             ],
             [
              0.7777777777777778,
              "#fb9f3a"
             ],
             [
              0.8888888888888888,
              "#fdca26"
             ],
             [
              1,
              "#f0f921"
             ]
            ],
            "type": "histogram2dcontour"
           }
          ],
          "mesh3d": [
           {
            "colorbar": {
             "outlinewidth": 0,
             "ticks": ""
            },
            "type": "mesh3d"
           }
          ],
          "parcoords": [
           {
            "line": {
             "colorbar": {
              "outlinewidth": 0,
              "ticks": ""
             }
            },
            "type": "parcoords"
           }
          ],
          "pie": [
           {
            "automargin": true,
            "type": "pie"
           }
          ],
          "scatter": [
           {
            "fillpattern": {
             "fillmode": "overlay",
             "size": 10,
             "solidity": 0.2
            },
            "type": "scatter"
           }
          ],
          "scatter3d": [
           {
            "line": {
             "colorbar": {
              "outlinewidth": 0,
              "ticks": ""
             }
            },
            "marker": {
             "colorbar": {
              "outlinewidth": 0,
              "ticks": ""
             }
            },
            "type": "scatter3d"
           }
          ],
          "scattercarpet": [
           {
            "marker": {
             "colorbar": {
              "outlinewidth": 0,
              "ticks": ""
             }
            },
            "type": "scattercarpet"
           }
          ],
          "scattergeo": [
           {
            "marker": {
             "colorbar": {
              "outlinewidth": 0,
              "ticks": ""
             }
            },
            "type": "scattergeo"
           }
          ],
          "scattergl": [
           {
            "marker": {
             "colorbar": {
              "outlinewidth": 0,
              "ticks": ""
             }
            },
            "type": "scattergl"
           }
          ],
          "scattermap": [
           {
            "marker": {
             "colorbar": {
              "outlinewidth": 0,
              "ticks": ""
             }
            },
            "type": "scattermap"
           }
          ],
          "scattermapbox": [
           {
            "marker": {
             "colorbar": {
              "outlinewidth": 0,
              "ticks": ""
             }
            },
            "type": "scattermapbox"
           }
          ],
          "scatterpolar": [
           {
            "marker": {
             "colorbar": {
              "outlinewidth": 0,
              "ticks": ""
             }
            },
            "type": "scatterpolar"
           }
          ],
          "scatterpolargl": [
           {
            "marker": {
             "colorbar": {
              "outlinewidth": 0,
              "ticks": ""
             }
            },
            "type": "scatterpolargl"
           }
          ],
          "scatterternary": [
           {
            "marker": {
             "colorbar": {
              "outlinewidth": 0,
              "ticks": ""
             }
            },
            "type": "scatterternary"
           }
          ],
          "surface": [
           {
            "colorbar": {
             "outlinewidth": 0,
             "ticks": ""
            },
            "colorscale": [
             [
              0,
              "#0d0887"
             ],
             [
              0.1111111111111111,
              "#46039f"
             ],
             [
              0.2222222222222222,
              "#7201a8"
             ],
             [
              0.3333333333333333,
              "#9c179e"
             ],
             [
              0.4444444444444444,
              "#bd3786"
             ],
             [
              0.5555555555555556,
              "#d8576b"
             ],
             [
              0.6666666666666666,
              "#ed7953"
             ],
             [
              0.7777777777777778,
              "#fb9f3a"
             ],
             [
              0.8888888888888888,
              "#fdca26"
             ],
             [
              1,
              "#f0f921"
             ]
            ],
            "type": "surface"
           }
          ],
          "table": [
           {
            "cells": {
             "fill": {
              "color": "#EBF0F8"
             },
             "line": {
              "color": "white"
             }
            },
            "header": {
             "fill": {
              "color": "#C8D4E3"
             },
             "line": {
              "color": "white"
             }
            },
            "type": "table"
           }
          ]
         },
         "layout": {
          "annotationdefaults": {
           "arrowcolor": "#2a3f5f",
           "arrowhead": 0,
           "arrowwidth": 1
          },
          "autotypenumbers": "strict",
          "coloraxis": {
           "colorbar": {
            "outlinewidth": 0,
            "ticks": ""
           }
          },
          "colorscale": {
           "diverging": [
            [
             0,
             "#8e0152"
            ],
            [
             0.1,
             "#c51b7d"
            ],
            [
             0.2,
             "#de77ae"
            ],
            [
             0.3,
             "#f1b6da"
            ],
            [
             0.4,
             "#fde0ef"
            ],
            [
             0.5,
             "#f7f7f7"
            ],
            [
             0.6,
             "#e6f5d0"
            ],
            [
             0.7,
             "#b8e186"
            ],
            [
             0.8,
             "#7fbc41"
            ],
            [
             0.9,
             "#4d9221"
            ],
            [
             1,
             "#276419"
            ]
           ],
           "sequential": [
            [
             0,
             "#0d0887"
            ],
            [
             0.1111111111111111,
             "#46039f"
            ],
            [
             0.2222222222222222,
             "#7201a8"
            ],
            [
             0.3333333333333333,
             "#9c179e"
            ],
            [
             0.4444444444444444,
             "#bd3786"
            ],
            [
             0.5555555555555556,
             "#d8576b"
            ],
            [
             0.6666666666666666,
             "#ed7953"
            ],
            [
             0.7777777777777778,
             "#fb9f3a"
            ],
            [
             0.8888888888888888,
             "#fdca26"
            ],
            [
             1,
             "#f0f921"
            ]
           ],
           "sequentialminus": [
            [
             0,
             "#0d0887"
            ],
            [
             0.1111111111111111,
             "#46039f"
            ],
            [
             0.2222222222222222,
             "#7201a8"
            ],
            [
             0.3333333333333333,
             "#9c179e"
            ],
            [
             0.4444444444444444,
             "#bd3786"
            ],
            [
             0.5555555555555556,
             "#d8576b"
            ],
            [
             0.6666666666666666,
             "#ed7953"
            ],
            [
             0.7777777777777778,
             "#fb9f3a"
            ],
            [
             0.8888888888888888,
             "#fdca26"
            ],
            [
             1,
             "#f0f921"
            ]
           ]
          },
          "colorway": [
           "#636efa",
           "#EF553B",
           "#00cc96",
           "#ab63fa",
           "#FFA15A",
           "#19d3f3",
           "#FF6692",
           "#B6E880",
           "#FF97FF",
           "#FECB52"
          ],
          "font": {
           "color": "#2a3f5f"
          },
          "geo": {
           "bgcolor": "white",
           "lakecolor": "white",
           "landcolor": "#E5ECF6",
           "showlakes": true,
           "showland": true,
           "subunitcolor": "white"
          },
          "hoverlabel": {
           "align": "left"
          },
          "hovermode": "closest",
          "mapbox": {
           "style": "light"
          },
          "paper_bgcolor": "white",
          "plot_bgcolor": "#E5ECF6",
          "polar": {
           "angularaxis": {
            "gridcolor": "white",
            "linecolor": "white",
            "ticks": ""
           },
           "bgcolor": "#E5ECF6",
           "radialaxis": {
            "gridcolor": "white",
            "linecolor": "white",
            "ticks": ""
           }
          },
          "scene": {
           "xaxis": {
            "backgroundcolor": "#E5ECF6",
            "gridcolor": "white",
            "gridwidth": 2,
            "linecolor": "white",
            "showbackground": true,
            "ticks": "",
            "zerolinecolor": "white"
           },
           "yaxis": {
            "backgroundcolor": "#E5ECF6",
            "gridcolor": "white",
            "gridwidth": 2,
            "linecolor": "white",
            "showbackground": true,
            "ticks": "",
            "zerolinecolor": "white"
           },
           "zaxis": {
            "backgroundcolor": "#E5ECF6",
            "gridcolor": "white",
            "gridwidth": 2,
            "linecolor": "white",
            "showbackground": true,
            "ticks": "",
            "zerolinecolor": "white"
           }
          },
          "shapedefaults": {
           "line": {
            "color": "#2a3f5f"
           }
          },
          "ternary": {
           "aaxis": {
            "gridcolor": "white",
            "linecolor": "white",
            "ticks": ""
           },
           "baxis": {
            "gridcolor": "white",
            "linecolor": "white",
            "ticks": ""
           },
           "bgcolor": "#E5ECF6",
           "caxis": {
            "gridcolor": "white",
            "linecolor": "white",
            "ticks": ""
           }
          },
          "title": {
           "x": 0.05
          },
          "xaxis": {
           "automargin": true,
           "gridcolor": "white",
           "linecolor": "white",
           "ticks": "",
           "title": {
            "standoff": 15
           },
           "zerolinecolor": "white",
           "zerolinewidth": 2
          },
          "yaxis": {
           "automargin": true,
           "gridcolor": "white",
           "linecolor": "white",
           "ticks": "",
           "title": {
            "standoff": 15
           },
           "zerolinecolor": "white",
           "zerolinewidth": 2
          }
         }
        },
        "title": {
         "font": {
          "size": 18
         },
         "text": "Outlook Distribution Across Bonds"
        },
        "width": 900,
        "xaxis": {
         "anchor": "y",
         "autorange": true,
         "domain": [
          0,
          1
         ],
         "range": [
          0,
          7871.578947368421
         ],
         "title": {
          "text": "Number of Bonds"
         },
         "type": "linear"
        },
        "yaxis": {
         "anchor": "x",
         "autorange": true,
         "categoryarray": [
          "Stable",
          "Deteriorating",
          "Provisional",
          "Unspecified",
          "Improving"
         ],
         "categoryorder": "array",
         "domain": [
          0,
          1
         ],
         "range": [
          -0.5,
          4.5
         ],
         "title": {
          "text": "Credit Outlook"
         },
         "type": "category"
        }
       }
      },
      "image/png": "[encoded data removed]"
     },
     "metadata": {},
     "output_type": "display_data"
    }
   ],
   "source": [
    "import plotly.express as px\n",
    "\n",
    "def analyze_outlook_distribution(portfolio_data):\n",
    "    \"\"\"\n",
    "    Analyzes and plots the distribution of credit outlooks across all bonds (rows).\n",
    "    \n",
    "    Args:\n",
    "        portfolio_data (pd.DataFrame): Must contain 'Outlook' column.\n",
    "    \"\"\"\n",
    "    # Clean up outlook column\n",
    "    portfolio_data['Outlook'] = (\n",
    "        portfolio_data['Outlook']\n",
    "        .fillna('Unspecified')\n",
    "        .astype(str)\n",
    "        .str.strip()\n",
    "        .str.title()\n",
    "    )\n",
    "\n",
    "    # Count each outlook\n",
    "    outlook_counts = (\n",
    "        portfolio_data['Outlook']\n",
    "        .value_counts()\n",
    "        .reset_index()\n",
    "        .rename(columns={'index': 'Outlook', 'Outlook': 'Bond_Count'})\n",
    "    )\n",
    "\n",
    "    # Calculate percentages\n",
    "    total_bonds = outlook_counts['count'].sum()\n",
    "    outlook_counts['Percentage'] = (100 * outlook_counts['count'] / total_bonds).round(1)\n",
    "\n",
    "    # Plot\n",
    "    fig = px.bar(\n",
    "        outlook_counts.sort_values('count', ascending=True),\n",
    "        x='count',\n",
    "        y='Bond_Count',\n",
    "        orientation='h',\n",
    "        text=outlook_counts['Percentage'].apply(lambda x: f\"{x}%\"),\n",
    "        color='Bond_Count',\n",
    "        color_discrete_sequence=px.colors.qualitative.Set2,\n",
    "        title='Outlook Distribution Across Bonds'\n",
    "    )\n",
    "\n",
    "    fig.update_traces(textposition='outside', textfont_size=12)\n",
    "    fig.update_layout(\n",
    "        width=900,\n",
    "        height=450,\n",
    "        xaxis_title='Number of Bonds',\n",
    "        yaxis_title='Credit Outlook',\n",
    "        showlegend=True,\n",
    "        font=dict(family='Segoe UI', size=12),\n",
    "        title_font_size=18,\n",
    "        plot_bgcolor='white'\n",
    "    )\n",
    "\n",
    "    fig.show()\n",
    "analyze_outlook_distribution(portfolio_data)"
   ]
  },
  {
   "cell_type": "code",
   "execution_count": 35,
   "metadata": {},
   "outputs": [
    {
     "data": {
      "text/plain": [
       "Index(['cusip', 'Obligor', 'Obligor Name', 'maturity', 'coupon', 'Sec_Group',\n",
       "       'Sec_Type', 'book_yield', 'unrealized_gl', 'Par', 'Rating', 'Outlook',\n",
       "       'Sector_Level_1', 'Sector', 'County Code', 'County', 'State', 'CBSA',\n",
       "       'CBSA_title', 'Latitude', 'ZIP', 'Longitude'],\n",
       "      dtype='object')"
      ]
     },
     "execution_count": 35,
     "metadata": {},
     "output_type": "execute_result"
    }
   ],
   "source": [
    "merged.columns"
   ]
  },
  {
   "cell_type": "markdown",
   "metadata": {},
   "source": [
    "### Question 5"
   ]
  },
  {
   "cell_type": "code",
   "execution_count": 116,
   "metadata": {},
   "outputs": [
    {
     "data": {
      "text/html": [
       "<div>\n",
       "<style scoped>\n",
       "    .dataframe tbody tr th:only-of-type {\n",
       "        vertical-align: middle;\n",
       "    }\n",
       "\n",
       "    .dataframe tbody tr th {\n",
       "        vertical-align: top;\n",
       "    }\n",
       "\n",
       "    .dataframe thead th {\n",
       "        text-align: right;\n",
       "    }\n",
       "</style>\n",
       "<table border=\"1\" class=\"dataframe\">\n",
       "  <thead>\n",
       "    <tr style=\"text-align: right;\">\n",
       "      <th></th>\n",
       "      <th>cusip</th>\n",
       "      <th>Obligor</th>\n",
       "      <th>Obligor Name</th>\n",
       "      <th>maturity</th>\n",
       "      <th>coupon</th>\n",
       "      <th>Sec_Group</th>\n",
       "      <th>Sec_Type</th>\n",
       "      <th>book_yield</th>\n",
       "      <th>unrealized_gl</th>\n",
       "      <th>Par</th>\n",
       "      <th>Rating</th>\n",
       "      <th>Outlook</th>\n",
       "      <th>Sector_Level_1</th>\n",
       "      <th>Sector</th>\n",
       "      <th>Sector_Full</th>\n",
       "    </tr>\n",
       "  </thead>\n",
       "  <tbody>\n",
       "    <tr>\n",
       "      <th>2</th>\n",
       "      <td>64984EDG7</td>\n",
       "      <td>209111</td>\n",
       "      <td>CONSOLIDATED EDISON COMPANY OF NEW YORK INC</td>\n",
       "      <td>2039-05-01</td>\n",
       "      <td>-99.00</td>\n",
       "      <td>CASH</td>\n",
       "      <td>MVRDN</td>\n",
       "      <td>4.550000</td>\n",
       "      <td>99999.90000</td>\n",
       "      <td>100000.0</td>\n",
       "      <td>BBB1</td>\n",
       "      <td>Stable</td>\n",
       "      <td>CORP</td>\n",
       "      <td>ELEC</td>\n",
       "      <td>IDB</td>\n",
       "    </tr>\n",
       "    <tr>\n",
       "      <th>7</th>\n",
       "      <td>424898FH2</td>\n",
       "      <td>424888</td>\n",
       "      <td>HENDERSON CNTY N C CTFS PARTN</td>\n",
       "      <td>2027-06-01</td>\n",
       "      <td>4.00</td>\n",
       "      <td>BND</td>\n",
       "      <td>MUNI</td>\n",
       "      <td>0.000000</td>\n",
       "      <td>20859.99580</td>\n",
       "      <td>20000.0</td>\n",
       "      <td>AA3</td>\n",
       "      <td>Stable</td>\n",
       "      <td>TAX</td>\n",
       "      <td>TAXLOCAL</td>\n",
       "      <td>Local Government</td>\n",
       "    </tr>\n",
       "    <tr>\n",
       "      <th>8</th>\n",
       "      <td>42806KAB9</td>\n",
       "      <td>42806C</td>\n",
       "      <td>HESPERIA CA CMNTY REDEV AGY</td>\n",
       "      <td>2027-09-01</td>\n",
       "      <td>5.00</td>\n",
       "      <td>BND</td>\n",
       "      <td>MUNI</td>\n",
       "      <td>2.461000</td>\n",
       "      <td>107533.14900</td>\n",
       "      <td>100000.0</td>\n",
       "      <td>A1</td>\n",
       "      <td>Unspecified</td>\n",
       "      <td>TAX</td>\n",
       "      <td>DEVDIST</td>\n",
       "      <td>Development District</td>\n",
       "    </tr>\n",
       "    <tr>\n",
       "      <th>9</th>\n",
       "      <td>42806KAC7</td>\n",
       "      <td>42806C</td>\n",
       "      <td>HESPERIA CA CMNTY REDEV AGY</td>\n",
       "      <td>2028-09-01</td>\n",
       "      <td>5.00</td>\n",
       "      <td>BND</td>\n",
       "      <td>MUNI</td>\n",
       "      <td>2.540000</td>\n",
       "      <td>21993.99400</td>\n",
       "      <td>20000.0</td>\n",
       "      <td>A1</td>\n",
       "      <td>Unspecified</td>\n",
       "      <td>TAX</td>\n",
       "      <td>DEVDIST</td>\n",
       "      <td>Development District</td>\n",
       "    </tr>\n",
       "    <tr>\n",
       "      <th>10</th>\n",
       "      <td>543103EB7</td>\n",
       "      <td>543103</td>\n",
       "      <td>LONGMONT COLO SALES &amp; USE TAX REVS</td>\n",
       "      <td>2028-11-15</td>\n",
       "      <td>5.00</td>\n",
       "      <td>BND</td>\n",
       "      <td>MUNI</td>\n",
       "      <td>0.000000</td>\n",
       "      <td>55808.56650</td>\n",
       "      <td>50000.0</td>\n",
       "      <td>AA1</td>\n",
       "      <td>Stable</td>\n",
       "      <td>TAX</td>\n",
       "      <td>TAXLOCAL</td>\n",
       "      <td>Local Government</td>\n",
       "    </tr>\n",
       "    <tr>\n",
       "      <th>...</th>\n",
       "      <td>...</td>\n",
       "      <td>...</td>\n",
       "      <td>...</td>\n",
       "      <td>...</td>\n",
       "      <td>...</td>\n",
       "      <td>...</td>\n",
       "      <td>...</td>\n",
       "      <td>...</td>\n",
       "      <td>...</td>\n",
       "      <td>...</td>\n",
       "      <td>...</td>\n",
       "      <td>...</td>\n",
       "      <td>...</td>\n",
       "      <td>...</td>\n",
       "      <td>...</td>\n",
       "    </tr>\n",
       "    <tr>\n",
       "      <th>8097</th>\n",
       "      <td>819892AL4</td>\n",
       "      <td>R96714</td>\n",
       "      <td>SHARP HEALTHCARE</td>\n",
       "      <td>2050-08-01</td>\n",
       "      <td>2.68</td>\n",
       "      <td>BND</td>\n",
       "      <td>CORP</td>\n",
       "      <td>65.565002</td>\n",
       "      <td>-300980.65268</td>\n",
       "      <td>1071000.0</td>\n",
       "      <td>AA3</td>\n",
       "      <td>Stable</td>\n",
       "      <td>HEALTH</td>\n",
       "      <td>HOSP</td>\n",
       "      <td>Hospital</td>\n",
       "    </tr>\n",
       "    <tr>\n",
       "      <th>8098</th>\n",
       "      <td>13057EHB3</td>\n",
       "      <td>R96714</td>\n",
       "      <td>SHARP HEALTHCARE</td>\n",
       "      <td>2029-08-01</td>\n",
       "      <td>5.00</td>\n",
       "      <td>BND</td>\n",
       "      <td>MUNI</td>\n",
       "      <td>2.400000</td>\n",
       "      <td>56841.72400</td>\n",
       "      <td>50000.0</td>\n",
       "      <td>AA3</td>\n",
       "      <td>Stable</td>\n",
       "      <td>HEALTH</td>\n",
       "      <td>HOSP</td>\n",
       "      <td>Hospital</td>\n",
       "    </tr>\n",
       "    <tr>\n",
       "      <th>8100</th>\n",
       "      <td>57584YLJ6</td>\n",
       "      <td>R97932</td>\n",
       "      <td>BRANDEIS UNIVERSITY</td>\n",
       "      <td>2039-10-01</td>\n",
       "      <td>5.00</td>\n",
       "      <td>BND</td>\n",
       "      <td>MUNI</td>\n",
       "      <td>0.000000</td>\n",
       "      <td>21646.72540</td>\n",
       "      <td>20000.0</td>\n",
       "      <td>A1</td>\n",
       "      <td>Stable</td>\n",
       "      <td>EDUC</td>\n",
       "      <td>UNIVPRIV</td>\n",
       "      <td>Private University</td>\n",
       "    </tr>\n",
       "    <tr>\n",
       "      <th>8101</th>\n",
       "      <td>57584YLG2</td>\n",
       "      <td>R97932</td>\n",
       "      <td>BRANDEIS UNIVERSITY</td>\n",
       "      <td>2037-10-01</td>\n",
       "      <td>5.00</td>\n",
       "      <td>BND</td>\n",
       "      <td>MUNI</td>\n",
       "      <td>0.000000</td>\n",
       "      <td>10948.00560</td>\n",
       "      <td>10000.0</td>\n",
       "      <td>A1</td>\n",
       "      <td>Stable</td>\n",
       "      <td>EDUC</td>\n",
       "      <td>UNIVPRIV</td>\n",
       "      <td>Private University</td>\n",
       "    </tr>\n",
       "    <tr>\n",
       "      <th>8102</th>\n",
       "      <td>57584YNQ8</td>\n",
       "      <td>R97932</td>\n",
       "      <td>BRANDEIS UNIVERSITY</td>\n",
       "      <td>2027-10-01</td>\n",
       "      <td>5.00</td>\n",
       "      <td>BND</td>\n",
       "      <td>MUNI</td>\n",
       "      <td>2.660000</td>\n",
       "      <td>48880.43955</td>\n",
       "      <td>45000.0</td>\n",
       "      <td>A1</td>\n",
       "      <td>Stable</td>\n",
       "      <td>EDUC</td>\n",
       "      <td>UNIVPRIV</td>\n",
       "      <td>Private University</td>\n",
       "    </tr>\n",
       "  </tbody>\n",
       "</table>\n",
       "<p>8005 rows × 15 columns</p>\n",
       "</div>"
      ],
      "text/plain": [
       "          cusip Obligor                                 Obligor Name  \\\n",
       "2     64984EDG7  209111  CONSOLIDATED EDISON COMPANY OF NEW YORK INC   \n",
       "7     424898FH2  424888                HENDERSON CNTY N C CTFS PARTN   \n",
       "8     42806KAB9  42806C                  HESPERIA CA CMNTY REDEV AGY   \n",
       "9     42806KAC7  42806C                  HESPERIA CA CMNTY REDEV AGY   \n",
       "10    543103EB7  543103           LONGMONT COLO SALES & USE TAX REVS   \n",
       "...         ...     ...                                          ...   \n",
       "8097  819892AL4  R96714                             SHARP HEALTHCARE   \n",
       "8098  13057EHB3  R96714                             SHARP HEALTHCARE   \n",
       "8100  57584YLJ6  R97932                          BRANDEIS UNIVERSITY   \n",
       "8101  57584YLG2  R97932                          BRANDEIS UNIVERSITY   \n",
       "8102  57584YNQ8  R97932                          BRANDEIS UNIVERSITY   \n",
       "\n",
       "       maturity  coupon Sec_Group Sec_Type  book_yield  unrealized_gl  \\\n",
       "2    2039-05-01  -99.00      CASH    MVRDN    4.550000    99999.90000   \n",
       "7    2027-06-01    4.00       BND     MUNI    0.000000    20859.99580   \n",
       "8    2027-09-01    5.00       BND     MUNI    2.461000   107533.14900   \n",
       "9    2028-09-01    5.00       BND     MUNI    2.540000    21993.99400   \n",
       "10   2028-11-15    5.00       BND     MUNI    0.000000    55808.56650   \n",
       "...         ...     ...       ...      ...         ...            ...   \n",
       "8097 2050-08-01    2.68       BND     CORP   65.565002  -300980.65268   \n",
       "8098 2029-08-01    5.00       BND     MUNI    2.400000    56841.72400   \n",
       "8100 2039-10-01    5.00       BND     MUNI    0.000000    21646.72540   \n",
       "8101 2037-10-01    5.00       BND     MUNI    0.000000    10948.00560   \n",
       "8102 2027-10-01    5.00       BND     MUNI    2.660000    48880.43955   \n",
       "\n",
       "            Par Rating      Outlook Sector_Level_1    Sector  \\\n",
       "2      100000.0   BBB1       Stable           CORP      ELEC   \n",
       "7       20000.0    AA3       Stable            TAX  TAXLOCAL   \n",
       "8      100000.0     A1  Unspecified            TAX   DEVDIST   \n",
       "9       20000.0     A1  Unspecified            TAX   DEVDIST   \n",
       "10      50000.0    AA1       Stable            TAX  TAXLOCAL   \n",
       "...         ...    ...          ...            ...       ...   \n",
       "8097  1071000.0    AA3       Stable         HEALTH      HOSP   \n",
       "8098    50000.0    AA3       Stable         HEALTH      HOSP   \n",
       "8100    20000.0     A1       Stable           EDUC  UNIVPRIV   \n",
       "8101    10000.0     A1       Stable           EDUC  UNIVPRIV   \n",
       "8102    45000.0     A1       Stable           EDUC  UNIVPRIV   \n",
       "\n",
       "               Sector_Full  \n",
       "2                      IDB  \n",
       "7         Local Government  \n",
       "8     Development District  \n",
       "9     Development District  \n",
       "10        Local Government  \n",
       "...                    ...  \n",
       "8097              Hospital  \n",
       "8098              Hospital  \n",
       "8100    Private University  \n",
       "8101    Private University  \n",
       "8102    Private University  \n",
       "\n",
       "[8005 rows x 15 columns]"
      ]
     },
     "execution_count": 116,
     "metadata": {},
     "output_type": "execute_result"
    }
   ],
   "source": [
    "portfolio_data"
   ]
  },
  {
   "cell_type": "code",
   "execution_count": 118,
   "metadata": {},
   "outputs": [
    {
     "data": {
      "application/vnd.plotly.v1+json": {
       "config": {
        "plotlyServerURL": "https://plot.ly"
       },
       "data": [
        {
         "hovertemplate": "Obligor Name=%{y}<br>Par=%{text}<extra></extra>",
         "legendgroup": "PORT AUTHORITY OF NEW YORK AND NEW JERSEY",
         "marker": {
          "color": "rgb(95, 70, 144)",
          "pattern": {
           "shape": ""
          }
         },
         "name": "PORT AUTHORITY OF NEW YORK AND NEW JERSEY",
         "orientation": "h",
         "showlegend": true,
         "text": {
          "_inputArray": {
           "0": 32065000,
           "bdata": "AAAAgF6UfkE=",
           "dtype": "f8",
           "shape": "1"
          },
          "bdata": "AAAAgF6UfkE=",
          "dtype": "f8"
         },
         "textposition": "outside",
         "texttemplate": "%{text:,.0f}",
         "type": "bar",
         "x": {
          "_inputArray": {
           "0": 32065000,
           "bdata": "AAAAgF6UfkE=",
           "dtype": "f8",
           "shape": "1"
          },
          "bdata": "AAAAgF6UfkE=",
          "dtype": "f8"
         },
         "xaxis": "x",
         "y": [
          "PORT AUTHORITY OF NEW YORK AND NEW JERSEY"
         ],
         "yaxis": "y"
        },
        {
         "hovertemplate": "Obligor Name=%{y}<br>Par=%{text}<extra></extra>",
         "legendgroup": "NEW JERSEY ST TURNPIKE AUTHORITY",
         "marker": {
          "color": "rgb(29, 105, 150)",
          "pattern": {
           "shape": ""
          }
         },
         "name": "NEW JERSEY ST TURNPIKE AUTHORITY",
         "orientation": "h",
         "showlegend": true,
         "text": {
          "_inputArray": {
           "0": 32215000,
           "bdata": "AAAAgP24fkE=",
           "dtype": "f8",
           "shape": "1"
          },
          "bdata": "AAAAgP24fkE=",
          "dtype": "f8"
         },
         "textposition": "outside",
         "texttemplate": "%{text:,.0f}",
         "type": "bar",
         "x": {
          "_inputArray": {
           "0": 32215000,
           "bdata": "AAAAgP24fkE=",
           "dtype": "f8",
           "shape": "1"
          },
          "bdata": "AAAAgP24fkE=",
          "dtype": "f8"
         },
         "xaxis": "x",
         "y": [
          "NEW JERSEY ST TURNPIKE AUTHORITY"
         ],
         "yaxis": "y"
        },
        {
         "hovertemplate": "Obligor Name=%{y}<br>Par=%{text}<extra></extra>",
         "legendgroup": "NEW YORK CITY OF",
         "marker": {
          "color": "rgb(56, 166, 165)",
          "pattern": {
           "shape": ""
          }
         },
         "name": "NEW YORK CITY OF",
         "orientation": "h",
         "showlegend": true,
         "text": {
          "_inputArray": {
           "0": 33727500,
           "bdata": "AAAAYCAVgEE=",
           "dtype": "f8",
           "shape": "1"
          },
          "bdata": "AAAAYCAVgEE=",
          "dtype": "f8"
         },
         "textposition": "outside",
         "texttemplate": "%{text:,.0f}",
         "type": "bar",
         "x": {
          "_inputArray": {
           "0": 33727500,
           "bdata": "AAAAYCAVgEE=",
           "dtype": "f8",
           "shape": "1"
          },
          "bdata": "AAAAYCAVgEE=",
          "dtype": "f8"
         },
         "xaxis": "x",
         "y": [
          "NEW YORK CITY OF"
         ],
         "yaxis": "y"
        },
        {
         "hovertemplate": "Obligor Name=%{y}<br>Par=%{text}<extra></extra>",
         "legendgroup": "WASHINGTON (STATE OF)",
         "marker": {
          "color": "rgb(15, 133, 84)",
          "pattern": {
           "shape": ""
          }
         },
         "name": "WASHINGTON (STATE OF)",
         "orientation": "h",
         "showlegend": true,
         "text": {
          "_inputArray": {
           "0": 33760000,
           "bdata": "AAAAABgZgEE=",
           "dtype": "f8",
           "shape": "1"
          },
          "bdata": "AAAAABgZgEE=",
          "dtype": "f8"
         },
         "textposition": "outside",
         "texttemplate": "%{text:,.0f}",
         "type": "bar",
         "x": {
          "_inputArray": {
           "0": 33760000,
           "bdata": "AAAAABgZgEE=",
           "dtype": "f8",
           "shape": "1"
          },
          "bdata": "AAAAABgZgEE=",
          "dtype": "f8"
         },
         "xaxis": "x",
         "y": [
          "WASHINGTON (STATE OF)"
         ],
         "yaxis": "y"
        },
        {
         "hovertemplate": "Obligor Name=%{y}<br>Par=%{text}<extra></extra>",
         "legendgroup": "PENNSYLVANIA ST TURNPIKE COMMISSION",
         "marker": {
          "color": "rgb(115, 175, 72)",
          "pattern": {
           "shape": ""
          }
         },
         "name": "PENNSYLVANIA ST TURNPIKE COMMISSION",
         "orientation": "h",
         "showlegend": true,
         "text": {
          "_inputArray": {
           "0": 34470000,
           "bdata": "AAAAgMNvgEE=",
           "dtype": "f8",
           "shape": "1"
          },
          "bdata": "AAAAgMNvgEE=",
          "dtype": "f8"
         },
         "textposition": "outside",
         "texttemplate": "%{text:,.0f}",
         "type": "bar",
         "x": {
          "_inputArray": {
           "0": 34470000,
           "bdata": "AAAAgMNvgEE=",
           "dtype": "f8",
           "shape": "1"
          },
          "bdata": "AAAAgMNvgEE=",
          "dtype": "f8"
         },
         "xaxis": "x",
         "y": [
          "PENNSYLVANIA ST TURNPIKE COMMISSION"
         ],
         "yaxis": "y"
        },
        {
         "hovertemplate": "Obligor Name=%{y}<br>Par=%{text}<extra></extra>",
         "legendgroup": "UNIVERSITY OF CHICAGO",
         "marker": {
          "color": "rgb(237, 173, 8)",
          "pattern": {
           "shape": ""
          }
         },
         "name": "UNIVERSITY OF CHICAGO",
         "orientation": "h",
         "showlegend": true,
         "text": {
          "_inputArray": {
           "0": 36347000,
           "bdata": "AAAAwONUgUE=",
           "dtype": "f8",
           "shape": "1"
          },
          "bdata": "AAAAwONUgUE=",
          "dtype": "f8"
         },
         "textposition": "outside",
         "texttemplate": "%{text:,.0f}",
         "type": "bar",
         "x": {
          "_inputArray": {
           "0": 36347000,
           "bdata": "AAAAwONUgUE=",
           "dtype": "f8",
           "shape": "1"
          },
          "bdata": "AAAAwONUgUE=",
          "dtype": "f8"
         },
         "xaxis": "x",
         "y": [
          "UNIVERSITY OF CHICAGO"
         ],
         "yaxis": "y"
        },
        {
         "hovertemplate": "Obligor Name=%{y}<br>Par=%{text}<extra></extra>",
         "legendgroup": "CONNECTICUT (STATE OF)",
         "marker": {
          "color": "rgb(225, 124, 5)",
          "pattern": {
           "shape": ""
          }
         },
         "name": "CONNECTICUT (STATE OF)",
         "orientation": "h",
         "showlegend": true,
         "text": {
          "_inputArray": {
           "0": 57556000,
           "bdata": "AAAAAOFxi0E=",
           "dtype": "f8",
           "shape": "1"
          },
          "bdata": "AAAAAOFxi0E=",
          "dtype": "f8"
         },
         "textposition": "outside",
         "texttemplate": "%{text:,.0f}",
         "type": "bar",
         "x": {
          "_inputArray": {
           "0": 57556000,
           "bdata": "AAAAAOFxi0E=",
           "dtype": "f8",
           "shape": "1"
          },
          "bdata": "AAAAAOFxi0E=",
          "dtype": "f8"
         },
         "xaxis": "x",
         "y": [
          "CONNECTICUT (STATE OF)"
         ],
         "yaxis": "y"
        },
        {
         "hovertemplate": "Obligor Name=%{y}<br>Par=%{text}<extra></extra>",
         "legendgroup": "NEW YORK CITY TRANSITIONAL FIN AUTH",
         "marker": {
          "color": "rgb(204, 80, 62)",
          "pattern": {
           "shape": ""
          }
         },
         "name": "NEW YORK CITY TRANSITIONAL FIN AUTH",
         "orientation": "h",
         "showlegend": true,
         "text": {
          "_inputArray": {
           "0": 58120000,
           "bdata": "AAAAALq2i0E=",
           "dtype": "f8",
           "shape": "1"
          },
          "bdata": "AAAAALq2i0E=",
          "dtype": "f8"
         },
         "textposition": "outside",
         "texttemplate": "%{text:,.0f}",
         "type": "bar",
         "x": {
          "_inputArray": {
           "0": 58120000,
           "bdata": "AAAAALq2i0E=",
           "dtype": "f8",
           "shape": "1"
          },
          "bdata": "AAAAALq2i0E=",
          "dtype": "f8"
         },
         "xaxis": "x",
         "y": [
          "NEW YORK CITY TRANSITIONAL FIN AUTH"
         ],
         "yaxis": "y"
        },
        {
         "hovertemplate": "Obligor Name=%{y}<br>Par=%{text}<extra></extra>",
         "legendgroup": "CALIFORNIA (STATE OF)",
         "marker": {
          "color": "rgb(148, 52, 110)",
          "pattern": {
           "shape": ""
          }
         },
         "name": "CALIFORNIA (STATE OF)",
         "orientation": "h",
         "showlegend": true,
         "text": {
          "_inputArray": {
           "0": 89862500,
           "bdata": "AAAAkMVslUE=",
           "dtype": "f8",
           "shape": "1"
          },
          "bdata": "AAAAkMVslUE=",
          "dtype": "f8"
         },
         "textposition": "outside",
         "texttemplate": "%{text:,.0f}",
         "type": "bar",
         "x": {
          "_inputArray": {
           "0": 89862500,
           "bdata": "AAAAkMVslUE=",
           "dtype": "f8",
           "shape": "1"
          },
          "bdata": "AAAAkMVslUE=",
          "dtype": "f8"
         },
         "xaxis": "x",
         "y": [
          "CALIFORNIA (STATE OF)"
         ],
         "yaxis": "y"
        },
        {
         "hovertemplate": "Obligor Name=%{y}<br>Par=%{text}<extra></extra>",
         "legendgroup": "NEW YORK STATE PERSONAL INCOME TAX BONDS",
         "marker": {
          "color": "rgb(111, 64, 112)",
          "pattern": {
           "shape": ""
          }
         },
         "name": "NEW YORK STATE PERSONAL INCOME TAX BONDS",
         "orientation": "h",
         "showlegend": true,
         "text": {
          "_inputArray": {
           "0": 128600000,
           "bdata": "AAAAAB+pnkE=",
           "dtype": "f8",
           "shape": "1"
          },
          "bdata": "AAAAAB+pnkE=",
          "dtype": "f8"
         },
         "textposition": "outside",
         "texttemplate": "%{text:,.0f}",
         "type": "bar",
         "x": {
          "_inputArray": {
           "0": 128600000,
           "bdata": "AAAAAB+pnkE=",
           "dtype": "f8",
           "shape": "1"
          },
          "bdata": "AAAAAB+pnkE=",
          "dtype": "f8"
         },
         "xaxis": "x",
         "y": [
          "NEW YORK STATE PERSONAL INCOME TAX BONDS"
         ],
         "yaxis": "y"
        }
       ],
       "layout": {
        "barmode": "relative",
        "font": {
         "size": 12
        },
        "height": 500,
        "legend": {
         "title": {
          "text": "Obligor Name"
         },
         "tracegroupgap": 0
        },
        "plot_bgcolor": "white",
        "showlegend": false,
        "template": {
         "data": {
          "bar": [
           {
            "error_x": {
             "color": "#2a3f5f"
            },
            "error_y": {
             "color": "#2a3f5f"
            },
            "marker": {
             "line": {
              "color": "#E5ECF6",
              "width": 0.5
             },
             "pattern": {
              "fillmode": "overlay",
              "size": 10,
              "solidity": 0.2
             }
            },
            "type": "bar"
           }
          ],
          "barpolar": [
           {
            "marker": {
             "line": {
              "color": "#E5ECF6",
              "width": 0.5
             },
             "pattern": {
              "fillmode": "overlay",
              "size": 10,
              "solidity": 0.2
             }
            },
            "type": "barpolar"
           }
          ],
          "carpet": [
           {
            "aaxis": {
             "endlinecolor": "#2a3f5f",
             "gridcolor": "white",
             "linecolor": "white",
             "minorgridcolor": "white",
             "startlinecolor": "#2a3f5f"
            },
            "baxis": {
             "endlinecolor": "#2a3f5f",
             "gridcolor": "white",
             "linecolor": "white",
             "minorgridcolor": "white",
             "startlinecolor": "#2a3f5f"
            },
            "type": "carpet"
           }
          ],
          "choropleth": [
           {
            "colorbar": {
             "outlinewidth": 0,
             "ticks": ""
            },
            "type": "choropleth"
           }
          ],
          "contour": [
           {
            "colorbar": {
             "outlinewidth": 0,
             "ticks": ""
            },
            "colorscale": [
             [
              0,
              "#0d0887"
             ],
             [
              0.1111111111111111,
              "#46039f"
             ],
             [
              0.2222222222222222,
              "#7201a8"
             ],
             [
              0.3333333333333333,
              "#9c179e"
             ],
             [
              0.4444444444444444,
              "#bd3786"
             ],
             [
              0.5555555555555556,
              "#d8576b"
             ],
             [
              0.6666666666666666,
              "#ed7953"
             ],
             [
              0.7777777777777778,
              "#fb9f3a"
             ],
             [
              0.8888888888888888,
              "#fdca26"
             ],
             [
              1,
              "#f0f921"
             ]
            ],
            "type": "contour"
           }
          ],
          "contourcarpet": [
           {
            "colorbar": {
             "outlinewidth": 0,
             "ticks": ""
            },
            "type": "contourcarpet"
           }
          ],
          "heatmap": [
           {
            "colorbar": {
             "outlinewidth": 0,
             "ticks": ""
            },
            "colorscale": [
             [
              0,
              "#0d0887"
             ],
             [
              0.1111111111111111,
              "#46039f"
             ],
             [
              0.2222222222222222,
              "#7201a8"
             ],
             [
              0.3333333333333333,
              "#9c179e"
             ],
             [
              0.4444444444444444,
              "#bd3786"
             ],
             [
              0.5555555555555556,
              "#d8576b"
             ],
             [
              0.6666666666666666,
              "#ed7953"
             ],
             [
              0.7777777777777778,
              "#fb9f3a"
             ],
             [
              0.8888888888888888,
              "#fdca26"
             ],
             [
              1,
              "#f0f921"
             ]
            ],
            "type": "heatmap"
           }
          ],
          "histogram": [
           {
            "marker": {
             "pattern": {
              "fillmode": "overlay",
              "size": 10,
              "solidity": 0.2
             }
            },
            "type": "histogram"
           }
          ],
          "histogram2d": [
           {
            "colorbar": {
             "outlinewidth": 0,
             "ticks": ""
            },
            "colorscale": [
             [
              0,
              "#0d0887"
             ],
             [
              0.1111111111111111,
              "#46039f"
             ],
             [
              0.2222222222222222,
              "#7201a8"
             ],
             [
              0.3333333333333333,
              "#9c179e"
             ],
             [
              0.4444444444444444,
              "#bd3786"
             ],
             [
              0.5555555555555556,
              "#d8576b"
             ],
             [
              0.6666666666666666,
              "#ed7953"
             ],
             [
              0.7777777777777778,
              "#fb9f3a"
             ],
             [
              0.8888888888888888,
              "#fdca26"
             ],
             [
              1,
              "#f0f921"
             ]
            ],
            "type": "histogram2d"
           }
          ],
          "histogram2dcontour": [
           {
            "colorbar": {
             "outlinewidth": 0,
             "ticks": ""
            },
            "colorscale": [
             [
              0,
              "#0d0887"
             ],
             [
              0.1111111111111111,
              "#46039f"
             ],
             [
              0.2222222222222222,
              "#7201a8"
             ],
             [
              0.3333333333333333,
              "#9c179e"
             ],
             [
              0.4444444444444444,
              "#bd3786"
             ],
             [
              0.5555555555555556,
              "#d8576b"
             ],
             [
              0.6666666666666666,
              "#ed7953"
             ],
             [
              0.7777777777777778,
              "#fb9f3a"
             ],
             [
              0.8888888888888888,
              "#fdca26"
             ],
             [
              1,
              "#f0f921"
             ]
            ],
            "type": "histogram2dcontour"
           }
          ],
          "mesh3d": [
           {
            "colorbar": {
             "outlinewidth": 0,
             "ticks": ""
            },
            "type": "mesh3d"
           }
          ],
          "parcoords": [
           {
            "line": {
             "colorbar": {
              "outlinewidth": 0,
              "ticks": ""
             }
            },
            "type": "parcoords"
           }
          ],
          "pie": [
           {
            "automargin": true,
            "type": "pie"
           }
          ],
          "scatter": [
           {
            "fillpattern": {
             "fillmode": "overlay",
             "size": 10,
             "solidity": 0.2
            },
            "type": "scatter"
           }
          ],
          "scatter3d": [
           {
            "line": {
             "colorbar": {
              "outlinewidth": 0,
              "ticks": ""
             }
            },
            "marker": {
             "colorbar": {
              "outlinewidth": 0,
              "ticks": ""
             }
            },
            "type": "scatter3d"
           }
          ],
          "scattercarpet": [
           {
            "marker": {
             "colorbar": {
              "outlinewidth": 0,
              "ticks": ""
             }
            },
            "type": "scattercarpet"
           }
          ],
          "scattergeo": [
           {
            "marker": {
             "colorbar": {
              "outlinewidth": 0,
              "ticks": ""
             }
            },
            "type": "scattergeo"
           }
          ],
          "scattergl": [
           {
            "marker": {
             "colorbar": {
              "outlinewidth": 0,
              "ticks": ""
             }
            },
            "type": "scattergl"
           }
          ],
          "scattermap": [
           {
            "marker": {
             "colorbar": {
              "outlinewidth": 0,
              "ticks": ""
             }
            },
            "type": "scattermap"
           }
          ],
          "scattermapbox": [
           {
            "marker": {
             "colorbar": {
              "outlinewidth": 0,
              "ticks": ""
             }
            },
            "type": "scattermapbox"
           }
          ],
          "scatterpolar": [
           {
            "marker": {
             "colorbar": {
              "outlinewidth": 0,
              "ticks": ""
             }
            },
            "type": "scatterpolar"
           }
          ],
          "scatterpolargl": [
           {
            "marker": {
             "colorbar": {
              "outlinewidth": 0,
              "ticks": ""
             }
            },
            "type": "scatterpolargl"
           }
          ],
          "scatterternary": [
           {
            "marker": {
             "colorbar": {
              "outlinewidth": 0,
              "ticks": ""
             }
            },
            "type": "scatterternary"
           }
          ],
          "surface": [
           {
            "colorbar": {
             "outlinewidth": 0,
             "ticks": ""
            },
            "colorscale": [
             [
              0,
              "#0d0887"
             ],
             [
              0.1111111111111111,
              "#46039f"
             ],
             [
              0.2222222222222222,
              "#7201a8"
             ],
             [
              0.3333333333333333,
              "#9c179e"
             ],
             [
              0.4444444444444444,
              "#bd3786"
             ],
             [
              0.5555555555555556,
              "#d8576b"
             ],
             [
              0.6666666666666666,
              "#ed7953"
             ],
             [
              0.7777777777777778,
              "#fb9f3a"
             ],
             [
              0.8888888888888888,
              "#fdca26"
             ],
             [
              1,
              "#f0f921"
             ]
            ],
            "type": "surface"
           }
          ],
          "table": [
           {
            "cells": {
             "fill": {
              "color": "#EBF0F8"
             },
             "line": {
              "color": "white"
             }
            },
            "header": {
             "fill": {
              "color": "#C8D4E3"
             },
             "line": {
              "color": "white"
             }
            },
            "type": "table"
           }
          ]
         },
         "layout": {
          "annotationdefaults": {
           "arrowcolor": "#2a3f5f",
           "arrowhead": 0,
           "arrowwidth": 1
          },
          "autotypenumbers": "strict",
          "coloraxis": {
           "colorbar": {
            "outlinewidth": 0,
            "ticks": ""
           }
          },
          "colorscale": {
           "diverging": [
            [
             0,
             "#8e0152"
            ],
            [
             0.1,
             "#c51b7d"
            ],
            [
             0.2,
             "#de77ae"
            ],
            [
             0.3,
             "#f1b6da"
            ],
            [
             0.4,
             "#fde0ef"
            ],
            [
             0.5,
             "#f7f7f7"
            ],
            [
             0.6,
             "#e6f5d0"
            ],
            [
             0.7,
             "#b8e186"
            ],
            [
             0.8,
             "#7fbc41"
            ],
            [
             0.9,
             "#4d9221"
            ],
            [
             1,
             "#276419"
            ]
           ],
           "sequential": [
            [
             0,
             "#0d0887"
            ],
            [
             0.1111111111111111,
             "#46039f"
            ],
            [
             0.2222222222222222,
             "#7201a8"
            ],
            [
             0.3333333333333333,
             "#9c179e"
            ],
            [
             0.4444444444444444,
             "#bd3786"
            ],
            [
             0.5555555555555556,
             "#d8576b"
            ],
            [
             0.6666666666666666,
             "#ed7953"
            ],
            [
             0.7777777777777778,
             "#fb9f3a"
            ],
            [
             0.8888888888888888,
             "#fdca26"
            ],
            [
             1,
             "#f0f921"
            ]
           ],
           "sequentialminus": [
            [
             0,
             "#0d0887"
            ],
            [
             0.1111111111111111,
             "#46039f"
            ],
            [
             0.2222222222222222,
             "#7201a8"
            ],
            [
             0.3333333333333333,
             "#9c179e"
            ],
            [
             0.4444444444444444,
             "#bd3786"
            ],
            [
             0.5555555555555556,
             "#d8576b"
            ],
            [
             0.6666666666666666,
             "#ed7953"
            ],
            [
             0.7777777777777778,
             "#fb9f3a"
            ],
            [
             0.8888888888888888,
             "#fdca26"
            ],
            [
             1,
             "#f0f921"
            ]
           ]
          },
          "colorway": [
           "#636efa",
           "#EF553B",
           "#00cc96",
           "#ab63fa",
           "#FFA15A",
           "#19d3f3",
           "#FF6692",
           "#B6E880",
           "#FF97FF",
           "#FECB52"
          ],
          "font": {
           "color": "#2a3f5f"
          },
          "geo": {
           "bgcolor": "white",
           "lakecolor": "white",
           "landcolor": "#E5ECF6",
           "showlakes": true,
           "showland": true,
           "subunitcolor": "white"
          },
          "hoverlabel": {
           "align": "left"
          },
          "hovermode": "closest",
          "mapbox": {
           "style": "light"
          },
          "paper_bgcolor": "white",
          "plot_bgcolor": "#E5ECF6",
          "polar": {
           "angularaxis": {
            "gridcolor": "white",
            "linecolor": "white",
            "ticks": ""
           },
           "bgcolor": "#E5ECF6",
           "radialaxis": {
            "gridcolor": "white",
            "linecolor": "white",
            "ticks": ""
           }
          },
          "scene": {
           "xaxis": {
            "backgroundcolor": "#E5ECF6",
            "gridcolor": "white",
            "gridwidth": 2,
            "linecolor": "white",
            "showbackground": true,
            "ticks": "",
            "zerolinecolor": "white"
           },
           "yaxis": {
            "backgroundcolor": "#E5ECF6",
            "gridcolor": "white",
            "gridwidth": 2,
            "linecolor": "white",
            "showbackground": true,
            "ticks": "",
            "zerolinecolor": "white"
           },
           "zaxis": {
            "backgroundcolor": "#E5ECF6",
            "gridcolor": "white",
            "gridwidth": 2,
            "linecolor": "white",
            "showbackground": true,
            "ticks": "",
            "zerolinecolor": "white"
           }
          },
          "shapedefaults": {
           "line": {
            "color": "#2a3f5f"
           }
          },
          "ternary": {
           "aaxis": {
            "gridcolor": "white",
            "linecolor": "white",
            "ticks": ""
           },
           "baxis": {
            "gridcolor": "white",
            "linecolor": "white",
            "ticks": ""
           },
           "bgcolor": "#E5ECF6",
           "caxis": {
            "gridcolor": "white",
            "linecolor": "white",
            "ticks": ""
           }
          },
          "title": {
           "x": 0.05
          },
          "xaxis": {
           "automargin": true,
           "gridcolor": "white",
           "linecolor": "white",
           "ticks": "",
           "title": {
            "standoff": 15
           },
           "zerolinecolor": "white",
           "zerolinewidth": 2
          },
          "yaxis": {
           "automargin": true,
           "gridcolor": "white",
           "linecolor": "white",
           "ticks": "",
           "title": {
            "standoff": 15
           },
           "zerolinecolor": "white",
           "zerolinewidth": 2
          }
         }
        },
        "title": {
         "font": {
          "size": 18
         },
         "text": "Top 10 Obligors by Total Par Value Exposure"
        },
        "width": 950,
        "xaxis": {
         "anchor": "y",
         "autorange": true,
         "domain": [
          0,
          1
         ],
         "range": [
          0,
          135368421.0526316
         ],
         "title": {
          "text": "Total Par Value"
         },
         "type": "linear"
        },
        "yaxis": {
         "anchor": "x",
         "autorange": true,
         "categoryarray": [
          "NEW YORK STATE PERSONAL INCOME TAX BONDS",
          "CALIFORNIA (STATE OF)",
          "NEW YORK CITY TRANSITIONAL FIN AUTH",
          "CONNECTICUT (STATE OF)",
          "UNIVERSITY OF CHICAGO",
          "PENNSYLVANIA ST TURNPIKE COMMISSION",
          "WASHINGTON (STATE OF)",
          "NEW YORK CITY OF",
          "NEW JERSEY ST TURNPIKE AUTHORITY",
          "PORT AUTHORITY OF NEW YORK AND NEW JERSEY"
         ],
         "categoryorder": "array",
         "domain": [
          0,
          1
         ],
         "range": [
          -0.5,
          9.5
         ],
         "title": {
          "text": "Obligor Name"
         },
         "type": "category"
        }
       }
      },
      "image/png": "[encoded data removed]"
     },
     "metadata": {},
     "output_type": "display_data"
    }
   ],
   "source": [
    "# Drop rows with missing location or obligor name\n",
    "import plotly.express as px\n",
    "\n",
    "def top_obligors_by_par(portfolio_data, top_n=10):\n",
    "    \"\"\"\n",
    "    Identifies and visualizes the top obligors by total Par value exposure.\n",
    "\n",
    "    Args:\n",
    "        portfolio_data (pd.DataFrame): Must contain 'Obligor' and 'Par' columns.\n",
    "        top_n (int): Number of top obligors to return (default is 10).\n",
    "    \"\"\"\n",
    "    # Aggregate total Par per obligor\n",
    "    obligor_par = (\n",
    "        portfolio_data.groupby('Obligor Name')['Par']\n",
    "        .sum()\n",
    "        .reset_index()\n",
    "        .sort_values(by='Par', ascending=False)\n",
    "        .head(top_n)\n",
    "    )\n",
    "\n",
    "    # Bar chart using Plotly\n",
    "    fig = px.bar(\n",
    "        obligor_par.sort_values('Par'),  # ascending for horizontal bar chart\n",
    "        x='Par',\n",
    "        y='Obligor Name',\n",
    "        orientation='h',\n",
    "        text='Par',\n",
    "        color='Obligor Name',\n",
    "        color_discrete_sequence=px.colors.qualitative.Prism,\n",
    "        title=f'Top {top_n} Obligors by Total Par Value Exposure'\n",
    "    )\n",
    "\n",
    "    fig.update_traces(textposition='outside', texttemplate='%{text:,.0f}')\n",
    "    fig.update_layout(\n",
    "        width=950,\n",
    "        height=500,\n",
    "        xaxis_title='Total Par Value',\n",
    "        yaxis_title='Obligor Name',\n",
    "        showlegend=False,\n",
    "        font=dict(size=12),\n",
    "        title_font_size=18,\n",
    "        plot_bgcolor='white'\n",
    "    )\n",
    "\n",
    "    fig.show()\n",
    "\n",
    "top_obligors_by_par(portfolio_data, 10)"
   ]
  },
  {
   "cell_type": "code",
   "execution_count": 120,
   "metadata": {},
   "outputs": [
    {
     "data": {
      "text/html": [
       "<div>\n",
       "<style scoped>\n",
       "    .dataframe tbody tr th:only-of-type {\n",
       "        vertical-align: middle;\n",
       "    }\n",
       "\n",
       "    .dataframe tbody tr th {\n",
       "        vertical-align: top;\n",
       "    }\n",
       "\n",
       "    .dataframe thead th {\n",
       "        text-align: right;\n",
       "    }\n",
       "</style>\n",
       "<table border=\"1\" class=\"dataframe\">\n",
       "  <thead>\n",
       "    <tr style=\"text-align: right;\">\n",
       "      <th></th>\n",
       "      <th>cusip</th>\n",
       "      <th>Obligor</th>\n",
       "      <th>Obligor Name</th>\n",
       "      <th>maturity</th>\n",
       "      <th>coupon</th>\n",
       "      <th>Sec_Group</th>\n",
       "      <th>Sec_Type</th>\n",
       "      <th>book_yield</th>\n",
       "      <th>unrealized_gl</th>\n",
       "      <th>Par</th>\n",
       "      <th>Rating</th>\n",
       "      <th>Outlook</th>\n",
       "      <th>Sector_Level_1</th>\n",
       "      <th>Sector</th>\n",
       "      <th>Sector_Full</th>\n",
       "      <th>Years_To_Maturity</th>\n",
       "      <th>Maturity_Bucket</th>\n",
       "    </tr>\n",
       "  </thead>\n",
       "  <tbody>\n",
       "    <tr>\n",
       "      <th>2</th>\n",
       "      <td>64984EDG7</td>\n",
       "      <td>209111</td>\n",
       "      <td>CONSOLIDATED EDISON COMPANY OF NEW YORK INC</td>\n",
       "      <td>2039-05-01</td>\n",
       "      <td>-99.00</td>\n",
       "      <td>CASH</td>\n",
       "      <td>MVRDN</td>\n",
       "      <td>4.550000</td>\n",
       "      <td>99999.90000</td>\n",
       "      <td>100000.0</td>\n",
       "      <td>BBB1</td>\n",
       "      <td>Stable</td>\n",
       "      <td>CORP</td>\n",
       "      <td>ELEC</td>\n",
       "      <td>IDB</td>\n",
       "      <td>13.875428</td>\n",
       "      <td>10–15 years</td>\n",
       "    </tr>\n",
       "    <tr>\n",
       "      <th>7</th>\n",
       "      <td>424898FH2</td>\n",
       "      <td>424888</td>\n",
       "      <td>HENDERSON CNTY N C CTFS PARTN</td>\n",
       "      <td>2027-06-01</td>\n",
       "      <td>4.00</td>\n",
       "      <td>BND</td>\n",
       "      <td>MUNI</td>\n",
       "      <td>0.000000</td>\n",
       "      <td>20859.99580</td>\n",
       "      <td>20000.0</td>\n",
       "      <td>AA3</td>\n",
       "      <td>Stable</td>\n",
       "      <td>TAX</td>\n",
       "      <td>TAXLOCAL</td>\n",
       "      <td>Local Government</td>\n",
       "      <td>1.960301</td>\n",
       "      <td>&lt;5 years</td>\n",
       "    </tr>\n",
       "    <tr>\n",
       "      <th>8</th>\n",
       "      <td>42806KAB9</td>\n",
       "      <td>42806C</td>\n",
       "      <td>HESPERIA CA CMNTY REDEV AGY</td>\n",
       "      <td>2027-09-01</td>\n",
       "      <td>5.00</td>\n",
       "      <td>BND</td>\n",
       "      <td>MUNI</td>\n",
       "      <td>2.461000</td>\n",
       "      <td>107533.14900</td>\n",
       "      <td>100000.0</td>\n",
       "      <td>A1</td>\n",
       "      <td>Unspecified</td>\n",
       "      <td>TAX</td>\n",
       "      <td>DEVDIST</td>\n",
       "      <td>Development District</td>\n",
       "      <td>2.212183</td>\n",
       "      <td>&lt;5 years</td>\n",
       "    </tr>\n",
       "    <tr>\n",
       "      <th>9</th>\n",
       "      <td>42806KAC7</td>\n",
       "      <td>42806C</td>\n",
       "      <td>HESPERIA CA CMNTY REDEV AGY</td>\n",
       "      <td>2028-09-01</td>\n",
       "      <td>5.00</td>\n",
       "      <td>BND</td>\n",
       "      <td>MUNI</td>\n",
       "      <td>2.540000</td>\n",
       "      <td>21993.99400</td>\n",
       "      <td>20000.0</td>\n",
       "      <td>A1</td>\n",
       "      <td>Unspecified</td>\n",
       "      <td>TAX</td>\n",
       "      <td>DEVDIST</td>\n",
       "      <td>Development District</td>\n",
       "      <td>3.214237</td>\n",
       "      <td>&lt;5 years</td>\n",
       "    </tr>\n",
       "    <tr>\n",
       "      <th>10</th>\n",
       "      <td>543103EB7</td>\n",
       "      <td>543103</td>\n",
       "      <td>LONGMONT COLO SALES &amp; USE TAX REVS</td>\n",
       "      <td>2028-11-15</td>\n",
       "      <td>5.00</td>\n",
       "      <td>BND</td>\n",
       "      <td>MUNI</td>\n",
       "      <td>0.000000</td>\n",
       "      <td>55808.56650</td>\n",
       "      <td>50000.0</td>\n",
       "      <td>AA1</td>\n",
       "      <td>Stable</td>\n",
       "      <td>TAX</td>\n",
       "      <td>TAXLOCAL</td>\n",
       "      <td>Local Government</td>\n",
       "      <td>3.419576</td>\n",
       "      <td>&lt;5 years</td>\n",
       "    </tr>\n",
       "    <tr>\n",
       "      <th>...</th>\n",
       "      <td>...</td>\n",
       "      <td>...</td>\n",
       "      <td>...</td>\n",
       "      <td>...</td>\n",
       "      <td>...</td>\n",
       "      <td>...</td>\n",
       "      <td>...</td>\n",
       "      <td>...</td>\n",
       "      <td>...</td>\n",
       "      <td>...</td>\n",
       "      <td>...</td>\n",
       "      <td>...</td>\n",
       "      <td>...</td>\n",
       "      <td>...</td>\n",
       "      <td>...</td>\n",
       "      <td>...</td>\n",
       "      <td>...</td>\n",
       "    </tr>\n",
       "    <tr>\n",
       "      <th>8097</th>\n",
       "      <td>819892AL4</td>\n",
       "      <td>R96714</td>\n",
       "      <td>SHARP HEALTHCARE</td>\n",
       "      <td>2050-08-01</td>\n",
       "      <td>2.68</td>\n",
       "      <td>BND</td>\n",
       "      <td>CORP</td>\n",
       "      <td>65.565002</td>\n",
       "      <td>-300980.65268</td>\n",
       "      <td>1071000.0</td>\n",
       "      <td>AA3</td>\n",
       "      <td>Stable</td>\n",
       "      <td>HEALTH</td>\n",
       "      <td>HOSP</td>\n",
       "      <td>Hospital</td>\n",
       "      <td>25.127995</td>\n",
       "      <td>20–30 years</td>\n",
       "    </tr>\n",
       "    <tr>\n",
       "      <th>8098</th>\n",
       "      <td>13057EHB3</td>\n",
       "      <td>R96714</td>\n",
       "      <td>SHARP HEALTHCARE</td>\n",
       "      <td>2029-08-01</td>\n",
       "      <td>5.00</td>\n",
       "      <td>BND</td>\n",
       "      <td>MUNI</td>\n",
       "      <td>2.400000</td>\n",
       "      <td>56841.72400</td>\n",
       "      <td>50000.0</td>\n",
       "      <td>AA3</td>\n",
       "      <td>Stable</td>\n",
       "      <td>HEALTH</td>\n",
       "      <td>HOSP</td>\n",
       "      <td>Hospital</td>\n",
       "      <td>4.128679</td>\n",
       "      <td>&lt;5 years</td>\n",
       "    </tr>\n",
       "    <tr>\n",
       "      <th>8100</th>\n",
       "      <td>57584YLJ6</td>\n",
       "      <td>R97932</td>\n",
       "      <td>BRANDEIS UNIVERSITY</td>\n",
       "      <td>2039-10-01</td>\n",
       "      <td>5.00</td>\n",
       "      <td>BND</td>\n",
       "      <td>MUNI</td>\n",
       "      <td>0.000000</td>\n",
       "      <td>21646.72540</td>\n",
       "      <td>20000.0</td>\n",
       "      <td>A1</td>\n",
       "      <td>Stable</td>\n",
       "      <td>EDUC</td>\n",
       "      <td>UNIVPRIV</td>\n",
       "      <td>Private University</td>\n",
       "      <td>14.294319</td>\n",
       "      <td>10–15 years</td>\n",
       "    </tr>\n",
       "    <tr>\n",
       "      <th>8101</th>\n",
       "      <td>57584YLG2</td>\n",
       "      <td>R97932</td>\n",
       "      <td>BRANDEIS UNIVERSITY</td>\n",
       "      <td>2037-10-01</td>\n",
       "      <td>5.00</td>\n",
       "      <td>BND</td>\n",
       "      <td>MUNI</td>\n",
       "      <td>0.000000</td>\n",
       "      <td>10948.00560</td>\n",
       "      <td>10000.0</td>\n",
       "      <td>A1</td>\n",
       "      <td>Stable</td>\n",
       "      <td>EDUC</td>\n",
       "      <td>UNIVPRIV</td>\n",
       "      <td>Private University</td>\n",
       "      <td>12.295688</td>\n",
       "      <td>10–15 years</td>\n",
       "    </tr>\n",
       "    <tr>\n",
       "      <th>8102</th>\n",
       "      <td>57584YNQ8</td>\n",
       "      <td>R97932</td>\n",
       "      <td>BRANDEIS UNIVERSITY</td>\n",
       "      <td>2027-10-01</td>\n",
       "      <td>5.00</td>\n",
       "      <td>BND</td>\n",
       "      <td>MUNI</td>\n",
       "      <td>2.660000</td>\n",
       "      <td>48880.43955</td>\n",
       "      <td>45000.0</td>\n",
       "      <td>A1</td>\n",
       "      <td>Stable</td>\n",
       "      <td>EDUC</td>\n",
       "      <td>UNIVPRIV</td>\n",
       "      <td>Private University</td>\n",
       "      <td>2.294319</td>\n",
       "      <td>&lt;5 years</td>\n",
       "    </tr>\n",
       "  </tbody>\n",
       "</table>\n",
       "<p>8005 rows × 17 columns</p>\n",
       "</div>"
      ],
      "text/plain": [
       "          cusip Obligor                                 Obligor Name  \\\n",
       "2     64984EDG7  209111  CONSOLIDATED EDISON COMPANY OF NEW YORK INC   \n",
       "7     424898FH2  424888                HENDERSON CNTY N C CTFS PARTN   \n",
       "8     42806KAB9  42806C                  HESPERIA CA CMNTY REDEV AGY   \n",
       "9     42806KAC7  42806C                  HESPERIA CA CMNTY REDEV AGY   \n",
       "10    543103EB7  543103           LONGMONT COLO SALES & USE TAX REVS   \n",
       "...         ...     ...                                          ...   \n",
       "8097  819892AL4  R96714                             SHARP HEALTHCARE   \n",
       "8098  13057EHB3  R96714                             SHARP HEALTHCARE   \n",
       "8100  57584YLJ6  R97932                          BRANDEIS UNIVERSITY   \n",
       "8101  57584YLG2  R97932                          BRANDEIS UNIVERSITY   \n",
       "8102  57584YNQ8  R97932                          BRANDEIS UNIVERSITY   \n",
       "\n",
       "       maturity  coupon Sec_Group Sec_Type  book_yield  unrealized_gl  \\\n",
       "2    2039-05-01  -99.00      CASH    MVRDN    4.550000    99999.90000   \n",
       "7    2027-06-01    4.00       BND     MUNI    0.000000    20859.99580   \n",
       "8    2027-09-01    5.00       BND     MUNI    2.461000   107533.14900   \n",
       "9    2028-09-01    5.00       BND     MUNI    2.540000    21993.99400   \n",
       "10   2028-11-15    5.00       BND     MUNI    0.000000    55808.56650   \n",
       "...         ...     ...       ...      ...         ...            ...   \n",
       "8097 2050-08-01    2.68       BND     CORP   65.565002  -300980.65268   \n",
       "8098 2029-08-01    5.00       BND     MUNI    2.400000    56841.72400   \n",
       "8100 2039-10-01    5.00       BND     MUNI    0.000000    21646.72540   \n",
       "8101 2037-10-01    5.00       BND     MUNI    0.000000    10948.00560   \n",
       "8102 2027-10-01    5.00       BND     MUNI    2.660000    48880.43955   \n",
       "\n",
       "            Par Rating      Outlook Sector_Level_1    Sector  \\\n",
       "2      100000.0   BBB1       Stable           CORP      ELEC   \n",
       "7       20000.0    AA3       Stable            TAX  TAXLOCAL   \n",
       "8      100000.0     A1  Unspecified            TAX   DEVDIST   \n",
       "9       20000.0     A1  Unspecified            TAX   DEVDIST   \n",
       "10      50000.0    AA1       Stable            TAX  TAXLOCAL   \n",
       "...         ...    ...          ...            ...       ...   \n",
       "8097  1071000.0    AA3       Stable         HEALTH      HOSP   \n",
       "8098    50000.0    AA3       Stable         HEALTH      HOSP   \n",
       "8100    20000.0     A1       Stable           EDUC  UNIVPRIV   \n",
       "8101    10000.0     A1       Stable           EDUC  UNIVPRIV   \n",
       "8102    45000.0     A1       Stable           EDUC  UNIVPRIV   \n",
       "\n",
       "               Sector_Full  Years_To_Maturity Maturity_Bucket  \n",
       "2                      IDB          13.875428     10–15 years  \n",
       "7         Local Government           1.960301        <5 years  \n",
       "8     Development District           2.212183        <5 years  \n",
       "9     Development District           3.214237        <5 years  \n",
       "10        Local Government           3.419576        <5 years  \n",
       "...                    ...                ...             ...  \n",
       "8097              Hospital          25.127995     20–30 years  \n",
       "8098              Hospital           4.128679        <5 years  \n",
       "8100    Private University          14.294319     10–15 years  \n",
       "8101    Private University          12.295688     10–15 years  \n",
       "8102    Private University           2.294319        <5 years  \n",
       "\n",
       "[8005 rows x 17 columns]"
      ]
     },
     "execution_count": 120,
     "metadata": {},
     "output_type": "execute_result"
    }
   ],
   "source": [
    "portfolio_data"
   ]
  },
  {
   "cell_type": "code",
   "execution_count": 119,
   "metadata": {},
   "outputs": [
    {
     "ename": "ValueError",
     "evalue": "Value of 'x' is not the name of a column in 'data_frame'. Expected one of ['Count', 'count'] but received: Bucket",
     "output_type": "error",
     "traceback": [
      "\u001b[0;31m---------------------------------------------------------------------------\u001b[0m",
      "\u001b[0;31mValueError\u001b[0m                                Traceback (most recent call last)",
      "Cell \u001b[0;32mIn[119], line 49\u001b[0m\n\u001b[1;32m     38\u001b[0m     fig\u001b[38;5;241m.\u001b[39mupdate_layout(\n\u001b[1;32m     39\u001b[0m         width\u001b[38;5;241m=\u001b[39m\u001b[38;5;241m800\u001b[39m,\n\u001b[1;32m     40\u001b[0m         height\u001b[38;5;241m=\u001b[39m\u001b[38;5;241m450\u001b[39m,\n\u001b[0;32m   (...)\u001b[0m\n\u001b[1;32m     45\u001b[0m         font\u001b[38;5;241m=\u001b[39m\u001b[38;5;28mdict\u001b[39m(size\u001b[38;5;241m=\u001b[39m\u001b[38;5;241m12\u001b[39m)\n\u001b[1;32m     46\u001b[0m     )\n\u001b[1;32m     48\u001b[0m     fig\u001b[38;5;241m.\u001b[39mshow()\n\u001b[0;32m---> 49\u001b[0m \u001b[43mmaturity_profile\u001b[49m\u001b[43m(\u001b[49m\u001b[43mportfolio_data\u001b[49m\u001b[43m)\u001b[49m\n",
      "Cell \u001b[0;32mIn[119], line 27\u001b[0m, in \u001b[0;36mmaturity_profile\u001b[0;34m(portfolio_data)\u001b[0m\n\u001b[1;32m     18\u001b[0m maturity_counts \u001b[38;5;241m=\u001b[39m (\n\u001b[1;32m     19\u001b[0m     portfolio_data[\u001b[38;5;124m'\u001b[39m\u001b[38;5;124mMaturity_Bucket\u001b[39m\u001b[38;5;124m'\u001b[39m]\n\u001b[1;32m     20\u001b[0m     \u001b[38;5;241m.\u001b[39mvalue_counts()\n\u001b[0;32m   (...)\u001b[0m\n\u001b[1;32m     23\u001b[0m     \u001b[38;5;241m.\u001b[39mrename(columns\u001b[38;5;241m=\u001b[39m{\u001b[38;5;124m'\u001b[39m\u001b[38;5;124mindex\u001b[39m\u001b[38;5;124m'\u001b[39m: \u001b[38;5;124m'\u001b[39m\u001b[38;5;124mBucket\u001b[39m\u001b[38;5;124m'\u001b[39m, \u001b[38;5;124m'\u001b[39m\u001b[38;5;124mMaturity_Bucket\u001b[39m\u001b[38;5;124m'\u001b[39m: \u001b[38;5;124m'\u001b[39m\u001b[38;5;124mCount\u001b[39m\u001b[38;5;124m'\u001b[39m})\n\u001b[1;32m     24\u001b[0m )\n\u001b[1;32m     26\u001b[0m \u001b[38;5;66;03m# Plot\u001b[39;00m\n\u001b[0;32m---> 27\u001b[0m fig \u001b[38;5;241m=\u001b[39m \u001b[43mpx\u001b[49m\u001b[38;5;241;43m.\u001b[39;49m\u001b[43mbar\u001b[49m\u001b[43m(\u001b[49m\n\u001b[1;32m     28\u001b[0m \u001b[43m    \u001b[49m\u001b[43mmaturity_counts\u001b[49m\u001b[43m,\u001b[49m\n\u001b[1;32m     29\u001b[0m \u001b[43m    \u001b[49m\u001b[43mx\u001b[49m\u001b[38;5;241;43m=\u001b[39;49m\u001b[38;5;124;43m'\u001b[39;49m\u001b[38;5;124;43mBucket\u001b[39;49m\u001b[38;5;124;43m'\u001b[39;49m\u001b[43m,\u001b[49m\n\u001b[1;32m     30\u001b[0m \u001b[43m    \u001b[49m\u001b[43my\u001b[49m\u001b[38;5;241;43m=\u001b[39;49m\u001b[38;5;124;43m'\u001b[39;49m\u001b[38;5;124;43mCount\u001b[39;49m\u001b[38;5;124;43m'\u001b[39;49m\u001b[43m,\u001b[49m\n\u001b[1;32m     31\u001b[0m \u001b[43m    \u001b[49m\u001b[43mtext\u001b[49m\u001b[38;5;241;43m=\u001b[39;49m\u001b[38;5;124;43m'\u001b[39;49m\u001b[38;5;124;43mCount\u001b[39;49m\u001b[38;5;124;43m'\u001b[39;49m\u001b[43m,\u001b[49m\n\u001b[1;32m     32\u001b[0m \u001b[43m    \u001b[49m\u001b[43mcolor\u001b[49m\u001b[38;5;241;43m=\u001b[39;49m\u001b[38;5;124;43m'\u001b[39;49m\u001b[38;5;124;43mBucket\u001b[39;49m\u001b[38;5;124;43m'\u001b[39;49m\u001b[43m,\u001b[49m\n\u001b[1;32m     33\u001b[0m \u001b[43m    \u001b[49m\u001b[43mcolor_discrete_sequence\u001b[49m\u001b[38;5;241;43m=\u001b[39;49m\u001b[43mpx\u001b[49m\u001b[38;5;241;43m.\u001b[39;49m\u001b[43mcolors\u001b[49m\u001b[38;5;241;43m.\u001b[39;49m\u001b[43mqualitative\u001b[49m\u001b[38;5;241;43m.\u001b[39;49m\u001b[43mSet3\u001b[49m\u001b[43m,\u001b[49m\n\u001b[1;32m     34\u001b[0m \u001b[43m    \u001b[49m\u001b[43mtitle\u001b[49m\u001b[38;5;241;43m=\u001b[39;49m\u001b[38;5;124;43m'\u001b[39;49m\u001b[38;5;124;43mMaturity Profile of the Portfolio\u001b[39;49m\u001b[38;5;124;43m'\u001b[39;49m\n\u001b[1;32m     35\u001b[0m \u001b[43m\u001b[49m\u001b[43m)\u001b[49m\n\u001b[1;32m     37\u001b[0m fig\u001b[38;5;241m.\u001b[39mupdate_traces(textposition\u001b[38;5;241m=\u001b[39m\u001b[38;5;124m'\u001b[39m\u001b[38;5;124moutside\u001b[39m\u001b[38;5;124m'\u001b[39m)\n\u001b[1;32m     38\u001b[0m fig\u001b[38;5;241m.\u001b[39mupdate_layout(\n\u001b[1;32m     39\u001b[0m     width\u001b[38;5;241m=\u001b[39m\u001b[38;5;241m800\u001b[39m,\n\u001b[1;32m     40\u001b[0m     height\u001b[38;5;241m=\u001b[39m\u001b[38;5;241m450\u001b[39m,\n\u001b[0;32m   (...)\u001b[0m\n\u001b[1;32m     45\u001b[0m     font\u001b[38;5;241m=\u001b[39m\u001b[38;5;28mdict\u001b[39m(size\u001b[38;5;241m=\u001b[39m\u001b[38;5;241m12\u001b[39m)\n\u001b[1;32m     46\u001b[0m )\n",
      "File \u001b[0;32m~/.local/lib/python3.10/site-packages/plotly/express/_chart_types.py:381\u001b[0m, in \u001b[0;36mbar\u001b[0;34m(data_frame, x, y, color, pattern_shape, facet_row, facet_col, facet_col_wrap, facet_row_spacing, facet_col_spacing, hover_name, hover_data, custom_data, text, base, error_x, error_x_minus, error_y, error_y_minus, animation_frame, animation_group, category_orders, labels, color_discrete_sequence, color_discrete_map, color_continuous_scale, pattern_shape_sequence, pattern_shape_map, range_color, color_continuous_midpoint, opacity, orientation, barmode, log_x, log_y, range_x, range_y, text_auto, title, subtitle, template, width, height)\u001b[0m\n\u001b[1;32m    332\u001b[0m \u001b[38;5;28;01mdef\u001b[39;00m \u001b[38;5;21mbar\u001b[39m(\n\u001b[1;32m    333\u001b[0m     data_frame\u001b[38;5;241m=\u001b[39m\u001b[38;5;28;01mNone\u001b[39;00m,\n\u001b[1;32m    334\u001b[0m     x\u001b[38;5;241m=\u001b[39m\u001b[38;5;28;01mNone\u001b[39;00m,\n\u001b[0;32m   (...)\u001b[0m\n\u001b[1;32m    375\u001b[0m     height\u001b[38;5;241m=\u001b[39m\u001b[38;5;28;01mNone\u001b[39;00m,\n\u001b[1;32m    376\u001b[0m ) \u001b[38;5;241m-\u001b[39m\u001b[38;5;241m>\u001b[39m go\u001b[38;5;241m.\u001b[39mFigure:\n\u001b[1;32m    377\u001b[0m     \u001b[38;5;124;03m\"\"\"\u001b[39;00m\n\u001b[1;32m    378\u001b[0m \u001b[38;5;124;03m    In a bar plot, each row of `data_frame` is represented as a rectangular\u001b[39;00m\n\u001b[1;32m    379\u001b[0m \u001b[38;5;124;03m    mark.\u001b[39;00m\n\u001b[1;32m    380\u001b[0m \u001b[38;5;124;03m    \"\"\"\u001b[39;00m\n\u001b[0;32m--> 381\u001b[0m     \u001b[38;5;28;01mreturn\u001b[39;00m \u001b[43mmake_figure\u001b[49m\u001b[43m(\u001b[49m\n\u001b[1;32m    382\u001b[0m \u001b[43m        \u001b[49m\u001b[43margs\u001b[49m\u001b[38;5;241;43m=\u001b[39;49m\u001b[38;5;28;43mlocals\u001b[39;49m\u001b[43m(\u001b[49m\u001b[43m)\u001b[49m\u001b[43m,\u001b[49m\n\u001b[1;32m    383\u001b[0m \u001b[43m        \u001b[49m\u001b[43mconstructor\u001b[49m\u001b[38;5;241;43m=\u001b[39;49m\u001b[43mgo\u001b[49m\u001b[38;5;241;43m.\u001b[39;49m\u001b[43mBar\u001b[49m\u001b[43m,\u001b[49m\n\u001b[1;32m    384\u001b[0m \u001b[43m        \u001b[49m\u001b[43mtrace_patch\u001b[49m\u001b[38;5;241;43m=\u001b[39;49m\u001b[38;5;28;43mdict\u001b[39;49m\u001b[43m(\u001b[49m\u001b[43mtextposition\u001b[49m\u001b[38;5;241;43m=\u001b[39;49m\u001b[38;5;124;43m\"\u001b[39;49m\u001b[38;5;124;43mauto\u001b[39;49m\u001b[38;5;124;43m\"\u001b[39;49m\u001b[43m)\u001b[49m\u001b[43m,\u001b[49m\n\u001b[1;32m    385\u001b[0m \u001b[43m        \u001b[49m\u001b[43mlayout_patch\u001b[49m\u001b[38;5;241;43m=\u001b[39;49m\u001b[38;5;28;43mdict\u001b[39;49m\u001b[43m(\u001b[49m\u001b[43mbarmode\u001b[49m\u001b[38;5;241;43m=\u001b[39;49m\u001b[43mbarmode\u001b[49m\u001b[43m)\u001b[49m\u001b[43m,\u001b[49m\n\u001b[1;32m    386\u001b[0m \u001b[43m    \u001b[49m\u001b[43m)\u001b[49m\n",
      "File \u001b[0;32m~/.local/lib/python3.10/site-packages/plotly/express/_core.py:2483\u001b[0m, in \u001b[0;36mmake_figure\u001b[0;34m(args, constructor, trace_patch, layout_patch)\u001b[0m\n\u001b[1;32m   2480\u001b[0m layout_patch \u001b[38;5;241m=\u001b[39m layout_patch \u001b[38;5;129;01mor\u001b[39;00m {}\n\u001b[1;32m   2481\u001b[0m apply_default_cascade(args)\n\u001b[0;32m-> 2483\u001b[0m args \u001b[38;5;241m=\u001b[39m \u001b[43mbuild_dataframe\u001b[49m\u001b[43m(\u001b[49m\u001b[43margs\u001b[49m\u001b[43m,\u001b[49m\u001b[43m \u001b[49m\u001b[43mconstructor\u001b[49m\u001b[43m)\u001b[49m\n\u001b[1;32m   2484\u001b[0m \u001b[38;5;28;01mif\u001b[39;00m constructor \u001b[38;5;129;01min\u001b[39;00m [go\u001b[38;5;241m.\u001b[39mTreemap, go\u001b[38;5;241m.\u001b[39mSunburst, go\u001b[38;5;241m.\u001b[39mIcicle] \u001b[38;5;129;01mand\u001b[39;00m args[\u001b[38;5;124m\"\u001b[39m\u001b[38;5;124mpath\u001b[39m\u001b[38;5;124m\"\u001b[39m] \u001b[38;5;129;01mis\u001b[39;00m \u001b[38;5;129;01mnot\u001b[39;00m \u001b[38;5;28;01mNone\u001b[39;00m:\n\u001b[1;32m   2485\u001b[0m     args \u001b[38;5;241m=\u001b[39m process_dataframe_hierarchy(args)\n",
      "File \u001b[0;32m~/.local/lib/python3.10/site-packages/plotly/express/_core.py:1729\u001b[0m, in \u001b[0;36mbuild_dataframe\u001b[0;34m(args, constructor)\u001b[0m\n\u001b[1;32m   1726\u001b[0m     args[\u001b[38;5;124m\"\u001b[39m\u001b[38;5;124mcolor\u001b[39m\u001b[38;5;124m\"\u001b[39m] \u001b[38;5;241m=\u001b[39m \u001b[38;5;28;01mNone\u001b[39;00m\n\u001b[1;32m   1727\u001b[0m \u001b[38;5;66;03m# now that things have been prepped, we do the systematic rewriting of `args`\u001b[39;00m\n\u001b[0;32m-> 1729\u001b[0m df_output, wide_id_vars \u001b[38;5;241m=\u001b[39m \u001b[43mprocess_args_into_dataframe\u001b[49m\u001b[43m(\u001b[49m\n\u001b[1;32m   1730\u001b[0m \u001b[43m    \u001b[49m\u001b[43margs\u001b[49m\u001b[43m,\u001b[49m\n\u001b[1;32m   1731\u001b[0m \u001b[43m    \u001b[49m\u001b[43mwide_mode\u001b[49m\u001b[43m,\u001b[49m\n\u001b[1;32m   1732\u001b[0m \u001b[43m    \u001b[49m\u001b[43mvar_name\u001b[49m\u001b[43m,\u001b[49m\n\u001b[1;32m   1733\u001b[0m \u001b[43m    \u001b[49m\u001b[43mvalue_name\u001b[49m\u001b[43m,\u001b[49m\n\u001b[1;32m   1734\u001b[0m \u001b[43m    \u001b[49m\u001b[43mis_pd_like\u001b[49m\u001b[43m,\u001b[49m\n\u001b[1;32m   1735\u001b[0m \u001b[43m    \u001b[49m\u001b[43mnative_namespace\u001b[49m\u001b[43m,\u001b[49m\n\u001b[1;32m   1736\u001b[0m \u001b[43m\u001b[49m\u001b[43m)\u001b[49m\n\u001b[1;32m   1737\u001b[0m df_output: nw\u001b[38;5;241m.\u001b[39mDataFrame\n\u001b[1;32m   1738\u001b[0m \u001b[38;5;66;03m# now that `df_output` exists and `args` contains only references, we complete\u001b[39;00m\n\u001b[1;32m   1739\u001b[0m \u001b[38;5;66;03m# the special-case and wide-mode handling by further rewriting args and/or mutating\u001b[39;00m\n\u001b[1;32m   1740\u001b[0m \u001b[38;5;66;03m# df_output\u001b[39;00m\n",
      "File \u001b[0;32m~/.local/lib/python3.10/site-packages/plotly/express/_core.py:1330\u001b[0m, in \u001b[0;36mprocess_args_into_dataframe\u001b[0;34m(args, wide_mode, var_name, value_name, is_pd_like, native_namespace)\u001b[0m\n\u001b[1;32m   1328\u001b[0m         \u001b[38;5;28;01mif\u001b[39;00m argument \u001b[38;5;241m==\u001b[39m \u001b[38;5;124m\"\u001b[39m\u001b[38;5;124mindex\u001b[39m\u001b[38;5;124m\"\u001b[39m:\n\u001b[1;32m   1329\u001b[0m             err_msg \u001b[38;5;241m+\u001b[39m\u001b[38;5;241m=\u001b[39m \u001b[38;5;124m\"\u001b[39m\u001b[38;5;130;01m\\n\u001b[39;00m\u001b[38;5;124m To use the index, pass it in directly as `df.index`.\u001b[39m\u001b[38;5;124m\"\u001b[39m\n\u001b[0;32m-> 1330\u001b[0m         \u001b[38;5;28;01mraise\u001b[39;00m \u001b[38;5;167;01mValueError\u001b[39;00m(err_msg)\n\u001b[1;32m   1331\u001b[0m \u001b[38;5;28;01melif\u001b[39;00m length \u001b[38;5;129;01mand\u001b[39;00m (actual_len \u001b[38;5;241m:=\u001b[39m \u001b[38;5;28mlen\u001b[39m(df_input)) \u001b[38;5;241m!=\u001b[39m length:\n\u001b[1;32m   1332\u001b[0m     \u001b[38;5;28;01mraise\u001b[39;00m \u001b[38;5;167;01mValueError\u001b[39;00m(\n\u001b[1;32m   1333\u001b[0m         \u001b[38;5;124m\"\u001b[39m\u001b[38;5;124mAll arguments should have the same length. \u001b[39m\u001b[38;5;124m\"\u001b[39m\n\u001b[1;32m   1334\u001b[0m         \u001b[38;5;124m\"\u001b[39m\u001b[38;5;124mThe length of column argument `df[\u001b[39m\u001b[38;5;132;01m%s\u001b[39;00m\u001b[38;5;124m]` is \u001b[39m\u001b[38;5;132;01m%d\u001b[39;00m\u001b[38;5;124m, whereas the \u001b[39m\u001b[38;5;124m\"\u001b[39m\n\u001b[0;32m   (...)\u001b[0m\n\u001b[1;32m   1341\u001b[0m         )\n\u001b[1;32m   1342\u001b[0m     )\n",
      "\u001b[0;31mValueError\u001b[0m: Value of 'x' is not the name of a column in 'data_frame'. Expected one of ['Count', 'count'] but received: Bucket"
     ]
    }
   ],
   "source": [
    "import pandas as pd\n",
    "import plotly.express as px\n",
    "from datetime import datetime\n",
    "\n",
    "def maturity_profile(portfolio_data):\n",
    "    today = pd.Timestamp(datetime.today().date())\n",
    "\n",
    "    # Convert to datetime and calculate years till maturity\n",
    "    portfolio_data['maturity'] = pd.to_datetime(portfolio_data['maturity'])\n",
    "    portfolio_data['Years_To_Maturity'] = (portfolio_data['maturity'] - today).dt.days / 365.25\n",
    "\n",
    "    # Define maturity buckets\n",
    "    bins = [0, 5, 10, 15, 20, 30, float('inf')]\n",
    "    labels = ['<5 years', '5–10 years', '10–15 years', '15–20 years', '20–30 years', '30+ years']\n",
    "    portfolio_data['Maturity_Bucket'] = pd.cut(portfolio_data['Years_To_Maturity'], bins=bins, labels=labels)\n",
    "\n",
    "    # Count bonds in each bucket\n",
    "    maturity_counts = (\n",
    "        portfolio_data['Maturity_Bucket']\n",
    "        .value_counts()\n",
    "        .reindex(labels)\n",
    "        .reset_index()\n",
    "        .rename(columns={'index': 'Bucket', 'Maturity_Bucket': 'Count'})\n",
    "    )\n",
    "\n",
    "    # Plot\n",
    "    fig = px.bar(\n",
    "        maturity_counts,\n",
    "        x='Bucket',\n",
    "        y='Count',\n",
    "        text='Count',\n",
    "        color='Bucket',\n",
    "        color_discrete_sequence=px.colors.qualitative.Set3,\n",
    "        title='Maturity Profile of the Portfolio'\n",
    "    )\n",
    "\n",
    "    fig.update_traces(textposition='outside')\n",
    "    fig.update_layout(\n",
    "        width=800,\n",
    "        height=450,\n",
    "        xaxis_title='Maturity Bucket',\n",
    "        yaxis_title='Number of Bonds',\n",
    "        showlegend=False,\n",
    "        plot_bgcolor='white',\n",
    "        font=dict(size=12)\n",
    "    )\n",
    "\n",
    "    fig.show()\n",
    "maturity_profile(portfolio_data)"
   ]
  },
  {
   "cell_type": "code",
   "execution_count": null,
   "metadata": {},
   "outputs": [],
   "source": [
    "location_data[\"Obligor Name\"].nunique()"
   ]
  },
  {
   "cell_type": "code",
   "execution_count": 10,
   "metadata": {},
   "outputs": [
    {
     "data": {
      "text/plain": [
       "Obligor Name     object\n",
       "County Code     float64\n",
       "County           object\n",
       "State            object\n",
       "CBSA            float64\n",
       "CBSA_title       object\n",
       "Latitude        float64\n",
       "ZIP              object\n",
       "Longitude       float64\n",
       "dtype: object"
      ]
     },
     "execution_count": 10,
     "metadata": {},
     "output_type": "execute_result"
    }
   ],
   "source": [
    "location_data.dtypes"
   ]
  },
  {
   "cell_type": "code",
   "execution_count": 14,
   "metadata": {},
   "outputs": [],
   "source": [
    "import plotly.io as pio\n",
    "pio.renderers.default = 'notebook'  # or 'iframe', 'iframe_connected', or 'browser'\n"
   ]
  },
  {
   "cell_type": "code",
   "execution_count": 121,
   "metadata": {},
   "outputs": [
    {
     "name": "stdout",
     "output_type": "stream",
     "text": [
      "⚠️ Jump Risk Bonds Found: 0\n"
     ]
    },
    {
     "data": {
      "text/html": [
       "<div>\n",
       "<style scoped>\n",
       "    .dataframe tbody tr th:only-of-type {\n",
       "        vertical-align: middle;\n",
       "    }\n",
       "\n",
       "    .dataframe tbody tr th {\n",
       "        vertical-align: top;\n",
       "    }\n",
       "\n",
       "    .dataframe thead th {\n",
       "        text-align: right;\n",
       "    }\n",
       "</style>\n",
       "<table border=\"1\" class=\"dataframe\">\n",
       "  <thead>\n",
       "    <tr style=\"text-align: right;\">\n",
       "      <th></th>\n",
       "      <th>Obligor</th>\n",
       "      <th>Rating</th>\n",
       "      <th>Outlook</th>\n",
       "      <th>Par</th>\n",
       "    </tr>\n",
       "  </thead>\n",
       "  <tbody>\n",
       "  </tbody>\n",
       "</table>\n",
       "</div>"
      ],
      "text/plain": [
       "Empty DataFrame\n",
       "Columns: [Obligor, Rating, Outlook, Par]\n",
       "Index: []"
      ]
     },
     "execution_count": 121,
     "metadata": {},
     "output_type": "execute_result"
    }
   ],
   "source": [
    "def identify_jump_risk(portfolio_data):\n",
    "    \"\"\"\n",
    "    Identifies bonds with jump-to-junk risk: BBB-rated with negative outlook.\n",
    "    \"\"\"\n",
    "    df = portfolio_data.copy()\n",
    "\n",
    "    # Normalize rating and outlook\n",
    "    df['Rating'] = df['Rating'].astype(str).str.upper().str.strip()\n",
    "    df['Outlook'] = df['Outlook'].astype(str).str.title().str.strip()\n",
    "\n",
    "    # Filter\n",
    "    jump_risk_df = df[df['Rating'].str.startswith('BBB') & (df['Outlook'] == 'Negative')]\n",
    "\n",
    "    print(f\"⚠️ Jump Risk Bonds Found: {len(jump_risk_df)}\")\n",
    "    return jump_risk_df[['Obligor', 'Rating', 'Outlook', 'Par']].sort_values(by='Par', ascending=False)\n",
    "identify_jump_risk(portfolio_data)"
   ]
  },
  {
   "cell_type": "code",
   "execution_count": 123,
   "metadata": {},
   "outputs": [
    {
     "ename": "KeyError",
     "evalue": "'State'",
     "output_type": "error",
     "traceback": [
      "\u001b[0;31m---------------------------------------------------------------------------\u001b[0m",
      "\u001b[0;31mKeyError\u001b[0m                                  Traceback (most recent call last)",
      "Cell \u001b[0;32mIn[123], line 30\u001b[0m\n\u001b[1;32m     23\u001b[0m     fig\u001b[38;5;241m.\u001b[39mupdate_layout(\n\u001b[1;32m     24\u001b[0m         geo\u001b[38;5;241m=\u001b[39m\u001b[38;5;28mdict\u001b[39m(showlakes\u001b[38;5;241m=\u001b[39m\u001b[38;5;28;01mTrue\u001b[39;00m, lakecolor\u001b[38;5;241m=\u001b[39m\u001b[38;5;124m'\u001b[39m\u001b[38;5;124mrgb(255, 255, 255)\u001b[39m\u001b[38;5;124m'\u001b[39m),\n\u001b[1;32m     25\u001b[0m         width\u001b[38;5;241m=\u001b[39m\u001b[38;5;241m950\u001b[39m,\n\u001b[1;32m     26\u001b[0m         height\u001b[38;5;241m=\u001b[39m\u001b[38;5;241m600\u001b[39m\n\u001b[1;32m     27\u001b[0m     )\n\u001b[1;32m     29\u001b[0m     fig\u001b[38;5;241m.\u001b[39mshow()\n\u001b[0;32m---> 30\u001b[0m \u001b[43mgeographic_diversification\u001b[49m\u001b[43m(\u001b[49m\u001b[43mportfolio_data\u001b[49m\u001b[43m)\u001b[49m\n",
      "Cell \u001b[0;32mIn[123], line 7\u001b[0m, in \u001b[0;36mgeographic_diversification\u001b[0;34m(portfolio_data)\u001b[0m\n\u001b[1;32m      1\u001b[0m \u001b[38;5;28;01mdef\u001b[39;00m \u001b[38;5;21mgeographic_diversification\u001b[39m(portfolio_data):\n\u001b[1;32m      2\u001b[0m     \u001b[38;5;124;03m\"\"\"\u001b[39;00m\n\u001b[1;32m      3\u001b[0m \u001b[38;5;124;03m    Plots total Par value by U.S. state.\u001b[39;00m\n\u001b[1;32m      4\u001b[0m \u001b[38;5;124;03m    Requires 'State' and 'Par' columns.\u001b[39;00m\n\u001b[1;32m      5\u001b[0m \u001b[38;5;124;03m    \"\"\"\u001b[39;00m\n\u001b[1;32m      6\u001b[0m     state_exposure \u001b[38;5;241m=\u001b[39m (\n\u001b[0;32m----> 7\u001b[0m         \u001b[43mportfolio_data\u001b[49m\u001b[38;5;241;43m.\u001b[39;49m\u001b[43mgroupby\u001b[49m\u001b[43m(\u001b[49m\u001b[38;5;124;43m'\u001b[39;49m\u001b[38;5;124;43mState\u001b[39;49m\u001b[38;5;124;43m'\u001b[39;49m\u001b[43m)\u001b[49m[\u001b[38;5;124m'\u001b[39m\u001b[38;5;124mPar\u001b[39m\u001b[38;5;124m'\u001b[39m]\n\u001b[1;32m      8\u001b[0m         \u001b[38;5;241m.\u001b[39msum()\n\u001b[1;32m      9\u001b[0m         \u001b[38;5;241m.\u001b[39mreset_index()\n\u001b[1;32m     10\u001b[0m         \u001b[38;5;241m.\u001b[39msort_values(by\u001b[38;5;241m=\u001b[39m\u001b[38;5;124m'\u001b[39m\u001b[38;5;124mPar\u001b[39m\u001b[38;5;124m'\u001b[39m, ascending\u001b[38;5;241m=\u001b[39m\u001b[38;5;28;01mFalse\u001b[39;00m)\n\u001b[1;32m     11\u001b[0m     )\n\u001b[1;32m     13\u001b[0m     fig \u001b[38;5;241m=\u001b[39m px\u001b[38;5;241m.\u001b[39mchoropleth(\n\u001b[1;32m     14\u001b[0m         state_exposure,\n\u001b[1;32m     15\u001b[0m         locations\u001b[38;5;241m=\u001b[39m\u001b[38;5;124m'\u001b[39m\u001b[38;5;124mState\u001b[39m\u001b[38;5;124m'\u001b[39m,\n\u001b[0;32m   (...)\u001b[0m\n\u001b[1;32m     20\u001b[0m         title\u001b[38;5;241m=\u001b[39m\u001b[38;5;124m'\u001b[39m\u001b[38;5;124mGeographic Diversification by Par Exposure\u001b[39m\u001b[38;5;124m'\u001b[39m\n\u001b[1;32m     21\u001b[0m     )\n\u001b[1;32m     23\u001b[0m     fig\u001b[38;5;241m.\u001b[39mupdate_layout(\n\u001b[1;32m     24\u001b[0m         geo\u001b[38;5;241m=\u001b[39m\u001b[38;5;28mdict\u001b[39m(showlakes\u001b[38;5;241m=\u001b[39m\u001b[38;5;28;01mTrue\u001b[39;00m, lakecolor\u001b[38;5;241m=\u001b[39m\u001b[38;5;124m'\u001b[39m\u001b[38;5;124mrgb(255, 255, 255)\u001b[39m\u001b[38;5;124m'\u001b[39m),\n\u001b[1;32m     25\u001b[0m         width\u001b[38;5;241m=\u001b[39m\u001b[38;5;241m950\u001b[39m,\n\u001b[1;32m     26\u001b[0m         height\u001b[38;5;241m=\u001b[39m\u001b[38;5;241m600\u001b[39m\n\u001b[1;32m     27\u001b[0m     )\n",
      "File \u001b[0;32m/usr/local/lib/python3.10/dist-packages/pandas/core/frame.py:9183\u001b[0m, in \u001b[0;36mDataFrame.groupby\u001b[0;34m(self, by, axis, level, as_index, sort, group_keys, observed, dropna)\u001b[0m\n\u001b[1;32m   9180\u001b[0m \u001b[38;5;28;01mif\u001b[39;00m level \u001b[38;5;129;01mis\u001b[39;00m \u001b[38;5;28;01mNone\u001b[39;00m \u001b[38;5;129;01mand\u001b[39;00m by \u001b[38;5;129;01mis\u001b[39;00m \u001b[38;5;28;01mNone\u001b[39;00m:\n\u001b[1;32m   9181\u001b[0m     \u001b[38;5;28;01mraise\u001b[39;00m \u001b[38;5;167;01mTypeError\u001b[39;00m(\u001b[38;5;124m\"\u001b[39m\u001b[38;5;124mYou have to supply one of \u001b[39m\u001b[38;5;124m'\u001b[39m\u001b[38;5;124mby\u001b[39m\u001b[38;5;124m'\u001b[39m\u001b[38;5;124m and \u001b[39m\u001b[38;5;124m'\u001b[39m\u001b[38;5;124mlevel\u001b[39m\u001b[38;5;124m'\u001b[39m\u001b[38;5;124m\"\u001b[39m)\n\u001b[0;32m-> 9183\u001b[0m \u001b[38;5;28;01mreturn\u001b[39;00m \u001b[43mDataFrameGroupBy\u001b[49m\u001b[43m(\u001b[49m\n\u001b[1;32m   9184\u001b[0m \u001b[43m    \u001b[49m\u001b[43mobj\u001b[49m\u001b[38;5;241;43m=\u001b[39;49m\u001b[38;5;28;43mself\u001b[39;49m\u001b[43m,\u001b[49m\n\u001b[1;32m   9185\u001b[0m \u001b[43m    \u001b[49m\u001b[43mkeys\u001b[49m\u001b[38;5;241;43m=\u001b[39;49m\u001b[43mby\u001b[49m\u001b[43m,\u001b[49m\n\u001b[1;32m   9186\u001b[0m \u001b[43m    \u001b[49m\u001b[43maxis\u001b[49m\u001b[38;5;241;43m=\u001b[39;49m\u001b[43maxis\u001b[49m\u001b[43m,\u001b[49m\n\u001b[1;32m   9187\u001b[0m \u001b[43m    \u001b[49m\u001b[43mlevel\u001b[49m\u001b[38;5;241;43m=\u001b[39;49m\u001b[43mlevel\u001b[49m\u001b[43m,\u001b[49m\n\u001b[1;32m   9188\u001b[0m \u001b[43m    \u001b[49m\u001b[43mas_index\u001b[49m\u001b[38;5;241;43m=\u001b[39;49m\u001b[43mas_index\u001b[49m\u001b[43m,\u001b[49m\n\u001b[1;32m   9189\u001b[0m \u001b[43m    \u001b[49m\u001b[43msort\u001b[49m\u001b[38;5;241;43m=\u001b[39;49m\u001b[43msort\u001b[49m\u001b[43m,\u001b[49m\n\u001b[1;32m   9190\u001b[0m \u001b[43m    \u001b[49m\u001b[43mgroup_keys\u001b[49m\u001b[38;5;241;43m=\u001b[39;49m\u001b[43mgroup_keys\u001b[49m\u001b[43m,\u001b[49m\n\u001b[1;32m   9191\u001b[0m \u001b[43m    \u001b[49m\u001b[43mobserved\u001b[49m\u001b[38;5;241;43m=\u001b[39;49m\u001b[43mobserved\u001b[49m\u001b[43m,\u001b[49m\n\u001b[1;32m   9192\u001b[0m \u001b[43m    \u001b[49m\u001b[43mdropna\u001b[49m\u001b[38;5;241;43m=\u001b[39;49m\u001b[43mdropna\u001b[49m\u001b[43m,\u001b[49m\n\u001b[1;32m   9193\u001b[0m \u001b[43m\u001b[49m\u001b[43m)\u001b[49m\n",
      "File \u001b[0;32m/usr/local/lib/python3.10/dist-packages/pandas/core/groupby/groupby.py:1329\u001b[0m, in \u001b[0;36mGroupBy.__init__\u001b[0;34m(self, obj, keys, axis, level, grouper, exclusions, selection, as_index, sort, group_keys, observed, dropna)\u001b[0m\n\u001b[1;32m   1326\u001b[0m \u001b[38;5;28mself\u001b[39m\u001b[38;5;241m.\u001b[39mdropna \u001b[38;5;241m=\u001b[39m dropna\n\u001b[1;32m   1328\u001b[0m \u001b[38;5;28;01mif\u001b[39;00m grouper \u001b[38;5;129;01mis\u001b[39;00m \u001b[38;5;28;01mNone\u001b[39;00m:\n\u001b[0;32m-> 1329\u001b[0m     grouper, exclusions, obj \u001b[38;5;241m=\u001b[39m \u001b[43mget_grouper\u001b[49m\u001b[43m(\u001b[49m\n\u001b[1;32m   1330\u001b[0m \u001b[43m        \u001b[49m\u001b[43mobj\u001b[49m\u001b[43m,\u001b[49m\n\u001b[1;32m   1331\u001b[0m \u001b[43m        \u001b[49m\u001b[43mkeys\u001b[49m\u001b[43m,\u001b[49m\n\u001b[1;32m   1332\u001b[0m \u001b[43m        \u001b[49m\u001b[43maxis\u001b[49m\u001b[38;5;241;43m=\u001b[39;49m\u001b[43maxis\u001b[49m\u001b[43m,\u001b[49m\n\u001b[1;32m   1333\u001b[0m \u001b[43m        \u001b[49m\u001b[43mlevel\u001b[49m\u001b[38;5;241;43m=\u001b[39;49m\u001b[43mlevel\u001b[49m\u001b[43m,\u001b[49m\n\u001b[1;32m   1334\u001b[0m \u001b[43m        \u001b[49m\u001b[43msort\u001b[49m\u001b[38;5;241;43m=\u001b[39;49m\u001b[43msort\u001b[49m\u001b[43m,\u001b[49m\n\u001b[1;32m   1335\u001b[0m \u001b[43m        \u001b[49m\u001b[43mobserved\u001b[49m\u001b[38;5;241;43m=\u001b[39;49m\u001b[38;5;28;43;01mFalse\u001b[39;49;00m\u001b[43m \u001b[49m\u001b[38;5;28;43;01mif\u001b[39;49;00m\u001b[43m \u001b[49m\u001b[43mobserved\u001b[49m\u001b[43m \u001b[49m\u001b[38;5;129;43;01mis\u001b[39;49;00m\u001b[43m \u001b[49m\u001b[43mlib\u001b[49m\u001b[38;5;241;43m.\u001b[39;49m\u001b[43mno_default\u001b[49m\u001b[43m \u001b[49m\u001b[38;5;28;43;01melse\u001b[39;49;00m\u001b[43m \u001b[49m\u001b[43mobserved\u001b[49m\u001b[43m,\u001b[49m\n\u001b[1;32m   1336\u001b[0m \u001b[43m        \u001b[49m\u001b[43mdropna\u001b[49m\u001b[38;5;241;43m=\u001b[39;49m\u001b[38;5;28;43mself\u001b[39;49m\u001b[38;5;241;43m.\u001b[39;49m\u001b[43mdropna\u001b[49m\u001b[43m,\u001b[49m\n\u001b[1;32m   1337\u001b[0m \u001b[43m    \u001b[49m\u001b[43m)\u001b[49m\n\u001b[1;32m   1339\u001b[0m \u001b[38;5;28;01mif\u001b[39;00m observed \u001b[38;5;129;01mis\u001b[39;00m lib\u001b[38;5;241m.\u001b[39mno_default:\n\u001b[1;32m   1340\u001b[0m     \u001b[38;5;28;01mif\u001b[39;00m \u001b[38;5;28many\u001b[39m(ping\u001b[38;5;241m.\u001b[39m_passed_categorical \u001b[38;5;28;01mfor\u001b[39;00m ping \u001b[38;5;129;01min\u001b[39;00m grouper\u001b[38;5;241m.\u001b[39mgroupings):\n",
      "File \u001b[0;32m/usr/local/lib/python3.10/dist-packages/pandas/core/groupby/grouper.py:1043\u001b[0m, in \u001b[0;36mget_grouper\u001b[0;34m(obj, key, axis, level, sort, observed, validate, dropna)\u001b[0m\n\u001b[1;32m   1041\u001b[0m         in_axis, level, gpr \u001b[38;5;241m=\u001b[39m \u001b[38;5;28;01mFalse\u001b[39;00m, gpr, \u001b[38;5;28;01mNone\u001b[39;00m\n\u001b[1;32m   1042\u001b[0m     \u001b[38;5;28;01melse\u001b[39;00m:\n\u001b[0;32m-> 1043\u001b[0m         \u001b[38;5;28;01mraise\u001b[39;00m \u001b[38;5;167;01mKeyError\u001b[39;00m(gpr)\n\u001b[1;32m   1044\u001b[0m \u001b[38;5;28;01melif\u001b[39;00m \u001b[38;5;28misinstance\u001b[39m(gpr, Grouper) \u001b[38;5;129;01mand\u001b[39;00m gpr\u001b[38;5;241m.\u001b[39mkey \u001b[38;5;129;01mis\u001b[39;00m \u001b[38;5;129;01mnot\u001b[39;00m \u001b[38;5;28;01mNone\u001b[39;00m:\n\u001b[1;32m   1045\u001b[0m     \u001b[38;5;66;03m# Add key to exclusions\u001b[39;00m\n\u001b[1;32m   1046\u001b[0m     exclusions\u001b[38;5;241m.\u001b[39madd(gpr\u001b[38;5;241m.\u001b[39mkey)\n",
      "\u001b[0;31mKeyError\u001b[0m: 'State'"
     ]
    }
   ],
   "source": [
    "def geographic_diversification(portfolio_data):\n",
    "    \"\"\"\n",
    "    Plots total Par value by U.S. state.\n",
    "    Requires 'State' and 'Par' columns.\n",
    "    \"\"\"\n",
    "    state_exposure = (\n",
    "        portfolio_data.groupby('State')['Par']\n",
    "        .sum()\n",
    "        .reset_index()\n",
    "        .sort_values(by='Par', ascending=False)\n",
    "    )\n",
    "\n",
    "    fig = px.choropleth(\n",
    "        state_exposure,\n",
    "        locations='State',\n",
    "        locationmode='USA-states',\n",
    "        color='Par',\n",
    "        color_continuous_scale='Blues',\n",
    "        scope='usa',\n",
    "        title='Geographic Diversification by Par Exposure'\n",
    "    )\n",
    "\n",
    "    fig.update_layout(\n",
    "        geo=dict(showlakes=True, lakecolor='rgb(255, 255, 255)'),\n",
    "        width=950,\n",
    "        height=600\n",
    "    )\n",
    "\n",
    "    fig.show()\n",
    "geographic_diversification(portfolio_data)"
   ]
  },
  {
   "cell_type": "code",
   "execution_count": 43,
   "metadata": {},
   "outputs": [
    {
     "data": {
      "text/html": [
       "<div>\n",
       "<style scoped>\n",
       "    .dataframe tbody tr th:only-of-type {\n",
       "        vertical-align: middle;\n",
       "    }\n",
       "\n",
       "    .dataframe tbody tr th {\n",
       "        vertical-align: top;\n",
       "    }\n",
       "\n",
       "    .dataframe thead th {\n",
       "        text-align: right;\n",
       "    }\n",
       "</style>\n",
       "<table border=\"1\" class=\"dataframe\">\n",
       "  <thead>\n",
       "    <tr style=\"text-align: right;\">\n",
       "      <th></th>\n",
       "      <th>cusip</th>\n",
       "      <th>Obligor</th>\n",
       "      <th>Obligor Name</th>\n",
       "      <th>maturity</th>\n",
       "      <th>coupon</th>\n",
       "      <th>Sec_Group</th>\n",
       "      <th>Sec_Type</th>\n",
       "      <th>book_yield</th>\n",
       "      <th>unrealized_gl</th>\n",
       "      <th>Par</th>\n",
       "      <th>Rating</th>\n",
       "      <th>Outlook</th>\n",
       "      <th>Sector_Level_1</th>\n",
       "      <th>Sector</th>\n",
       "      <th>County</th>\n",
       "      <th>State</th>\n",
       "      <th>ZIP</th>\n",
       "      <th>Latitude</th>\n",
       "      <th>Longitude</th>\n",
       "    </tr>\n",
       "  </thead>\n",
       "  <tbody>\n",
       "    <tr>\n",
       "      <th>0</th>\n",
       "      <td>4423485T1</td>\n",
       "      <td>210795</td>\n",
       "      <td>UNITED AIRLINES INC</td>\n",
       "      <td>2038-07-15</td>\n",
       "      <td>6.625</td>\n",
       "      <td>BND</td>\n",
       "      <td>MUNI</td>\n",
       "      <td>4.050000</td>\n",
       "      <td>-12979.08765</td>\n",
       "      <td>405000.0</td>\n",
       "      <td>BB3</td>\n",
       "      <td>Stable</td>\n",
       "      <td>CORP</td>\n",
       "      <td>AIRL</td>\n",
       "      <td>Cook, IL</td>\n",
       "      <td>IL</td>\n",
       "      <td>60606</td>\n",
       "      <td>41.8868</td>\n",
       "      <td>-87.6386</td>\n",
       "    </tr>\n",
       "    <tr>\n",
       "      <th>1</th>\n",
       "      <td>650116GP5</td>\n",
       "      <td>247361</td>\n",
       "      <td>DELTA AIR LINES INC</td>\n",
       "      <td>2040-04-01</td>\n",
       "      <td>5.625</td>\n",
       "      <td>BND</td>\n",
       "      <td>MUNI</td>\n",
       "      <td>5.807238</td>\n",
       "      <td>114091.81350</td>\n",
       "      <td>1050000.0</td>\n",
       "      <td>BBB3</td>\n",
       "      <td>Stable</td>\n",
       "      <td>CORP</td>\n",
       "      <td>AIRL</td>\n",
       "      <td>Fulton, GA</td>\n",
       "      <td>GA</td>\n",
       "      <td>30354</td>\n",
       "      <td>33.6675</td>\n",
       "      <td>-84.3896</td>\n",
       "    </tr>\n",
       "    <tr>\n",
       "      <th>2</th>\n",
       "      <td>424898FH2</td>\n",
       "      <td>424888</td>\n",
       "      <td>HENDERSON CNTY N C CTFS PARTN</td>\n",
       "      <td>2027-06-01</td>\n",
       "      <td>4.000</td>\n",
       "      <td>BND</td>\n",
       "      <td>MUNI</td>\n",
       "      <td>0.000000</td>\n",
       "      <td>20859.99580</td>\n",
       "      <td>20000.0</td>\n",
       "      <td>AA3</td>\n",
       "      <td>Stable</td>\n",
       "      <td>TAX</td>\n",
       "      <td>TAXLOCAL</td>\n",
       "      <td>Henderson, NC</td>\n",
       "      <td>NC</td>\n",
       "      <td>28792</td>\n",
       "      <td>35.3613</td>\n",
       "      <td>-82.4264</td>\n",
       "    </tr>\n",
       "    <tr>\n",
       "      <th>3</th>\n",
       "      <td>42806KAB9</td>\n",
       "      <td>42806C</td>\n",
       "      <td>HESPERIA CA CMNTY REDEV AGY</td>\n",
       "      <td>2027-09-01</td>\n",
       "      <td>5.000</td>\n",
       "      <td>BND</td>\n",
       "      <td>MUNI</td>\n",
       "      <td>2.461000</td>\n",
       "      <td>107533.14900</td>\n",
       "      <td>100000.0</td>\n",
       "      <td>A1</td>\n",
       "      <td>NaN</td>\n",
       "      <td>TAX</td>\n",
       "      <td>DEVDIST</td>\n",
       "      <td>San Bernardino, CA</td>\n",
       "      <td>CA</td>\n",
       "      <td>92345</td>\n",
       "      <td>34.4222</td>\n",
       "      <td>-117.3025</td>\n",
       "    </tr>\n",
       "    <tr>\n",
       "      <th>4</th>\n",
       "      <td>543103EB7</td>\n",
       "      <td>543103</td>\n",
       "      <td>LONGMONT COLO SALES &amp; USE TAX REVS</td>\n",
       "      <td>2028-11-15</td>\n",
       "      <td>5.000</td>\n",
       "      <td>BND</td>\n",
       "      <td>MUNI</td>\n",
       "      <td>0.000000</td>\n",
       "      <td>55808.56650</td>\n",
       "      <td>50000.0</td>\n",
       "      <td>AA1</td>\n",
       "      <td>Stable</td>\n",
       "      <td>TAX</td>\n",
       "      <td>TAXLOCAL</td>\n",
       "      <td>Boulder, CO</td>\n",
       "      <td>CO</td>\n",
       "      <td>80501</td>\n",
       "      <td>40.1779</td>\n",
       "      <td>-105.1009</td>\n",
       "    </tr>\n",
       "  </tbody>\n",
       "</table>\n",
       "</div>"
      ],
      "text/plain": [
       "       cusip Obligor                        Obligor Name   maturity  coupon  \\\n",
       "0  4423485T1  210795                 UNITED AIRLINES INC 2038-07-15   6.625   \n",
       "1  650116GP5  247361                 DELTA AIR LINES INC 2040-04-01   5.625   \n",
       "2  424898FH2  424888       HENDERSON CNTY N C CTFS PARTN 2027-06-01   4.000   \n",
       "3  42806KAB9  42806C         HESPERIA CA CMNTY REDEV AGY 2027-09-01   5.000   \n",
       "4  543103EB7  543103  LONGMONT COLO SALES & USE TAX REVS 2028-11-15   5.000   \n",
       "\n",
       "  Sec_Group Sec_Type  book_yield  unrealized_gl        Par Rating Outlook  \\\n",
       "0       BND     MUNI    4.050000   -12979.08765   405000.0    BB3  Stable   \n",
       "1       BND     MUNI    5.807238   114091.81350  1050000.0   BBB3  Stable   \n",
       "2       BND     MUNI    0.000000    20859.99580    20000.0    AA3  Stable   \n",
       "3       BND     MUNI    2.461000   107533.14900   100000.0     A1     NaN   \n",
       "4       BND     MUNI    0.000000    55808.56650    50000.0    AA1  Stable   \n",
       "\n",
       "  Sector_Level_1    Sector              County State    ZIP  Latitude  \\\n",
       "0           CORP      AIRL            Cook, IL    IL  60606   41.8868   \n",
       "1           CORP      AIRL          Fulton, GA    GA  30354   33.6675   \n",
       "2            TAX  TAXLOCAL       Henderson, NC    NC  28792   35.3613   \n",
       "3            TAX   DEVDIST  San Bernardino, CA    CA  92345   34.4222   \n",
       "4            TAX  TAXLOCAL         Boulder, CO    CO  80501   40.1779   \n",
       "\n",
       "   Longitude  \n",
       "0   -87.6386  \n",
       "1   -84.3896  \n",
       "2   -82.4264  \n",
       "3  -117.3025  \n",
       "4  -105.1009  "
      ]
     },
     "execution_count": 43,
     "metadata": {},
     "output_type": "execute_result"
    }
   ],
   "source": [
    "location_data_unique.head()"
   ]
  },
  {
   "cell_type": "code",
   "execution_count": 56,
   "metadata": {},
   "outputs": [],
   "source": [
    "# Create a mapping dictionary from sector_dcodes\n",
    "sector_map = dict(zip(sector_dcodes['Sector'], sector_dcodes['Sector_Full']))\n",
    "\n",
    "# Map and create new column in portfolio_data\n",
    "portfolio_data['Sector_Full'] = portfolio_data['Sector'].map(sector_map)\n"
   ]
  },
  {
   "cell_type": "code",
   "execution_count": 73,
   "metadata": {},
   "outputs": [],
   "source": [
    "merged_data_unique.to_csv(\"test.csv\")"
   ]
  },
  {
   "cell_type": "code",
   "execution_count": null,
   "metadata": {},
   "outputs": [],
   "source": []
  },
  {
   "cell_type": "code",
   "execution_count": 71,
   "metadata": {},
   "outputs": [],
   "source": [
    "import folium\n",
    "from folium.plugins import MarkerCluster, HeatMap\n",
    "import pandas as pd\n",
    "\n",
    "def generate_obligor_map(location_data_unique):\n",
    "    \"\"\"\n",
    "    Generates a folium map with marker clusters, multiple basemaps, and heatmap overlay.\n",
    "\n",
    "    Args:\n",
    "        location_data_unique (pd.DataFrame): DataFrame with columns:\n",
    "            - 'Obligor Name', 'County', 'State', 'ZIP', 'Latitude', 'Longitude'\n",
    "\n",
    "    Returns:\n",
    "        folium.Map: Interactive map object with larger size\n",
    "    \"\"\"\n",
    "\n",
    "    # Create base map with larger dimensions\n",
    "    m = folium.Map(\n",
    "        location=[39.8283, -98.5795],\n",
    "        zoom_start=4,\n",
    "        tiles=None,\n",
    "        width='100%',      # full width\n",
    "        height='700px'     # increased height\n",
    "    )\n",
    "\n",
    "    # Add basemap tile layers with attribution\n",
    "    tile_layers = [\n",
    "        {\n",
    "            \"name\": \"CartoDB Light\",\n",
    "            \"tiles\": \"https://cartodb-basemaps-a.global.ssl.fastly.net/light_all/{z}/{x}/{y}.png\",\n",
    "            \"attr\": \"©OpenStreetMap, ©CartoDB\"\n",
    "        }\n",
    "    ]\n",
    "\n",
    "    for tile in tile_layers:\n",
    "        folium.TileLayer(tiles=tile[\"tiles\"], name=tile[\"name\"], attr=tile[\"attr\"]).add_to(m)\n",
    "\n",
    "    # Marker Cluster Layer\n",
    "    marker_group = folium.FeatureGroup(name=\"Obligor Markers\").add_to(m)\n",
    "    marker_cluster = MarkerCluster().add_to(marker_group)\n",
    "\n",
    "    for _, row in merged_data_unique.iterrows():\n",
    "        if pd.isna(row['Latitude']) or pd.isna(row['Longitude']):\n",
    "            continue  # skip incomplete coordinates\n",
    "\n",
    "        popup_html = f\"\"\"\n",
    "        <b>{row['Obligor Name']}</b><br>\n",
    "        County: {row['County']}<br>\n",
    "        State: {row['State']}<br>\n",
    "        ZIP: {row['ZIP']}<br>\n",
    "        Sector: {row['Sector']}<br>\n",
    "        \"\"\"\n",
    "        folium.Marker(\n",
    "            location=[row['Latitude'], row['Longitude']],\n",
    "            popup=folium.Popup(popup_html, max_width=300),\n",
    "            tooltip=row['Obligor Name']\n",
    "        ).add_to(marker_cluster)\n",
    "\n",
    "    # Heatmap layer\n",
    "    heat_data = location_data_unique[['Latitude', 'Longitude']].dropna().values.tolist()\n",
    "    heatmap_layer = folium.FeatureGroup(name=\"Heat Map\")\n",
    "    HeatMap(heat_data, radius=15, blur=10).add_to(heatmap_layer)\n",
    "    heatmap_layer.add_to(m)\n",
    "\n",
    "    # Layer control\n",
    "    folium.LayerControl(collapsed=False).add_to(m)\n",
    "\n",
    "    return m\n"
   ]
  },
  {
   "cell_type": "code",
   "execution_count": 89,
   "metadata": {},
   "outputs": [],
   "source": [
    "# generate_obligor_map(location_data_unique)\n",
    "# st_folium(map_obj, width=700, height=500)"
   ]
  },
  {
   "cell_type": "code",
   "execution_count": 67,
   "metadata": {},
   "outputs": [
    {
     "data": {
      "text/html": [
       "<div>\n",
       "<style scoped>\n",
       "    .dataframe tbody tr th:only-of-type {\n",
       "        vertical-align: middle;\n",
       "    }\n",
       "\n",
       "    .dataframe tbody tr th {\n",
       "        vertical-align: top;\n",
       "    }\n",
       "\n",
       "    .dataframe thead th {\n",
       "        text-align: right;\n",
       "    }\n",
       "</style>\n",
       "<table border=\"1\" class=\"dataframe\">\n",
       "  <thead>\n",
       "    <tr style=\"text-align: right;\">\n",
       "      <th></th>\n",
       "      <th>cusip</th>\n",
       "      <th>Obligor</th>\n",
       "      <th>Obligor Name</th>\n",
       "      <th>maturity</th>\n",
       "      <th>coupon</th>\n",
       "      <th>Sec_Group</th>\n",
       "      <th>Sec_Type</th>\n",
       "      <th>book_yield</th>\n",
       "      <th>unrealized_gl</th>\n",
       "      <th>Par</th>\n",
       "      <th>Rating</th>\n",
       "      <th>Outlook</th>\n",
       "      <th>Sector_Level_1</th>\n",
       "      <th>Sector</th>\n",
       "      <th>Sector_Full</th>\n",
       "    </tr>\n",
       "  </thead>\n",
       "  <tbody>\n",
       "    <tr>\n",
       "      <th>0</th>\n",
       "      <td>546398ZP6</td>\n",
       "      <td>009158</td>\n",
       "      <td>AIR PRODUCTS AND CHEMICALS INC</td>\n",
       "      <td>2043-12-01</td>\n",
       "      <td>-99.000</td>\n",
       "      <td>CASH</td>\n",
       "      <td>MVRDN</td>\n",
       "      <td>3.00000</td>\n",
       "      <td>0.00000</td>\n",
       "      <td>37000000.0</td>\n",
       "      <td>A1</td>\n",
       "      <td>NaN</td>\n",
       "      <td>CORP</td>\n",
       "      <td>CHEM</td>\n",
       "      <td>NaN</td>\n",
       "    </tr>\n",
       "    <tr>\n",
       "      <th>1</th>\n",
       "      <td>56678TAA7</td>\n",
       "      <td>201723</td>\n",
       "      <td>COMMERCIAL METALS COMPANY</td>\n",
       "      <td>2047-10-15</td>\n",
       "      <td>4.000</td>\n",
       "      <td>BND</td>\n",
       "      <td>MUNI</td>\n",
       "      <td>3.65993</td>\n",
       "      <td>-861401.04000</td>\n",
       "      <td>7175000.0</td>\n",
       "      <td>BB1</td>\n",
       "      <td>Stable</td>\n",
       "      <td>CORP</td>\n",
       "      <td>METL</td>\n",
       "      <td>NaN</td>\n",
       "    </tr>\n",
       "    <tr>\n",
       "      <th>2</th>\n",
       "      <td>64984EDG7</td>\n",
       "      <td>209111</td>\n",
       "      <td>CONSOLIDATED EDISON COMPANY OF NEW YORK INC</td>\n",
       "      <td>2039-05-01</td>\n",
       "      <td>-99.000</td>\n",
       "      <td>CASH</td>\n",
       "      <td>MVRDN</td>\n",
       "      <td>4.55000</td>\n",
       "      <td>99999.90000</td>\n",
       "      <td>100000.0</td>\n",
       "      <td>BBB1</td>\n",
       "      <td>Stable</td>\n",
       "      <td>CORP</td>\n",
       "      <td>ELEC</td>\n",
       "      <td>IDB</td>\n",
       "    </tr>\n",
       "    <tr>\n",
       "      <th>3</th>\n",
       "      <td>4423485T1</td>\n",
       "      <td>210795</td>\n",
       "      <td>UNITED AIRLINES INC</td>\n",
       "      <td>2038-07-15</td>\n",
       "      <td>6.625</td>\n",
       "      <td>BND</td>\n",
       "      <td>MUNI</td>\n",
       "      <td>4.05000</td>\n",
       "      <td>-12979.08765</td>\n",
       "      <td>405000.0</td>\n",
       "      <td>BB3</td>\n",
       "      <td>Stable</td>\n",
       "      <td>CORP</td>\n",
       "      <td>AIRL</td>\n",
       "      <td>NaN</td>\n",
       "    </tr>\n",
       "    <tr>\n",
       "      <th>4</th>\n",
       "      <td>13050RAA0</td>\n",
       "      <td>210795</td>\n",
       "      <td>UNITED AIRLINES INC</td>\n",
       "      <td>2029-07-15</td>\n",
       "      <td>4.000</td>\n",
       "      <td>BND</td>\n",
       "      <td>MUNI</td>\n",
       "      <td>4.23300</td>\n",
       "      <td>32715.02500</td>\n",
       "      <td>2500000.0</td>\n",
       "      <td>BB3</td>\n",
       "      <td>Stable</td>\n",
       "      <td>CORP</td>\n",
       "      <td>AIRL</td>\n",
       "      <td>NaN</td>\n",
       "    </tr>\n",
       "    <tr>\n",
       "      <th>...</th>\n",
       "      <td>...</td>\n",
       "      <td>...</td>\n",
       "      <td>...</td>\n",
       "      <td>...</td>\n",
       "      <td>...</td>\n",
       "      <td>...</td>\n",
       "      <td>...</td>\n",
       "      <td>...</td>\n",
       "      <td>...</td>\n",
       "      <td>...</td>\n",
       "      <td>...</td>\n",
       "      <td>...</td>\n",
       "      <td>...</td>\n",
       "      <td>...</td>\n",
       "      <td>...</td>\n",
       "    </tr>\n",
       "    <tr>\n",
       "      <th>8098</th>\n",
       "      <td>13057EHB3</td>\n",
       "      <td>R96714</td>\n",
       "      <td>SHARP HEALTHCARE</td>\n",
       "      <td>2029-08-01</td>\n",
       "      <td>5.000</td>\n",
       "      <td>BND</td>\n",
       "      <td>MUNI</td>\n",
       "      <td>2.40000</td>\n",
       "      <td>56841.72400</td>\n",
       "      <td>50000.0</td>\n",
       "      <td>AA3</td>\n",
       "      <td>Stable</td>\n",
       "      <td>HEALTH</td>\n",
       "      <td>HOSP</td>\n",
       "      <td>Hospital</td>\n",
       "    </tr>\n",
       "    <tr>\n",
       "      <th>8099</th>\n",
       "      <td>57585BAA6</td>\n",
       "      <td>R97926</td>\n",
       "      <td>BOSTON CHILDRENS HOSPITAL TRUST</td>\n",
       "      <td>2034-03-01</td>\n",
       "      <td>5.000</td>\n",
       "      <td>BND</td>\n",
       "      <td>MUNI</td>\n",
       "      <td>2.71100</td>\n",
       "      <td>212470.44175</td>\n",
       "      <td>175000.0</td>\n",
       "      <td>NaN</td>\n",
       "      <td>NaN</td>\n",
       "      <td>HEALTH</td>\n",
       "      <td>HOSP</td>\n",
       "      <td>Hospital</td>\n",
       "    </tr>\n",
       "    <tr>\n",
       "      <th>8100</th>\n",
       "      <td>57584YLJ6</td>\n",
       "      <td>R97932</td>\n",
       "      <td>BRANDEIS UNIVERSITY</td>\n",
       "      <td>2039-10-01</td>\n",
       "      <td>5.000</td>\n",
       "      <td>BND</td>\n",
       "      <td>MUNI</td>\n",
       "      <td>0.00000</td>\n",
       "      <td>21646.72540</td>\n",
       "      <td>20000.0</td>\n",
       "      <td>A1</td>\n",
       "      <td>Stable</td>\n",
       "      <td>EDUC</td>\n",
       "      <td>UNIVPRIV</td>\n",
       "      <td>Private University</td>\n",
       "    </tr>\n",
       "    <tr>\n",
       "      <th>8101</th>\n",
       "      <td>57584YLG2</td>\n",
       "      <td>R97932</td>\n",
       "      <td>BRANDEIS UNIVERSITY</td>\n",
       "      <td>2037-10-01</td>\n",
       "      <td>5.000</td>\n",
       "      <td>BND</td>\n",
       "      <td>MUNI</td>\n",
       "      <td>0.00000</td>\n",
       "      <td>10948.00560</td>\n",
       "      <td>10000.0</td>\n",
       "      <td>A1</td>\n",
       "      <td>Stable</td>\n",
       "      <td>EDUC</td>\n",
       "      <td>UNIVPRIV</td>\n",
       "      <td>Private University</td>\n",
       "    </tr>\n",
       "    <tr>\n",
       "      <th>8102</th>\n",
       "      <td>57584YNQ8</td>\n",
       "      <td>R97932</td>\n",
       "      <td>BRANDEIS UNIVERSITY</td>\n",
       "      <td>2027-10-01</td>\n",
       "      <td>5.000</td>\n",
       "      <td>BND</td>\n",
       "      <td>MUNI</td>\n",
       "      <td>2.66000</td>\n",
       "      <td>48880.43955</td>\n",
       "      <td>45000.0</td>\n",
       "      <td>A1</td>\n",
       "      <td>Stable</td>\n",
       "      <td>EDUC</td>\n",
       "      <td>UNIVPRIV</td>\n",
       "      <td>Private University</td>\n",
       "    </tr>\n",
       "  </tbody>\n",
       "</table>\n",
       "<p>8103 rows × 15 columns</p>\n",
       "</div>"
      ],
      "text/plain": [
       "          cusip Obligor                                 Obligor Name  \\\n",
       "0     546398ZP6  009158               AIR PRODUCTS AND CHEMICALS INC   \n",
       "1     56678TAA7  201723                    COMMERCIAL METALS COMPANY   \n",
       "2     64984EDG7  209111  CONSOLIDATED EDISON COMPANY OF NEW YORK INC   \n",
       "3     4423485T1  210795                          UNITED AIRLINES INC   \n",
       "4     13050RAA0  210795                          UNITED AIRLINES INC   \n",
       "...         ...     ...                                          ...   \n",
       "8098  13057EHB3  R96714                             SHARP HEALTHCARE   \n",
       "8099  57585BAA6  R97926              BOSTON CHILDRENS HOSPITAL TRUST   \n",
       "8100  57584YLJ6  R97932                          BRANDEIS UNIVERSITY   \n",
       "8101  57584YLG2  R97932                          BRANDEIS UNIVERSITY   \n",
       "8102  57584YNQ8  R97932                          BRANDEIS UNIVERSITY   \n",
       "\n",
       "       maturity  coupon Sec_Group Sec_Type  book_yield  unrealized_gl  \\\n",
       "0    2043-12-01 -99.000      CASH    MVRDN     3.00000        0.00000   \n",
       "1    2047-10-15   4.000       BND     MUNI     3.65993  -861401.04000   \n",
       "2    2039-05-01 -99.000      CASH    MVRDN     4.55000    99999.90000   \n",
       "3    2038-07-15   6.625       BND     MUNI     4.05000   -12979.08765   \n",
       "4    2029-07-15   4.000       BND     MUNI     4.23300    32715.02500   \n",
       "...         ...     ...       ...      ...         ...            ...   \n",
       "8098 2029-08-01   5.000       BND     MUNI     2.40000    56841.72400   \n",
       "8099 2034-03-01   5.000       BND     MUNI     2.71100   212470.44175   \n",
       "8100 2039-10-01   5.000       BND     MUNI     0.00000    21646.72540   \n",
       "8101 2037-10-01   5.000       BND     MUNI     0.00000    10948.00560   \n",
       "8102 2027-10-01   5.000       BND     MUNI     2.66000    48880.43955   \n",
       "\n",
       "             Par Rating Outlook Sector_Level_1    Sector         Sector_Full  \n",
       "0     37000000.0     A1     NaN           CORP      CHEM                 NaN  \n",
       "1      7175000.0    BB1  Stable           CORP      METL                 NaN  \n",
       "2       100000.0   BBB1  Stable           CORP      ELEC                 IDB  \n",
       "3       405000.0    BB3  Stable           CORP      AIRL                 NaN  \n",
       "4      2500000.0    BB3  Stable           CORP      AIRL                 NaN  \n",
       "...          ...    ...     ...            ...       ...                 ...  \n",
       "8098     50000.0    AA3  Stable         HEALTH      HOSP            Hospital  \n",
       "8099    175000.0    NaN     NaN         HEALTH      HOSP            Hospital  \n",
       "8100     20000.0     A1  Stable           EDUC  UNIVPRIV  Private University  \n",
       "8101     10000.0     A1  Stable           EDUC  UNIVPRIV  Private University  \n",
       "8102     45000.0     A1  Stable           EDUC  UNIVPRIV  Private University  \n",
       "\n",
       "[8103 rows x 15 columns]"
      ]
     },
     "execution_count": 67,
     "metadata": {},
     "output_type": "execute_result"
    }
   ],
   "source": [
    "portfolio_data"
   ]
  },
  {
   "cell_type": "code",
   "execution_count": 70,
   "metadata": {},
   "outputs": [
    {
     "data": {
      "application/vnd.plotly.v1+json": {
       "config": {
        "plotlyServerURL": "https://plot.ly"
       },
       "data": [
        {
         "hovertemplate": "Par Amount=%{marker.color}<br>Obligor=%{y}<extra></extra>",
         "legendgroup": "",
         "marker": {
          "color": {
           "_inputArray": {
            "0": 132645000,
            "1": 89862500,
            "10": 32065000,
            "11": 31635000,
            "12": 30800000,
            "13": 29395000,
            "14": 28905000,
            "15": 28400000,
            "16": 24197598.92,
            "17": 23860000,
            "18": 23766000,
            "19": 23715000,
            "2": 58120000,
            "3": 57556000,
            "4": 37000000,
            "5": 36347000,
            "6": 34470000,
            "7": 33760000,
            "8": 33727500,
            "9": 32215000,
            "bdata": "AAAAIAKgn0EAAACQxWyVQQAAAAC6totBAAAAAOFxi0EAAAAAmqSBQQAAAMDjVIFBAAAAgMNvgEEAAAAAGBmAQQAAAGAgFYBBAAAAgP24fkEAAACAXpR+QQAAAIBjK35BAAAAAIhffUEAAACAgwh8QQAAAIDikHtBAAAAAJgVe0HsUbjunRN3QQAAAAAywXZBAAAAAD+qdkEAAACAy512QQ==",
            "dtype": "f8",
            "shape": "20"
           },
           "bdata": "AAAAIAKgn0EAAACQxWyVQQAAAAC6totBAAAAAOFxi0EAAAAAmqSBQQAAAMDjVIFBAAAAgMNvgEEAAAAAGBmAQQAAAGAgFYBBAAAAgP24fkEAAACAXpR+QQAAAIBjK35BAAAAAIhffUEAAACAgwh8QQAAAIDikHtBAAAAAJgVe0HsUbjunRN3QQAAAAAywXZBAAAAAD+qdkEAAACAy512QQ==",
           "dtype": "f8"
          },
          "coloraxis": "coloraxis",
          "pattern": {
           "shape": ""
          }
         },
         "name": "",
         "orientation": "h",
         "showlegend": false,
         "textposition": "auto",
         "type": "bar",
         "x": {
          "_inputArray": {
           "0": 132645000,
           "1": 89862500,
           "10": 32065000,
           "11": 31635000,
           "12": 30800000,
           "13": 29395000,
           "14": 28905000,
           "15": 28400000,
           "16": 24197598.92,
           "17": 23860000,
           "18": 23766000,
           "19": 23715000,
           "2": 58120000,
           "3": 57556000,
           "4": 37000000,
           "5": 36347000,
           "6": 34470000,
           "7": 33760000,
           "8": 33727500,
           "9": 32215000,
           "bdata": "AAAAIAKgn0EAAACQxWyVQQAAAAC6totBAAAAAOFxi0EAAAAAmqSBQQAAAMDjVIFBAAAAgMNvgEEAAAAAGBmAQQAAAGAgFYBBAAAAgP24fkEAAACAXpR+QQAAAIBjK35BAAAAAIhffUEAAACAgwh8QQAAAIDikHtBAAAAAJgVe0HsUbjunRN3QQAAAAAywXZBAAAAAD+qdkEAAACAy512QQ==",
           "dtype": "f8",
           "shape": "20"
          },
          "bdata": "AAAAIAKgn0EAAACQxWyVQQAAAAC6totBAAAAAOFxi0EAAAAAmqSBQQAAAMDjVIFBAAAAgMNvgEEAAAAAGBmAQQAAAGAgFYBBAAAAgP24fkEAAACAXpR+QQAAAIBjK35BAAAAAIhffUEAAACAgwh8QQAAAIDikHtBAAAAAJgVe0HsUbjunRN3QQAAAAAywXZBAAAAAD+qdkEAAACAy512QQ==",
          "dtype": "f8"
         },
         "xaxis": "x",
         "y": [
          "NEW YORK STATE PERSONAL INCOME TAX BONDS",
          "CALIFORNIA (STATE OF)",
          "NEW YORK CITY TRANSITIONAL FIN AUTH",
          "CONNECTICUT (STATE OF)",
          "AIR PRODUCTS AND CHEMICALS INC",
          "UNIVERSITY OF CHICAGO",
          "PENNSYLVANIA ST TURNPIKE COMMISSION",
          "WASHINGTON (STATE OF)",
          "NEW YORK CITY OF",
          "NEW JERSEY ST TURNPIKE AUTHORITY",
          "PORT AUTHORITY OF NEW YORK AND NEW JERSEY",
          "WFCS HOLDINGS LLC - SUBORDINATE",
          "LOS ANGELES INTL ARPT",
          "NEW JERSEY TRANSPORTATION TRUST FUND AUTHORITY",
          "SAN JOSE CALIF UNI SCH DIST",
          "NEW YORK CITY MUNICIPAL WATER FINANCE AUTHORITY",
          "MASSACHUSETTS (COMMONWEALTH OF)",
          "VIRGINIA ST HSG DEV AUTH",
          "UNIVERSITY OF CALIFORNIA",
          "METROPOLITAN TRANSPORTATION AUTHORITY"
         ],
         "yaxis": "y"
        }
       ],
       "layout": {
        "autosize": true,
        "barmode": "relative",
        "coloraxis": {
         "colorbar": {
          "title": {
           "text": "Par Amount"
          }
         },
         "colorscale": [
          [
           0,
           "rgb(0, 0, 0)"
          ],
          [
           0.25,
           "rgb(230,0,0)"
          ],
          [
           0.5,
           "rgb(230,210,0)"
          ],
          [
           0.75,
           "rgb(255,255,255)"
          ],
          [
           1,
           "rgb(160,200,255)"
          ]
         ]
        },
        "dragmode": "pan",
        "legend": {
         "tracegroupgap": 0
        },
        "template": {
         "data": {
          "bar": [
           {
            "error_x": {
             "color": "#2a3f5f"
            },
            "error_y": {
             "color": "#2a3f5f"
            },
            "marker": {
             "line": {
              "color": "#E5ECF6",
              "width": 0.5
             },
             "pattern": {
              "fillmode": "overlay",
              "size": 10,
              "solidity": 0.2
             }
            },
            "type": "bar"
           }
          ],
          "barpolar": [
           {
            "marker": {
             "line": {
              "color": "#E5ECF6",
              "width": 0.5
             },
             "pattern": {
              "fillmode": "overlay",
              "size": 10,
              "solidity": 0.2
             }
            },
            "type": "barpolar"
           }
          ],
          "carpet": [
           {
            "aaxis": {
             "endlinecolor": "#2a3f5f",
             "gridcolor": "white",
             "linecolor": "white",
             "minorgridcolor": "white",
             "startlinecolor": "#2a3f5f"
            },
            "baxis": {
             "endlinecolor": "#2a3f5f",
             "gridcolor": "white",
             "linecolor": "white",
             "minorgridcolor": "white",
             "startlinecolor": "#2a3f5f"
            },
            "type": "carpet"
           }
          ],
          "choropleth": [
           {
            "colorbar": {
             "outlinewidth": 0,
             "ticks": ""
            },
            "type": "choropleth"
           }
          ],
          "contour": [
           {
            "colorbar": {
             "outlinewidth": 0,
             "ticks": ""
            },
            "colorscale": [
             [
              0,
              "#0d0887"
             ],
             [
              0.1111111111111111,
              "#46039f"
             ],
             [
              0.2222222222222222,
              "#7201a8"
             ],
             [
              0.3333333333333333,
              "#9c179e"
             ],
             [
              0.4444444444444444,
              "#bd3786"
             ],
             [
              0.5555555555555556,
              "#d8576b"
             ],
             [
              0.6666666666666666,
              "#ed7953"
             ],
             [
              0.7777777777777778,
              "#fb9f3a"
             ],
             [
              0.8888888888888888,
              "#fdca26"
             ],
             [
              1,
              "#f0f921"
             ]
            ],
            "type": "contour"
           }
          ],
          "contourcarpet": [
           {
            "colorbar": {
             "outlinewidth": 0,
             "ticks": ""
            },
            "type": "contourcarpet"
           }
          ],
          "heatmap": [
           {
            "colorbar": {
             "outlinewidth": 0,
             "ticks": ""
            },
            "colorscale": [
             [
              0,
              "#0d0887"
             ],
             [
              0.1111111111111111,
              "#46039f"
             ],
             [
              0.2222222222222222,
              "#7201a8"
             ],
             [
              0.3333333333333333,
              "#9c179e"
             ],
             [
              0.4444444444444444,
              "#bd3786"
             ],
             [
              0.5555555555555556,
              "#d8576b"
             ],
             [
              0.6666666666666666,
              "#ed7953"
             ],
             [
              0.7777777777777778,
              "#fb9f3a"
             ],
             [
              0.8888888888888888,
              "#fdca26"
             ],
             [
              1,
              "#f0f921"
             ]
            ],
            "type": "heatmap"
           }
          ],
          "histogram": [
           {
            "marker": {
             "pattern": {
              "fillmode": "overlay",
              "size": 10,
              "solidity": 0.2
             }
            },
            "type": "histogram"
           }
          ],
          "histogram2d": [
           {
            "colorbar": {
             "outlinewidth": 0,
             "ticks": ""
            },
            "colorscale": [
             [
              0,
              "#0d0887"
             ],
             [
              0.1111111111111111,
              "#46039f"
             ],
             [
              0.2222222222222222,
              "#7201a8"
             ],
             [
              0.3333333333333333,
              "#9c179e"
             ],
             [
              0.4444444444444444,
              "#bd3786"
             ],
             [
              0.5555555555555556,
              "#d8576b"
             ],
             [
              0.6666666666666666,
              "#ed7953"
             ],
             [
              0.7777777777777778,
              "#fb9f3a"
             ],
             [
              0.8888888888888888,
              "#fdca26"
             ],
             [
              1,
              "#f0f921"
             ]
            ],
            "type": "histogram2d"
           }
          ],
          "histogram2dcontour": [
           {
            "colorbar": {
             "outlinewidth": 0,
             "ticks": ""
            },
            "colorscale": [
             [
              0,
              "#0d0887"
             ],
             [
              0.1111111111111111,
              "#46039f"
             ],
             [
              0.2222222222222222,
              "#7201a8"
             ],
             [
              0.3333333333333333,
              "#9c179e"
             ],
             [
              0.4444444444444444,
              "#bd3786"
             ],
             [
              0.5555555555555556,
              "#d8576b"
             ],
             [
              0.6666666666666666,
              "#ed7953"
             ],
             [
              0.7777777777777778,
              "#fb9f3a"
             ],
             [
              0.8888888888888888,
              "#fdca26"
             ],
             [
              1,
              "#f0f921"
             ]
            ],
            "type": "histogram2dcontour"
           }
          ],
          "mesh3d": [
           {
            "colorbar": {
             "outlinewidth": 0,
             "ticks": ""
            },
            "type": "mesh3d"
           }
          ],
          "parcoords": [
           {
            "line": {
             "colorbar": {
              "outlinewidth": 0,
              "ticks": ""
             }
            },
            "type": "parcoords"
           }
          ],
          "pie": [
           {
            "automargin": true,
            "type": "pie"
           }
          ],
          "scatter": [
           {
            "fillpattern": {
             "fillmode": "overlay",
             "size": 10,
             "solidity": 0.2
            },
            "type": "scatter"
           }
          ],
          "scatter3d": [
           {
            "line": {
             "colorbar": {
              "outlinewidth": 0,
              "ticks": ""
             }
            },
            "marker": {
             "colorbar": {
              "outlinewidth": 0,
              "ticks": ""
             }
            },
            "type": "scatter3d"
           }
          ],
          "scattercarpet": [
           {
            "marker": {
             "colorbar": {
              "outlinewidth": 0,
              "ticks": ""
             }
            },
            "type": "scattercarpet"
           }
          ],
          "scattergeo": [
           {
            "marker": {
             "colorbar": {
              "outlinewidth": 0,
              "ticks": ""
             }
            },
            "type": "scattergeo"
           }
          ],
          "scattergl": [
           {
            "marker": {
             "colorbar": {
              "outlinewidth": 0,
              "ticks": ""
             }
            },
            "type": "scattergl"
           }
          ],
          "scattermap": [
           {
            "marker": {
             "colorbar": {
              "outlinewidth": 0,
              "ticks": ""
             }
            },
            "type": "scattermap"
           }
          ],
          "scattermapbox": [
           {
            "marker": {
             "colorbar": {
              "outlinewidth": 0,
              "ticks": ""
             }
            },
            "type": "scattermapbox"
           }
          ],
          "scatterpolar": [
           {
            "marker": {
             "colorbar": {
              "outlinewidth": 0,
              "ticks": ""
             }
            },
            "type": "scatterpolar"
           }
          ],
          "scatterpolargl": [
           {
            "marker": {
             "colorbar": {
              "outlinewidth": 0,
              "ticks": ""
             }
            },
            "type": "scatterpolargl"
           }
          ],
          "scatterternary": [
           {
            "marker": {
             "colorbar": {
              "outlinewidth": 0,
              "ticks": ""
             }
            },
            "type": "scatterternary"
           }
          ],
          "surface": [
           {
            "colorbar": {
             "outlinewidth": 0,
             "ticks": ""
            },
            "colorscale": [
             [
              0,
              "#0d0887"
             ],
             [
              0.1111111111111111,
              "#46039f"
             ],
             [
              0.2222222222222222,
              "#7201a8"
             ],
             [
              0.3333333333333333,
              "#9c179e"
             ],
             [
              0.4444444444444444,
              "#bd3786"
             ],
             [
              0.5555555555555556,
              "#d8576b"
             ],
             [
              0.6666666666666666,
              "#ed7953"
             ],
             [
              0.7777777777777778,
              "#fb9f3a"
             ],
             [
              0.8888888888888888,
              "#fdca26"
             ],
             [
              1,
              "#f0f921"
             ]
            ],
            "type": "surface"
           }
          ],
          "table": [
           {
            "cells": {
             "fill": {
              "color": "#EBF0F8"
             },
             "line": {
              "color": "white"
             }
            },
            "header": {
             "fill": {
              "color": "#C8D4E3"
             },
             "line": {
              "color": "white"
             }
            },
            "type": "table"
           }
          ]
         },
         "layout": {
          "annotationdefaults": {
           "arrowcolor": "#2a3f5f",
           "arrowhead": 0,
           "arrowwidth": 1
          },
          "autotypenumbers": "strict",
          "coloraxis": {
           "colorbar": {
            "outlinewidth": 0,
            "ticks": ""
           }
          },
          "colorscale": {
           "diverging": [
            [
             0,
             "#8e0152"
            ],
            [
             0.1,
             "#c51b7d"
            ],
            [
             0.2,
             "#de77ae"
            ],
            [
             0.3,
             "#f1b6da"
            ],
            [
             0.4,
             "#fde0ef"
            ],
            [
             0.5,
             "#f7f7f7"
            ],
            [
             0.6,
             "#e6f5d0"
            ],
            [
             0.7,
             "#b8e186"
            ],
            [
             0.8,
             "#7fbc41"
            ],
            [
             0.9,
             "#4d9221"
            ],
            [
             1,
             "#276419"
            ]
           ],
           "sequential": [
            [
             0,
             "#0d0887"
            ],
            [
             0.1111111111111111,
             "#46039f"
            ],
            [
             0.2222222222222222,
             "#7201a8"
            ],
            [
             0.3333333333333333,
             "#9c179e"
            ],
            [
             0.4444444444444444,
             "#bd3786"
            ],
            [
             0.5555555555555556,
             "#d8576b"
            ],
            [
             0.6666666666666666,
             "#ed7953"
            ],
            [
             0.7777777777777778,
             "#fb9f3a"
            ],
            [
             0.8888888888888888,
             "#fdca26"
            ],
            [
             1,
             "#f0f921"
            ]
           ],
           "sequentialminus": [
            [
             0,
             "#0d0887"
            ],
            [
             0.1111111111111111,
             "#46039f"
            ],
            [
             0.2222222222222222,
             "#7201a8"
            ],
            [
             0.3333333333333333,
             "#9c179e"
            ],
            [
             0.4444444444444444,
             "#bd3786"
            ],
            [
             0.5555555555555556,
             "#d8576b"
            ],
            [
             0.6666666666666666,
             "#ed7953"
            ],
            [
             0.7777777777777778,
             "#fb9f3a"
            ],
            [
             0.8888888888888888,
             "#fdca26"
            ],
            [
             1,
             "#f0f921"
            ]
           ]
          },
          "colorway": [
           "#636efa",
           "#EF553B",
           "#00cc96",
           "#ab63fa",
           "#FFA15A",
           "#19d3f3",
           "#FF6692",
           "#B6E880",
           "#FF97FF",
           "#FECB52"
          ],
          "font": {
           "color": "#2a3f5f"
          },
          "geo": {
           "bgcolor": "white",
           "lakecolor": "white",
           "landcolor": "#E5ECF6",
           "showlakes": true,
           "showland": true,
           "subunitcolor": "white"
          },
          "hoverlabel": {
           "align": "left"
          },
          "hovermode": "closest",
          "mapbox": {
           "style": "light"
          },
          "paper_bgcolor": "white",
          "plot_bgcolor": "#E5ECF6",
          "polar": {
           "angularaxis": {
            "gridcolor": "white",
            "linecolor": "white",
            "ticks": ""
           },
           "bgcolor": "#E5ECF6",
           "radialaxis": {
            "gridcolor": "white",
            "linecolor": "white",
            "ticks": ""
           }
          },
          "scene": {
           "xaxis": {
            "backgroundcolor": "#E5ECF6",
            "gridcolor": "white",
            "gridwidth": 2,
            "linecolor": "white",
            "showbackground": true,
            "ticks": "",
            "zerolinecolor": "white"
           },
           "yaxis": {
            "backgroundcolor": "#E5ECF6",
            "gridcolor": "white",
            "gridwidth": 2,
            "linecolor": "white",
            "showbackground": true,
            "ticks": "",
            "zerolinecolor": "white"
           },
           "zaxis": {
            "backgroundcolor": "#E5ECF6",
            "gridcolor": "white",
            "gridwidth": 2,
            "linecolor": "white",
            "showbackground": true,
            "ticks": "",
            "zerolinecolor": "white"
           }
          },
          "shapedefaults": {
           "line": {
            "color": "#2a3f5f"
           }
          },
          "ternary": {
           "aaxis": {
            "gridcolor": "white",
            "linecolor": "white",
            "ticks": ""
           },
           "baxis": {
            "gridcolor": "white",
            "linecolor": "white",
            "ticks": ""
           },
           "bgcolor": "#E5ECF6",
           "caxis": {
            "gridcolor": "white",
            "linecolor": "white",
            "ticks": ""
           }
          },
          "title": {
           "x": 0.05
          },
          "xaxis": {
           "automargin": true,
           "gridcolor": "white",
           "linecolor": "white",
           "ticks": "",
           "title": {
            "standoff": 15
           },
           "zerolinecolor": "white",
           "zerolinewidth": 2
          },
          "yaxis": {
           "automargin": true,
           "gridcolor": "white",
           "linecolor": "white",
           "ticks": "",
           "title": {
            "standoff": 15
           },
           "zerolinecolor": "white",
           "zerolinewidth": 2
          }
         }
        },
        "title": {
         "text": "Top 20 Obligors by Par Exposure"
        },
        "xaxis": {
         "anchor": "y",
         "autorange": false,
         "domain": [
          0,
          1
         ],
         "range": [
          -17901981.363357123,
          121724334.42611656
         ],
         "title": {
          "text": "Par Amount"
         },
         "type": "linear"
        },
        "yaxis": {
         "anchor": "x",
         "autorange": false,
         "categoryorder": "total ascending",
         "domain": [
          0,
          1
         ],
         "range": [
          -0.9444444444444446,
          19.055555555555554
         ],
         "title": {
          "text": "Obligor"
         },
         "type": "category"
        }
       }
      },
      "image/png": "[encoded data removed]"
     },
     "metadata": {},
     "output_type": "display_data"
    }
   ],
   "source": [
    "import plotly.express as px\n",
    "\n",
    "# Group and prepare data\n",
    "exposure_df = portfolio_data.groupby('Obligor Name', as_index=False)['Par'].sum()\n",
    "exposure_df = exposure_df.sort_values(by='Par', ascending=False).head(20)\n",
    "\n",
    "# Plot\n",
    "fig = px.bar(\n",
    "    exposure_df,\n",
    "    x='Par',\n",
    "    y='Obligor Name',\n",
    "    orientation='h',\n",
    "    title='Top 20 Obligors by Par Exposure',\n",
    "    labels={'Par': 'Par Amount', 'Obligor Name': 'Obligor'},\n",
    "    color='Par',\n",
    "    color_continuous_scale='blackbody'\n",
    ")\n",
    "\n",
    "fig.update_layout(yaxis={'categoryorder': 'total ascending'})\n",
    "fig.show()\n"
   ]
  },
  {
   "cell_type": "code",
   "execution_count": 68,
   "metadata": {},
   "outputs": [
    {
     "data": {
      "text/html": [
       "<div>\n",
       "<style scoped>\n",
       "    .dataframe tbody tr th:only-of-type {\n",
       "        vertical-align: middle;\n",
       "    }\n",
       "\n",
       "    .dataframe tbody tr th {\n",
       "        vertical-align: top;\n",
       "    }\n",
       "\n",
       "    .dataframe thead th {\n",
       "        text-align: right;\n",
       "    }\n",
       "</style>\n",
       "<table border=\"1\" class=\"dataframe\">\n",
       "  <thead>\n",
       "    <tr style=\"text-align: right;\">\n",
       "      <th></th>\n",
       "      <th>Obligor Name</th>\n",
       "      <th>Par</th>\n",
       "    </tr>\n",
       "  </thead>\n",
       "  <tbody>\n",
       "    <tr>\n",
       "      <th>1510</th>\n",
       "      <td>NEW YORK STATE PERSONAL INCOME TAX BONDS</td>\n",
       "      <td>1.326450e+08</td>\n",
       "    </tr>\n",
       "    <tr>\n",
       "      <th>269</th>\n",
       "      <td>CALIFORNIA (STATE OF)</td>\n",
       "      <td>8.986250e+07</td>\n",
       "    </tr>\n",
       "    <tr>\n",
       "      <th>1488</th>\n",
       "      <td>NEW YORK CITY TRANSITIONAL FIN AUTH</td>\n",
       "      <td>5.812000e+07</td>\n",
       "    </tr>\n",
       "    <tr>\n",
       "      <th>479</th>\n",
       "      <td>CONNECTICUT (STATE OF)</td>\n",
       "      <td>5.755600e+07</td>\n",
       "    </tr>\n",
       "    <tr>\n",
       "      <th>17</th>\n",
       "      <td>AIR PRODUCTS AND CHEMICALS INC</td>\n",
       "      <td>3.700000e+07</td>\n",
       "    </tr>\n",
       "    <tr>\n",
       "      <th>2264</th>\n",
       "      <td>UNIVERSITY OF CHICAGO</td>\n",
       "      <td>3.634700e+07</td>\n",
       "    </tr>\n",
       "    <tr>\n",
       "      <th>1698</th>\n",
       "      <td>PENNSYLVANIA ST TURNPIKE COMMISSION</td>\n",
       "      <td>3.447000e+07</td>\n",
       "    </tr>\n",
       "    <tr>\n",
       "      <th>2364</th>\n",
       "      <td>WASHINGTON (STATE OF)</td>\n",
       "      <td>3.376000e+07</td>\n",
       "    </tr>\n",
       "    <tr>\n",
       "      <th>1487</th>\n",
       "      <td>NEW YORK CITY OF</td>\n",
       "      <td>3.372750e+07</td>\n",
       "    </tr>\n",
       "    <tr>\n",
       "      <th>1469</th>\n",
       "      <td>NEW JERSEY ST TURNPIKE AUTHORITY</td>\n",
       "      <td>3.221500e+07</td>\n",
       "    </tr>\n",
       "    <tr>\n",
       "      <th>1757</th>\n",
       "      <td>PORT AUTHORITY OF NEW YORK AND NEW JERSEY</td>\n",
       "      <td>3.206500e+07</td>\n",
       "    </tr>\n",
       "    <tr>\n",
       "      <th>2431</th>\n",
       "      <td>WFCS HOLDINGS LLC - SUBORDINATE</td>\n",
       "      <td>3.163500e+07</td>\n",
       "    </tr>\n",
       "    <tr>\n",
       "      <th>1136</th>\n",
       "      <td>LOS ANGELES INTL ARPT</td>\n",
       "      <td>3.080000e+07</td>\n",
       "    </tr>\n",
       "    <tr>\n",
       "      <th>1471</th>\n",
       "      <td>NEW JERSEY TRANSPORTATION TRUST FUND AUTHORITY</td>\n",
       "      <td>2.939500e+07</td>\n",
       "    </tr>\n",
       "    <tr>\n",
       "      <th>1949</th>\n",
       "      <td>SAN JOSE CALIF UNI SCH DIST</td>\n",
       "      <td>2.890500e+07</td>\n",
       "    </tr>\n",
       "    <tr>\n",
       "      <th>1486</th>\n",
       "      <td>NEW YORK CITY MUNICIPAL WATER FINANCE AUTHORITY</td>\n",
       "      <td>2.840000e+07</td>\n",
       "    </tr>\n",
       "    <tr>\n",
       "      <th>1234</th>\n",
       "      <td>MASSACHUSETTS (COMMONWEALTH OF)</td>\n",
       "      <td>2.419760e+07</td>\n",
       "    </tr>\n",
       "    <tr>\n",
       "      <th>2352</th>\n",
       "      <td>VIRGINIA ST HSG DEV AUTH</td>\n",
       "      <td>2.386000e+07</td>\n",
       "    </tr>\n",
       "    <tr>\n",
       "      <th>2261</th>\n",
       "      <td>UNIVERSITY OF CALIFORNIA</td>\n",
       "      <td>2.376600e+07</td>\n",
       "    </tr>\n",
       "    <tr>\n",
       "      <th>1296</th>\n",
       "      <td>METROPOLITAN TRANSPORTATION AUTHORITY</td>\n",
       "      <td>2.371500e+07</td>\n",
       "    </tr>\n",
       "  </tbody>\n",
       "</table>\n",
       "</div>"
      ],
      "text/plain": [
       "                                         Obligor Name           Par\n",
       "1510         NEW YORK STATE PERSONAL INCOME TAX BONDS  1.326450e+08\n",
       "269                             CALIFORNIA (STATE OF)  8.986250e+07\n",
       "1488              NEW YORK CITY TRANSITIONAL FIN AUTH  5.812000e+07\n",
       "479                            CONNECTICUT (STATE OF)  5.755600e+07\n",
       "17                     AIR PRODUCTS AND CHEMICALS INC  3.700000e+07\n",
       "2264                            UNIVERSITY OF CHICAGO  3.634700e+07\n",
       "1698              PENNSYLVANIA ST TURNPIKE COMMISSION  3.447000e+07\n",
       "2364                            WASHINGTON (STATE OF)  3.376000e+07\n",
       "1487                                 NEW YORK CITY OF  3.372750e+07\n",
       "1469                 NEW JERSEY ST TURNPIKE AUTHORITY  3.221500e+07\n",
       "1757        PORT AUTHORITY OF NEW YORK AND NEW JERSEY  3.206500e+07\n",
       "2431                  WFCS HOLDINGS LLC - SUBORDINATE  3.163500e+07\n",
       "1136                            LOS ANGELES INTL ARPT  3.080000e+07\n",
       "1471   NEW JERSEY TRANSPORTATION TRUST FUND AUTHORITY  2.939500e+07\n",
       "1949                      SAN JOSE CALIF UNI SCH DIST  2.890500e+07\n",
       "1486  NEW YORK CITY MUNICIPAL WATER FINANCE AUTHORITY  2.840000e+07\n",
       "1234                  MASSACHUSETTS (COMMONWEALTH OF)  2.419760e+07\n",
       "2352                         VIRGINIA ST HSG DEV AUTH  2.386000e+07\n",
       "2261                         UNIVERSITY OF CALIFORNIA  2.376600e+07\n",
       "1296            METROPOLITAN TRANSPORTATION AUTHORITY  2.371500e+07"
      ]
     },
     "execution_count": 68,
     "metadata": {},
     "output_type": "execute_result"
    }
   ],
   "source": [
    "exposure_df"
   ]
  },
  {
   "cell_type": "code",
   "execution_count": null,
   "metadata": {},
   "outputs": [],
   "source": []
  }
 ],
 "metadata": {
  "kernelspec": {
   "display_name": "Python 3 (ipykernel)",
   "language": "python",
   "name": "python3"
  },
  "language_info": {
   "codemirror_mode": {
    "name": "ipython",
    "version": 3
   },
   "file_extension": ".py",
   "mimetype": "text/x-python",
   "name": "python",
   "nbconvert_exporter": "python",
   "pygments_lexer": "ipython3",
   "version": "3.10.12"
  }
 },
 "nbformat": 4,
 "nbformat_minor": 4
}
