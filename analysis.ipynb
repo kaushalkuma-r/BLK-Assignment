{
 "cells": [
  {
   "cell_type": "code",
   "execution_count": 38,
   "metadata": {},
   "outputs": [],
   "source": [
    "import pandas as pd\n",
    "import matplotlib.pyplot as plt\n",
    "import seaborn as sns\n",
    "import plotly.express as px"
   ]
  },
  {
   "cell_type": "code",
   "execution_count": 39,
   "metadata": {},
   "outputs": [],
   "source": [
    "def merge_portfolio_with_location(portfolio_data: pd.DataFrame, location_data: pd.DataFrame) -> pd.DataFrame:\n",
    "    portfolio_data = portfolio_data.copy()\n",
    "    location_data = location_data.copy()\n",
    "    \n",
    "    portfolio_data['Obligor Name'] = portfolio_data['Obligor Name'].str.upper().str.strip()\n",
    "    location_data['Obligor Name'] = location_data['Obligor Name'].str.upper().str.strip()\n",
    "    merged_data = pd.merge(\n",
    "        portfolio_data,\n",
    "        location_data[['Obligor Name', 'County', 'State', 'ZIP', 'Latitude', 'Longitude']],\n",
    "        on='Obligor Name',\n",
    "        how='left'\n",
    "    )\n",
    "    unmatched = merged_data[merged_data['Latitude'].isna()]\n",
    "\n",
    "    print(f\"Unmatched rows: {len(unmatched)}\")\n",
    "    return merged_data"
   ]
  },
  {
   "cell_type": "code",
   "execution_count": 40,
   "metadata": {},
   "outputs": [
    {
     "name": "stdout",
     "output_type": "stream",
     "text": [
      "/home/kaushal/Desktop/Assignment/BLK-Assignment\n"
     ]
    }
   ],
   "source": [
    "!pwd"
   ]
  },
  {
   "cell_type": "code",
   "execution_count": 41,
   "metadata": {},
   "outputs": [],
   "source": [
    "import pandas as pd\n",
    "import matplotlib.pyplot as plt\n",
    "import seaborn as sns"
   ]
  },
  {
   "cell_type": "code",
   "execution_count": 42,
   "metadata": {},
   "outputs": [],
   "source": [
    "def load_data():\n",
    "    portfolio_data = pd.read_excel(\"data/PortfolioX.xlsx\")\n",
    "    location_data = pd.read_excel(\"data/location_data.xlsx\")\n",
    "    merged_data = merge_portfolio_with_location(portfolio_data, location_data)\n",
    "    \n",
    "    return portfolio_data, location_data, merged_data"
   ]
  },
  {
   "cell_type": "code",
   "execution_count": 43,
   "metadata": {},
   "outputs": [],
   "source": [
    "def clean_data(df):\n",
    "    df_clean = df.dropna(subset=[\"Latitude\", \"Longitude\", \"Obligor Name\"])\n",
    "    df_unique = df_clean.drop_duplicates(subset=[\"Obligor Name\", \"Latitude\", \"Longitude\"])\n",
    "    df_unique = df_unique.reset_index(drop=True)\n",
    "    print(f\"Final unique entries: {df_unique.shape[0]}\")\n",
    "    df_unique.head()\n",
    "    \n",
    "    return df_unique"
   ]
  },
  {
   "cell_type": "code",
   "execution_count": 44,
   "metadata": {},
   "outputs": [
    {
     "name": "stdout",
     "output_type": "stream",
     "text": [
      "Unmatched rows: 568\n"
     ]
    }
   ],
   "source": [
    "portfolio_data, location_data, merged_data= load_data()"
   ]
  },
  {
   "cell_type": "code",
   "execution_count": 45,
   "metadata": {},
   "outputs": [
    {
     "name": "stdout",
     "output_type": "stream",
     "text": [
      "['portX', 'sector dcodes']\n"
     ]
    }
   ],
   "source": [
    "excel_file = pd.ExcelFile(\"data/PortfolioX.xlsx\")\n",
    "print(excel_file.sheet_names) \n",
    "sector_dcodes = pd.read_excel(excel_file, sheet_name='sector dcodes')\n",
    "portX = pd.read_excel(excel_file, sheet_name='portX')"
   ]
  },
  {
   "cell_type": "code",
   "execution_count": 46,
   "metadata": {},
   "outputs": [
    {
     "name": "stdout",
     "output_type": "stream",
     "text": [
      "Final unique entries: 3908\n"
     ]
    }
   ],
   "source": [
    "location_data=clean_data(location_data)"
   ]
  },
  {
   "cell_type": "code",
   "execution_count": 47,
   "metadata": {},
   "outputs": [
    {
     "data": {
      "text/html": [
       "<div>\n",
       "<style scoped>\n",
       "    .dataframe tbody tr th:only-of-type {\n",
       "        vertical-align: middle;\n",
       "    }\n",
       "\n",
       "    .dataframe tbody tr th {\n",
       "        vertical-align: top;\n",
       "    }\n",
       "\n",
       "    .dataframe thead th {\n",
       "        text-align: right;\n",
       "    }\n",
       "</style>\n",
       "<table border=\"1\" class=\"dataframe\">\n",
       "  <thead>\n",
       "    <tr style=\"text-align: right;\">\n",
       "      <th></th>\n",
       "      <th>Obligor Name</th>\n",
       "      <th>County Code</th>\n",
       "      <th>County</th>\n",
       "      <th>State</th>\n",
       "      <th>CBSA</th>\n",
       "      <th>CBSA_title</th>\n",
       "      <th>Latitude</th>\n",
       "      <th>ZIP</th>\n",
       "      <th>Longitude</th>\n",
       "    </tr>\n",
       "  </thead>\n",
       "  <tbody>\n",
       "    <tr>\n",
       "      <th>0</th>\n",
       "      <td>Broward Cnty Fla Port Auth</td>\n",
       "      <td>12011.0</td>\n",
       "      <td>Broward, FL</td>\n",
       "      <td>FL</td>\n",
       "      <td>33100.0</td>\n",
       "      <td>Miami-Fort Lauderdale-West Palm Beach, FL</td>\n",
       "      <td>26.1216</td>\n",
       "      <td>33301</td>\n",
       "      <td>-80.1288</td>\n",
       "    </tr>\n",
       "    <tr>\n",
       "      <th>1</th>\n",
       "      <td>Hawaii (State Of)</td>\n",
       "      <td>15003.0</td>\n",
       "      <td>Honolulu, HI</td>\n",
       "      <td>HI</td>\n",
       "      <td>46520.0</td>\n",
       "      <td>Urban Honolulu, HI</td>\n",
       "      <td>21.3179</td>\n",
       "      <td>96813</td>\n",
       "      <td>-157.8521</td>\n",
       "    </tr>\n",
       "    <tr>\n",
       "      <th>2</th>\n",
       "      <td>Intermountain Pwr Agy Utah</td>\n",
       "      <td>49035.0</td>\n",
       "      <td>Salt Lake, UT</td>\n",
       "      <td>UT</td>\n",
       "      <td>41620.0</td>\n",
       "      <td>Salt Lake City, UT</td>\n",
       "      <td>40.5541</td>\n",
       "      <td>84095</td>\n",
       "      <td>-111.9539</td>\n",
       "    </tr>\n",
       "    <tr>\n",
       "      <th>3</th>\n",
       "      <td>New Jersey St Turnpike Authority</td>\n",
       "      <td>34023.0</td>\n",
       "      <td>Middlesex, NJ</td>\n",
       "      <td>NJ</td>\n",
       "      <td>35620.0</td>\n",
       "      <td>New York-Newark-Jersey City, NY-NJ-PA</td>\n",
       "      <td>40.5560</td>\n",
       "      <td>07095</td>\n",
       "      <td>-74.2845</td>\n",
       "    </tr>\n",
       "    <tr>\n",
       "      <th>4</th>\n",
       "      <td>Triborough Bridge &amp; Tunnel Authority</td>\n",
       "      <td>36061.0</td>\n",
       "      <td>New York, NY</td>\n",
       "      <td>NY</td>\n",
       "      <td>35620.0</td>\n",
       "      <td>New York-Newark-Jersey City, NY-NJ-PA</td>\n",
       "      <td>40.8011</td>\n",
       "      <td>10035</td>\n",
       "      <td>-73.9371</td>\n",
       "    </tr>\n",
       "  </tbody>\n",
       "</table>\n",
       "</div>"
      ],
      "text/plain": [
       "                            Obligor Name  County Code         County State  \\\n",
       "0             Broward Cnty Fla Port Auth      12011.0    Broward, FL    FL   \n",
       "1                      Hawaii (State Of)      15003.0   Honolulu, HI    HI   \n",
       "2             Intermountain Pwr Agy Utah      49035.0  Salt Lake, UT    UT   \n",
       "3       New Jersey St Turnpike Authority      34023.0  Middlesex, NJ    NJ   \n",
       "4   Triborough Bridge & Tunnel Authority      36061.0   New York, NY    NY   \n",
       "\n",
       "      CBSA                                 CBSA_title  Latitude    ZIP  \\\n",
       "0  33100.0  Miami-Fort Lauderdale-West Palm Beach, FL   26.1216  33301   \n",
       "1  46520.0                         Urban Honolulu, HI   21.3179  96813   \n",
       "2  41620.0                         Salt Lake City, UT   40.5541  84095   \n",
       "3  35620.0      New York-Newark-Jersey City, NY-NJ-PA   40.5560  07095   \n",
       "4  35620.0      New York-Newark-Jersey City, NY-NJ-PA   40.8011  10035   \n",
       "\n",
       "   Longitude  \n",
       "0   -80.1288  \n",
       "1  -157.8521  \n",
       "2  -111.9539  \n",
       "3   -74.2845  \n",
       "4   -73.9371  "
      ]
     },
     "execution_count": 47,
     "metadata": {},
     "output_type": "execute_result"
    }
   ],
   "source": [
    "location_data.head(5)"
   ]
  },
  {
   "cell_type": "code",
   "execution_count": 48,
   "metadata": {},
   "outputs": [
    {
     "data": {
      "text/html": [
       "<div>\n",
       "<style scoped>\n",
       "    .dataframe tbody tr th:only-of-type {\n",
       "        vertical-align: middle;\n",
       "    }\n",
       "\n",
       "    .dataframe tbody tr th {\n",
       "        vertical-align: top;\n",
       "    }\n",
       "\n",
       "    .dataframe thead th {\n",
       "        text-align: right;\n",
       "    }\n",
       "</style>\n",
       "<table border=\"1\" class=\"dataframe\">\n",
       "  <thead>\n",
       "    <tr style=\"text-align: right;\">\n",
       "      <th></th>\n",
       "      <th>cusip</th>\n",
       "      <th>Obligor</th>\n",
       "      <th>Obligor Name</th>\n",
       "      <th>maturity</th>\n",
       "      <th>coupon</th>\n",
       "      <th>Sec_Group</th>\n",
       "      <th>Sec_Type</th>\n",
       "      <th>book_yield</th>\n",
       "      <th>unrealized_gl</th>\n",
       "      <th>Par</th>\n",
       "      <th>Rating</th>\n",
       "      <th>Outlook</th>\n",
       "      <th>Sector_Level_1</th>\n",
       "      <th>Sector</th>\n",
       "    </tr>\n",
       "  </thead>\n",
       "  <tbody>\n",
       "    <tr>\n",
       "      <th>0</th>\n",
       "      <td>546398ZP6</td>\n",
       "      <td>009158</td>\n",
       "      <td>AIR PRODUCTS AND CHEMICALS INC</td>\n",
       "      <td>2043-12-01</td>\n",
       "      <td>-99.000</td>\n",
       "      <td>CASH</td>\n",
       "      <td>MVRDN</td>\n",
       "      <td>3.00000</td>\n",
       "      <td>0.00000</td>\n",
       "      <td>37000000.0</td>\n",
       "      <td>A1</td>\n",
       "      <td>NaN</td>\n",
       "      <td>CORP</td>\n",
       "      <td>CHEM</td>\n",
       "    </tr>\n",
       "    <tr>\n",
       "      <th>1</th>\n",
       "      <td>56678TAA7</td>\n",
       "      <td>201723</td>\n",
       "      <td>COMMERCIAL METALS COMPANY</td>\n",
       "      <td>2047-10-15</td>\n",
       "      <td>4.000</td>\n",
       "      <td>BND</td>\n",
       "      <td>MUNI</td>\n",
       "      <td>3.65993</td>\n",
       "      <td>-861401.04000</td>\n",
       "      <td>7175000.0</td>\n",
       "      <td>BB1</td>\n",
       "      <td>Stable</td>\n",
       "      <td>CORP</td>\n",
       "      <td>METL</td>\n",
       "    </tr>\n",
       "    <tr>\n",
       "      <th>2</th>\n",
       "      <td>64984EDG7</td>\n",
       "      <td>209111</td>\n",
       "      <td>CONSOLIDATED EDISON COMPANY OF NEW YORK INC</td>\n",
       "      <td>2039-05-01</td>\n",
       "      <td>-99.000</td>\n",
       "      <td>CASH</td>\n",
       "      <td>MVRDN</td>\n",
       "      <td>4.55000</td>\n",
       "      <td>99999.90000</td>\n",
       "      <td>100000.0</td>\n",
       "      <td>BBB1</td>\n",
       "      <td>Stable</td>\n",
       "      <td>CORP</td>\n",
       "      <td>ELEC</td>\n",
       "    </tr>\n",
       "    <tr>\n",
       "      <th>3</th>\n",
       "      <td>4423485T1</td>\n",
       "      <td>210795</td>\n",
       "      <td>UNITED AIRLINES INC</td>\n",
       "      <td>2038-07-15</td>\n",
       "      <td>6.625</td>\n",
       "      <td>BND</td>\n",
       "      <td>MUNI</td>\n",
       "      <td>4.05000</td>\n",
       "      <td>-12979.08765</td>\n",
       "      <td>405000.0</td>\n",
       "      <td>BB3</td>\n",
       "      <td>Stable</td>\n",
       "      <td>CORP</td>\n",
       "      <td>AIRL</td>\n",
       "    </tr>\n",
       "    <tr>\n",
       "      <th>4</th>\n",
       "      <td>13050RAA0</td>\n",
       "      <td>210795</td>\n",
       "      <td>UNITED AIRLINES INC</td>\n",
       "      <td>2029-07-15</td>\n",
       "      <td>4.000</td>\n",
       "      <td>BND</td>\n",
       "      <td>MUNI</td>\n",
       "      <td>4.23300</td>\n",
       "      <td>32715.02500</td>\n",
       "      <td>2500000.0</td>\n",
       "      <td>BB3</td>\n",
       "      <td>Stable</td>\n",
       "      <td>CORP</td>\n",
       "      <td>AIRL</td>\n",
       "    </tr>\n",
       "  </tbody>\n",
       "</table>\n",
       "</div>"
      ],
      "text/plain": [
       "       cusip Obligor                                 Obligor Name   maturity  \\\n",
       "0  546398ZP6  009158               AIR PRODUCTS AND CHEMICALS INC 2043-12-01   \n",
       "1  56678TAA7  201723                    COMMERCIAL METALS COMPANY 2047-10-15   \n",
       "2  64984EDG7  209111  CONSOLIDATED EDISON COMPANY OF NEW YORK INC 2039-05-01   \n",
       "3  4423485T1  210795                          UNITED AIRLINES INC 2038-07-15   \n",
       "4  13050RAA0  210795                          UNITED AIRLINES INC 2029-07-15   \n",
       "\n",
       "   coupon Sec_Group Sec_Type  book_yield  unrealized_gl         Par Rating  \\\n",
       "0 -99.000      CASH    MVRDN     3.00000        0.00000  37000000.0     A1   \n",
       "1   4.000       BND     MUNI     3.65993  -861401.04000   7175000.0    BB1   \n",
       "2 -99.000      CASH    MVRDN     4.55000    99999.90000    100000.0   BBB1   \n",
       "3   6.625       BND     MUNI     4.05000   -12979.08765    405000.0    BB3   \n",
       "4   4.000       BND     MUNI     4.23300    32715.02500   2500000.0    BB3   \n",
       "\n",
       "  Outlook Sector_Level_1 Sector  \n",
       "0     NaN           CORP   CHEM  \n",
       "1  Stable           CORP   METL  \n",
       "2  Stable           CORP   ELEC  \n",
       "3  Stable           CORP   AIRL  \n",
       "4  Stable           CORP   AIRL  "
      ]
     },
     "execution_count": 48,
     "metadata": {},
     "output_type": "execute_result"
    }
   ],
   "source": [
    "portfolio_data.head(5)"
   ]
  },
  {
   "cell_type": "code",
   "execution_count": 49,
   "metadata": {
    "scrolled": true
   },
   "outputs": [
    {
     "data": {
      "text/html": [
       "<div>\n",
       "<style scoped>\n",
       "    .dataframe tbody tr th:only-of-type {\n",
       "        vertical-align: middle;\n",
       "    }\n",
       "\n",
       "    .dataframe tbody tr th {\n",
       "        vertical-align: top;\n",
       "    }\n",
       "\n",
       "    .dataframe thead th {\n",
       "        text-align: right;\n",
       "    }\n",
       "</style>\n",
       "<table border=\"1\" class=\"dataframe\">\n",
       "  <thead>\n",
       "    <tr style=\"text-align: right;\">\n",
       "      <th></th>\n",
       "      <th>cusip</th>\n",
       "      <th>Obligor</th>\n",
       "      <th>Obligor Name</th>\n",
       "      <th>maturity</th>\n",
       "      <th>coupon</th>\n",
       "      <th>Sec_Group</th>\n",
       "      <th>Sec_Type</th>\n",
       "      <th>book_yield</th>\n",
       "      <th>unrealized_gl</th>\n",
       "      <th>Par</th>\n",
       "      <th>Rating</th>\n",
       "      <th>Outlook</th>\n",
       "      <th>Sector_Level_1</th>\n",
       "      <th>Sector</th>\n",
       "      <th>County</th>\n",
       "      <th>State</th>\n",
       "      <th>ZIP</th>\n",
       "      <th>Latitude</th>\n",
       "      <th>Longitude</th>\n",
       "    </tr>\n",
       "  </thead>\n",
       "  <tbody>\n",
       "    <tr>\n",
       "      <th>0</th>\n",
       "      <td>546398ZP6</td>\n",
       "      <td>009158</td>\n",
       "      <td>AIR PRODUCTS AND CHEMICALS INC</td>\n",
       "      <td>2043-12-01</td>\n",
       "      <td>-99.000</td>\n",
       "      <td>CASH</td>\n",
       "      <td>MVRDN</td>\n",
       "      <td>3.00000</td>\n",
       "      <td>0.00000</td>\n",
       "      <td>37000000.0</td>\n",
       "      <td>A1</td>\n",
       "      <td>NaN</td>\n",
       "      <td>CORP</td>\n",
       "      <td>CHEM</td>\n",
       "      <td>NaN</td>\n",
       "      <td>NaN</td>\n",
       "      <td>NaN</td>\n",
       "      <td>NaN</td>\n",
       "      <td>NaN</td>\n",
       "    </tr>\n",
       "    <tr>\n",
       "      <th>1</th>\n",
       "      <td>56678TAA7</td>\n",
       "      <td>201723</td>\n",
       "      <td>COMMERCIAL METALS COMPANY</td>\n",
       "      <td>2047-10-15</td>\n",
       "      <td>4.000</td>\n",
       "      <td>BND</td>\n",
       "      <td>MUNI</td>\n",
       "      <td>3.65993</td>\n",
       "      <td>-861401.04000</td>\n",
       "      <td>7175000.0</td>\n",
       "      <td>BB1</td>\n",
       "      <td>Stable</td>\n",
       "      <td>CORP</td>\n",
       "      <td>METL</td>\n",
       "      <td>NaN</td>\n",
       "      <td>NaN</td>\n",
       "      <td>NaN</td>\n",
       "      <td>NaN</td>\n",
       "      <td>NaN</td>\n",
       "    </tr>\n",
       "    <tr>\n",
       "      <th>2</th>\n",
       "      <td>64984EDG7</td>\n",
       "      <td>209111</td>\n",
       "      <td>CONSOLIDATED EDISON COMPANY OF NEW YORK INC</td>\n",
       "      <td>2039-05-01</td>\n",
       "      <td>-99.000</td>\n",
       "      <td>CASH</td>\n",
       "      <td>MVRDN</td>\n",
       "      <td>4.55000</td>\n",
       "      <td>99999.90000</td>\n",
       "      <td>100000.0</td>\n",
       "      <td>BBB1</td>\n",
       "      <td>Stable</td>\n",
       "      <td>CORP</td>\n",
       "      <td>ELEC</td>\n",
       "      <td>NaN</td>\n",
       "      <td>NaN</td>\n",
       "      <td>NaN</td>\n",
       "      <td>NaN</td>\n",
       "      <td>NaN</td>\n",
       "    </tr>\n",
       "    <tr>\n",
       "      <th>3</th>\n",
       "      <td>4423485T1</td>\n",
       "      <td>210795</td>\n",
       "      <td>UNITED AIRLINES INC</td>\n",
       "      <td>2038-07-15</td>\n",
       "      <td>6.625</td>\n",
       "      <td>BND</td>\n",
       "      <td>MUNI</td>\n",
       "      <td>4.05000</td>\n",
       "      <td>-12979.08765</td>\n",
       "      <td>405000.0</td>\n",
       "      <td>BB3</td>\n",
       "      <td>Stable</td>\n",
       "      <td>CORP</td>\n",
       "      <td>AIRL</td>\n",
       "      <td>Cook, IL</td>\n",
       "      <td>IL</td>\n",
       "      <td>60606</td>\n",
       "      <td>41.8868</td>\n",
       "      <td>-87.6386</td>\n",
       "    </tr>\n",
       "    <tr>\n",
       "      <th>4</th>\n",
       "      <td>13050RAA0</td>\n",
       "      <td>210795</td>\n",
       "      <td>UNITED AIRLINES INC</td>\n",
       "      <td>2029-07-15</td>\n",
       "      <td>4.000</td>\n",
       "      <td>BND</td>\n",
       "      <td>MUNI</td>\n",
       "      <td>4.23300</td>\n",
       "      <td>32715.02500</td>\n",
       "      <td>2500000.0</td>\n",
       "      <td>BB3</td>\n",
       "      <td>Stable</td>\n",
       "      <td>CORP</td>\n",
       "      <td>AIRL</td>\n",
       "      <td>Cook, IL</td>\n",
       "      <td>IL</td>\n",
       "      <td>60606</td>\n",
       "      <td>41.8868</td>\n",
       "      <td>-87.6386</td>\n",
       "    </tr>\n",
       "  </tbody>\n",
       "</table>\n",
       "</div>"
      ],
      "text/plain": [
       "       cusip Obligor                                 Obligor Name   maturity  \\\n",
       "0  546398ZP6  009158               AIR PRODUCTS AND CHEMICALS INC 2043-12-01   \n",
       "1  56678TAA7  201723                    COMMERCIAL METALS COMPANY 2047-10-15   \n",
       "2  64984EDG7  209111  CONSOLIDATED EDISON COMPANY OF NEW YORK INC 2039-05-01   \n",
       "3  4423485T1  210795                          UNITED AIRLINES INC 2038-07-15   \n",
       "4  13050RAA0  210795                          UNITED AIRLINES INC 2029-07-15   \n",
       "\n",
       "   coupon Sec_Group Sec_Type  book_yield  unrealized_gl         Par Rating  \\\n",
       "0 -99.000      CASH    MVRDN     3.00000        0.00000  37000000.0     A1   \n",
       "1   4.000       BND     MUNI     3.65993  -861401.04000   7175000.0    BB1   \n",
       "2 -99.000      CASH    MVRDN     4.55000    99999.90000    100000.0   BBB1   \n",
       "3   6.625       BND     MUNI     4.05000   -12979.08765    405000.0    BB3   \n",
       "4   4.000       BND     MUNI     4.23300    32715.02500   2500000.0    BB3   \n",
       "\n",
       "  Outlook Sector_Level_1 Sector    County State    ZIP  Latitude  Longitude  \n",
       "0     NaN           CORP   CHEM       NaN   NaN    NaN       NaN        NaN  \n",
       "1  Stable           CORP   METL       NaN   NaN    NaN       NaN        NaN  \n",
       "2  Stable           CORP   ELEC       NaN   NaN    NaN       NaN        NaN  \n",
       "3  Stable           CORP   AIRL  Cook, IL    IL  60606   41.8868   -87.6386  \n",
       "4  Stable           CORP   AIRL  Cook, IL    IL  60606   41.8868   -87.6386  "
      ]
     },
     "execution_count": 49,
     "metadata": {},
     "output_type": "execute_result"
    }
   ],
   "source": [
    "merged_data.head(5)"
   ]
  },
  {
   "cell_type": "code",
   "execution_count": 50,
   "metadata": {},
   "outputs": [
    {
     "data": {
      "text/html": [
       "<div>\n",
       "<style scoped>\n",
       "    .dataframe tbody tr th:only-of-type {\n",
       "        vertical-align: middle;\n",
       "    }\n",
       "\n",
       "    .dataframe tbody tr th {\n",
       "        vertical-align: top;\n",
       "    }\n",
       "\n",
       "    .dataframe thead th {\n",
       "        text-align: right;\n",
       "    }\n",
       "</style>\n",
       "<table border=\"1\" class=\"dataframe\">\n",
       "  <thead>\n",
       "    <tr style=\"text-align: right;\">\n",
       "      <th></th>\n",
       "      <th>Obligor Name</th>\n",
       "      <th>County Code</th>\n",
       "      <th>County</th>\n",
       "      <th>State</th>\n",
       "      <th>CBSA</th>\n",
       "      <th>CBSA_title</th>\n",
       "      <th>Latitude</th>\n",
       "      <th>ZIP</th>\n",
       "      <th>Longitude</th>\n",
       "    </tr>\n",
       "  </thead>\n",
       "  <tbody>\n",
       "    <tr>\n",
       "      <th>0</th>\n",
       "      <td>Broward Cnty Fla Port Auth</td>\n",
       "      <td>12011.0</td>\n",
       "      <td>Broward, FL</td>\n",
       "      <td>FL</td>\n",
       "      <td>33100.0</td>\n",
       "      <td>Miami-Fort Lauderdale-West Palm Beach, FL</td>\n",
       "      <td>26.1216</td>\n",
       "      <td>33301</td>\n",
       "      <td>-80.1288</td>\n",
       "    </tr>\n",
       "    <tr>\n",
       "      <th>1</th>\n",
       "      <td>Hawaii (State Of)</td>\n",
       "      <td>15003.0</td>\n",
       "      <td>Honolulu, HI</td>\n",
       "      <td>HI</td>\n",
       "      <td>46520.0</td>\n",
       "      <td>Urban Honolulu, HI</td>\n",
       "      <td>21.3179</td>\n",
       "      <td>96813</td>\n",
       "      <td>-157.8521</td>\n",
       "    </tr>\n",
       "    <tr>\n",
       "      <th>2</th>\n",
       "      <td>Intermountain Pwr Agy Utah</td>\n",
       "      <td>49035.0</td>\n",
       "      <td>Salt Lake, UT</td>\n",
       "      <td>UT</td>\n",
       "      <td>41620.0</td>\n",
       "      <td>Salt Lake City, UT</td>\n",
       "      <td>40.5541</td>\n",
       "      <td>84095</td>\n",
       "      <td>-111.9539</td>\n",
       "    </tr>\n",
       "    <tr>\n",
       "      <th>3</th>\n",
       "      <td>New Jersey St Turnpike Authority</td>\n",
       "      <td>34023.0</td>\n",
       "      <td>Middlesex, NJ</td>\n",
       "      <td>NJ</td>\n",
       "      <td>35620.0</td>\n",
       "      <td>New York-Newark-Jersey City, NY-NJ-PA</td>\n",
       "      <td>40.5560</td>\n",
       "      <td>07095</td>\n",
       "      <td>-74.2845</td>\n",
       "    </tr>\n",
       "    <tr>\n",
       "      <th>4</th>\n",
       "      <td>Triborough Bridge &amp; Tunnel Authority</td>\n",
       "      <td>36061.0</td>\n",
       "      <td>New York, NY</td>\n",
       "      <td>NY</td>\n",
       "      <td>35620.0</td>\n",
       "      <td>New York-Newark-Jersey City, NY-NJ-PA</td>\n",
       "      <td>40.8011</td>\n",
       "      <td>10035</td>\n",
       "      <td>-73.9371</td>\n",
       "    </tr>\n",
       "  </tbody>\n",
       "</table>\n",
       "</div>"
      ],
      "text/plain": [
       "                            Obligor Name  County Code         County State  \\\n",
       "0             Broward Cnty Fla Port Auth      12011.0    Broward, FL    FL   \n",
       "1                      Hawaii (State Of)      15003.0   Honolulu, HI    HI   \n",
       "2             Intermountain Pwr Agy Utah      49035.0  Salt Lake, UT    UT   \n",
       "3       New Jersey St Turnpike Authority      34023.0  Middlesex, NJ    NJ   \n",
       "4   Triborough Bridge & Tunnel Authority      36061.0   New York, NY    NY   \n",
       "\n",
       "      CBSA                                 CBSA_title  Latitude    ZIP  \\\n",
       "0  33100.0  Miami-Fort Lauderdale-West Palm Beach, FL   26.1216  33301   \n",
       "1  46520.0                         Urban Honolulu, HI   21.3179  96813   \n",
       "2  41620.0                         Salt Lake City, UT   40.5541  84095   \n",
       "3  35620.0      New York-Newark-Jersey City, NY-NJ-PA   40.5560  07095   \n",
       "4  35620.0      New York-Newark-Jersey City, NY-NJ-PA   40.8011  10035   \n",
       "\n",
       "   Longitude  \n",
       "0   -80.1288  \n",
       "1  -157.8521  \n",
       "2  -111.9539  \n",
       "3   -74.2845  \n",
       "4   -73.9371  "
      ]
     },
     "execution_count": 50,
     "metadata": {},
     "output_type": "execute_result"
    }
   ],
   "source": [
    "location_data.head(5)"
   ]
  },
  {
   "cell_type": "code",
   "execution_count": 51,
   "metadata": {},
   "outputs": [
    {
     "data": {
      "text/html": [
       "<div>\n",
       "<style scoped>\n",
       "    .dataframe tbody tr th:only-of-type {\n",
       "        vertical-align: middle;\n",
       "    }\n",
       "\n",
       "    .dataframe tbody tr th {\n",
       "        vertical-align: top;\n",
       "    }\n",
       "\n",
       "    .dataframe thead th {\n",
       "        text-align: right;\n",
       "    }\n",
       "</style>\n",
       "<table border=\"1\" class=\"dataframe\">\n",
       "  <thead>\n",
       "    <tr style=\"text-align: right;\">\n",
       "      <th></th>\n",
       "      <th>cusip</th>\n",
       "      <th>Obligor</th>\n",
       "      <th>Obligor Name</th>\n",
       "      <th>maturity</th>\n",
       "      <th>coupon</th>\n",
       "      <th>Sec_Group</th>\n",
       "      <th>Sec_Type</th>\n",
       "      <th>book_yield</th>\n",
       "      <th>unrealized_gl</th>\n",
       "      <th>Par</th>\n",
       "      <th>Rating</th>\n",
       "      <th>Outlook</th>\n",
       "      <th>Sector_Level_1</th>\n",
       "      <th>Sector</th>\n",
       "    </tr>\n",
       "  </thead>\n",
       "  <tbody>\n",
       "    <tr>\n",
       "      <th>0</th>\n",
       "      <td>546398ZP6</td>\n",
       "      <td>009158</td>\n",
       "      <td>AIR PRODUCTS AND CHEMICALS INC</td>\n",
       "      <td>2043-12-01</td>\n",
       "      <td>-99.000</td>\n",
       "      <td>CASH</td>\n",
       "      <td>MVRDN</td>\n",
       "      <td>3.00000</td>\n",
       "      <td>0.00000</td>\n",
       "      <td>37000000.0</td>\n",
       "      <td>A1</td>\n",
       "      <td>NaN</td>\n",
       "      <td>CORP</td>\n",
       "      <td>CHEM</td>\n",
       "    </tr>\n",
       "    <tr>\n",
       "      <th>1</th>\n",
       "      <td>56678TAA7</td>\n",
       "      <td>201723</td>\n",
       "      <td>COMMERCIAL METALS COMPANY</td>\n",
       "      <td>2047-10-15</td>\n",
       "      <td>4.000</td>\n",
       "      <td>BND</td>\n",
       "      <td>MUNI</td>\n",
       "      <td>3.65993</td>\n",
       "      <td>-861401.04000</td>\n",
       "      <td>7175000.0</td>\n",
       "      <td>BB1</td>\n",
       "      <td>Stable</td>\n",
       "      <td>CORP</td>\n",
       "      <td>METL</td>\n",
       "    </tr>\n",
       "    <tr>\n",
       "      <th>2</th>\n",
       "      <td>64984EDG7</td>\n",
       "      <td>209111</td>\n",
       "      <td>CONSOLIDATED EDISON COMPANY OF NEW YORK INC</td>\n",
       "      <td>2039-05-01</td>\n",
       "      <td>-99.000</td>\n",
       "      <td>CASH</td>\n",
       "      <td>MVRDN</td>\n",
       "      <td>4.55000</td>\n",
       "      <td>99999.90000</td>\n",
       "      <td>100000.0</td>\n",
       "      <td>BBB1</td>\n",
       "      <td>Stable</td>\n",
       "      <td>CORP</td>\n",
       "      <td>ELEC</td>\n",
       "    </tr>\n",
       "    <tr>\n",
       "      <th>3</th>\n",
       "      <td>4423485T1</td>\n",
       "      <td>210795</td>\n",
       "      <td>UNITED AIRLINES INC</td>\n",
       "      <td>2038-07-15</td>\n",
       "      <td>6.625</td>\n",
       "      <td>BND</td>\n",
       "      <td>MUNI</td>\n",
       "      <td>4.05000</td>\n",
       "      <td>-12979.08765</td>\n",
       "      <td>405000.0</td>\n",
       "      <td>BB3</td>\n",
       "      <td>Stable</td>\n",
       "      <td>CORP</td>\n",
       "      <td>AIRL</td>\n",
       "    </tr>\n",
       "    <tr>\n",
       "      <th>4</th>\n",
       "      <td>13050RAA0</td>\n",
       "      <td>210795</td>\n",
       "      <td>UNITED AIRLINES INC</td>\n",
       "      <td>2029-07-15</td>\n",
       "      <td>4.000</td>\n",
       "      <td>BND</td>\n",
       "      <td>MUNI</td>\n",
       "      <td>4.23300</td>\n",
       "      <td>32715.02500</td>\n",
       "      <td>2500000.0</td>\n",
       "      <td>BB3</td>\n",
       "      <td>Stable</td>\n",
       "      <td>CORP</td>\n",
       "      <td>AIRL</td>\n",
       "    </tr>\n",
       "  </tbody>\n",
       "</table>\n",
       "</div>"
      ],
      "text/plain": [
       "       cusip Obligor                                 Obligor Name   maturity  \\\n",
       "0  546398ZP6  009158               AIR PRODUCTS AND CHEMICALS INC 2043-12-01   \n",
       "1  56678TAA7  201723                    COMMERCIAL METALS COMPANY 2047-10-15   \n",
       "2  64984EDG7  209111  CONSOLIDATED EDISON COMPANY OF NEW YORK INC 2039-05-01   \n",
       "3  4423485T1  210795                          UNITED AIRLINES INC 2038-07-15   \n",
       "4  13050RAA0  210795                          UNITED AIRLINES INC 2029-07-15   \n",
       "\n",
       "   coupon Sec_Group Sec_Type  book_yield  unrealized_gl         Par Rating  \\\n",
       "0 -99.000      CASH    MVRDN     3.00000        0.00000  37000000.0     A1   \n",
       "1   4.000       BND     MUNI     3.65993  -861401.04000   7175000.0    BB1   \n",
       "2 -99.000      CASH    MVRDN     4.55000    99999.90000    100000.0   BBB1   \n",
       "3   6.625       BND     MUNI     4.05000   -12979.08765    405000.0    BB3   \n",
       "4   4.000       BND     MUNI     4.23300    32715.02500   2500000.0    BB3   \n",
       "\n",
       "  Outlook Sector_Level_1 Sector  \n",
       "0     NaN           CORP   CHEM  \n",
       "1  Stable           CORP   METL  \n",
       "2  Stable           CORP   ELEC  \n",
       "3  Stable           CORP   AIRL  \n",
       "4  Stable           CORP   AIRL  "
      ]
     },
     "execution_count": 51,
     "metadata": {},
     "output_type": "execute_result"
    }
   ],
   "source": [
    "portfolio_data.head(5)"
   ]
  },
  {
   "cell_type": "code",
   "execution_count": 52,
   "metadata": {},
   "outputs": [
    {
     "name": "stdout",
     "output_type": "stream",
     "text": [
      "<class 'pandas.core.frame.DataFrame'>\n",
      "RangeIndex: 8103 entries, 0 to 8102\n",
      "Data columns (total 14 columns):\n",
      " #   Column          Non-Null Count  Dtype         \n",
      "---  ------          --------------  -----         \n",
      " 0   cusip           8103 non-null   object        \n",
      " 1   Obligor         8103 non-null   object        \n",
      " 2   Obligor Name    8103 non-null   object        \n",
      " 3   maturity        8103 non-null   datetime64[ns]\n",
      " 4   coupon          8103 non-null   float64       \n",
      " 5   Sec_Group       8103 non-null   object        \n",
      " 6   Sec_Type        8103 non-null   object        \n",
      " 7   book_yield      8103 non-null   float64       \n",
      " 8   unrealized_gl   8103 non-null   float64       \n",
      " 9   Par             8103 non-null   float64       \n",
      " 10  Rating          8026 non-null   object        \n",
      " 11  Outlook         7984 non-null   object        \n",
      " 12  Sector_Level_1  8094 non-null   object        \n",
      " 13  Sector          8103 non-null   object        \n",
      "dtypes: datetime64[ns](1), float64(4), object(9)\n",
      "memory usage: 886.4+ KB\n"
     ]
    }
   ],
   "source": [
    "portfolio_data.info()"
   ]
  },
  {
   "cell_type": "code",
   "execution_count": 53,
   "metadata": {},
   "outputs": [
    {
     "data": {
      "text/html": [
       "<div>\n",
       "<style scoped>\n",
       "    .dataframe tbody tr th:only-of-type {\n",
       "        vertical-align: middle;\n",
       "    }\n",
       "\n",
       "    .dataframe tbody tr th {\n",
       "        vertical-align: top;\n",
       "    }\n",
       "\n",
       "    .dataframe thead th {\n",
       "        text-align: right;\n",
       "    }\n",
       "</style>\n",
       "<table border=\"1\" class=\"dataframe\">\n",
       "  <thead>\n",
       "    <tr style=\"text-align: right;\">\n",
       "      <th></th>\n",
       "      <th>maturity</th>\n",
       "      <th>coupon</th>\n",
       "      <th>book_yield</th>\n",
       "      <th>unrealized_gl</th>\n",
       "      <th>Par</th>\n",
       "    </tr>\n",
       "  </thead>\n",
       "  <tbody>\n",
       "    <tr>\n",
       "      <th>count</th>\n",
       "      <td>8103</td>\n",
       "      <td>8103.000000</td>\n",
       "      <td>8103.000000</td>\n",
       "      <td>8.103000e+03</td>\n",
       "      <td>8.103000e+03</td>\n",
       "    </tr>\n",
       "    <tr>\n",
       "      <th>mean</th>\n",
       "      <td>2031-04-27 07:00:17.326916096</td>\n",
       "      <td>4.193450</td>\n",
       "      <td>1.880043</td>\n",
       "      <td>6.657059e+04</td>\n",
       "      <td>3.477979e+05</td>\n",
       "    </tr>\n",
       "    <tr>\n",
       "      <th>min</th>\n",
       "      <td>2020-01-01 00:00:00</td>\n",
       "      <td>-99.000000</td>\n",
       "      <td>-59.402000</td>\n",
       "      <td>-4.843873e+06</td>\n",
       "      <td>1.000000e+03</td>\n",
       "    </tr>\n",
       "    <tr>\n",
       "      <th>25%</th>\n",
       "      <td>2026-07-01 00:00:00</td>\n",
       "      <td>5.000000</td>\n",
       "      <td>0.000000</td>\n",
       "      <td>1.175208e+04</td>\n",
       "      <td>1.500000e+04</td>\n",
       "    </tr>\n",
       "    <tr>\n",
       "      <th>50%</th>\n",
       "      <td>2029-03-15 00:00:00</td>\n",
       "      <td>5.000000</td>\n",
       "      <td>2.101000</td>\n",
       "      <td>2.742599e+04</td>\n",
       "      <td>3.500000e+04</td>\n",
       "    </tr>\n",
       "    <tr>\n",
       "      <th>75%</th>\n",
       "      <td>2033-08-01 00:00:00</td>\n",
       "      <td>5.000000</td>\n",
       "      <td>2.970000</td>\n",
       "      <td>6.356409e+04</td>\n",
       "      <td>1.000000e+05</td>\n",
       "    </tr>\n",
       "    <tr>\n",
       "      <th>max</th>\n",
       "      <td>2122-04-15 00:00:00</td>\n",
       "      <td>8.250000</td>\n",
       "      <td>520.536000</td>\n",
       "      <td>1.478031e+07</td>\n",
       "      <td>4.000000e+07</td>\n",
       "    </tr>\n",
       "    <tr>\n",
       "      <th>std</th>\n",
       "      <td>NaN</td>\n",
       "      <td>7.742533</td>\n",
       "      <td>6.315697</td>\n",
       "      <td>3.176658e+05</td>\n",
       "      <td>1.732748e+06</td>\n",
       "    </tr>\n",
       "  </tbody>\n",
       "</table>\n",
       "</div>"
      ],
      "text/plain": [
       "                            maturity       coupon   book_yield  unrealized_gl  \\\n",
       "count                           8103  8103.000000  8103.000000   8.103000e+03   \n",
       "mean   2031-04-27 07:00:17.326916096     4.193450     1.880043   6.657059e+04   \n",
       "min              2020-01-01 00:00:00   -99.000000   -59.402000  -4.843873e+06   \n",
       "25%              2026-07-01 00:00:00     5.000000     0.000000   1.175208e+04   \n",
       "50%              2029-03-15 00:00:00     5.000000     2.101000   2.742599e+04   \n",
       "75%              2033-08-01 00:00:00     5.000000     2.970000   6.356409e+04   \n",
       "max              2122-04-15 00:00:00     8.250000   520.536000   1.478031e+07   \n",
       "std                              NaN     7.742533     6.315697   3.176658e+05   \n",
       "\n",
       "                Par  \n",
       "count  8.103000e+03  \n",
       "mean   3.477979e+05  \n",
       "min    1.000000e+03  \n",
       "25%    1.500000e+04  \n",
       "50%    3.500000e+04  \n",
       "75%    1.000000e+05  \n",
       "max    4.000000e+07  \n",
       "std    1.732748e+06  "
      ]
     },
     "execution_count": 53,
     "metadata": {},
     "output_type": "execute_result"
    }
   ],
   "source": [
    "portfolio_data.describe()"
   ]
  },
  {
   "cell_type": "code",
   "execution_count": 54,
   "metadata": {},
   "outputs": [
    {
     "data": {
      "text/plain": [
       "cusip               0\n",
       "Obligor             0\n",
       "Obligor Name        0\n",
       "maturity            0\n",
       "coupon              0\n",
       "Sec_Group           0\n",
       "Sec_Type            0\n",
       "book_yield          0\n",
       "unrealized_gl       0\n",
       "Par                 0\n",
       "Rating             77\n",
       "Outlook           119\n",
       "Sector_Level_1      9\n",
       "Sector              0\n",
       "dtype: int64"
      ]
     },
     "execution_count": 54,
     "metadata": {},
     "output_type": "execute_result"
    }
   ],
   "source": [
    "portfolio_data.isnull().sum()"
   ]
  },
  {
   "cell_type": "code",
   "execution_count": 55,
   "metadata": {},
   "outputs": [
    {
     "name": "stdout",
     "output_type": "stream",
     "text": [
      "(8103, 14)\n",
      "Index(['cusip', 'Obligor', 'Obligor Name', 'maturity', 'coupon', 'Sec_Group',\n",
      "       'Sec_Type', 'book_yield', 'unrealized_gl', 'Par', 'Rating', 'Outlook',\n",
      "       'Sector_Level_1', 'Sector'],\n",
      "      dtype='object')\n"
     ]
    }
   ],
   "source": [
    "portfolio_data.drop_duplicates(inplace=True)\n",
    "print(portfolio_data.shape)\n",
    "print(portfolio_data.columns)"
   ]
  },
  {
   "cell_type": "code",
   "execution_count": 56,
   "metadata": {},
   "outputs": [
    {
     "data": {
      "text/plain": [
       "cusip                     object\n",
       "Obligor                   object\n",
       "Obligor Name              object\n",
       "maturity          datetime64[ns]\n",
       "coupon                   float64\n",
       "Sec_Group                 object\n",
       "Sec_Type                  object\n",
       "book_yield               float64\n",
       "unrealized_gl            float64\n",
       "Par                      float64\n",
       "Rating                    object\n",
       "Outlook                   object\n",
       "Sector_Level_1            object\n",
       "Sector                    object\n",
       "dtype: object"
      ]
     },
     "execution_count": 56,
     "metadata": {},
     "output_type": "execute_result"
    }
   ],
   "source": [
    "portfolio_data.dtypes"
   ]
  },
  {
   "cell_type": "code",
   "execution_count": 57,
   "metadata": {},
   "outputs": [],
   "source": [
    "# Define a consistent color scale\n",
    "shared_color_scale = px.colors.sequential.YlOrRd"
   ]
  },
  {
   "cell_type": "markdown",
   "metadata": {},
   "source": [
    "### Question 1: How is the portfolio distributed by sector?\n",
    "##### Summarize the distribution of Par amount across different sectors\n",
    "\n",
    "We analyzed the portfolio's Par amount across different sectors.\n",
    "The data was grouped by sector, and total Par exposure was calculated for each sector.\n",
    "Each sector’s exposure was also expressed as a percentage of the total portfolio Par amount.\n",
    "Sectors were sorted in descending order of Par exposure to highlight largest exposures.\n",
    "A bar chart visualization was created using Plotly for interactive exploration.\n",
    "The chart displays:\n",
    "- Sectors on the X-axis\n",
    "- Total Par amount on the Y-axis\n",
    "- Percentage exposure annotated at the top of each bar\n",
    "\n",
    "This helps identify concentration risks or diversification levels in the portfolio by sector."
   ]
  },
  {
   "cell_type": "code",
   "execution_count": 58,
   "metadata": {},
   "outputs": [
    {
     "data": {
      "application/vnd.plotly.v1+json": {
       "config": {
        "plotlyServerURL": "https://plot.ly"
       },
       "data": [
        {
         "hovertemplate": "Sector=%{x}<br>Total Par Amount=%{marker.color}<br>text=%{text}<extra></extra>",
         "legendgroup": "",
         "marker": {
          "color": {
           "_inputArray": {
            "0": 646776418.06285,
            "1": 361516894.65544426,
            "10": 61005000,
            "11": 45055000,
            "12": 37105000,
            "13": 37000000,
            "14": 33832000,
            "15": 32335000,
            "16": 29184168.4461895,
            "17": 26925000,
            "18": 24785000,
            "19": 23891526,
            "2": 220451000,
            "20": 22410000,
            "21": 22110000,
            "22": 21885606.867968,
            "23": 18190000,
            "24": 14820000,
            "25": 13795000,
            "26": 13045000,
            "27": 11887848.305399999,
            "28": 11685542.112171,
            "29": 11305000,
            "3": 208927500,
            "30": 7175000,
            "31": 6000000,
            "32": 4734000,
            "33": 4205000,
            "34": 4070000,
            "35": 3855000,
            "36": 1160000,
            "37": 1015000,
            "38": 905000,
            "39": 55000,
            "4": 187758000,
            "40": 25000,
            "41": 10000,
            "5": 164290688.92518,
            "6": 163567500,
            "7": 142034000,
            "8": 94273000,
            "9": 83151000,
            "bdata": "eAsIMYNGw0Eyy6deT4y1QQAAAHChR6pBAAAAGPbnqEEAAABg62GmQTGx2QHBlaNBAAAAGK9/o0EAAACgiO6gQQAAAKD3eZZBAAAAYCLTk0EAAABA5haNQQAAAMDge4VBAAAAQGuxgUEAAAAAmqSBQQAAAADiIYBBAAAAgEnWfkGalyOHCtV7QQAAAIB8rXlBAAAAgAajd0EAAABg5Mh2QQAAAAAxX3VBAAAAAPMVdUFqMuNtKt90QQAAAADrWHFBAAAAAFREbEEAAAAA109qQQAAAACh4WhBONbFCZ2sZkGj55bD1ElmQQAAAAAFkGVBAAAAANZeW0EAAAAAYONWQQAAAAAMD1JBAAAAAHIKUEEAAAAAOA1PQQAAAABMaU1BAAAAAECzMUEAAAAAsPkuQQAAAABQnitBAAAAAADb6kAAAAAAAGrYQAAAAAAAiMNA",
            "dtype": "f8",
            "shape": "42"
           },
           "bdata": "eAsIMYNGw0Eyy6deT4y1QQAAAHChR6pBAAAAGPbnqEEAAABg62GmQTGx2QHBlaNBAAAAGK9/o0EAAACgiO6gQQAAAKD3eZZBAAAAYCLTk0EAAABA5haNQQAAAMDge4VBAAAAQGuxgUEAAAAAmqSBQQAAAADiIYBBAAAAgEnWfkGalyOHCtV7QQAAAIB8rXlBAAAAgAajd0EAAABg5Mh2QQAAAAAxX3VBAAAAAPMVdUFqMuNtKt90QQAAAADrWHFBAAAAAFREbEEAAAAA109qQQAAAACh4WhBONbFCZ2sZkGj55bD1ElmQQAAAAAFkGVBAAAAANZeW0EAAAAAYONWQQAAAAAMD1JBAAAAAHIKUEEAAAAAOA1PQQAAAABMaU1BAAAAAECzMUEAAAAAsPkuQQAAAABQnitBAAAAAADb6kAAAAAAAGrYQAAAAAAAiMNA",
           "dtype": "f8"
          },
          "coloraxis": "coloraxis",
          "pattern": {
           "shape": ""
          }
         },
         "name": "",
         "orientation": "v",
         "showlegend": false,
         "text": [
          "22.9%",
          "12.8%",
          "7.8%",
          "7.4%",
          "6.7%",
          "5.8%",
          "5.8%",
          "5.0%",
          "3.3%",
          "3.0%",
          "2.2%",
          "1.6%",
          "1.3%",
          "1.3%",
          "1.2%",
          "1.1%",
          "1.0%",
          "1.0%",
          "0.9%",
          "0.8%",
          "0.8%",
          "0.8%",
          "0.8%",
          "0.6%",
          "0.5%",
          "0.5%",
          "0.5%",
          "0.4%",
          "0.4%",
          "0.4%",
          "0.3%",
          "0.2%",
          "0.2%",
          "0.1%",
          "0.1%",
          "0.1%",
          "0.0%",
          "0.0%",
          "0.0%",
          "0.0%",
          "0.0%",
          "0.0%"
         ],
         "textfont": {
          "size": 10
         },
         "textposition": "outside",
         "type": "bar",
         "x": [
          "TAXSTATE",
          "TAXLOCAL",
          "HOSP",
          "USD",
          "WTR",
          "PUBPWR",
          "ARPT",
          "TOLL",
          "UNIVPRIV",
          "UNIVPUBL",
          "ESCPRE",
          "SCHCHAR",
          "SFM",
          "CHEM",
          "MASSTRAN",
          "PREPAID",
          "ELEC",
          "TOBSTATE",
          "CCRC",
          "MULT",
          "OTHOTH",
          "TAXAUTH",
          "DEVDIST",
          "ENVI",
          "TRANOTH",
          "ESCETM",
          "PORT",
          "MISSING",
          "STDLN",
          "GASL",
          "METL",
          "PAPR",
          "INST",
          "AIRL",
          "LEASE",
          "TOBLOCAL",
          "SCHPRIV",
          "SECS",
          "SANTN",
          "GAS",
          "OTHU",
          "STUHOUS"
         ],
         "xaxis": "x",
         "y": {
          "_inputArray": {
           "0": 646776418.06285,
           "1": 361516894.65544426,
           "10": 61005000,
           "11": 45055000,
           "12": 37105000,
           "13": 37000000,
           "14": 33832000,
           "15": 32335000,
           "16": 29184168.4461895,
           "17": 26925000,
           "18": 24785000,
           "19": 23891526,
           "2": 220451000,
           "20": 22410000,
           "21": 22110000,
           "22": 21885606.867968,
           "23": 18190000,
           "24": 14820000,
           "25": 13795000,
           "26": 13045000,
           "27": 11887848.305399999,
           "28": 11685542.112171,
           "29": 11305000,
           "3": 208927500,
           "30": 7175000,
           "31": 6000000,
           "32": 4734000,
           "33": 4205000,
           "34": 4070000,
           "35": 3855000,
           "36": 1160000,
           "37": 1015000,
           "38": 905000,
           "39": 55000,
           "4": 187758000,
           "40": 25000,
           "41": 10000,
           "5": 164290688.92518,
           "6": 163567500,
           "7": 142034000,
           "8": 94273000,
           "9": 83151000,
           "bdata": "eAsIMYNGw0Eyy6deT4y1QQAAAHChR6pBAAAAGPbnqEEAAABg62GmQTGx2QHBlaNBAAAAGK9/o0EAAACgiO6gQQAAAKD3eZZBAAAAYCLTk0EAAABA5haNQQAAAMDge4VBAAAAQGuxgUEAAAAAmqSBQQAAAADiIYBBAAAAgEnWfkGalyOHCtV7QQAAAIB8rXlBAAAAgAajd0EAAABg5Mh2QQAAAAAxX3VBAAAAAPMVdUFqMuNtKt90QQAAAADrWHFBAAAAAFREbEEAAAAA109qQQAAAACh4WhBONbFCZ2sZkGj55bD1ElmQQAAAAAFkGVBAAAAANZeW0EAAAAAYONWQQAAAAAMD1JBAAAAAHIKUEEAAAAAOA1PQQAAAABMaU1BAAAAAECzMUEAAAAAsPkuQQAAAABQnitBAAAAAADb6kAAAAAAAGrYQAAAAAAAiMNA",
           "dtype": "f8",
           "shape": "42"
          },
          "bdata": "eAsIMYNGw0Eyy6deT4y1QQAAAHChR6pBAAAAGPbnqEEAAABg62GmQTGx2QHBlaNBAAAAGK9/o0EAAACgiO6gQQAAAKD3eZZBAAAAYCLTk0EAAABA5haNQQAAAMDge4VBAAAAQGuxgUEAAAAAmqSBQQAAAADiIYBBAAAAgEnWfkGalyOHCtV7QQAAAIB8rXlBAAAAgAajd0EAAABg5Mh2QQAAAAAxX3VBAAAAAPMVdUFqMuNtKt90QQAAAADrWHFBAAAAAFREbEEAAAAA109qQQAAAACh4WhBONbFCZ2sZkGj55bD1ElmQQAAAAAFkGVBAAAAANZeW0EAAAAAYONWQQAAAAAMD1JBAAAAAHIKUEEAAAAAOA1PQQAAAABMaU1BAAAAAECzMUEAAAAAsPkuQQAAAABQnitBAAAAAADb6kAAAAAAAGrYQAAAAAAAiMNA",
          "dtype": "f8"
         },
         "yaxis": "y"
        }
       ],
       "layout": {
        "barmode": "relative",
        "coloraxis": {
         "colorbar": {
          "title": {
           "text": "Total Par Amount"
          }
         },
         "colorscale": [
          [
           0,
           "rgb(255,255,204)"
          ],
          [
           0.125,
           "rgb(255,237,160)"
          ],
          [
           0.25,
           "rgb(254,217,118)"
          ],
          [
           0.375,
           "rgb(254,178,76)"
          ],
          [
           0.5,
           "rgb(253,141,60)"
          ],
          [
           0.625,
           "rgb(252,78,42)"
          ],
          [
           0.75,
           "rgb(227,26,28)"
          ],
          [
           0.875,
           "rgb(189,0,38)"
          ],
          [
           1,
           "rgb(128,0,38)"
          ]
         ]
        },
        "height": 600,
        "legend": {
         "tracegroupgap": 0
        },
        "margin": {
         "b": 160,
         "l": 40,
         "r": 40,
         "t": 60
        },
        "showlegend": false,
        "template": {
         "data": {
          "bar": [
           {
            "error_x": {
             "color": "#2a3f5f"
            },
            "error_y": {
             "color": "#2a3f5f"
            },
            "marker": {
             "line": {
              "color": "#E5ECF6",
              "width": 0.5
             },
             "pattern": {
              "fillmode": "overlay",
              "size": 10,
              "solidity": 0.2
             }
            },
            "type": "bar"
           }
          ],
          "barpolar": [
           {
            "marker": {
             "line": {
              "color": "#E5ECF6",
              "width": 0.5
             },
             "pattern": {
              "fillmode": "overlay",
              "size": 10,
              "solidity": 0.2
             }
            },
            "type": "barpolar"
           }
          ],
          "carpet": [
           {
            "aaxis": {
             "endlinecolor": "#2a3f5f",
             "gridcolor": "white",
             "linecolor": "white",
             "minorgridcolor": "white",
             "startlinecolor": "#2a3f5f"
            },
            "baxis": {
             "endlinecolor": "#2a3f5f",
             "gridcolor": "white",
             "linecolor": "white",
             "minorgridcolor": "white",
             "startlinecolor": "#2a3f5f"
            },
            "type": "carpet"
           }
          ],
          "choropleth": [
           {
            "colorbar": {
             "outlinewidth": 0,
             "ticks": ""
            },
            "type": "choropleth"
           }
          ],
          "contour": [
           {
            "colorbar": {
             "outlinewidth": 0,
             "ticks": ""
            },
            "colorscale": [
             [
              0,
              "#0d0887"
             ],
             [
              0.1111111111111111,
              "#46039f"
             ],
             [
              0.2222222222222222,
              "#7201a8"
             ],
             [
              0.3333333333333333,
              "#9c179e"
             ],
             [
              0.4444444444444444,
              "#bd3786"
             ],
             [
              0.5555555555555556,
              "#d8576b"
             ],
             [
              0.6666666666666666,
              "#ed7953"
             ],
             [
              0.7777777777777778,
              "#fb9f3a"
             ],
             [
              0.8888888888888888,
              "#fdca26"
             ],
             [
              1,
              "#f0f921"
             ]
            ],
            "type": "contour"
           }
          ],
          "contourcarpet": [
           {
            "colorbar": {
             "outlinewidth": 0,
             "ticks": ""
            },
            "type": "contourcarpet"
           }
          ],
          "heatmap": [
           {
            "colorbar": {
             "outlinewidth": 0,
             "ticks": ""
            },
            "colorscale": [
             [
              0,
              "#0d0887"
             ],
             [
              0.1111111111111111,
              "#46039f"
             ],
             [
              0.2222222222222222,
              "#7201a8"
             ],
             [
              0.3333333333333333,
              "#9c179e"
             ],
             [
              0.4444444444444444,
              "#bd3786"
             ],
             [
              0.5555555555555556,
              "#d8576b"
             ],
             [
              0.6666666666666666,
              "#ed7953"
             ],
             [
              0.7777777777777778,
              "#fb9f3a"
             ],
             [
              0.8888888888888888,
              "#fdca26"
             ],
             [
              1,
              "#f0f921"
             ]
            ],
            "type": "heatmap"
           }
          ],
          "histogram": [
           {
            "marker": {
             "pattern": {
              "fillmode": "overlay",
              "size": 10,
              "solidity": 0.2
             }
            },
            "type": "histogram"
           }
          ],
          "histogram2d": [
           {
            "colorbar": {
             "outlinewidth": 0,
             "ticks": ""
            },
            "colorscale": [
             [
              0,
              "#0d0887"
             ],
             [
              0.1111111111111111,
              "#46039f"
             ],
             [
              0.2222222222222222,
              "#7201a8"
             ],
             [
              0.3333333333333333,
              "#9c179e"
             ],
             [
              0.4444444444444444,
              "#bd3786"
             ],
             [
              0.5555555555555556,
              "#d8576b"
             ],
             [
              0.6666666666666666,
              "#ed7953"
             ],
             [
              0.7777777777777778,
              "#fb9f3a"
             ],
             [
              0.8888888888888888,
              "#fdca26"
             ],
             [
              1,
              "#f0f921"
             ]
            ],
            "type": "histogram2d"
           }
          ],
          "histogram2dcontour": [
           {
            "colorbar": {
             "outlinewidth": 0,
             "ticks": ""
            },
            "colorscale": [
             [
              0,
              "#0d0887"
             ],
             [
              0.1111111111111111,
              "#46039f"
             ],
             [
              0.2222222222222222,
              "#7201a8"
             ],
             [
              0.3333333333333333,
              "#9c179e"
             ],
             [
              0.4444444444444444,
              "#bd3786"
             ],
             [
              0.5555555555555556,
              "#d8576b"
             ],
             [
              0.6666666666666666,
              "#ed7953"
             ],
             [
              0.7777777777777778,
              "#fb9f3a"
             ],
             [
              0.8888888888888888,
              "#fdca26"
             ],
             [
              1,
              "#f0f921"
             ]
            ],
            "type": "histogram2dcontour"
           }
          ],
          "mesh3d": [
           {
            "colorbar": {
             "outlinewidth": 0,
             "ticks": ""
            },
            "type": "mesh3d"
           }
          ],
          "parcoords": [
           {
            "line": {
             "colorbar": {
              "outlinewidth": 0,
              "ticks": ""
             }
            },
            "type": "parcoords"
           }
          ],
          "pie": [
           {
            "automargin": true,
            "type": "pie"
           }
          ],
          "scatter": [
           {
            "fillpattern": {
             "fillmode": "overlay",
             "size": 10,
             "solidity": 0.2
            },
            "type": "scatter"
           }
          ],
          "scatter3d": [
           {
            "line": {
             "colorbar": {
              "outlinewidth": 0,
              "ticks": ""
             }
            },
            "marker": {
             "colorbar": {
              "outlinewidth": 0,
              "ticks": ""
             }
            },
            "type": "scatter3d"
           }
          ],
          "scattercarpet": [
           {
            "marker": {
             "colorbar": {
              "outlinewidth": 0,
              "ticks": ""
             }
            },
            "type": "scattercarpet"
           }
          ],
          "scattergeo": [
           {
            "marker": {
             "colorbar": {
              "outlinewidth": 0,
              "ticks": ""
             }
            },
            "type": "scattergeo"
           }
          ],
          "scattergl": [
           {
            "marker": {
             "colorbar": {
              "outlinewidth": 0,
              "ticks": ""
             }
            },
            "type": "scattergl"
           }
          ],
          "scattermap": [
           {
            "marker": {
             "colorbar": {
              "outlinewidth": 0,
              "ticks": ""
             }
            },
            "type": "scattermap"
           }
          ],
          "scattermapbox": [
           {
            "marker": {
             "colorbar": {
              "outlinewidth": 0,
              "ticks": ""
             }
            },
            "type": "scattermapbox"
           }
          ],
          "scatterpolar": [
           {
            "marker": {
             "colorbar": {
              "outlinewidth": 0,
              "ticks": ""
             }
            },
            "type": "scatterpolar"
           }
          ],
          "scatterpolargl": [
           {
            "marker": {
             "colorbar": {
              "outlinewidth": 0,
              "ticks": ""
             }
            },
            "type": "scatterpolargl"
           }
          ],
          "scatterternary": [
           {
            "marker": {
             "colorbar": {
              "outlinewidth": 0,
              "ticks": ""
             }
            },
            "type": "scatterternary"
           }
          ],
          "surface": [
           {
            "colorbar": {
             "outlinewidth": 0,
             "ticks": ""
            },
            "colorscale": [
             [
              0,
              "#0d0887"
             ],
             [
              0.1111111111111111,
              "#46039f"
             ],
             [
              0.2222222222222222,
              "#7201a8"
             ],
             [
              0.3333333333333333,
              "#9c179e"
             ],
             [
              0.4444444444444444,
              "#bd3786"
             ],
             [
              0.5555555555555556,
              "#d8576b"
             ],
             [
              0.6666666666666666,
              "#ed7953"
             ],
             [
              0.7777777777777778,
              "#fb9f3a"
             ],
             [
              0.8888888888888888,
              "#fdca26"
             ],
             [
              1,
              "#f0f921"
             ]
            ],
            "type": "surface"
           }
          ],
          "table": [
           {
            "cells": {
             "fill": {
              "color": "#EBF0F8"
             },
             "line": {
              "color": "white"
             }
            },
            "header": {
             "fill": {
              "color": "#C8D4E3"
             },
             "line": {
              "color": "white"
             }
            },
            "type": "table"
           }
          ]
         },
         "layout": {
          "annotationdefaults": {
           "arrowcolor": "#2a3f5f",
           "arrowhead": 0,
           "arrowwidth": 1
          },
          "autotypenumbers": "strict",
          "coloraxis": {
           "colorbar": {
            "outlinewidth": 0,
            "ticks": ""
           }
          },
          "colorscale": {
           "diverging": [
            [
             0,
             "#8e0152"
            ],
            [
             0.1,
             "#c51b7d"
            ],
            [
             0.2,
             "#de77ae"
            ],
            [
             0.3,
             "#f1b6da"
            ],
            [
             0.4,
             "#fde0ef"
            ],
            [
             0.5,
             "#f7f7f7"
            ],
            [
             0.6,
             "#e6f5d0"
            ],
            [
             0.7,
             "#b8e186"
            ],
            [
             0.8,
             "#7fbc41"
            ],
            [
             0.9,
             "#4d9221"
            ],
            [
             1,
             "#276419"
            ]
           ],
           "sequential": [
            [
             0,
             "#0d0887"
            ],
            [
             0.1111111111111111,
             "#46039f"
            ],
            [
             0.2222222222222222,
             "#7201a8"
            ],
            [
             0.3333333333333333,
             "#9c179e"
            ],
            [
             0.4444444444444444,
             "#bd3786"
            ],
            [
             0.5555555555555556,
             "#d8576b"
            ],
            [
             0.6666666666666666,
             "#ed7953"
            ],
            [
             0.7777777777777778,
             "#fb9f3a"
            ],
            [
             0.8888888888888888,
             "#fdca26"
            ],
            [
             1,
             "#f0f921"
            ]
           ],
           "sequentialminus": [
            [
             0,
             "#0d0887"
            ],
            [
             0.1111111111111111,
             "#46039f"
            ],
            [
             0.2222222222222222,
             "#7201a8"
            ],
            [
             0.3333333333333333,
             "#9c179e"
            ],
            [
             0.4444444444444444,
             "#bd3786"
            ],
            [
             0.5555555555555556,
             "#d8576b"
            ],
            [
             0.6666666666666666,
             "#ed7953"
            ],
            [
             0.7777777777777778,
             "#fb9f3a"
            ],
            [
             0.8888888888888888,
             "#fdca26"
            ],
            [
             1,
             "#f0f921"
            ]
           ]
          },
          "colorway": [
           "#636efa",
           "#EF553B",
           "#00cc96",
           "#ab63fa",
           "#FFA15A",
           "#19d3f3",
           "#FF6692",
           "#B6E880",
           "#FF97FF",
           "#FECB52"
          ],
          "font": {
           "color": "#2a3f5f"
          },
          "geo": {
           "bgcolor": "white",
           "lakecolor": "white",
           "landcolor": "#E5ECF6",
           "showlakes": true,
           "showland": true,
           "subunitcolor": "white"
          },
          "hoverlabel": {
           "align": "left"
          },
          "hovermode": "closest",
          "mapbox": {
           "style": "light"
          },
          "paper_bgcolor": "white",
          "plot_bgcolor": "#E5ECF6",
          "polar": {
           "angularaxis": {
            "gridcolor": "white",
            "linecolor": "white",
            "ticks": ""
           },
           "bgcolor": "#E5ECF6",
           "radialaxis": {
            "gridcolor": "white",
            "linecolor": "white",
            "ticks": ""
           }
          },
          "scene": {
           "xaxis": {
            "backgroundcolor": "#E5ECF6",
            "gridcolor": "white",
            "gridwidth": 2,
            "linecolor": "white",
            "showbackground": true,
            "ticks": "",
            "zerolinecolor": "white"
           },
           "yaxis": {
            "backgroundcolor": "#E5ECF6",
            "gridcolor": "white",
            "gridwidth": 2,
            "linecolor": "white",
            "showbackground": true,
            "ticks": "",
            "zerolinecolor": "white"
           },
           "zaxis": {
            "backgroundcolor": "#E5ECF6",
            "gridcolor": "white",
            "gridwidth": 2,
            "linecolor": "white",
            "showbackground": true,
            "ticks": "",
            "zerolinecolor": "white"
           }
          },
          "shapedefaults": {
           "line": {
            "color": "#2a3f5f"
           }
          },
          "ternary": {
           "aaxis": {
            "gridcolor": "white",
            "linecolor": "white",
            "ticks": ""
           },
           "baxis": {
            "gridcolor": "white",
            "linecolor": "white",
            "ticks": ""
           },
           "bgcolor": "#E5ECF6",
           "caxis": {
            "gridcolor": "white",
            "linecolor": "white",
            "ticks": ""
           }
          },
          "title": {
           "x": 0.05
          },
          "xaxis": {
           "automargin": true,
           "gridcolor": "white",
           "linecolor": "white",
           "ticks": "",
           "title": {
            "standoff": 15
           },
           "zerolinecolor": "white",
           "zerolinewidth": 2
          },
          "yaxis": {
           "automargin": true,
           "gridcolor": "white",
           "linecolor": "white",
           "ticks": "",
           "title": {
            "standoff": 15
           },
           "zerolinecolor": "white",
           "zerolinewidth": 2
          }
         }
        },
        "title": {
         "font": {
          "size": 18
         },
         "text": "Portfolio Distribution by Sector (Par Amount)"
        },
        "width": 1400,
        "xaxis": {
         "anchor": "y",
         "autorange": true,
         "domain": [
          0,
          1
         ],
         "range": [
          -0.5,
          41.5
         ],
         "tickangle": 45,
         "tickfont": {
          "size": 10
         },
         "title": {
          "text": "Sector"
         },
         "type": "category"
        },
        "yaxis": {
         "anchor": "x",
         "autorange": true,
         "domain": [
          0,
          1
         ],
         "range": [
          0,
          680817282.171421
         ],
         "title": {
          "font": {
           "size": 12
          },
          "text": "Total Par Amount"
         },
         "type": "linear"
        }
       }
      }
     },
     "metadata": {},
     "output_type": "display_data"
    }
   ],
   "source": [
    "def analyze_sector_distribution(portfolio_data):\n",
    "    sector_distribution = (\n",
    "        portfolio_data.groupby('Sector', as_index=False)['Par'].sum()\n",
    "    )\n",
    "\n",
    "    total_par = sector_distribution['Par'].sum()\n",
    "    sector_distribution['Percentage'] = 100 * sector_distribution['Par'] / total_par\n",
    "\n",
    "    sector_distribution.sort_values('Par', ascending=False, inplace=True)\n",
    "\n",
    "    fig = px.bar(\n",
    "        sector_distribution,\n",
    "        x='Sector',\n",
    "        y='Par',\n",
    "        text=sector_distribution['Percentage'].map(lambda x: f\"{x:.1f}%\"),\n",
    "        labels={'Par': 'Total Par Amount'},\n",
    "        title='Portfolio Distribution by Sector (Par Amount)',\n",
    "        color='Par',\n",
    "        color_continuous_scale=shared_color_scale\n",
    "    )\n",
    "\n",
    "    fig.update_traces(\n",
    "        textposition='outside',\n",
    "        textfont_size=10\n",
    "    )\n",
    "\n",
    "    fig.update_layout(\n",
    "        width=1400,\n",
    "        height=600,\n",
    "        margin=dict(l=40, r=40, t=60, b=160),\n",
    "        xaxis_tickangle=45,\n",
    "        xaxis_tickfont_size=10,\n",
    "        yaxis_title_font_size=12,\n",
    "        title_font_size=18,\n",
    "        showlegend=False\n",
    "    )\n",
    "\n",
    "    fig.show()\n",
    "\n",
    "analyze_sector_distribution(portfolio_data)"
   ]
  },
  {
   "cell_type": "markdown",
   "metadata": {},
   "source": [
    "### Question 2: How is credit risk distributed across the portfolio?\n",
    "##### Calculate the share of obligors that fall into the different rating buckets: AAA, AA, A, BBB, and HY (High Yield; BB and below).\n",
    "\n",
    "We categorized each obligor’s rating into buckets: AAA, AA, A, BBB, and High Yield (HY).\n",
    "High Yield (HY) includes ratings below investment grade (e.g., BB, B, CCC, CC, C, D).\n",
    "We computed the number of unique obligors in each rating bucket.\n",
    "The results were expressed as:\n",
    "- Obligor count per rating bucket\n",
    "- Percentage share of total obligors\n",
    "  \n",
    "A bar chart visualization was created using Plotly:\n",
    "- X-axis: Rating buckets (AAA, AA, A, BBB, HY)\n",
    "- Y-axis: Number of unique obligors\n",
    "\n",
    "Percentage exposure displayed on top of each bar\n",
    "The chart provides insights into the credit quality distribution and highlights potential concentration in lower-rated obligors."
   ]
  },
  {
   "cell_type": "code",
   "execution_count": 59,
   "metadata": {},
   "outputs": [
    {
     "data": {
      "application/vnd.plotly.v1+json": {
       "config": {
        "plotlyServerURL": "https://plot.ly"
       },
       "data": [
        {
         "hovertemplate": "Rating Bucket=%{x}<br>Number of Obligors=%{y}<br>text=%{text}<extra></extra>",
         "legendgroup": "AAA",
         "marker": {
          "color": "rgb(255,255,204)",
          "pattern": {
           "shape": ""
          }
         },
         "name": "AAA",
         "orientation": "v",
         "showlegend": true,
         "text": [
          "2.9%"
         ],
         "textfont": {
          "size": 10
         },
         "textposition": "outside",
         "type": "bar",
         "x": [
          "AAA"
         ],
         "xaxis": "x",
         "y": {
          "_inputArray": {
           "0": 67,
           "bdata": "Qw==",
           "dtype": "i1",
           "shape": "1"
          },
          "bdata": "Qw==",
          "dtype": "i1"
         },
         "yaxis": "y"
        },
        {
         "hovertemplate": "Rating Bucket=%{x}<br>Number of Obligors=%{y}<br>text=%{text}<extra></extra>",
         "legendgroup": "AA",
         "marker": {
          "color": "rgb(255,237,160)",
          "pattern": {
           "shape": ""
          }
         },
         "name": "AA",
         "orientation": "v",
         "showlegend": true,
         "text": [
          "53.6%"
         ],
         "textfont": {
          "size": 10
         },
         "textposition": "outside",
         "type": "bar",
         "x": [
          "AA"
         ],
         "xaxis": "x",
         "y": {
          "_inputArray": {
           "0": 1254,
           "bdata": "5gQ=",
           "dtype": "i2",
           "shape": "1"
          },
          "bdata": "5gQ=",
          "dtype": "i2"
         },
         "yaxis": "y"
        },
        {
         "hovertemplate": "Rating Bucket=%{x}<br>Number of Obligors=%{y}<br>text=%{text}<extra></extra>",
         "legendgroup": "A",
         "marker": {
          "color": "rgb(254,217,118)",
          "pattern": {
           "shape": ""
          }
         },
         "name": "A",
         "orientation": "v",
         "showlegend": true,
         "text": [
          "37.3%"
         ],
         "textfont": {
          "size": 10
         },
         "textposition": "outside",
         "type": "bar",
         "x": [
          "A"
         ],
         "xaxis": "x",
         "y": {
          "_inputArray": {
           "0": 872,
           "bdata": "aAM=",
           "dtype": "i2",
           "shape": "1"
          },
          "bdata": "aAM=",
          "dtype": "i2"
         },
         "yaxis": "y"
        },
        {
         "hovertemplate": "Rating Bucket=%{x}<br>Number of Obligors=%{y}<br>text=%{text}<extra></extra>",
         "legendgroup": "BBB",
         "marker": {
          "color": "rgb(254,178,76)",
          "pattern": {
           "shape": ""
          }
         },
         "name": "BBB",
         "orientation": "v",
         "showlegend": true,
         "text": [
          "3.6%"
         ],
         "textfont": {
          "size": 10
         },
         "textposition": "outside",
         "type": "bar",
         "x": [
          "BBB"
         ],
         "xaxis": "x",
         "y": {
          "_inputArray": {
           "0": 84,
           "bdata": "VA==",
           "dtype": "i1",
           "shape": "1"
          },
          "bdata": "VA==",
          "dtype": "i1"
         },
         "yaxis": "y"
        },
        {
         "hovertemplate": "Rating Bucket=%{x}<br>Number of Obligors=%{y}<br>text=%{text}<extra></extra>",
         "legendgroup": "HY",
         "marker": {
          "color": "rgb(253,141,60)",
          "pattern": {
           "shape": ""
          }
         },
         "name": "HY",
         "orientation": "v",
         "showlegend": true,
         "text": [
          "2.7%"
         ],
         "textfont": {
          "size": 10
         },
         "textposition": "outside",
         "type": "bar",
         "x": [
          "HY"
         ],
         "xaxis": "x",
         "y": {
          "_inputArray": {
           "0": 63,
           "bdata": "Pw==",
           "dtype": "i1",
           "shape": "1"
          },
          "bdata": "Pw==",
          "dtype": "i1"
         },
         "yaxis": "y"
        }
       ],
       "layout": {
        "barmode": "relative",
        "font": {
         "family": "Segoe UI, sans-serif",
         "size": 12
        },
        "height": 500,
        "legend": {
         "title": {
          "text": "Rating Bucket"
         },
         "tracegroupgap": 0
        },
        "plot_bgcolor": "white",
        "showlegend": false,
        "template": {
         "data": {
          "bar": [
           {
            "error_x": {
             "color": "#2a3f5f"
            },
            "error_y": {
             "color": "#2a3f5f"
            },
            "marker": {
             "line": {
              "color": "#E5ECF6",
              "width": 0.5
             },
             "pattern": {
              "fillmode": "overlay",
              "size": 10,
              "solidity": 0.2
             }
            },
            "type": "bar"
           }
          ],
          "barpolar": [
           {
            "marker": {
             "line": {
              "color": "#E5ECF6",
              "width": 0.5
             },
             "pattern": {
              "fillmode": "overlay",
              "size": 10,
              "solidity": 0.2
             }
            },
            "type": "barpolar"
           }
          ],
          "carpet": [
           {
            "aaxis": {
             "endlinecolor": "#2a3f5f",
             "gridcolor": "white",
             "linecolor": "white",
             "minorgridcolor": "white",
             "startlinecolor": "#2a3f5f"
            },
            "baxis": {
             "endlinecolor": "#2a3f5f",
             "gridcolor": "white",
             "linecolor": "white",
             "minorgridcolor": "white",
             "startlinecolor": "#2a3f5f"
            },
            "type": "carpet"
           }
          ],
          "choropleth": [
           {
            "colorbar": {
             "outlinewidth": 0,
             "ticks": ""
            },
            "type": "choropleth"
           }
          ],
          "contour": [
           {
            "colorbar": {
             "outlinewidth": 0,
             "ticks": ""
            },
            "colorscale": [
             [
              0,
              "#0d0887"
             ],
             [
              0.1111111111111111,
              "#46039f"
             ],
             [
              0.2222222222222222,
              "#7201a8"
             ],
             [
              0.3333333333333333,
              "#9c179e"
             ],
             [
              0.4444444444444444,
              "#bd3786"
             ],
             [
              0.5555555555555556,
              "#d8576b"
             ],
             [
              0.6666666666666666,
              "#ed7953"
             ],
             [
              0.7777777777777778,
              "#fb9f3a"
             ],
             [
              0.8888888888888888,
              "#fdca26"
             ],
             [
              1,
              "#f0f921"
             ]
            ],
            "type": "contour"
           }
          ],
          "contourcarpet": [
           {
            "colorbar": {
             "outlinewidth": 0,
             "ticks": ""
            },
            "type": "contourcarpet"
           }
          ],
          "heatmap": [
           {
            "colorbar": {
             "outlinewidth": 0,
             "ticks": ""
            },
            "colorscale": [
             [
              0,
              "#0d0887"
             ],
             [
              0.1111111111111111,
              "#46039f"
             ],
             [
              0.2222222222222222,
              "#7201a8"
             ],
             [
              0.3333333333333333,
              "#9c179e"
             ],
             [
              0.4444444444444444,
              "#bd3786"
             ],
             [
              0.5555555555555556,
              "#d8576b"
             ],
             [
              0.6666666666666666,
              "#ed7953"
             ],
             [
              0.7777777777777778,
              "#fb9f3a"
             ],
             [
              0.8888888888888888,
              "#fdca26"
             ],
             [
              1,
              "#f0f921"
             ]
            ],
            "type": "heatmap"
           }
          ],
          "histogram": [
           {
            "marker": {
             "pattern": {
              "fillmode": "overlay",
              "size": 10,
              "solidity": 0.2
             }
            },
            "type": "histogram"
           }
          ],
          "histogram2d": [
           {
            "colorbar": {
             "outlinewidth": 0,
             "ticks": ""
            },
            "colorscale": [
             [
              0,
              "#0d0887"
             ],
             [
              0.1111111111111111,
              "#46039f"
             ],
             [
              0.2222222222222222,
              "#7201a8"
             ],
             [
              0.3333333333333333,
              "#9c179e"
             ],
             [
              0.4444444444444444,
              "#bd3786"
             ],
             [
              0.5555555555555556,
              "#d8576b"
             ],
             [
              0.6666666666666666,
              "#ed7953"
             ],
             [
              0.7777777777777778,
              "#fb9f3a"
             ],
             [
              0.8888888888888888,
              "#fdca26"
             ],
             [
              1,
              "#f0f921"
             ]
            ],
            "type": "histogram2d"
           }
          ],
          "histogram2dcontour": [
           {
            "colorbar": {
             "outlinewidth": 0,
             "ticks": ""
            },
            "colorscale": [
             [
              0,
              "#0d0887"
             ],
             [
              0.1111111111111111,
              "#46039f"
             ],
             [
              0.2222222222222222,
              "#7201a8"
             ],
             [
              0.3333333333333333,
              "#9c179e"
             ],
             [
              0.4444444444444444,
              "#bd3786"
             ],
             [
              0.5555555555555556,
              "#d8576b"
             ],
             [
              0.6666666666666666,
              "#ed7953"
             ],
             [
              0.7777777777777778,
              "#fb9f3a"
             ],
             [
              0.8888888888888888,
              "#fdca26"
             ],
             [
              1,
              "#f0f921"
             ]
            ],
            "type": "histogram2dcontour"
           }
          ],
          "mesh3d": [
           {
            "colorbar": {
             "outlinewidth": 0,
             "ticks": ""
            },
            "type": "mesh3d"
           }
          ],
          "parcoords": [
           {
            "line": {
             "colorbar": {
              "outlinewidth": 0,
              "ticks": ""
             }
            },
            "type": "parcoords"
           }
          ],
          "pie": [
           {
            "automargin": true,
            "type": "pie"
           }
          ],
          "scatter": [
           {
            "fillpattern": {
             "fillmode": "overlay",
             "size": 10,
             "solidity": 0.2
            },
            "type": "scatter"
           }
          ],
          "scatter3d": [
           {
            "line": {
             "colorbar": {
              "outlinewidth": 0,
              "ticks": ""
             }
            },
            "marker": {
             "colorbar": {
              "outlinewidth": 0,
              "ticks": ""
             }
            },
            "type": "scatter3d"
           }
          ],
          "scattercarpet": [
           {
            "marker": {
             "colorbar": {
              "outlinewidth": 0,
              "ticks": ""
             }
            },
            "type": "scattercarpet"
           }
          ],
          "scattergeo": [
           {
            "marker": {
             "colorbar": {
              "outlinewidth": 0,
              "ticks": ""
             }
            },
            "type": "scattergeo"
           }
          ],
          "scattergl": [
           {
            "marker": {
             "colorbar": {
              "outlinewidth": 0,
              "ticks": ""
             }
            },
            "type": "scattergl"
           }
          ],
          "scattermap": [
           {
            "marker": {
             "colorbar": {
              "outlinewidth": 0,
              "ticks": ""
             }
            },
            "type": "scattermap"
           }
          ],
          "scattermapbox": [
           {
            "marker": {
             "colorbar": {
              "outlinewidth": 0,
              "ticks": ""
             }
            },
            "type": "scattermapbox"
           }
          ],
          "scatterpolar": [
           {
            "marker": {
             "colorbar": {
              "outlinewidth": 0,
              "ticks": ""
             }
            },
            "type": "scatterpolar"
           }
          ],
          "scatterpolargl": [
           {
            "marker": {
             "colorbar": {
              "outlinewidth": 0,
              "ticks": ""
             }
            },
            "type": "scatterpolargl"
           }
          ],
          "scatterternary": [
           {
            "marker": {
             "colorbar": {
              "outlinewidth": 0,
              "ticks": ""
             }
            },
            "type": "scatterternary"
           }
          ],
          "surface": [
           {
            "colorbar": {
             "outlinewidth": 0,
             "ticks": ""
            },
            "colorscale": [
             [
              0,
              "#0d0887"
             ],
             [
              0.1111111111111111,
              "#46039f"
             ],
             [
              0.2222222222222222,
              "#7201a8"
             ],
             [
              0.3333333333333333,
              "#9c179e"
             ],
             [
              0.4444444444444444,
              "#bd3786"
             ],
             [
              0.5555555555555556,
              "#d8576b"
             ],
             [
              0.6666666666666666,
              "#ed7953"
             ],
             [
              0.7777777777777778,
              "#fb9f3a"
             ],
             [
              0.8888888888888888,
              "#fdca26"
             ],
             [
              1,
              "#f0f921"
             ]
            ],
            "type": "surface"
           }
          ],
          "table": [
           {
            "cells": {
             "fill": {
              "color": "#EBF0F8"
             },
             "line": {
              "color": "white"
             }
            },
            "header": {
             "fill": {
              "color": "#C8D4E3"
             },
             "line": {
              "color": "white"
             }
            },
            "type": "table"
           }
          ]
         },
         "layout": {
          "annotationdefaults": {
           "arrowcolor": "#2a3f5f",
           "arrowhead": 0,
           "arrowwidth": 1
          },
          "autotypenumbers": "strict",
          "coloraxis": {
           "colorbar": {
            "outlinewidth": 0,
            "ticks": ""
           }
          },
          "colorscale": {
           "diverging": [
            [
             0,
             "#8e0152"
            ],
            [
             0.1,
             "#c51b7d"
            ],
            [
             0.2,
             "#de77ae"
            ],
            [
             0.3,
             "#f1b6da"
            ],
            [
             0.4,
             "#fde0ef"
            ],
            [
             0.5,
             "#f7f7f7"
            ],
            [
             0.6,
             "#e6f5d0"
            ],
            [
             0.7,
             "#b8e186"
            ],
            [
             0.8,
             "#7fbc41"
            ],
            [
             0.9,
             "#4d9221"
            ],
            [
             1,
             "#276419"
            ]
           ],
           "sequential": [
            [
             0,
             "#0d0887"
            ],
            [
             0.1111111111111111,
             "#46039f"
            ],
            [
             0.2222222222222222,
             "#7201a8"
            ],
            [
             0.3333333333333333,
             "#9c179e"
            ],
            [
             0.4444444444444444,
             "#bd3786"
            ],
            [
             0.5555555555555556,
             "#d8576b"
            ],
            [
             0.6666666666666666,
             "#ed7953"
            ],
            [
             0.7777777777777778,
             "#fb9f3a"
            ],
            [
             0.8888888888888888,
             "#fdca26"
            ],
            [
             1,
             "#f0f921"
            ]
           ],
           "sequentialminus": [
            [
             0,
             "#0d0887"
            ],
            [
             0.1111111111111111,
             "#46039f"
            ],
            [
             0.2222222222222222,
             "#7201a8"
            ],
            [
             0.3333333333333333,
             "#9c179e"
            ],
            [
             0.4444444444444444,
             "#bd3786"
            ],
            [
             0.5555555555555556,
             "#d8576b"
            ],
            [
             0.6666666666666666,
             "#ed7953"
            ],
            [
             0.7777777777777778,
             "#fb9f3a"
            ],
            [
             0.8888888888888888,
             "#fdca26"
            ],
            [
             1,
             "#f0f921"
            ]
           ]
          },
          "colorway": [
           "#636efa",
           "#EF553B",
           "#00cc96",
           "#ab63fa",
           "#FFA15A",
           "#19d3f3",
           "#FF6692",
           "#B6E880",
           "#FF97FF",
           "#FECB52"
          ],
          "font": {
           "color": "#2a3f5f"
          },
          "geo": {
           "bgcolor": "white",
           "lakecolor": "white",
           "landcolor": "#E5ECF6",
           "showlakes": true,
           "showland": true,
           "subunitcolor": "white"
          },
          "hoverlabel": {
           "align": "left"
          },
          "hovermode": "closest",
          "mapbox": {
           "style": "light"
          },
          "paper_bgcolor": "white",
          "plot_bgcolor": "#E5ECF6",
          "polar": {
           "angularaxis": {
            "gridcolor": "white",
            "linecolor": "white",
            "ticks": ""
           },
           "bgcolor": "#E5ECF6",
           "radialaxis": {
            "gridcolor": "white",
            "linecolor": "white",
            "ticks": ""
           }
          },
          "scene": {
           "xaxis": {
            "backgroundcolor": "#E5ECF6",
            "gridcolor": "white",
            "gridwidth": 2,
            "linecolor": "white",
            "showbackground": true,
            "ticks": "",
            "zerolinecolor": "white"
           },
           "yaxis": {
            "backgroundcolor": "#E5ECF6",
            "gridcolor": "white",
            "gridwidth": 2,
            "linecolor": "white",
            "showbackground": true,
            "ticks": "",
            "zerolinecolor": "white"
           },
           "zaxis": {
            "backgroundcolor": "#E5ECF6",
            "gridcolor": "white",
            "gridwidth": 2,
            "linecolor": "white",
            "showbackground": true,
            "ticks": "",
            "zerolinecolor": "white"
           }
          },
          "shapedefaults": {
           "line": {
            "color": "#2a3f5f"
           }
          },
          "ternary": {
           "aaxis": {
            "gridcolor": "white",
            "linecolor": "white",
            "ticks": ""
           },
           "baxis": {
            "gridcolor": "white",
            "linecolor": "white",
            "ticks": ""
           },
           "bgcolor": "#E5ECF6",
           "caxis": {
            "gridcolor": "white",
            "linecolor": "white",
            "ticks": ""
           }
          },
          "title": {
           "x": 0.05
          },
          "xaxis": {
           "automargin": true,
           "gridcolor": "white",
           "linecolor": "white",
           "ticks": "",
           "title": {
            "standoff": 15
           },
           "zerolinecolor": "white",
           "zerolinewidth": 2
          },
          "yaxis": {
           "automargin": true,
           "gridcolor": "white",
           "linecolor": "white",
           "ticks": "",
           "title": {
            "standoff": 15
           },
           "zerolinecolor": "white",
           "zerolinewidth": 2
          }
         }
        },
        "title": {
         "font": {
          "size": 18
         },
         "text": "Credit Risk Distribution Across Obligor Ratings"
        },
        "width": 900,
        "xaxis": {
         "anchor": "y",
         "autorange": true,
         "categoryarray": [
          "AAA",
          "AA",
          "A",
          "BBB",
          "HY"
         ],
         "categoryorder": "array",
         "domain": [
          0,
          1
         ],
         "range": [
          -0.5,
          4.5
         ],
         "title": {
          "text": "Rating Bucket"
         },
         "type": "category"
        },
        "yaxis": {
         "anchor": "x",
         "autorange": true,
         "domain": [
          0,
          1
         ],
         "range": [
          0,
          1320
         ],
         "title": {
          "text": "Number of Unique Obligors"
         },
         "type": "linear"
        }
       }
      }
     },
     "metadata": {},
     "output_type": "display_data"
    }
   ],
   "source": [
    "import plotly.express as px\n",
    "\n",
    "def analyze_credit_risk_distribution(portfolio_data):\n",
    "\n",
    "    def map_rating_to_bucket(rating):\n",
    "        if pd.isnull(rating):\n",
    "            return None\n",
    "        rating = rating.upper().strip()\n",
    "        if rating == 'AAA':\n",
    "            return 'AAA'\n",
    "        elif rating.startswith('AA'):\n",
    "            return 'AA'\n",
    "        elif rating.startswith('A'):\n",
    "            return 'A'\n",
    "        elif rating.startswith('BBB'):\n",
    "            return 'BBB'\n",
    "        elif rating.startswith(('BB', 'B', 'CCC', 'CC', 'C', 'D')):\n",
    "            return 'HY'\n",
    "        else:\n",
    "            return None\n",
    "\n",
    "    portfolio_data['Rating_Bucket'] = portfolio_data['Rating'].apply(map_rating_to_bucket)\n",
    "\n",
    "    rated_data = portfolio_data.dropna(subset=['Rating_Bucket'])\n",
    "\n",
    "    rating_counts = (\n",
    "        rated_data.groupby('Rating_Bucket')['Obligor']\n",
    "        .nunique()\n",
    "        .reindex(['AAA', 'AA', 'A', 'BBB', 'HY'])\n",
    "        .reset_index(name='Obligor_Count')\n",
    "    )\n",
    "\n",
    "    total = rating_counts['Obligor_Count'].sum()\n",
    "    rating_counts['Percentage'] = 100 * rating_counts['Obligor_Count'] / total\n",
    "\n",
    "    fig = px.bar(\n",
    "        rating_counts,\n",
    "        x='Rating_Bucket',\n",
    "        y='Obligor_Count',\n",
    "        text=rating_counts['Percentage'].map(lambda x: f\"{x:.1f}%\"),\n",
    "        color='Rating_Bucket',\n",
    "        color_discrete_sequence=shared_color_scale,\n",
    "        title='Credit Risk Distribution Across Obligor Ratings',\n",
    "        labels={'Rating_Bucket': 'Rating Bucket', 'Obligor_Count': 'Number of Obligors'}\n",
    "    )\n",
    "\n",
    "    fig.update_traces(textposition='outside', textfont_size=10)\n",
    "    fig.update_layout(\n",
    "        width=900,\n",
    "        height=500,\n",
    "        xaxis_title='Rating Bucket',\n",
    "        yaxis_title='Number of Unique Obligors',\n",
    "        title_font_size=18,\n",
    "        showlegend=False,\n",
    "        plot_bgcolor='white',\n",
    "        font=dict(family=\"Segoe UI, sans-serif\", size=12)\n",
    "    )\n",
    "\n",
    "    fig.show()\n",
    "    \n",
    "analyze_credit_risk_distribution(portfolio_data)"
   ]
  },
  {
   "cell_type": "markdown",
   "metadata": {},
   "source": [
    "### Question 3: What is the rating coverage of the portfolio?\n",
    "##### Determine how many obligors have credit ratings versus those that are unrated."
   ]
  },
  {
   "cell_type": "code",
   "execution_count": 60,
   "metadata": {},
   "outputs": [
    {
     "data": {
      "application/vnd.plotly.v1+json": {
       "config": {
        "plotlyServerURL": "https://plot.ly"
       },
       "data": [
        {
         "hovertemplate": "Rating_Status=%{y}<br>Obligor_Count=%{x}<br>text=%{text}<extra></extra>",
         "legendgroup": "Unrated",
         "marker": {
          "color": "#FF4500",
          "pattern": {
           "shape": ""
          }
         },
         "name": "Unrated",
         "orientation": "h",
         "showlegend": true,
         "text": [
          "93.8%"
         ],
         "textfont": {
          "size": 12
         },
         "textposition": "outside",
         "type": "bar",
         "x": {
          "_inputArray": {
           "0": 155,
           "bdata": "mwA=",
           "dtype": "i2",
           "shape": "1"
          },
          "bdata": "mwA=",
          "dtype": "i2"
         },
         "xaxis": "x",
         "y": [
          "Unrated"
         ],
         "yaxis": "y"
        },
        {
         "hovertemplate": "Rating_Status=%{y}<br>Obligor_Count=%{x}<br>text=%{text}<extra></extra>",
         "legendgroup": "Rated",
         "marker": {
          "color": "#FFD700",
          "pattern": {
           "shape": ""
          }
         },
         "name": "Rated",
         "orientation": "h",
         "showlegend": true,
         "text": [
          "6.2%"
         ],
         "textfont": {
          "size": 12
         },
         "textposition": "outside",
         "type": "bar",
         "x": {
          "_inputArray": {
           "0": 2340,
           "bdata": "JAk=",
           "dtype": "i2",
           "shape": "1"
          },
          "bdata": "JAk=",
          "dtype": "i2"
         },
         "xaxis": "x",
         "y": [
          "Rated"
         ],
         "yaxis": "y"
        }
       ],
       "layout": {
        "barmode": "relative",
        "font": {
         "family": "Segoe UI",
         "size": 12
        },
        "height": 400,
        "legend": {
         "title": {
          "text": "Rating_Status"
         },
         "tracegroupgap": 0
        },
        "plot_bgcolor": "white",
        "showlegend": false,
        "template": {
         "data": {
          "bar": [
           {
            "error_x": {
             "color": "#2a3f5f"
            },
            "error_y": {
             "color": "#2a3f5f"
            },
            "marker": {
             "line": {
              "color": "#E5ECF6",
              "width": 0.5
             },
             "pattern": {
              "fillmode": "overlay",
              "size": 10,
              "solidity": 0.2
             }
            },
            "type": "bar"
           }
          ],
          "barpolar": [
           {
            "marker": {
             "line": {
              "color": "#E5ECF6",
              "width": 0.5
             },
             "pattern": {
              "fillmode": "overlay",
              "size": 10,
              "solidity": 0.2
             }
            },
            "type": "barpolar"
           }
          ],
          "carpet": [
           {
            "aaxis": {
             "endlinecolor": "#2a3f5f",
             "gridcolor": "white",
             "linecolor": "white",
             "minorgridcolor": "white",
             "startlinecolor": "#2a3f5f"
            },
            "baxis": {
             "endlinecolor": "#2a3f5f",
             "gridcolor": "white",
             "linecolor": "white",
             "minorgridcolor": "white",
             "startlinecolor": "#2a3f5f"
            },
            "type": "carpet"
           }
          ],
          "choropleth": [
           {
            "colorbar": {
             "outlinewidth": 0,
             "ticks": ""
            },
            "type": "choropleth"
           }
          ],
          "contour": [
           {
            "colorbar": {
             "outlinewidth": 0,
             "ticks": ""
            },
            "colorscale": [
             [
              0,
              "#0d0887"
             ],
             [
              0.1111111111111111,
              "#46039f"
             ],
             [
              0.2222222222222222,
              "#7201a8"
             ],
             [
              0.3333333333333333,
              "#9c179e"
             ],
             [
              0.4444444444444444,
              "#bd3786"
             ],
             [
              0.5555555555555556,
              "#d8576b"
             ],
             [
              0.6666666666666666,
              "#ed7953"
             ],
             [
              0.7777777777777778,
              "#fb9f3a"
             ],
             [
              0.8888888888888888,
              "#fdca26"
             ],
             [
              1,
              "#f0f921"
             ]
            ],
            "type": "contour"
           }
          ],
          "contourcarpet": [
           {
            "colorbar": {
             "outlinewidth": 0,
             "ticks": ""
            },
            "type": "contourcarpet"
           }
          ],
          "heatmap": [
           {
            "colorbar": {
             "outlinewidth": 0,
             "ticks": ""
            },
            "colorscale": [
             [
              0,
              "#0d0887"
             ],
             [
              0.1111111111111111,
              "#46039f"
             ],
             [
              0.2222222222222222,
              "#7201a8"
             ],
             [
              0.3333333333333333,
              "#9c179e"
             ],
             [
              0.4444444444444444,
              "#bd3786"
             ],
             [
              0.5555555555555556,
              "#d8576b"
             ],
             [
              0.6666666666666666,
              "#ed7953"
             ],
             [
              0.7777777777777778,
              "#fb9f3a"
             ],
             [
              0.8888888888888888,
              "#fdca26"
             ],
             [
              1,
              "#f0f921"
             ]
            ],
            "type": "heatmap"
           }
          ],
          "histogram": [
           {
            "marker": {
             "pattern": {
              "fillmode": "overlay",
              "size": 10,
              "solidity": 0.2
             }
            },
            "type": "histogram"
           }
          ],
          "histogram2d": [
           {
            "colorbar": {
             "outlinewidth": 0,
             "ticks": ""
            },
            "colorscale": [
             [
              0,
              "#0d0887"
             ],
             [
              0.1111111111111111,
              "#46039f"
             ],
             [
              0.2222222222222222,
              "#7201a8"
             ],
             [
              0.3333333333333333,
              "#9c179e"
             ],
             [
              0.4444444444444444,
              "#bd3786"
             ],
             [
              0.5555555555555556,
              "#d8576b"
             ],
             [
              0.6666666666666666,
              "#ed7953"
             ],
             [
              0.7777777777777778,
              "#fb9f3a"
             ],
             [
              0.8888888888888888,
              "#fdca26"
             ],
             [
              1,
              "#f0f921"
             ]
            ],
            "type": "histogram2d"
           }
          ],
          "histogram2dcontour": [
           {
            "colorbar": {
             "outlinewidth": 0,
             "ticks": ""
            },
            "colorscale": [
             [
              0,
              "#0d0887"
             ],
             [
              0.1111111111111111,
              "#46039f"
             ],
             [
              0.2222222222222222,
              "#7201a8"
             ],
             [
              0.3333333333333333,
              "#9c179e"
             ],
             [
              0.4444444444444444,
              "#bd3786"
             ],
             [
              0.5555555555555556,
              "#d8576b"
             ],
             [
              0.6666666666666666,
              "#ed7953"
             ],
             [
              0.7777777777777778,
              "#fb9f3a"
             ],
             [
              0.8888888888888888,
              "#fdca26"
             ],
             [
              1,
              "#f0f921"
             ]
            ],
            "type": "histogram2dcontour"
           }
          ],
          "mesh3d": [
           {
            "colorbar": {
             "outlinewidth": 0,
             "ticks": ""
            },
            "type": "mesh3d"
           }
          ],
          "parcoords": [
           {
            "line": {
             "colorbar": {
              "outlinewidth": 0,
              "ticks": ""
             }
            },
            "type": "parcoords"
           }
          ],
          "pie": [
           {
            "automargin": true,
            "type": "pie"
           }
          ],
          "scatter": [
           {
            "fillpattern": {
             "fillmode": "overlay",
             "size": 10,
             "solidity": 0.2
            },
            "type": "scatter"
           }
          ],
          "scatter3d": [
           {
            "line": {
             "colorbar": {
              "outlinewidth": 0,
              "ticks": ""
             }
            },
            "marker": {
             "colorbar": {
              "outlinewidth": 0,
              "ticks": ""
             }
            },
            "type": "scatter3d"
           }
          ],
          "scattercarpet": [
           {
            "marker": {
             "colorbar": {
              "outlinewidth": 0,
              "ticks": ""
             }
            },
            "type": "scattercarpet"
           }
          ],
          "scattergeo": [
           {
            "marker": {
             "colorbar": {
              "outlinewidth": 0,
              "ticks": ""
             }
            },
            "type": "scattergeo"
           }
          ],
          "scattergl": [
           {
            "marker": {
             "colorbar": {
              "outlinewidth": 0,
              "ticks": ""
             }
            },
            "type": "scattergl"
           }
          ],
          "scattermap": [
           {
            "marker": {
             "colorbar": {
              "outlinewidth": 0,
              "ticks": ""
             }
            },
            "type": "scattermap"
           }
          ],
          "scattermapbox": [
           {
            "marker": {
             "colorbar": {
              "outlinewidth": 0,
              "ticks": ""
             }
            },
            "type": "scattermapbox"
           }
          ],
          "scatterpolar": [
           {
            "marker": {
             "colorbar": {
              "outlinewidth": 0,
              "ticks": ""
             }
            },
            "type": "scatterpolar"
           }
          ],
          "scatterpolargl": [
           {
            "marker": {
             "colorbar": {
              "outlinewidth": 0,
              "ticks": ""
             }
            },
            "type": "scatterpolargl"
           }
          ],
          "scatterternary": [
           {
            "marker": {
             "colorbar": {
              "outlinewidth": 0,
              "ticks": ""
             }
            },
            "type": "scatterternary"
           }
          ],
          "surface": [
           {
            "colorbar": {
             "outlinewidth": 0,
             "ticks": ""
            },
            "colorscale": [
             [
              0,
              "#0d0887"
             ],
             [
              0.1111111111111111,
              "#46039f"
             ],
             [
              0.2222222222222222,
              "#7201a8"
             ],
             [
              0.3333333333333333,
              "#9c179e"
             ],
             [
              0.4444444444444444,
              "#bd3786"
             ],
             [
              0.5555555555555556,
              "#d8576b"
             ],
             [
              0.6666666666666666,
              "#ed7953"
             ],
             [
              0.7777777777777778,
              "#fb9f3a"
             ],
             [
              0.8888888888888888,
              "#fdca26"
             ],
             [
              1,
              "#f0f921"
             ]
            ],
            "type": "surface"
           }
          ],
          "table": [
           {
            "cells": {
             "fill": {
              "color": "#EBF0F8"
             },
             "line": {
              "color": "white"
             }
            },
            "header": {
             "fill": {
              "color": "#C8D4E3"
             },
             "line": {
              "color": "white"
             }
            },
            "type": "table"
           }
          ]
         },
         "layout": {
          "annotationdefaults": {
           "arrowcolor": "#2a3f5f",
           "arrowhead": 0,
           "arrowwidth": 1
          },
          "autotypenumbers": "strict",
          "coloraxis": {
           "colorbar": {
            "outlinewidth": 0,
            "ticks": ""
           }
          },
          "colorscale": {
           "diverging": [
            [
             0,
             "#8e0152"
            ],
            [
             0.1,
             "#c51b7d"
            ],
            [
             0.2,
             "#de77ae"
            ],
            [
             0.3,
             "#f1b6da"
            ],
            [
             0.4,
             "#fde0ef"
            ],
            [
             0.5,
             "#f7f7f7"
            ],
            [
             0.6,
             "#e6f5d0"
            ],
            [
             0.7,
             "#b8e186"
            ],
            [
             0.8,
             "#7fbc41"
            ],
            [
             0.9,
             "#4d9221"
            ],
            [
             1,
             "#276419"
            ]
           ],
           "sequential": [
            [
             0,
             "#0d0887"
            ],
            [
             0.1111111111111111,
             "#46039f"
            ],
            [
             0.2222222222222222,
             "#7201a8"
            ],
            [
             0.3333333333333333,
             "#9c179e"
            ],
            [
             0.4444444444444444,
             "#bd3786"
            ],
            [
             0.5555555555555556,
             "#d8576b"
            ],
            [
             0.6666666666666666,
             "#ed7953"
            ],
            [
             0.7777777777777778,
             "#fb9f3a"
            ],
            [
             0.8888888888888888,
             "#fdca26"
            ],
            [
             1,
             "#f0f921"
            ]
           ],
           "sequentialminus": [
            [
             0,
             "#0d0887"
            ],
            [
             0.1111111111111111,
             "#46039f"
            ],
            [
             0.2222222222222222,
             "#7201a8"
            ],
            [
             0.3333333333333333,
             "#9c179e"
            ],
            [
             0.4444444444444444,
             "#bd3786"
            ],
            [
             0.5555555555555556,
             "#d8576b"
            ],
            [
             0.6666666666666666,
             "#ed7953"
            ],
            [
             0.7777777777777778,
             "#fb9f3a"
            ],
            [
             0.8888888888888888,
             "#fdca26"
            ],
            [
             1,
             "#f0f921"
            ]
           ]
          },
          "colorway": [
           "#636efa",
           "#EF553B",
           "#00cc96",
           "#ab63fa",
           "#FFA15A",
           "#19d3f3",
           "#FF6692",
           "#B6E880",
           "#FF97FF",
           "#FECB52"
          ],
          "font": {
           "color": "#2a3f5f"
          },
          "geo": {
           "bgcolor": "white",
           "lakecolor": "white",
           "landcolor": "#E5ECF6",
           "showlakes": true,
           "showland": true,
           "subunitcolor": "white"
          },
          "hoverlabel": {
           "align": "left"
          },
          "hovermode": "closest",
          "mapbox": {
           "style": "light"
          },
          "paper_bgcolor": "white",
          "plot_bgcolor": "#E5ECF6",
          "polar": {
           "angularaxis": {
            "gridcolor": "white",
            "linecolor": "white",
            "ticks": ""
           },
           "bgcolor": "#E5ECF6",
           "radialaxis": {
            "gridcolor": "white",
            "linecolor": "white",
            "ticks": ""
           }
          },
          "scene": {
           "xaxis": {
            "backgroundcolor": "#E5ECF6",
            "gridcolor": "white",
            "gridwidth": 2,
            "linecolor": "white",
            "showbackground": true,
            "ticks": "",
            "zerolinecolor": "white"
           },
           "yaxis": {
            "backgroundcolor": "#E5ECF6",
            "gridcolor": "white",
            "gridwidth": 2,
            "linecolor": "white",
            "showbackground": true,
            "ticks": "",
            "zerolinecolor": "white"
           },
           "zaxis": {
            "backgroundcolor": "#E5ECF6",
            "gridcolor": "white",
            "gridwidth": 2,
            "linecolor": "white",
            "showbackground": true,
            "ticks": "",
            "zerolinecolor": "white"
           }
          },
          "shapedefaults": {
           "line": {
            "color": "#2a3f5f"
           }
          },
          "ternary": {
           "aaxis": {
            "gridcolor": "white",
            "linecolor": "white",
            "ticks": ""
           },
           "baxis": {
            "gridcolor": "white",
            "linecolor": "white",
            "ticks": ""
           },
           "bgcolor": "#E5ECF6",
           "caxis": {
            "gridcolor": "white",
            "linecolor": "white",
            "ticks": ""
           }
          },
          "title": {
           "x": 0.05
          },
          "xaxis": {
           "automargin": true,
           "gridcolor": "white",
           "linecolor": "white",
           "ticks": "",
           "title": {
            "standoff": 15
           },
           "zerolinecolor": "white",
           "zerolinewidth": 2
          },
          "yaxis": {
           "automargin": true,
           "gridcolor": "white",
           "linecolor": "white",
           "ticks": "",
           "title": {
            "standoff": 15
           },
           "zerolinecolor": "white",
           "zerolinewidth": 2
          }
         }
        },
        "title": {
         "font": {
          "size": 18
         },
         "text": "Rating Coverage of Portfolio Obligors"
        },
        "width": 800,
        "xaxis": {
         "anchor": "y",
         "autorange": true,
         "domain": [
          0,
          1
         ],
         "range": [
          0,
          2463.157894736842
         ],
         "title": {
          "text": "Number of Unique Obligors"
         },
         "type": "linear"
        },
        "yaxis": {
         "anchor": "x",
         "autorange": true,
         "categoryarray": [
          "Rated",
          "Unrated"
         ],
         "categoryorder": "array",
         "domain": [
          0,
          1
         ],
         "range": [
          -0.5,
          1.5
         ],
         "title": {
          "text": ""
         },
         "type": "category"
        }
       }
      }
     },
     "metadata": {},
     "output_type": "display_data"
    }
   ],
   "source": [
    "import plotly.express as px\n",
    "\n",
    "def analyze_rating_coverage_bar(portfolio_data):\n",
    "    \"\"\"\n",
    "    Analyzes and plots rating coverage (Rated vs Unrated obligors) using a horizontal bar chart.\n",
    "    \n",
    "    Args:\n",
    "        portfolio_data (pd.DataFrame): Must contain 'Rating' and 'Obligor' columns.\n",
    "    \"\"\"\n",
    "    def is_rated(rating):\n",
    "        if pd.isnull(rating):\n",
    "            return False\n",
    "        rating = rating.upper().strip()\n",
    "        return rating not in ['NR', 'UR', '']\n",
    "\n",
    "    # Flag each row as rated/unrated\n",
    "    portfolio_data['Is_Rated'] = portfolio_data['Rating'].apply(is_rated)\n",
    "\n",
    "    # Group by obligor — if any bond is rated, mark the obligor as rated\n",
    "    obligor_rating_status = (\n",
    "        portfolio_data.groupby('Obligor')['Is_Rated']\n",
    "        .any()\n",
    "        .reset_index()\n",
    "    )\n",
    "\n",
    "    # Label\n",
    "    obligor_rating_status['Rating_Status'] = obligor_rating_status['Is_Rated'].map({True: 'Rated', False: 'Unrated'})\n",
    "\n",
    "    # Count\n",
    "    rating_coverage = obligor_rating_status['Rating_Status'].value_counts().reset_index()\n",
    "    rating_coverage.columns = ['Rating_Status', 'Obligor_Count']\n",
    "    total = rating_coverage['Obligor_Count'].sum()\n",
    "    rating_coverage['Percentage'] = 100 * rating_coverage['Obligor_Count'] / total\n",
    "\n",
    "    # Plot\n",
    "    fig = px.bar(\n",
    "        rating_coverage.sort_values('Obligor_Count', ascending=True),\n",
    "        x='Obligor_Count',\n",
    "        y='Rating_Status',\n",
    "        orientation='h',\n",
    "        color='Rating_Status',\n",
    "        color_discrete_map={\n",
    "            'Rated': '#FFD700',     # Green\n",
    "            'Unrated': '#FF4500'    # Red\n",
    "        },\n",
    "        text=rating_coverage['Percentage'].map(lambda x: f\"{x:.1f}%\"),\n",
    "        title='Rating Coverage of Portfolio Obligors'\n",
    "    )\n",
    "# '#FFD700', '#FFA500', '#FF4500'\n",
    "    fig.update_traces(textposition='outside', textfont_size=12)\n",
    "    fig.update_layout(\n",
    "        xaxis_title='Number of Unique Obligors',\n",
    "        yaxis_title='',\n",
    "        width=800,\n",
    "        height=400,\n",
    "        showlegend=False,\n",
    "        font=dict(family='Segoe UI', size=12),\n",
    "        plot_bgcolor='white',\n",
    "        title_font_size=18\n",
    "    )\n",
    "\n",
    "    fig.show()\n",
    "\n",
    "analyze_rating_coverage_bar(portfolio_data)"
   ]
  },
  {
   "cell_type": "markdown",
   "metadata": {},
   "source": [
    "### Question 4: What is the outlook distribution across obligors?\n",
    "##### Count obligors based on their credit outlook category (e.g., Improving, Provisional, Stable)."
   ]
  },
  {
   "cell_type": "code",
   "execution_count": 61,
   "metadata": {},
   "outputs": [
    {
     "data": {
      "text/html": [
       "<div>\n",
       "<style scoped>\n",
       "    .dataframe tbody tr th:only-of-type {\n",
       "        vertical-align: middle;\n",
       "    }\n",
       "\n",
       "    .dataframe tbody tr th {\n",
       "        vertical-align: top;\n",
       "    }\n",
       "\n",
       "    .dataframe thead th {\n",
       "        text-align: right;\n",
       "    }\n",
       "</style>\n",
       "<table border=\"1\" class=\"dataframe\">\n",
       "  <thead>\n",
       "    <tr style=\"text-align: right;\">\n",
       "      <th></th>\n",
       "      <th>cusip</th>\n",
       "      <th>Obligor</th>\n",
       "      <th>Obligor Name</th>\n",
       "      <th>maturity</th>\n",
       "      <th>coupon</th>\n",
       "      <th>Sec_Group</th>\n",
       "      <th>Sec_Type</th>\n",
       "      <th>book_yield</th>\n",
       "      <th>unrealized_gl</th>\n",
       "      <th>Par</th>\n",
       "      <th>Rating</th>\n",
       "      <th>Outlook</th>\n",
       "      <th>Sector_Level_1</th>\n",
       "      <th>Sector</th>\n",
       "      <th>Rating_Bucket</th>\n",
       "      <th>Is_Rated</th>\n",
       "    </tr>\n",
       "  </thead>\n",
       "  <tbody>\n",
       "    <tr>\n",
       "      <th>0</th>\n",
       "      <td>546398ZP6</td>\n",
       "      <td>009158</td>\n",
       "      <td>AIR PRODUCTS AND CHEMICALS INC</td>\n",
       "      <td>2043-12-01</td>\n",
       "      <td>-99.000</td>\n",
       "      <td>CASH</td>\n",
       "      <td>MVRDN</td>\n",
       "      <td>3.00000</td>\n",
       "      <td>0.00000</td>\n",
       "      <td>37000000.0</td>\n",
       "      <td>A1</td>\n",
       "      <td>NaN</td>\n",
       "      <td>CORP</td>\n",
       "      <td>CHEM</td>\n",
       "      <td>A</td>\n",
       "      <td>True</td>\n",
       "    </tr>\n",
       "    <tr>\n",
       "      <th>1</th>\n",
       "      <td>56678TAA7</td>\n",
       "      <td>201723</td>\n",
       "      <td>COMMERCIAL METALS COMPANY</td>\n",
       "      <td>2047-10-15</td>\n",
       "      <td>4.000</td>\n",
       "      <td>BND</td>\n",
       "      <td>MUNI</td>\n",
       "      <td>3.65993</td>\n",
       "      <td>-861401.04000</td>\n",
       "      <td>7175000.0</td>\n",
       "      <td>BB1</td>\n",
       "      <td>Stable</td>\n",
       "      <td>CORP</td>\n",
       "      <td>METL</td>\n",
       "      <td>HY</td>\n",
       "      <td>True</td>\n",
       "    </tr>\n",
       "    <tr>\n",
       "      <th>2</th>\n",
       "      <td>64984EDG7</td>\n",
       "      <td>209111</td>\n",
       "      <td>CONSOLIDATED EDISON COMPANY OF NEW YORK INC</td>\n",
       "      <td>2039-05-01</td>\n",
       "      <td>-99.000</td>\n",
       "      <td>CASH</td>\n",
       "      <td>MVRDN</td>\n",
       "      <td>4.55000</td>\n",
       "      <td>99999.90000</td>\n",
       "      <td>100000.0</td>\n",
       "      <td>BBB1</td>\n",
       "      <td>Stable</td>\n",
       "      <td>CORP</td>\n",
       "      <td>ELEC</td>\n",
       "      <td>BBB</td>\n",
       "      <td>True</td>\n",
       "    </tr>\n",
       "    <tr>\n",
       "      <th>3</th>\n",
       "      <td>4423485T1</td>\n",
       "      <td>210795</td>\n",
       "      <td>UNITED AIRLINES INC</td>\n",
       "      <td>2038-07-15</td>\n",
       "      <td>6.625</td>\n",
       "      <td>BND</td>\n",
       "      <td>MUNI</td>\n",
       "      <td>4.05000</td>\n",
       "      <td>-12979.08765</td>\n",
       "      <td>405000.0</td>\n",
       "      <td>BB3</td>\n",
       "      <td>Stable</td>\n",
       "      <td>CORP</td>\n",
       "      <td>AIRL</td>\n",
       "      <td>HY</td>\n",
       "      <td>True</td>\n",
       "    </tr>\n",
       "    <tr>\n",
       "      <th>4</th>\n",
       "      <td>13050RAA0</td>\n",
       "      <td>210795</td>\n",
       "      <td>UNITED AIRLINES INC</td>\n",
       "      <td>2029-07-15</td>\n",
       "      <td>4.000</td>\n",
       "      <td>BND</td>\n",
       "      <td>MUNI</td>\n",
       "      <td>4.23300</td>\n",
       "      <td>32715.02500</td>\n",
       "      <td>2500000.0</td>\n",
       "      <td>BB3</td>\n",
       "      <td>Stable</td>\n",
       "      <td>CORP</td>\n",
       "      <td>AIRL</td>\n",
       "      <td>HY</td>\n",
       "      <td>True</td>\n",
       "    </tr>\n",
       "  </tbody>\n",
       "</table>\n",
       "</div>"
      ],
      "text/plain": [
       "       cusip Obligor                                 Obligor Name   maturity  \\\n",
       "0  546398ZP6  009158               AIR PRODUCTS AND CHEMICALS INC 2043-12-01   \n",
       "1  56678TAA7  201723                    COMMERCIAL METALS COMPANY 2047-10-15   \n",
       "2  64984EDG7  209111  CONSOLIDATED EDISON COMPANY OF NEW YORK INC 2039-05-01   \n",
       "3  4423485T1  210795                          UNITED AIRLINES INC 2038-07-15   \n",
       "4  13050RAA0  210795                          UNITED AIRLINES INC 2029-07-15   \n",
       "\n",
       "   coupon Sec_Group Sec_Type  book_yield  unrealized_gl         Par Rating  \\\n",
       "0 -99.000      CASH    MVRDN     3.00000        0.00000  37000000.0     A1   \n",
       "1   4.000       BND     MUNI     3.65993  -861401.04000   7175000.0    BB1   \n",
       "2 -99.000      CASH    MVRDN     4.55000    99999.90000    100000.0   BBB1   \n",
       "3   6.625       BND     MUNI     4.05000   -12979.08765    405000.0    BB3   \n",
       "4   4.000       BND     MUNI     4.23300    32715.02500   2500000.0    BB3   \n",
       "\n",
       "  Outlook Sector_Level_1 Sector Rating_Bucket  Is_Rated  \n",
       "0     NaN           CORP   CHEM             A      True  \n",
       "1  Stable           CORP   METL            HY      True  \n",
       "2  Stable           CORP   ELEC           BBB      True  \n",
       "3  Stable           CORP   AIRL            HY      True  \n",
       "4  Stable           CORP   AIRL            HY      True  "
      ]
     },
     "execution_count": 61,
     "metadata": {},
     "output_type": "execute_result"
    }
   ],
   "source": [
    "portfolio_data.head(5)"
   ]
  },
  {
   "cell_type": "code",
   "execution_count": 62,
   "metadata": {},
   "outputs": [],
   "source": [
    "portfolio_data.dropna(inplace=True)"
   ]
  },
  {
   "cell_type": "code",
   "execution_count": 63,
   "metadata": {},
   "outputs": [],
   "source": [
    "portfolio_data['Outlook'] = (\n",
    "    portfolio_data['Outlook']\n",
    "    .fillna('Unspecified')\n",
    "    .astype(str)\n",
    "    .str.strip()\n",
    "    .str.title()\n",
    ")\n",
    "\n",
    "outlook_counts = (\n",
    "    portfolio_data['Outlook']\n",
    "    .value_counts()\n",
    "    .reset_index()\n",
    "    .rename(columns={'index': 'Outlook', 'Outlook': 'Bond_Count'})\n",
    ")\n",
    "\n",
    "total_bonds = outlook_counts['count'].sum()\n",
    "outlook_counts['Percentage'] = (100 * outlook_counts['count'] / total_bonds).round(1)"
   ]
  },
  {
   "cell_type": "code",
   "execution_count": 64,
   "metadata": {},
   "outputs": [
    {
     "data": {
      "text/html": [
       "<div>\n",
       "<style scoped>\n",
       "    .dataframe tbody tr th:only-of-type {\n",
       "        vertical-align: middle;\n",
       "    }\n",
       "\n",
       "    .dataframe tbody tr th {\n",
       "        vertical-align: top;\n",
       "    }\n",
       "\n",
       "    .dataframe thead th {\n",
       "        text-align: right;\n",
       "    }\n",
       "</style>\n",
       "<table border=\"1\" class=\"dataframe\">\n",
       "  <thead>\n",
       "    <tr style=\"text-align: right;\">\n",
       "      <th></th>\n",
       "      <th>Bond_Count</th>\n",
       "      <th>count</th>\n",
       "      <th>Percentage</th>\n",
       "    </tr>\n",
       "  </thead>\n",
       "  <tbody>\n",
       "    <tr>\n",
       "      <th>0</th>\n",
       "      <td>Stable</td>\n",
       "      <td>7329</td>\n",
       "      <td>93.8</td>\n",
       "    </tr>\n",
       "    <tr>\n",
       "      <th>1</th>\n",
       "      <td>Deteriorating</td>\n",
       "      <td>410</td>\n",
       "      <td>5.2</td>\n",
       "    </tr>\n",
       "    <tr>\n",
       "      <th>2</th>\n",
       "      <td>Provisional</td>\n",
       "      <td>54</td>\n",
       "      <td>0.7</td>\n",
       "    </tr>\n",
       "    <tr>\n",
       "      <th>3</th>\n",
       "      <td>Improving</td>\n",
       "      <td>17</td>\n",
       "      <td>0.2</td>\n",
       "    </tr>\n",
       "  </tbody>\n",
       "</table>\n",
       "</div>"
      ],
      "text/plain": [
       "      Bond_Count  count  Percentage\n",
       "0         Stable   7329        93.8\n",
       "1  Deteriorating    410         5.2\n",
       "2    Provisional     54         0.7\n",
       "3      Improving     17         0.2"
      ]
     },
     "execution_count": 64,
     "metadata": {},
     "output_type": "execute_result"
    }
   ],
   "source": [
    "outlook_counts"
   ]
  },
  {
   "cell_type": "code",
   "execution_count": 65,
   "metadata": {},
   "outputs": [
    {
     "data": {
      "application/vnd.plotly.v1+json": {
       "config": {
        "plotlyServerURL": "https://plot.ly"
       },
       "data": [
        {
         "hovertemplate": "Bond_Count=%{y}<br>count=%{x}<br>text=%{text}<extra></extra>",
         "legendgroup": "Improving",
         "marker": {
          "color": "rgb(255,255,204)",
          "pattern": {
           "shape": ""
          }
         },
         "name": "Improving",
         "orientation": "h",
         "showlegend": true,
         "text": [
          "93.8%"
         ],
         "textfont": {
          "size": 12
         },
         "textposition": "outside",
         "type": "bar",
         "x": {
          "_inputArray": {
           "0": 17,
           "bdata": "EQ==",
           "dtype": "i1",
           "shape": "1"
          },
          "bdata": "EQ==",
          "dtype": "i1"
         },
         "xaxis": "x",
         "y": [
          "Improving"
         ],
         "yaxis": "y"
        },
        {
         "hovertemplate": "Bond_Count=%{y}<br>count=%{x}<br>text=%{text}<extra></extra>",
         "legendgroup": "Provisional",
         "marker": {
          "color": "rgb(255,237,160)",
          "pattern": {
           "shape": ""
          }
         },
         "name": "Provisional",
         "orientation": "h",
         "showlegend": true,
         "text": [
          "5.2%"
         ],
         "textfont": {
          "size": 12
         },
         "textposition": "outside",
         "type": "bar",
         "x": {
          "_inputArray": {
           "0": 54,
           "bdata": "Ng==",
           "dtype": "i1",
           "shape": "1"
          },
          "bdata": "Ng==",
          "dtype": "i1"
         },
         "xaxis": "x",
         "y": [
          "Provisional"
         ],
         "yaxis": "y"
        },
        {
         "hovertemplate": "Bond_Count=%{y}<br>count=%{x}<br>text=%{text}<extra></extra>",
         "legendgroup": "Deteriorating",
         "marker": {
          "color": "rgb(254,217,118)",
          "pattern": {
           "shape": ""
          }
         },
         "name": "Deteriorating",
         "orientation": "h",
         "showlegend": true,
         "text": [
          "0.7%"
         ],
         "textfont": {
          "size": 12
         },
         "textposition": "outside",
         "type": "bar",
         "x": {
          "_inputArray": {
           "0": 410,
           "bdata": "mgE=",
           "dtype": "i2",
           "shape": "1"
          },
          "bdata": "mgE=",
          "dtype": "i2"
         },
         "xaxis": "x",
         "y": [
          "Deteriorating"
         ],
         "yaxis": "y"
        },
        {
         "hovertemplate": "Bond_Count=%{y}<br>count=%{x}<br>text=%{text}<extra></extra>",
         "legendgroup": "Stable",
         "marker": {
          "color": "rgb(254,178,76)",
          "pattern": {
           "shape": ""
          }
         },
         "name": "Stable",
         "orientation": "h",
         "showlegend": true,
         "text": [
          "0.2%"
         ],
         "textfont": {
          "size": 12
         },
         "textposition": "outside",
         "type": "bar",
         "x": {
          "_inputArray": {
           "0": 7329,
           "bdata": "oRw=",
           "dtype": "i2",
           "shape": "1"
          },
          "bdata": "oRw=",
          "dtype": "i2"
         },
         "xaxis": "x",
         "y": [
          "Stable"
         ],
         "yaxis": "y"
        }
       ],
       "layout": {
        "barmode": "relative",
        "font": {
         "family": "Segoe UI",
         "size": 12
        },
        "height": 450,
        "legend": {
         "title": {
          "text": "Bond_Count"
         },
         "tracegroupgap": 0
        },
        "plot_bgcolor": "white",
        "showlegend": true,
        "template": {
         "data": {
          "bar": [
           {
            "error_x": {
             "color": "#2a3f5f"
            },
            "error_y": {
             "color": "#2a3f5f"
            },
            "marker": {
             "line": {
              "color": "#E5ECF6",
              "width": 0.5
             },
             "pattern": {
              "fillmode": "overlay",
              "size": 10,
              "solidity": 0.2
             }
            },
            "type": "bar"
           }
          ],
          "barpolar": [
           {
            "marker": {
             "line": {
              "color": "#E5ECF6",
              "width": 0.5
             },
             "pattern": {
              "fillmode": "overlay",
              "size": 10,
              "solidity": 0.2
             }
            },
            "type": "barpolar"
           }
          ],
          "carpet": [
           {
            "aaxis": {
             "endlinecolor": "#2a3f5f",
             "gridcolor": "white",
             "linecolor": "white",
             "minorgridcolor": "white",
             "startlinecolor": "#2a3f5f"
            },
            "baxis": {
             "endlinecolor": "#2a3f5f",
             "gridcolor": "white",
             "linecolor": "white",
             "minorgridcolor": "white",
             "startlinecolor": "#2a3f5f"
            },
            "type": "carpet"
           }
          ],
          "choropleth": [
           {
            "colorbar": {
             "outlinewidth": 0,
             "ticks": ""
            },
            "type": "choropleth"
           }
          ],
          "contour": [
           {
            "colorbar": {
             "outlinewidth": 0,
             "ticks": ""
            },
            "colorscale": [
             [
              0,
              "#0d0887"
             ],
             [
              0.1111111111111111,
              "#46039f"
             ],
             [
              0.2222222222222222,
              "#7201a8"
             ],
             [
              0.3333333333333333,
              "#9c179e"
             ],
             [
              0.4444444444444444,
              "#bd3786"
             ],
             [
              0.5555555555555556,
              "#d8576b"
             ],
             [
              0.6666666666666666,
              "#ed7953"
             ],
             [
              0.7777777777777778,
              "#fb9f3a"
             ],
             [
              0.8888888888888888,
              "#fdca26"
             ],
             [
              1,
              "#f0f921"
             ]
            ],
            "type": "contour"
           }
          ],
          "contourcarpet": [
           {
            "colorbar": {
             "outlinewidth": 0,
             "ticks": ""
            },
            "type": "contourcarpet"
           }
          ],
          "heatmap": [
           {
            "colorbar": {
             "outlinewidth": 0,
             "ticks": ""
            },
            "colorscale": [
             [
              0,
              "#0d0887"
             ],
             [
              0.1111111111111111,
              "#46039f"
             ],
             [
              0.2222222222222222,
              "#7201a8"
             ],
             [
              0.3333333333333333,
              "#9c179e"
             ],
             [
              0.4444444444444444,
              "#bd3786"
             ],
             [
              0.5555555555555556,
              "#d8576b"
             ],
             [
              0.6666666666666666,
              "#ed7953"
             ],
             [
              0.7777777777777778,
              "#fb9f3a"
             ],
             [
              0.8888888888888888,
              "#fdca26"
             ],
             [
              1,
              "#f0f921"
             ]
            ],
            "type": "heatmap"
           }
          ],
          "histogram": [
           {
            "marker": {
             "pattern": {
              "fillmode": "overlay",
              "size": 10,
              "solidity": 0.2
             }
            },
            "type": "histogram"
           }
          ],
          "histogram2d": [
           {
            "colorbar": {
             "outlinewidth": 0,
             "ticks": ""
            },
            "colorscale": [
             [
              0,
              "#0d0887"
             ],
             [
              0.1111111111111111,
              "#46039f"
             ],
             [
              0.2222222222222222,
              "#7201a8"
             ],
             [
              0.3333333333333333,
              "#9c179e"
             ],
             [
              0.4444444444444444,
              "#bd3786"
             ],
             [
              0.5555555555555556,
              "#d8576b"
             ],
             [
              0.6666666666666666,
              "#ed7953"
             ],
             [
              0.7777777777777778,
              "#fb9f3a"
             ],
             [
              0.8888888888888888,
              "#fdca26"
             ],
             [
              1,
              "#f0f921"
             ]
            ],
            "type": "histogram2d"
           }
          ],
          "histogram2dcontour": [
           {
            "colorbar": {
             "outlinewidth": 0,
             "ticks": ""
            },
            "colorscale": [
             [
              0,
              "#0d0887"
             ],
             [
              0.1111111111111111,
              "#46039f"
             ],
             [
              0.2222222222222222,
              "#7201a8"
             ],
             [
              0.3333333333333333,
              "#9c179e"
             ],
             [
              0.4444444444444444,
              "#bd3786"
             ],
             [
              0.5555555555555556,
              "#d8576b"
             ],
             [
              0.6666666666666666,
              "#ed7953"
             ],
             [
              0.7777777777777778,
              "#fb9f3a"
             ],
             [
              0.8888888888888888,
              "#fdca26"
             ],
             [
              1,
              "#f0f921"
             ]
            ],
            "type": "histogram2dcontour"
           }
          ],
          "mesh3d": [
           {
            "colorbar": {
             "outlinewidth": 0,
             "ticks": ""
            },
            "type": "mesh3d"
           }
          ],
          "parcoords": [
           {
            "line": {
             "colorbar": {
              "outlinewidth": 0,
              "ticks": ""
             }
            },
            "type": "parcoords"
           }
          ],
          "pie": [
           {
            "automargin": true,
            "type": "pie"
           }
          ],
          "scatter": [
           {
            "fillpattern": {
             "fillmode": "overlay",
             "size": 10,
             "solidity": 0.2
            },
            "type": "scatter"
           }
          ],
          "scatter3d": [
           {
            "line": {
             "colorbar": {
              "outlinewidth": 0,
              "ticks": ""
             }
            },
            "marker": {
             "colorbar": {
              "outlinewidth": 0,
              "ticks": ""
             }
            },
            "type": "scatter3d"
           }
          ],
          "scattercarpet": [
           {
            "marker": {
             "colorbar": {
              "outlinewidth": 0,
              "ticks": ""
             }
            },
            "type": "scattercarpet"
           }
          ],
          "scattergeo": [
           {
            "marker": {
             "colorbar": {
              "outlinewidth": 0,
              "ticks": ""
             }
            },
            "type": "scattergeo"
           }
          ],
          "scattergl": [
           {
            "marker": {
             "colorbar": {
              "outlinewidth": 0,
              "ticks": ""
             }
            },
            "type": "scattergl"
           }
          ],
          "scattermap": [
           {
            "marker": {
             "colorbar": {
              "outlinewidth": 0,
              "ticks": ""
             }
            },
            "type": "scattermap"
           }
          ],
          "scattermapbox": [
           {
            "marker": {
             "colorbar": {
              "outlinewidth": 0,
              "ticks": ""
             }
            },
            "type": "scattermapbox"
           }
          ],
          "scatterpolar": [
           {
            "marker": {
             "colorbar": {
              "outlinewidth": 0,
              "ticks": ""
             }
            },
            "type": "scatterpolar"
           }
          ],
          "scatterpolargl": [
           {
            "marker": {
             "colorbar": {
              "outlinewidth": 0,
              "ticks": ""
             }
            },
            "type": "scatterpolargl"
           }
          ],
          "scatterternary": [
           {
            "marker": {
             "colorbar": {
              "outlinewidth": 0,
              "ticks": ""
             }
            },
            "type": "scatterternary"
           }
          ],
          "surface": [
           {
            "colorbar": {
             "outlinewidth": 0,
             "ticks": ""
            },
            "colorscale": [
             [
              0,
              "#0d0887"
             ],
             [
              0.1111111111111111,
              "#46039f"
             ],
             [
              0.2222222222222222,
              "#7201a8"
             ],
             [
              0.3333333333333333,
              "#9c179e"
             ],
             [
              0.4444444444444444,
              "#bd3786"
             ],
             [
              0.5555555555555556,
              "#d8576b"
             ],
             [
              0.6666666666666666,
              "#ed7953"
             ],
             [
              0.7777777777777778,
              "#fb9f3a"
             ],
             [
              0.8888888888888888,
              "#fdca26"
             ],
             [
              1,
              "#f0f921"
             ]
            ],
            "type": "surface"
           }
          ],
          "table": [
           {
            "cells": {
             "fill": {
              "color": "#EBF0F8"
             },
             "line": {
              "color": "white"
             }
            },
            "header": {
             "fill": {
              "color": "#C8D4E3"
             },
             "line": {
              "color": "white"
             }
            },
            "type": "table"
           }
          ]
         },
         "layout": {
          "annotationdefaults": {
           "arrowcolor": "#2a3f5f",
           "arrowhead": 0,
           "arrowwidth": 1
          },
          "autotypenumbers": "strict",
          "coloraxis": {
           "colorbar": {
            "outlinewidth": 0,
            "ticks": ""
           }
          },
          "colorscale": {
           "diverging": [
            [
             0,
             "#8e0152"
            ],
            [
             0.1,
             "#c51b7d"
            ],
            [
             0.2,
             "#de77ae"
            ],
            [
             0.3,
             "#f1b6da"
            ],
            [
             0.4,
             "#fde0ef"
            ],
            [
             0.5,
             "#f7f7f7"
            ],
            [
             0.6,
             "#e6f5d0"
            ],
            [
             0.7,
             "#b8e186"
            ],
            [
             0.8,
             "#7fbc41"
            ],
            [
             0.9,
             "#4d9221"
            ],
            [
             1,
             "#276419"
            ]
           ],
           "sequential": [
            [
             0,
             "#0d0887"
            ],
            [
             0.1111111111111111,
             "#46039f"
            ],
            [
             0.2222222222222222,
             "#7201a8"
            ],
            [
             0.3333333333333333,
             "#9c179e"
            ],
            [
             0.4444444444444444,
             "#bd3786"
            ],
            [
             0.5555555555555556,
             "#d8576b"
            ],
            [
             0.6666666666666666,
             "#ed7953"
            ],
            [
             0.7777777777777778,
             "#fb9f3a"
            ],
            [
             0.8888888888888888,
             "#fdca26"
            ],
            [
             1,
             "#f0f921"
            ]
           ],
           "sequentialminus": [
            [
             0,
             "#0d0887"
            ],
            [
             0.1111111111111111,
             "#46039f"
            ],
            [
             0.2222222222222222,
             "#7201a8"
            ],
            [
             0.3333333333333333,
             "#9c179e"
            ],
            [
             0.4444444444444444,
             "#bd3786"
            ],
            [
             0.5555555555555556,
             "#d8576b"
            ],
            [
             0.6666666666666666,
             "#ed7953"
            ],
            [
             0.7777777777777778,
             "#fb9f3a"
            ],
            [
             0.8888888888888888,
             "#fdca26"
            ],
            [
             1,
             "#f0f921"
            ]
           ]
          },
          "colorway": [
           "#636efa",
           "#EF553B",
           "#00cc96",
           "#ab63fa",
           "#FFA15A",
           "#19d3f3",
           "#FF6692",
           "#B6E880",
           "#FF97FF",
           "#FECB52"
          ],
          "font": {
           "color": "#2a3f5f"
          },
          "geo": {
           "bgcolor": "white",
           "lakecolor": "white",
           "landcolor": "#E5ECF6",
           "showlakes": true,
           "showland": true,
           "subunitcolor": "white"
          },
          "hoverlabel": {
           "align": "left"
          },
          "hovermode": "closest",
          "mapbox": {
           "style": "light"
          },
          "paper_bgcolor": "white",
          "plot_bgcolor": "#E5ECF6",
          "polar": {
           "angularaxis": {
            "gridcolor": "white",
            "linecolor": "white",
            "ticks": ""
           },
           "bgcolor": "#E5ECF6",
           "radialaxis": {
            "gridcolor": "white",
            "linecolor": "white",
            "ticks": ""
           }
          },
          "scene": {
           "xaxis": {
            "backgroundcolor": "#E5ECF6",
            "gridcolor": "white",
            "gridwidth": 2,
            "linecolor": "white",
            "showbackground": true,
            "ticks": "",
            "zerolinecolor": "white"
           },
           "yaxis": {
            "backgroundcolor": "#E5ECF6",
            "gridcolor": "white",
            "gridwidth": 2,
            "linecolor": "white",
            "showbackground": true,
            "ticks": "",
            "zerolinecolor": "white"
           },
           "zaxis": {
            "backgroundcolor": "#E5ECF6",
            "gridcolor": "white",
            "gridwidth": 2,
            "linecolor": "white",
            "showbackground": true,
            "ticks": "",
            "zerolinecolor": "white"
           }
          },
          "shapedefaults": {
           "line": {
            "color": "#2a3f5f"
           }
          },
          "ternary": {
           "aaxis": {
            "gridcolor": "white",
            "linecolor": "white",
            "ticks": ""
           },
           "baxis": {
            "gridcolor": "white",
            "linecolor": "white",
            "ticks": ""
           },
           "bgcolor": "#E5ECF6",
           "caxis": {
            "gridcolor": "white",
            "linecolor": "white",
            "ticks": ""
           }
          },
          "title": {
           "x": 0.05
          },
          "xaxis": {
           "automargin": true,
           "gridcolor": "white",
           "linecolor": "white",
           "ticks": "",
           "title": {
            "standoff": 15
           },
           "zerolinecolor": "white",
           "zerolinewidth": 2
          },
          "yaxis": {
           "automargin": true,
           "gridcolor": "white",
           "linecolor": "white",
           "ticks": "",
           "title": {
            "standoff": 15
           },
           "zerolinecolor": "white",
           "zerolinewidth": 2
          }
         }
        },
        "title": {
         "font": {
          "size": 18
         },
         "text": "Outlook Distribution Across Bonds"
        },
        "width": 900,
        "xaxis": {
         "anchor": "y",
         "autorange": true,
         "domain": [
          0,
          1
         ],
         "range": [
          0,
          7714.736842105263
         ],
         "title": {
          "text": "Number of Bonds"
         },
         "type": "linear"
        },
        "yaxis": {
         "anchor": "x",
         "autorange": true,
         "categoryarray": [
          "Stable",
          "Deteriorating",
          "Provisional",
          "Improving"
         ],
         "categoryorder": "array",
         "domain": [
          0,
          1
         ],
         "range": [
          -0.5,
          3.5
         ],
         "title": {
          "text": "Credit Outlook"
         },
         "type": "category"
        }
       }
      }
     },
     "metadata": {},
     "output_type": "display_data"
    }
   ],
   "source": [
    "import plotly.express as px\n",
    "\n",
    "def analyze_outlook_distribution(portfolio_data):\n",
    "    portfolio_data['Outlook'] = (\n",
    "        portfolio_data['Outlook']\n",
    "        .fillna('Unspecified')\n",
    "        .astype(str)\n",
    "        .str.strip()\n",
    "        .str.title()\n",
    "    )\n",
    "    \n",
    "    outlook_counts = (\n",
    "        portfolio_data['Outlook']\n",
    "        .value_counts()\n",
    "        .reset_index()\n",
    "        .rename(columns={'index': 'Outlook', 'Outlook': 'Bond_Count'})\n",
    "    )\n",
    "\n",
    "    total_bonds = outlook_counts['count'].sum()\n",
    "    outlook_counts['Percentage'] = (100 * outlook_counts['count'] / total_bonds).round(1)\n",
    "\n",
    "    fig = px.bar(\n",
    "        outlook_counts.sort_values('count', ascending=True),\n",
    "        x='count',\n",
    "        y='Bond_Count',\n",
    "        orientation='h',\n",
    "        text=outlook_counts['Percentage'].apply(lambda x: f\"{x}%\"),\n",
    "        color='Bond_Count',\n",
    "        color_discrete_sequence=shared_color_scale,\n",
    "        title='Outlook Distribution Across Bonds'\n",
    "    )\n",
    "\n",
    "    fig.update_traces(textposition='outside', textfont_size=12)\n",
    "    fig.update_layout(\n",
    "        width=900,\n",
    "        height=450,\n",
    "        xaxis_title='Number of Bonds',\n",
    "        yaxis_title='Credit Outlook',\n",
    "        showlegend=True,\n",
    "        font=dict(family='Segoe UI', size=12),\n",
    "        title_font_size=18,\n",
    "        plot_bgcolor='white'\n",
    "    )\n",
    "\n",
    "    fig.show()\n",
    "    \n",
    "analyze_outlook_distribution(portfolio_data)"
   ]
  },
  {
   "cell_type": "markdown",
   "metadata": {},
   "source": [
    "### Question 5: Who are the largest obligors in the portfolio?\n",
    "##### Identify the top 10 obligors by total Par value exposure."
   ]
  },
  {
   "cell_type": "code",
   "execution_count": 66,
   "metadata": {},
   "outputs": [
    {
     "data": {
      "text/html": [
       "<div>\n",
       "<style scoped>\n",
       "    .dataframe tbody tr th:only-of-type {\n",
       "        vertical-align: middle;\n",
       "    }\n",
       "\n",
       "    .dataframe tbody tr th {\n",
       "        vertical-align: top;\n",
       "    }\n",
       "\n",
       "    .dataframe thead th {\n",
       "        text-align: right;\n",
       "    }\n",
       "</style>\n",
       "<table border=\"1\" class=\"dataframe\">\n",
       "  <thead>\n",
       "    <tr style=\"text-align: right;\">\n",
       "      <th></th>\n",
       "      <th>cusip</th>\n",
       "      <th>Obligor</th>\n",
       "      <th>Obligor Name</th>\n",
       "      <th>maturity</th>\n",
       "      <th>coupon</th>\n",
       "      <th>Sec_Group</th>\n",
       "      <th>Sec_Type</th>\n",
       "      <th>book_yield</th>\n",
       "      <th>unrealized_gl</th>\n",
       "      <th>Par</th>\n",
       "      <th>Rating</th>\n",
       "      <th>Outlook</th>\n",
       "      <th>Sector_Level_1</th>\n",
       "      <th>Sector</th>\n",
       "      <th>Rating_Bucket</th>\n",
       "      <th>Is_Rated</th>\n",
       "    </tr>\n",
       "  </thead>\n",
       "  <tbody>\n",
       "    <tr>\n",
       "      <th>1</th>\n",
       "      <td>56678TAA7</td>\n",
       "      <td>201723</td>\n",
       "      <td>COMMERCIAL METALS COMPANY</td>\n",
       "      <td>2047-10-15</td>\n",
       "      <td>4.000</td>\n",
       "      <td>BND</td>\n",
       "      <td>MUNI</td>\n",
       "      <td>3.65993</td>\n",
       "      <td>-861401.04000</td>\n",
       "      <td>7175000.0</td>\n",
       "      <td>BB1</td>\n",
       "      <td>Stable</td>\n",
       "      <td>CORP</td>\n",
       "      <td>METL</td>\n",
       "      <td>HY</td>\n",
       "      <td>True</td>\n",
       "    </tr>\n",
       "    <tr>\n",
       "      <th>2</th>\n",
       "      <td>64984EDG7</td>\n",
       "      <td>209111</td>\n",
       "      <td>CONSOLIDATED EDISON COMPANY OF NEW YORK INC</td>\n",
       "      <td>2039-05-01</td>\n",
       "      <td>-99.000</td>\n",
       "      <td>CASH</td>\n",
       "      <td>MVRDN</td>\n",
       "      <td>4.55000</td>\n",
       "      <td>99999.90000</td>\n",
       "      <td>100000.0</td>\n",
       "      <td>BBB1</td>\n",
       "      <td>Stable</td>\n",
       "      <td>CORP</td>\n",
       "      <td>ELEC</td>\n",
       "      <td>BBB</td>\n",
       "      <td>True</td>\n",
       "    </tr>\n",
       "    <tr>\n",
       "      <th>3</th>\n",
       "      <td>4423485T1</td>\n",
       "      <td>210795</td>\n",
       "      <td>UNITED AIRLINES INC</td>\n",
       "      <td>2038-07-15</td>\n",
       "      <td>6.625</td>\n",
       "      <td>BND</td>\n",
       "      <td>MUNI</td>\n",
       "      <td>4.05000</td>\n",
       "      <td>-12979.08765</td>\n",
       "      <td>405000.0</td>\n",
       "      <td>BB3</td>\n",
       "      <td>Stable</td>\n",
       "      <td>CORP</td>\n",
       "      <td>AIRL</td>\n",
       "      <td>HY</td>\n",
       "      <td>True</td>\n",
       "    </tr>\n",
       "    <tr>\n",
       "      <th>4</th>\n",
       "      <td>13050RAA0</td>\n",
       "      <td>210795</td>\n",
       "      <td>UNITED AIRLINES INC</td>\n",
       "      <td>2029-07-15</td>\n",
       "      <td>4.000</td>\n",
       "      <td>BND</td>\n",
       "      <td>MUNI</td>\n",
       "      <td>4.23300</td>\n",
       "      <td>32715.02500</td>\n",
       "      <td>2500000.0</td>\n",
       "      <td>BB3</td>\n",
       "      <td>Stable</td>\n",
       "      <td>CORP</td>\n",
       "      <td>AIRL</td>\n",
       "      <td>HY</td>\n",
       "      <td>True</td>\n",
       "    </tr>\n",
       "    <tr>\n",
       "      <th>5</th>\n",
       "      <td>442349DH6</td>\n",
       "      <td>210795</td>\n",
       "      <td>UNITED AIRLINES INC</td>\n",
       "      <td>2027-07-15</td>\n",
       "      <td>5.000</td>\n",
       "      <td>BND</td>\n",
       "      <td>MUNI</td>\n",
       "      <td>4.37500</td>\n",
       "      <td>-8715.28750</td>\n",
       "      <td>250000.0</td>\n",
       "      <td>BB3</td>\n",
       "      <td>Stable</td>\n",
       "      <td>CORP</td>\n",
       "      <td>AIRL</td>\n",
       "      <td>HY</td>\n",
       "      <td>True</td>\n",
       "    </tr>\n",
       "  </tbody>\n",
       "</table>\n",
       "</div>"
      ],
      "text/plain": [
       "       cusip Obligor                                 Obligor Name   maturity  \\\n",
       "1  56678TAA7  201723                    COMMERCIAL METALS COMPANY 2047-10-15   \n",
       "2  64984EDG7  209111  CONSOLIDATED EDISON COMPANY OF NEW YORK INC 2039-05-01   \n",
       "3  4423485T1  210795                          UNITED AIRLINES INC 2038-07-15   \n",
       "4  13050RAA0  210795                          UNITED AIRLINES INC 2029-07-15   \n",
       "5  442349DH6  210795                          UNITED AIRLINES INC 2027-07-15   \n",
       "\n",
       "   coupon Sec_Group Sec_Type  book_yield  unrealized_gl        Par Rating  \\\n",
       "1   4.000       BND     MUNI     3.65993  -861401.04000  7175000.0    BB1   \n",
       "2 -99.000      CASH    MVRDN     4.55000    99999.90000   100000.0   BBB1   \n",
       "3   6.625       BND     MUNI     4.05000   -12979.08765   405000.0    BB3   \n",
       "4   4.000       BND     MUNI     4.23300    32715.02500  2500000.0    BB3   \n",
       "5   5.000       BND     MUNI     4.37500    -8715.28750   250000.0    BB3   \n",
       "\n",
       "  Outlook Sector_Level_1 Sector Rating_Bucket  Is_Rated  \n",
       "1  Stable           CORP   METL            HY      True  \n",
       "2  Stable           CORP   ELEC           BBB      True  \n",
       "3  Stable           CORP   AIRL            HY      True  \n",
       "4  Stable           CORP   AIRL            HY      True  \n",
       "5  Stable           CORP   AIRL            HY      True  "
      ]
     },
     "execution_count": 66,
     "metadata": {},
     "output_type": "execute_result"
    }
   ],
   "source": [
    "portfolio_data.head()"
   ]
  },
  {
   "cell_type": "code",
   "execution_count": 67,
   "metadata": {},
   "outputs": [
    {
     "data": {
      "application/vnd.plotly.v1+json": {
       "config": {
        "plotlyServerURL": "https://plot.ly"
       },
       "data": [
        {
         "hovertemplate": "Obligor Name=%{y}<br>Par=%{text}<extra></extra>",
         "legendgroup": "PORT AUTHORITY OF NEW YORK AND NEW JERSEY",
         "marker": {
          "color": "rgb(255,255,204)",
          "pattern": {
           "shape": ""
          }
         },
         "name": "PORT AUTHORITY OF NEW YORK AND NEW JERSEY",
         "orientation": "h",
         "showlegend": true,
         "text": {
          "_inputArray": {
           "0": 32065000,
           "bdata": "AAAAgF6UfkE=",
           "dtype": "f8",
           "shape": "1"
          },
          "bdata": "AAAAgF6UfkE=",
          "dtype": "f8"
         },
         "textposition": "outside",
         "texttemplate": "%{text:,.0f}",
         "type": "bar",
         "x": {
          "_inputArray": {
           "0": 32065000,
           "bdata": "AAAAgF6UfkE=",
           "dtype": "f8",
           "shape": "1"
          },
          "bdata": "AAAAgF6UfkE=",
          "dtype": "f8"
         },
         "xaxis": "x",
         "y": [
          "PORT AUTHORITY OF NEW YORK AND NEW JERSEY"
         ],
         "yaxis": "y"
        },
        {
         "hovertemplate": "Obligor Name=%{y}<br>Par=%{text}<extra></extra>",
         "legendgroup": "NEW JERSEY ST TURNPIKE AUTHORITY",
         "marker": {
          "color": "rgb(255,237,160)",
          "pattern": {
           "shape": ""
          }
         },
         "name": "NEW JERSEY ST TURNPIKE AUTHORITY",
         "orientation": "h",
         "showlegend": true,
         "text": {
          "_inputArray": {
           "0": 32215000,
           "bdata": "AAAAgP24fkE=",
           "dtype": "f8",
           "shape": "1"
          },
          "bdata": "AAAAgP24fkE=",
          "dtype": "f8"
         },
         "textposition": "outside",
         "texttemplate": "%{text:,.0f}",
         "type": "bar",
         "x": {
          "_inputArray": {
           "0": 32215000,
           "bdata": "AAAAgP24fkE=",
           "dtype": "f8",
           "shape": "1"
          },
          "bdata": "AAAAgP24fkE=",
          "dtype": "f8"
         },
         "xaxis": "x",
         "y": [
          "NEW JERSEY ST TURNPIKE AUTHORITY"
         ],
         "yaxis": "y"
        },
        {
         "hovertemplate": "Obligor Name=%{y}<br>Par=%{text}<extra></extra>",
         "legendgroup": "NEW YORK CITY OF",
         "marker": {
          "color": "rgb(254,217,118)",
          "pattern": {
           "shape": ""
          }
         },
         "name": "NEW YORK CITY OF",
         "orientation": "h",
         "showlegend": true,
         "text": {
          "_inputArray": {
           "0": 33727500,
           "bdata": "AAAAYCAVgEE=",
           "dtype": "f8",
           "shape": "1"
          },
          "bdata": "AAAAYCAVgEE=",
          "dtype": "f8"
         },
         "textposition": "outside",
         "texttemplate": "%{text:,.0f}",
         "type": "bar",
         "x": {
          "_inputArray": {
           "0": 33727500,
           "bdata": "AAAAYCAVgEE=",
           "dtype": "f8",
           "shape": "1"
          },
          "bdata": "AAAAYCAVgEE=",
          "dtype": "f8"
         },
         "xaxis": "x",
         "y": [
          "NEW YORK CITY OF"
         ],
         "yaxis": "y"
        },
        {
         "hovertemplate": "Obligor Name=%{y}<br>Par=%{text}<extra></extra>",
         "legendgroup": "WASHINGTON (STATE OF)",
         "marker": {
          "color": "rgb(254,178,76)",
          "pattern": {
           "shape": ""
          }
         },
         "name": "WASHINGTON (STATE OF)",
         "orientation": "h",
         "showlegend": true,
         "text": {
          "_inputArray": {
           "0": 33760000,
           "bdata": "AAAAABgZgEE=",
           "dtype": "f8",
           "shape": "1"
          },
          "bdata": "AAAAABgZgEE=",
          "dtype": "f8"
         },
         "textposition": "outside",
         "texttemplate": "%{text:,.0f}",
         "type": "bar",
         "x": {
          "_inputArray": {
           "0": 33760000,
           "bdata": "AAAAABgZgEE=",
           "dtype": "f8",
           "shape": "1"
          },
          "bdata": "AAAAABgZgEE=",
          "dtype": "f8"
         },
         "xaxis": "x",
         "y": [
          "WASHINGTON (STATE OF)"
         ],
         "yaxis": "y"
        },
        {
         "hovertemplate": "Obligor Name=%{y}<br>Par=%{text}<extra></extra>",
         "legendgroup": "PENNSYLVANIA ST TURNPIKE COMMISSION",
         "marker": {
          "color": "rgb(253,141,60)",
          "pattern": {
           "shape": ""
          }
         },
         "name": "PENNSYLVANIA ST TURNPIKE COMMISSION",
         "orientation": "h",
         "showlegend": true,
         "text": {
          "_inputArray": {
           "0": 34470000,
           "bdata": "AAAAgMNvgEE=",
           "dtype": "f8",
           "shape": "1"
          },
          "bdata": "AAAAgMNvgEE=",
          "dtype": "f8"
         },
         "textposition": "outside",
         "texttemplate": "%{text:,.0f}",
         "type": "bar",
         "x": {
          "_inputArray": {
           "0": 34470000,
           "bdata": "AAAAgMNvgEE=",
           "dtype": "f8",
           "shape": "1"
          },
          "bdata": "AAAAgMNvgEE=",
          "dtype": "f8"
         },
         "xaxis": "x",
         "y": [
          "PENNSYLVANIA ST TURNPIKE COMMISSION"
         ],
         "yaxis": "y"
        },
        {
         "hovertemplate": "Obligor Name=%{y}<br>Par=%{text}<extra></extra>",
         "legendgroup": "UNIVERSITY OF CHICAGO",
         "marker": {
          "color": "rgb(252,78,42)",
          "pattern": {
           "shape": ""
          }
         },
         "name": "UNIVERSITY OF CHICAGO",
         "orientation": "h",
         "showlegend": true,
         "text": {
          "_inputArray": {
           "0": 36347000,
           "bdata": "AAAAwONUgUE=",
           "dtype": "f8",
           "shape": "1"
          },
          "bdata": "AAAAwONUgUE=",
          "dtype": "f8"
         },
         "textposition": "outside",
         "texttemplate": "%{text:,.0f}",
         "type": "bar",
         "x": {
          "_inputArray": {
           "0": 36347000,
           "bdata": "AAAAwONUgUE=",
           "dtype": "f8",
           "shape": "1"
          },
          "bdata": "AAAAwONUgUE=",
          "dtype": "f8"
         },
         "xaxis": "x",
         "y": [
          "UNIVERSITY OF CHICAGO"
         ],
         "yaxis": "y"
        },
        {
         "hovertemplate": "Obligor Name=%{y}<br>Par=%{text}<extra></extra>",
         "legendgroup": "CONNECTICUT (STATE OF)",
         "marker": {
          "color": "rgb(227,26,28)",
          "pattern": {
           "shape": ""
          }
         },
         "name": "CONNECTICUT (STATE OF)",
         "orientation": "h",
         "showlegend": true,
         "text": {
          "_inputArray": {
           "0": 57556000,
           "bdata": "AAAAAOFxi0E=",
           "dtype": "f8",
           "shape": "1"
          },
          "bdata": "AAAAAOFxi0E=",
          "dtype": "f8"
         },
         "textposition": "outside",
         "texttemplate": "%{text:,.0f}",
         "type": "bar",
         "x": {
          "_inputArray": {
           "0": 57556000,
           "bdata": "AAAAAOFxi0E=",
           "dtype": "f8",
           "shape": "1"
          },
          "bdata": "AAAAAOFxi0E=",
          "dtype": "f8"
         },
         "xaxis": "x",
         "y": [
          "CONNECTICUT (STATE OF)"
         ],
         "yaxis": "y"
        },
        {
         "hovertemplate": "Obligor Name=%{y}<br>Par=%{text}<extra></extra>",
         "legendgroup": "NEW YORK CITY TRANSITIONAL FIN AUTH",
         "marker": {
          "color": "rgb(189,0,38)",
          "pattern": {
           "shape": ""
          }
         },
         "name": "NEW YORK CITY TRANSITIONAL FIN AUTH",
         "orientation": "h",
         "showlegend": true,
         "text": {
          "_inputArray": {
           "0": 58120000,
           "bdata": "AAAAALq2i0E=",
           "dtype": "f8",
           "shape": "1"
          },
          "bdata": "AAAAALq2i0E=",
          "dtype": "f8"
         },
         "textposition": "outside",
         "texttemplate": "%{text:,.0f}",
         "type": "bar",
         "x": {
          "_inputArray": {
           "0": 58120000,
           "bdata": "AAAAALq2i0E=",
           "dtype": "f8",
           "shape": "1"
          },
          "bdata": "AAAAALq2i0E=",
          "dtype": "f8"
         },
         "xaxis": "x",
         "y": [
          "NEW YORK CITY TRANSITIONAL FIN AUTH"
         ],
         "yaxis": "y"
        },
        {
         "hovertemplate": "Obligor Name=%{y}<br>Par=%{text}<extra></extra>",
         "legendgroup": "CALIFORNIA (STATE OF)",
         "marker": {
          "color": "rgb(128,0,38)",
          "pattern": {
           "shape": ""
          }
         },
         "name": "CALIFORNIA (STATE OF)",
         "orientation": "h",
         "showlegend": true,
         "text": {
          "_inputArray": {
           "0": 89862500,
           "bdata": "AAAAkMVslUE=",
           "dtype": "f8",
           "shape": "1"
          },
          "bdata": "AAAAkMVslUE=",
          "dtype": "f8"
         },
         "textposition": "outside",
         "texttemplate": "%{text:,.0f}",
         "type": "bar",
         "x": {
          "_inputArray": {
           "0": 89862500,
           "bdata": "AAAAkMVslUE=",
           "dtype": "f8",
           "shape": "1"
          },
          "bdata": "AAAAkMVslUE=",
          "dtype": "f8"
         },
         "xaxis": "x",
         "y": [
          "CALIFORNIA (STATE OF)"
         ],
         "yaxis": "y"
        },
        {
         "hovertemplate": "Obligor Name=%{y}<br>Par=%{text}<extra></extra>",
         "legendgroup": "NEW YORK STATE PERSONAL INCOME TAX BONDS",
         "marker": {
          "color": "rgb(255,255,204)",
          "pattern": {
           "shape": ""
          }
         },
         "name": "NEW YORK STATE PERSONAL INCOME TAX BONDS",
         "orientation": "h",
         "showlegend": true,
         "text": {
          "_inputArray": {
           "0": 128600000,
           "bdata": "AAAAAB+pnkE=",
           "dtype": "f8",
           "shape": "1"
          },
          "bdata": "AAAAAB+pnkE=",
          "dtype": "f8"
         },
         "textposition": "outside",
         "texttemplate": "%{text:,.0f}",
         "type": "bar",
         "x": {
          "_inputArray": {
           "0": 128600000,
           "bdata": "AAAAAB+pnkE=",
           "dtype": "f8",
           "shape": "1"
          },
          "bdata": "AAAAAB+pnkE=",
          "dtype": "f8"
         },
         "xaxis": "x",
         "y": [
          "NEW YORK STATE PERSONAL INCOME TAX BONDS"
         ],
         "yaxis": "y"
        }
       ],
       "layout": {
        "barmode": "relative",
        "font": {
         "size": 12
        },
        "height": 500,
        "legend": {
         "title": {
          "text": "Obligor Name"
         },
         "tracegroupgap": 0
        },
        "plot_bgcolor": "white",
        "showlegend": false,
        "template": {
         "data": {
          "bar": [
           {
            "error_x": {
             "color": "#2a3f5f"
            },
            "error_y": {
             "color": "#2a3f5f"
            },
            "marker": {
             "line": {
              "color": "#E5ECF6",
              "width": 0.5
             },
             "pattern": {
              "fillmode": "overlay",
              "size": 10,
              "solidity": 0.2
             }
            },
            "type": "bar"
           }
          ],
          "barpolar": [
           {
            "marker": {
             "line": {
              "color": "#E5ECF6",
              "width": 0.5
             },
             "pattern": {
              "fillmode": "overlay",
              "size": 10,
              "solidity": 0.2
             }
            },
            "type": "barpolar"
           }
          ],
          "carpet": [
           {
            "aaxis": {
             "endlinecolor": "#2a3f5f",
             "gridcolor": "white",
             "linecolor": "white",
             "minorgridcolor": "white",
             "startlinecolor": "#2a3f5f"
            },
            "baxis": {
             "endlinecolor": "#2a3f5f",
             "gridcolor": "white",
             "linecolor": "white",
             "minorgridcolor": "white",
             "startlinecolor": "#2a3f5f"
            },
            "type": "carpet"
           }
          ],
          "choropleth": [
           {
            "colorbar": {
             "outlinewidth": 0,
             "ticks": ""
            },
            "type": "choropleth"
           }
          ],
          "contour": [
           {
            "colorbar": {
             "outlinewidth": 0,
             "ticks": ""
            },
            "colorscale": [
             [
              0,
              "#0d0887"
             ],
             [
              0.1111111111111111,
              "#46039f"
             ],
             [
              0.2222222222222222,
              "#7201a8"
             ],
             [
              0.3333333333333333,
              "#9c179e"
             ],
             [
              0.4444444444444444,
              "#bd3786"
             ],
             [
              0.5555555555555556,
              "#d8576b"
             ],
             [
              0.6666666666666666,
              "#ed7953"
             ],
             [
              0.7777777777777778,
              "#fb9f3a"
             ],
             [
              0.8888888888888888,
              "#fdca26"
             ],
             [
              1,
              "#f0f921"
             ]
            ],
            "type": "contour"
           }
          ],
          "contourcarpet": [
           {
            "colorbar": {
             "outlinewidth": 0,
             "ticks": ""
            },
            "type": "contourcarpet"
           }
          ],
          "heatmap": [
           {
            "colorbar": {
             "outlinewidth": 0,
             "ticks": ""
            },
            "colorscale": [
             [
              0,
              "#0d0887"
             ],
             [
              0.1111111111111111,
              "#46039f"
             ],
             [
              0.2222222222222222,
              "#7201a8"
             ],
             [
              0.3333333333333333,
              "#9c179e"
             ],
             [
              0.4444444444444444,
              "#bd3786"
             ],
             [
              0.5555555555555556,
              "#d8576b"
             ],
             [
              0.6666666666666666,
              "#ed7953"
             ],
             [
              0.7777777777777778,
              "#fb9f3a"
             ],
             [
              0.8888888888888888,
              "#fdca26"
             ],
             [
              1,
              "#f0f921"
             ]
            ],
            "type": "heatmap"
           }
          ],
          "histogram": [
           {
            "marker": {
             "pattern": {
              "fillmode": "overlay",
              "size": 10,
              "solidity": 0.2
             }
            },
            "type": "histogram"
           }
          ],
          "histogram2d": [
           {
            "colorbar": {
             "outlinewidth": 0,
             "ticks": ""
            },
            "colorscale": [
             [
              0,
              "#0d0887"
             ],
             [
              0.1111111111111111,
              "#46039f"
             ],
             [
              0.2222222222222222,
              "#7201a8"
             ],
             [
              0.3333333333333333,
              "#9c179e"
             ],
             [
              0.4444444444444444,
              "#bd3786"
             ],
             [
              0.5555555555555556,
              "#d8576b"
             ],
             [
              0.6666666666666666,
              "#ed7953"
             ],
             [
              0.7777777777777778,
              "#fb9f3a"
             ],
             [
              0.8888888888888888,
              "#fdca26"
             ],
             [
              1,
              "#f0f921"
             ]
            ],
            "type": "histogram2d"
           }
          ],
          "histogram2dcontour": [
           {
            "colorbar": {
             "outlinewidth": 0,
             "ticks": ""
            },
            "colorscale": [
             [
              0,
              "#0d0887"
             ],
             [
              0.1111111111111111,
              "#46039f"
             ],
             [
              0.2222222222222222,
              "#7201a8"
             ],
             [
              0.3333333333333333,
              "#9c179e"
             ],
             [
              0.4444444444444444,
              "#bd3786"
             ],
             [
              0.5555555555555556,
              "#d8576b"
             ],
             [
              0.6666666666666666,
              "#ed7953"
             ],
             [
              0.7777777777777778,
              "#fb9f3a"
             ],
             [
              0.8888888888888888,
              "#fdca26"
             ],
             [
              1,
              "#f0f921"
             ]
            ],
            "type": "histogram2dcontour"
           }
          ],
          "mesh3d": [
           {
            "colorbar": {
             "outlinewidth": 0,
             "ticks": ""
            },
            "type": "mesh3d"
           }
          ],
          "parcoords": [
           {
            "line": {
             "colorbar": {
              "outlinewidth": 0,
              "ticks": ""
             }
            },
            "type": "parcoords"
           }
          ],
          "pie": [
           {
            "automargin": true,
            "type": "pie"
           }
          ],
          "scatter": [
           {
            "fillpattern": {
             "fillmode": "overlay",
             "size": 10,
             "solidity": 0.2
            },
            "type": "scatter"
           }
          ],
          "scatter3d": [
           {
            "line": {
             "colorbar": {
              "outlinewidth": 0,
              "ticks": ""
             }
            },
            "marker": {
             "colorbar": {
              "outlinewidth": 0,
              "ticks": ""
             }
            },
            "type": "scatter3d"
           }
          ],
          "scattercarpet": [
           {
            "marker": {
             "colorbar": {
              "outlinewidth": 0,
              "ticks": ""
             }
            },
            "type": "scattercarpet"
           }
          ],
          "scattergeo": [
           {
            "marker": {
             "colorbar": {
              "outlinewidth": 0,
              "ticks": ""
             }
            },
            "type": "scattergeo"
           }
          ],
          "scattergl": [
           {
            "marker": {
             "colorbar": {
              "outlinewidth": 0,
              "ticks": ""
             }
            },
            "type": "scattergl"
           }
          ],
          "scattermap": [
           {
            "marker": {
             "colorbar": {
              "outlinewidth": 0,
              "ticks": ""
             }
            },
            "type": "scattermap"
           }
          ],
          "scattermapbox": [
           {
            "marker": {
             "colorbar": {
              "outlinewidth": 0,
              "ticks": ""
             }
            },
            "type": "scattermapbox"
           }
          ],
          "scatterpolar": [
           {
            "marker": {
             "colorbar": {
              "outlinewidth": 0,
              "ticks": ""
             }
            },
            "type": "scatterpolar"
           }
          ],
          "scatterpolargl": [
           {
            "marker": {
             "colorbar": {
              "outlinewidth": 0,
              "ticks": ""
             }
            },
            "type": "scatterpolargl"
           }
          ],
          "scatterternary": [
           {
            "marker": {
             "colorbar": {
              "outlinewidth": 0,
              "ticks": ""
             }
            },
            "type": "scatterternary"
           }
          ],
          "surface": [
           {
            "colorbar": {
             "outlinewidth": 0,
             "ticks": ""
            },
            "colorscale": [
             [
              0,
              "#0d0887"
             ],
             [
              0.1111111111111111,
              "#46039f"
             ],
             [
              0.2222222222222222,
              "#7201a8"
             ],
             [
              0.3333333333333333,
              "#9c179e"
             ],
             [
              0.4444444444444444,
              "#bd3786"
             ],
             [
              0.5555555555555556,
              "#d8576b"
             ],
             [
              0.6666666666666666,
              "#ed7953"
             ],
             [
              0.7777777777777778,
              "#fb9f3a"
             ],
             [
              0.8888888888888888,
              "#fdca26"
             ],
             [
              1,
              "#f0f921"
             ]
            ],
            "type": "surface"
           }
          ],
          "table": [
           {
            "cells": {
             "fill": {
              "color": "#EBF0F8"
             },
             "line": {
              "color": "white"
             }
            },
            "header": {
             "fill": {
              "color": "#C8D4E3"
             },
             "line": {
              "color": "white"
             }
            },
            "type": "table"
           }
          ]
         },
         "layout": {
          "annotationdefaults": {
           "arrowcolor": "#2a3f5f",
           "arrowhead": 0,
           "arrowwidth": 1
          },
          "autotypenumbers": "strict",
          "coloraxis": {
           "colorbar": {
            "outlinewidth": 0,
            "ticks": ""
           }
          },
          "colorscale": {
           "diverging": [
            [
             0,
             "#8e0152"
            ],
            [
             0.1,
             "#c51b7d"
            ],
            [
             0.2,
             "#de77ae"
            ],
            [
             0.3,
             "#f1b6da"
            ],
            [
             0.4,
             "#fde0ef"
            ],
            [
             0.5,
             "#f7f7f7"
            ],
            [
             0.6,
             "#e6f5d0"
            ],
            [
             0.7,
             "#b8e186"
            ],
            [
             0.8,
             "#7fbc41"
            ],
            [
             0.9,
             "#4d9221"
            ],
            [
             1,
             "#276419"
            ]
           ],
           "sequential": [
            [
             0,
             "#0d0887"
            ],
            [
             0.1111111111111111,
             "#46039f"
            ],
            [
             0.2222222222222222,
             "#7201a8"
            ],
            [
             0.3333333333333333,
             "#9c179e"
            ],
            [
             0.4444444444444444,
             "#bd3786"
            ],
            [
             0.5555555555555556,
             "#d8576b"
            ],
            [
             0.6666666666666666,
             "#ed7953"
            ],
            [
             0.7777777777777778,
             "#fb9f3a"
            ],
            [
             0.8888888888888888,
             "#fdca26"
            ],
            [
             1,
             "#f0f921"
            ]
           ],
           "sequentialminus": [
            [
             0,
             "#0d0887"
            ],
            [
             0.1111111111111111,
             "#46039f"
            ],
            [
             0.2222222222222222,
             "#7201a8"
            ],
            [
             0.3333333333333333,
             "#9c179e"
            ],
            [
             0.4444444444444444,
             "#bd3786"
            ],
            [
             0.5555555555555556,
             "#d8576b"
            ],
            [
             0.6666666666666666,
             "#ed7953"
            ],
            [
             0.7777777777777778,
             "#fb9f3a"
            ],
            [
             0.8888888888888888,
             "#fdca26"
            ],
            [
             1,
             "#f0f921"
            ]
           ]
          },
          "colorway": [
           "#636efa",
           "#EF553B",
           "#00cc96",
           "#ab63fa",
           "#FFA15A",
           "#19d3f3",
           "#FF6692",
           "#B6E880",
           "#FF97FF",
           "#FECB52"
          ],
          "font": {
           "color": "#2a3f5f"
          },
          "geo": {
           "bgcolor": "white",
           "lakecolor": "white",
           "landcolor": "#E5ECF6",
           "showlakes": true,
           "showland": true,
           "subunitcolor": "white"
          },
          "hoverlabel": {
           "align": "left"
          },
          "hovermode": "closest",
          "mapbox": {
           "style": "light"
          },
          "paper_bgcolor": "white",
          "plot_bgcolor": "#E5ECF6",
          "polar": {
           "angularaxis": {
            "gridcolor": "white",
            "linecolor": "white",
            "ticks": ""
           },
           "bgcolor": "#E5ECF6",
           "radialaxis": {
            "gridcolor": "white",
            "linecolor": "white",
            "ticks": ""
           }
          },
          "scene": {
           "xaxis": {
            "backgroundcolor": "#E5ECF6",
            "gridcolor": "white",
            "gridwidth": 2,
            "linecolor": "white",
            "showbackground": true,
            "ticks": "",
            "zerolinecolor": "white"
           },
           "yaxis": {
            "backgroundcolor": "#E5ECF6",
            "gridcolor": "white",
            "gridwidth": 2,
            "linecolor": "white",
            "showbackground": true,
            "ticks": "",
            "zerolinecolor": "white"
           },
           "zaxis": {
            "backgroundcolor": "#E5ECF6",
            "gridcolor": "white",
            "gridwidth": 2,
            "linecolor": "white",
            "showbackground": true,
            "ticks": "",
            "zerolinecolor": "white"
           }
          },
          "shapedefaults": {
           "line": {
            "color": "#2a3f5f"
           }
          },
          "ternary": {
           "aaxis": {
            "gridcolor": "white",
            "linecolor": "white",
            "ticks": ""
           },
           "baxis": {
            "gridcolor": "white",
            "linecolor": "white",
            "ticks": ""
           },
           "bgcolor": "#E5ECF6",
           "caxis": {
            "gridcolor": "white",
            "linecolor": "white",
            "ticks": ""
           }
          },
          "title": {
           "x": 0.05
          },
          "xaxis": {
           "automargin": true,
           "gridcolor": "white",
           "linecolor": "white",
           "ticks": "",
           "title": {
            "standoff": 15
           },
           "zerolinecolor": "white",
           "zerolinewidth": 2
          },
          "yaxis": {
           "automargin": true,
           "gridcolor": "white",
           "linecolor": "white",
           "ticks": "",
           "title": {
            "standoff": 15
           },
           "zerolinecolor": "white",
           "zerolinewidth": 2
          }
         }
        },
        "title": {
         "font": {
          "size": 18
         },
         "text": "Top 10 Obligors by Total Par Value Exposure"
        },
        "width": 950,
        "xaxis": {
         "anchor": "y",
         "autorange": true,
         "domain": [
          0,
          1
         ],
         "range": [
          0,
          135368421.0526316
         ],
         "title": {
          "text": "Total Par Value"
         },
         "type": "linear"
        },
        "yaxis": {
         "anchor": "x",
         "autorange": true,
         "categoryarray": [
          "NEW YORK STATE PERSONAL INCOME TAX BONDS",
          "CALIFORNIA (STATE OF)",
          "NEW YORK CITY TRANSITIONAL FIN AUTH",
          "CONNECTICUT (STATE OF)",
          "UNIVERSITY OF CHICAGO",
          "PENNSYLVANIA ST TURNPIKE COMMISSION",
          "WASHINGTON (STATE OF)",
          "NEW YORK CITY OF",
          "NEW JERSEY ST TURNPIKE AUTHORITY",
          "PORT AUTHORITY OF NEW YORK AND NEW JERSEY"
         ],
         "categoryorder": "array",
         "domain": [
          0,
          1
         ],
         "range": [
          -0.5,
          9.5
         ],
         "title": {
          "text": "Obligor Name"
         },
         "type": "category"
        }
       }
      }
     },
     "metadata": {},
     "output_type": "display_data"
    }
   ],
   "source": [
    "import plotly.express as px\n",
    "\n",
    "def top_obligors_by_par(portfolio_data, top_n=10):\n",
    "    obligor_par = (\n",
    "        portfolio_data.groupby('Obligor Name')['Par']\n",
    "        .sum()\n",
    "        .reset_index()\n",
    "        .sort_values(by='Par', ascending=False)\n",
    "        .head(top_n)\n",
    "    )\n",
    "\n",
    "    fig = px.bar(\n",
    "        obligor_par.sort_values('Par'), \n",
    "        x='Par',\n",
    "        y='Obligor Name',\n",
    "        orientation='h',\n",
    "        text='Par',\n",
    "        color='Obligor Name',\n",
    "        color_discrete_sequence=shared_color_scale,\n",
    "        title=f'Top {top_n} Obligors by Total Par Value Exposure'\n",
    "    )\n",
    "\n",
    "    fig.update_traces(textposition='outside', texttemplate='%{text:,.0f}')\n",
    "    fig.update_layout(\n",
    "        width=950,\n",
    "        height=500,\n",
    "        xaxis_title='Total Par Value',\n",
    "        yaxis_title='Obligor Name',\n",
    "        showlegend=False,\n",
    "        font=dict(size=12),\n",
    "        title_font_size=18,\n",
    "        plot_bgcolor='white'\n",
    "    )\n",
    "\n",
    "    fig.show()\n",
    "\n",
    "top_obligors_by_par(portfolio_data, 10)"
   ]
  },
  {
   "cell_type": "markdown",
   "metadata": {},
   "source": [
    "### Question 6: What is the portfolio’s maturity profile?\n",
    "##### Group maturities into the following buckets:\n",
    "##### <5 years, 5–10 years, 10–15 years, 15–20 years, 20–30 years, 30+ years."
   ]
  },
  {
   "cell_type": "code",
   "execution_count": 68,
   "metadata": {},
   "outputs": [
    {
     "data": {
      "text/html": [
       "<div>\n",
       "<style scoped>\n",
       "    .dataframe tbody tr th:only-of-type {\n",
       "        vertical-align: middle;\n",
       "    }\n",
       "\n",
       "    .dataframe tbody tr th {\n",
       "        vertical-align: top;\n",
       "    }\n",
       "\n",
       "    .dataframe thead th {\n",
       "        text-align: right;\n",
       "    }\n",
       "</style>\n",
       "<table border=\"1\" class=\"dataframe\">\n",
       "  <thead>\n",
       "    <tr style=\"text-align: right;\">\n",
       "      <th></th>\n",
       "      <th>cusip</th>\n",
       "      <th>Obligor</th>\n",
       "      <th>Obligor Name</th>\n",
       "      <th>maturity</th>\n",
       "      <th>coupon</th>\n",
       "      <th>Sec_Group</th>\n",
       "      <th>Sec_Type</th>\n",
       "      <th>book_yield</th>\n",
       "      <th>unrealized_gl</th>\n",
       "      <th>Par</th>\n",
       "      <th>Rating</th>\n",
       "      <th>Outlook</th>\n",
       "      <th>Sector_Level_1</th>\n",
       "      <th>Sector</th>\n",
       "      <th>Rating_Bucket</th>\n",
       "      <th>Is_Rated</th>\n",
       "    </tr>\n",
       "  </thead>\n",
       "  <tbody>\n",
       "    <tr>\n",
       "      <th>1</th>\n",
       "      <td>56678TAA7</td>\n",
       "      <td>201723</td>\n",
       "      <td>COMMERCIAL METALS COMPANY</td>\n",
       "      <td>2047-10-15</td>\n",
       "      <td>4.000</td>\n",
       "      <td>BND</td>\n",
       "      <td>MUNI</td>\n",
       "      <td>3.65993</td>\n",
       "      <td>-861401.04000</td>\n",
       "      <td>7175000.0</td>\n",
       "      <td>BB1</td>\n",
       "      <td>Stable</td>\n",
       "      <td>CORP</td>\n",
       "      <td>METL</td>\n",
       "      <td>HY</td>\n",
       "      <td>True</td>\n",
       "    </tr>\n",
       "    <tr>\n",
       "      <th>2</th>\n",
       "      <td>64984EDG7</td>\n",
       "      <td>209111</td>\n",
       "      <td>CONSOLIDATED EDISON COMPANY OF NEW YORK INC</td>\n",
       "      <td>2039-05-01</td>\n",
       "      <td>-99.000</td>\n",
       "      <td>CASH</td>\n",
       "      <td>MVRDN</td>\n",
       "      <td>4.55000</td>\n",
       "      <td>99999.90000</td>\n",
       "      <td>100000.0</td>\n",
       "      <td>BBB1</td>\n",
       "      <td>Stable</td>\n",
       "      <td>CORP</td>\n",
       "      <td>ELEC</td>\n",
       "      <td>BBB</td>\n",
       "      <td>True</td>\n",
       "    </tr>\n",
       "    <tr>\n",
       "      <th>3</th>\n",
       "      <td>4423485T1</td>\n",
       "      <td>210795</td>\n",
       "      <td>UNITED AIRLINES INC</td>\n",
       "      <td>2038-07-15</td>\n",
       "      <td>6.625</td>\n",
       "      <td>BND</td>\n",
       "      <td>MUNI</td>\n",
       "      <td>4.05000</td>\n",
       "      <td>-12979.08765</td>\n",
       "      <td>405000.0</td>\n",
       "      <td>BB3</td>\n",
       "      <td>Stable</td>\n",
       "      <td>CORP</td>\n",
       "      <td>AIRL</td>\n",
       "      <td>HY</td>\n",
       "      <td>True</td>\n",
       "    </tr>\n",
       "    <tr>\n",
       "      <th>4</th>\n",
       "      <td>13050RAA0</td>\n",
       "      <td>210795</td>\n",
       "      <td>UNITED AIRLINES INC</td>\n",
       "      <td>2029-07-15</td>\n",
       "      <td>4.000</td>\n",
       "      <td>BND</td>\n",
       "      <td>MUNI</td>\n",
       "      <td>4.23300</td>\n",
       "      <td>32715.02500</td>\n",
       "      <td>2500000.0</td>\n",
       "      <td>BB3</td>\n",
       "      <td>Stable</td>\n",
       "      <td>CORP</td>\n",
       "      <td>AIRL</td>\n",
       "      <td>HY</td>\n",
       "      <td>True</td>\n",
       "    </tr>\n",
       "    <tr>\n",
       "      <th>5</th>\n",
       "      <td>442349DH6</td>\n",
       "      <td>210795</td>\n",
       "      <td>UNITED AIRLINES INC</td>\n",
       "      <td>2027-07-15</td>\n",
       "      <td>5.000</td>\n",
       "      <td>BND</td>\n",
       "      <td>MUNI</td>\n",
       "      <td>4.37500</td>\n",
       "      <td>-8715.28750</td>\n",
       "      <td>250000.0</td>\n",
       "      <td>BB3</td>\n",
       "      <td>Stable</td>\n",
       "      <td>CORP</td>\n",
       "      <td>AIRL</td>\n",
       "      <td>HY</td>\n",
       "      <td>True</td>\n",
       "    </tr>\n",
       "  </tbody>\n",
       "</table>\n",
       "</div>"
      ],
      "text/plain": [
       "       cusip Obligor                                 Obligor Name   maturity  \\\n",
       "1  56678TAA7  201723                    COMMERCIAL METALS COMPANY 2047-10-15   \n",
       "2  64984EDG7  209111  CONSOLIDATED EDISON COMPANY OF NEW YORK INC 2039-05-01   \n",
       "3  4423485T1  210795                          UNITED AIRLINES INC 2038-07-15   \n",
       "4  13050RAA0  210795                          UNITED AIRLINES INC 2029-07-15   \n",
       "5  442349DH6  210795                          UNITED AIRLINES INC 2027-07-15   \n",
       "\n",
       "   coupon Sec_Group Sec_Type  book_yield  unrealized_gl        Par Rating  \\\n",
       "1   4.000       BND     MUNI     3.65993  -861401.04000  7175000.0    BB1   \n",
       "2 -99.000      CASH    MVRDN     4.55000    99999.90000   100000.0   BBB1   \n",
       "3   6.625       BND     MUNI     4.05000   -12979.08765   405000.0    BB3   \n",
       "4   4.000       BND     MUNI     4.23300    32715.02500  2500000.0    BB3   \n",
       "5   5.000       BND     MUNI     4.37500    -8715.28750   250000.0    BB3   \n",
       "\n",
       "  Outlook Sector_Level_1 Sector Rating_Bucket  Is_Rated  \n",
       "1  Stable           CORP   METL            HY      True  \n",
       "2  Stable           CORP   ELEC           BBB      True  \n",
       "3  Stable           CORP   AIRL            HY      True  \n",
       "4  Stable           CORP   AIRL            HY      True  \n",
       "5  Stable           CORP   AIRL            HY      True  "
      ]
     },
     "execution_count": 68,
     "metadata": {},
     "output_type": "execute_result"
    }
   ],
   "source": [
    "portfolio_data.head()"
   ]
  },
  {
   "cell_type": "code",
   "execution_count": 69,
   "metadata": {},
   "outputs": [
    {
     "data": {
      "application/vnd.plotly.v1+json": {
       "config": {
        "plotlyServerURL": "https://plot.ly"
       },
       "data": [
        {
         "hovertemplate": "Maturity Bucket=%{x}<br>Total Par Exposure=%{marker.color}<extra></extra>",
         "legendgroup": "",
         "marker": {
          "color": {
           "_inputArray": {
            "0": 622179530.895892,
            "1": 460240511.00062424,
            "2": 401530635.4811155,
            "3": 363796294,
            "4": 547345000,
            "5": 114605542.112171,
            "bdata": "l6xyZdqKwkHpKAB/tm67QWMqewvf7rdBAAAARhevtUEAAAA06U/AQfTccpj3UptB",
            "dtype": "f8",
            "shape": "6"
           },
           "bdata": "l6xyZdqKwkHpKAB/tm67QWMqewvf7rdBAAAARhevtUEAAAA06U/AQfTccpj3UptB",
           "dtype": "f8"
          },
          "coloraxis": "coloraxis",
          "pattern": {
           "shape": ""
          }
         },
         "name": "",
         "orientation": "v",
         "showlegend": false,
         "text": {
          "_inputArray": {
           "0": 622179530.895892,
           "1": 460240511.00062424,
           "2": 401530635.4811155,
           "3": 363796294,
           "4": 547345000,
           "5": 114605542.112171,
           "bdata": "l6xyZdqKwkHpKAB/tm67QWMqewvf7rdBAAAARhevtUEAAAA06U/AQfTccpj3UptB",
           "dtype": "f8",
           "shape": "6"
          },
          "bdata": "l6xyZdqKwkHpKAB/tm67QWMqewvf7rdBAAAARhevtUEAAAA06U/AQfTccpj3UptB",
          "dtype": "f8"
         },
         "textposition": "outside",
         "texttemplate": "%{text:.2s}",
         "type": "bar",
         "x": [
          "<5 years",
          "5-10 years",
          "10-15 years",
          "15-20 years",
          "20-30 years",
          "30+ years"
         ],
         "xaxis": "x",
         "y": {
          "_inputArray": {
           "0": 622179530.895892,
           "1": 460240511.00062424,
           "2": 401530635.4811155,
           "3": 363796294,
           "4": 547345000,
           "5": 114605542.112171,
           "bdata": "l6xyZdqKwkHpKAB/tm67QWMqewvf7rdBAAAARhevtUEAAAA06U/AQfTccpj3UptB",
           "dtype": "f8",
           "shape": "6"
          },
          "bdata": "l6xyZdqKwkHpKAB/tm67QWMqewvf7rdBAAAARhevtUEAAAA06U/AQfTccpj3UptB",
          "dtype": "f8"
         },
         "yaxis": "y"
        }
       ],
       "layout": {
        "barmode": "relative",
        "coloraxis": {
         "colorbar": {
          "title": {
           "text": "Total Par Exposure"
          }
         },
         "colorscale": [
          [
           0,
           "rgb(255,255,204)"
          ],
          [
           0.125,
           "rgb(255,237,160)"
          ],
          [
           0.25,
           "rgb(254,217,118)"
          ],
          [
           0.375,
           "rgb(254,178,76)"
          ],
          [
           0.5,
           "rgb(253,141,60)"
          ],
          [
           0.625,
           "rgb(252,78,42)"
          ],
          [
           0.75,
           "rgb(227,26,28)"
          ],
          [
           0.875,
           "rgb(189,0,38)"
          ],
          [
           1,
           "rgb(128,0,38)"
          ]
         ]
        },
        "height": 500,
        "legend": {
         "tracegroupgap": 0
        },
        "plot_bgcolor": "white",
        "template": {
         "data": {
          "bar": [
           {
            "error_x": {
             "color": "#2a3f5f"
            },
            "error_y": {
             "color": "#2a3f5f"
            },
            "marker": {
             "line": {
              "color": "#E5ECF6",
              "width": 0.5
             },
             "pattern": {
              "fillmode": "overlay",
              "size": 10,
              "solidity": 0.2
             }
            },
            "type": "bar"
           }
          ],
          "barpolar": [
           {
            "marker": {
             "line": {
              "color": "#E5ECF6",
              "width": 0.5
             },
             "pattern": {
              "fillmode": "overlay",
              "size": 10,
              "solidity": 0.2
             }
            },
            "type": "barpolar"
           }
          ],
          "carpet": [
           {
            "aaxis": {
             "endlinecolor": "#2a3f5f",
             "gridcolor": "white",
             "linecolor": "white",
             "minorgridcolor": "white",
             "startlinecolor": "#2a3f5f"
            },
            "baxis": {
             "endlinecolor": "#2a3f5f",
             "gridcolor": "white",
             "linecolor": "white",
             "minorgridcolor": "white",
             "startlinecolor": "#2a3f5f"
            },
            "type": "carpet"
           }
          ],
          "choropleth": [
           {
            "colorbar": {
             "outlinewidth": 0,
             "ticks": ""
            },
            "type": "choropleth"
           }
          ],
          "contour": [
           {
            "colorbar": {
             "outlinewidth": 0,
             "ticks": ""
            },
            "colorscale": [
             [
              0,
              "#0d0887"
             ],
             [
              0.1111111111111111,
              "#46039f"
             ],
             [
              0.2222222222222222,
              "#7201a8"
             ],
             [
              0.3333333333333333,
              "#9c179e"
             ],
             [
              0.4444444444444444,
              "#bd3786"
             ],
             [
              0.5555555555555556,
              "#d8576b"
             ],
             [
              0.6666666666666666,
              "#ed7953"
             ],
             [
              0.7777777777777778,
              "#fb9f3a"
             ],
             [
              0.8888888888888888,
              "#fdca26"
             ],
             [
              1,
              "#f0f921"
             ]
            ],
            "type": "contour"
           }
          ],
          "contourcarpet": [
           {
            "colorbar": {
             "outlinewidth": 0,
             "ticks": ""
            },
            "type": "contourcarpet"
           }
          ],
          "heatmap": [
           {
            "colorbar": {
             "outlinewidth": 0,
             "ticks": ""
            },
            "colorscale": [
             [
              0,
              "#0d0887"
             ],
             [
              0.1111111111111111,
              "#46039f"
             ],
             [
              0.2222222222222222,
              "#7201a8"
             ],
             [
              0.3333333333333333,
              "#9c179e"
             ],
             [
              0.4444444444444444,
              "#bd3786"
             ],
             [
              0.5555555555555556,
              "#d8576b"
             ],
             [
              0.6666666666666666,
              "#ed7953"
             ],
             [
              0.7777777777777778,
              "#fb9f3a"
             ],
             [
              0.8888888888888888,
              "#fdca26"
             ],
             [
              1,
              "#f0f921"
             ]
            ],
            "type": "heatmap"
           }
          ],
          "histogram": [
           {
            "marker": {
             "pattern": {
              "fillmode": "overlay",
              "size": 10,
              "solidity": 0.2
             }
            },
            "type": "histogram"
           }
          ],
          "histogram2d": [
           {
            "colorbar": {
             "outlinewidth": 0,
             "ticks": ""
            },
            "colorscale": [
             [
              0,
              "#0d0887"
             ],
             [
              0.1111111111111111,
              "#46039f"
             ],
             [
              0.2222222222222222,
              "#7201a8"
             ],
             [
              0.3333333333333333,
              "#9c179e"
             ],
             [
              0.4444444444444444,
              "#bd3786"
             ],
             [
              0.5555555555555556,
              "#d8576b"
             ],
             [
              0.6666666666666666,
              "#ed7953"
             ],
             [
              0.7777777777777778,
              "#fb9f3a"
             ],
             [
              0.8888888888888888,
              "#fdca26"
             ],
             [
              1,
              "#f0f921"
             ]
            ],
            "type": "histogram2d"
           }
          ],
          "histogram2dcontour": [
           {
            "colorbar": {
             "outlinewidth": 0,
             "ticks": ""
            },
            "colorscale": [
             [
              0,
              "#0d0887"
             ],
             [
              0.1111111111111111,
              "#46039f"
             ],
             [
              0.2222222222222222,
              "#7201a8"
             ],
             [
              0.3333333333333333,
              "#9c179e"
             ],
             [
              0.4444444444444444,
              "#bd3786"
             ],
             [
              0.5555555555555556,
              "#d8576b"
             ],
             [
              0.6666666666666666,
              "#ed7953"
             ],
             [
              0.7777777777777778,
              "#fb9f3a"
             ],
             [
              0.8888888888888888,
              "#fdca26"
             ],
             [
              1,
              "#f0f921"
             ]
            ],
            "type": "histogram2dcontour"
           }
          ],
          "mesh3d": [
           {
            "colorbar": {
             "outlinewidth": 0,
             "ticks": ""
            },
            "type": "mesh3d"
           }
          ],
          "parcoords": [
           {
            "line": {
             "colorbar": {
              "outlinewidth": 0,
              "ticks": ""
             }
            },
            "type": "parcoords"
           }
          ],
          "pie": [
           {
            "automargin": true,
            "type": "pie"
           }
          ],
          "scatter": [
           {
            "fillpattern": {
             "fillmode": "overlay",
             "size": 10,
             "solidity": 0.2
            },
            "type": "scatter"
           }
          ],
          "scatter3d": [
           {
            "line": {
             "colorbar": {
              "outlinewidth": 0,
              "ticks": ""
             }
            },
            "marker": {
             "colorbar": {
              "outlinewidth": 0,
              "ticks": ""
             }
            },
            "type": "scatter3d"
           }
          ],
          "scattercarpet": [
           {
            "marker": {
             "colorbar": {
              "outlinewidth": 0,
              "ticks": ""
             }
            },
            "type": "scattercarpet"
           }
          ],
          "scattergeo": [
           {
            "marker": {
             "colorbar": {
              "outlinewidth": 0,
              "ticks": ""
             }
            },
            "type": "scattergeo"
           }
          ],
          "scattergl": [
           {
            "marker": {
             "colorbar": {
              "outlinewidth": 0,
              "ticks": ""
             }
            },
            "type": "scattergl"
           }
          ],
          "scattermap": [
           {
            "marker": {
             "colorbar": {
              "outlinewidth": 0,
              "ticks": ""
             }
            },
            "type": "scattermap"
           }
          ],
          "scattermapbox": [
           {
            "marker": {
             "colorbar": {
              "outlinewidth": 0,
              "ticks": ""
             }
            },
            "type": "scattermapbox"
           }
          ],
          "scatterpolar": [
           {
            "marker": {
             "colorbar": {
              "outlinewidth": 0,
              "ticks": ""
             }
            },
            "type": "scatterpolar"
           }
          ],
          "scatterpolargl": [
           {
            "marker": {
             "colorbar": {
              "outlinewidth": 0,
              "ticks": ""
             }
            },
            "type": "scatterpolargl"
           }
          ],
          "scatterternary": [
           {
            "marker": {
             "colorbar": {
              "outlinewidth": 0,
              "ticks": ""
             }
            },
            "type": "scatterternary"
           }
          ],
          "surface": [
           {
            "colorbar": {
             "outlinewidth": 0,
             "ticks": ""
            },
            "colorscale": [
             [
              0,
              "#0d0887"
             ],
             [
              0.1111111111111111,
              "#46039f"
             ],
             [
              0.2222222222222222,
              "#7201a8"
             ],
             [
              0.3333333333333333,
              "#9c179e"
             ],
             [
              0.4444444444444444,
              "#bd3786"
             ],
             [
              0.5555555555555556,
              "#d8576b"
             ],
             [
              0.6666666666666666,
              "#ed7953"
             ],
             [
              0.7777777777777778,
              "#fb9f3a"
             ],
             [
              0.8888888888888888,
              "#fdca26"
             ],
             [
              1,
              "#f0f921"
             ]
            ],
            "type": "surface"
           }
          ],
          "table": [
           {
            "cells": {
             "fill": {
              "color": "#EBF0F8"
             },
             "line": {
              "color": "white"
             }
            },
            "header": {
             "fill": {
              "color": "#C8D4E3"
             },
             "line": {
              "color": "white"
             }
            },
            "type": "table"
           }
          ]
         },
         "layout": {
          "annotationdefaults": {
           "arrowcolor": "#2a3f5f",
           "arrowhead": 0,
           "arrowwidth": 1
          },
          "autotypenumbers": "strict",
          "coloraxis": {
           "colorbar": {
            "outlinewidth": 0,
            "ticks": ""
           }
          },
          "colorscale": {
           "diverging": [
            [
             0,
             "#8e0152"
            ],
            [
             0.1,
             "#c51b7d"
            ],
            [
             0.2,
             "#de77ae"
            ],
            [
             0.3,
             "#f1b6da"
            ],
            [
             0.4,
             "#fde0ef"
            ],
            [
             0.5,
             "#f7f7f7"
            ],
            [
             0.6,
             "#e6f5d0"
            ],
            [
             0.7,
             "#b8e186"
            ],
            [
             0.8,
             "#7fbc41"
            ],
            [
             0.9,
             "#4d9221"
            ],
            [
             1,
             "#276419"
            ]
           ],
           "sequential": [
            [
             0,
             "#0d0887"
            ],
            [
             0.1111111111111111,
             "#46039f"
            ],
            [
             0.2222222222222222,
             "#7201a8"
            ],
            [
             0.3333333333333333,
             "#9c179e"
            ],
            [
             0.4444444444444444,
             "#bd3786"
            ],
            [
             0.5555555555555556,
             "#d8576b"
            ],
            [
             0.6666666666666666,
             "#ed7953"
            ],
            [
             0.7777777777777778,
             "#fb9f3a"
            ],
            [
             0.8888888888888888,
             "#fdca26"
            ],
            [
             1,
             "#f0f921"
            ]
           ],
           "sequentialminus": [
            [
             0,
             "#0d0887"
            ],
            [
             0.1111111111111111,
             "#46039f"
            ],
            [
             0.2222222222222222,
             "#7201a8"
            ],
            [
             0.3333333333333333,
             "#9c179e"
            ],
            [
             0.4444444444444444,
             "#bd3786"
            ],
            [
             0.5555555555555556,
             "#d8576b"
            ],
            [
             0.6666666666666666,
             "#ed7953"
            ],
            [
             0.7777777777777778,
             "#fb9f3a"
            ],
            [
             0.8888888888888888,
             "#fdca26"
            ],
            [
             1,
             "#f0f921"
            ]
           ]
          },
          "colorway": [
           "#636efa",
           "#EF553B",
           "#00cc96",
           "#ab63fa",
           "#FFA15A",
           "#19d3f3",
           "#FF6692",
           "#B6E880",
           "#FF97FF",
           "#FECB52"
          ],
          "font": {
           "color": "#2a3f5f"
          },
          "geo": {
           "bgcolor": "white",
           "lakecolor": "white",
           "landcolor": "#E5ECF6",
           "showlakes": true,
           "showland": true,
           "subunitcolor": "white"
          },
          "hoverlabel": {
           "align": "left"
          },
          "hovermode": "closest",
          "mapbox": {
           "style": "light"
          },
          "paper_bgcolor": "white",
          "plot_bgcolor": "#E5ECF6",
          "polar": {
           "angularaxis": {
            "gridcolor": "white",
            "linecolor": "white",
            "ticks": ""
           },
           "bgcolor": "#E5ECF6",
           "radialaxis": {
            "gridcolor": "white",
            "linecolor": "white",
            "ticks": ""
           }
          },
          "scene": {
           "xaxis": {
            "backgroundcolor": "#E5ECF6",
            "gridcolor": "white",
            "gridwidth": 2,
            "linecolor": "white",
            "showbackground": true,
            "ticks": "",
            "zerolinecolor": "white"
           },
           "yaxis": {
            "backgroundcolor": "#E5ECF6",
            "gridcolor": "white",
            "gridwidth": 2,
            "linecolor": "white",
            "showbackground": true,
            "ticks": "",
            "zerolinecolor": "white"
           },
           "zaxis": {
            "backgroundcolor": "#E5ECF6",
            "gridcolor": "white",
            "gridwidth": 2,
            "linecolor": "white",
            "showbackground": true,
            "ticks": "",
            "zerolinecolor": "white"
           }
          },
          "shapedefaults": {
           "line": {
            "color": "#2a3f5f"
           }
          },
          "ternary": {
           "aaxis": {
            "gridcolor": "white",
            "linecolor": "white",
            "ticks": ""
           },
           "baxis": {
            "gridcolor": "white",
            "linecolor": "white",
            "ticks": ""
           },
           "bgcolor": "#E5ECF6",
           "caxis": {
            "gridcolor": "white",
            "linecolor": "white",
            "ticks": ""
           }
          },
          "title": {
           "x": 0.05
          },
          "xaxis": {
           "automargin": true,
           "gridcolor": "white",
           "linecolor": "white",
           "ticks": "",
           "title": {
            "standoff": 15
           },
           "zerolinecolor": "white",
           "zerolinewidth": 2
          },
          "yaxis": {
           "automargin": true,
           "gridcolor": "white",
           "linecolor": "white",
           "ticks": "",
           "title": {
            "standoff": 15
           },
           "zerolinecolor": "white",
           "zerolinewidth": 2
          }
         }
        },
        "title": {
         "text": "Portfolio Maturity Profile"
        },
        "uniformtext": {
         "minsize": 8,
         "mode": "hide"
        },
        "width": 900,
        "xaxis": {
         "anchor": "y",
         "autorange": true,
         "domain": [
          0,
          1
         ],
         "range": [
          -0.5,
          5.5
         ],
         "title": {
          "text": "Maturity Bucket"
         },
         "type": "category"
        },
        "yaxis": {
         "anchor": "x",
         "autorange": true,
         "domain": [
          0,
          1
         ],
         "range": [
          0,
          654925821.9956758
         ],
         "title": {
          "text": "Total Par Exposure"
         },
         "type": "linear"
        }
       }
      }
     },
     "metadata": {},
     "output_type": "display_data"
    }
   ],
   "source": [
    "import pandas as pd\n",
    "import plotly.express as px\n",
    "from datetime import datetime\n",
    "\n",
    "def analyze_maturity_profile(df):\n",
    "    df['maturity'] = pd.to_datetime(df['maturity'], errors='coerce')\n",
    "\n",
    "    today = pd.Timestamp(datetime.today().date())\n",
    "\n",
    "    df['years_to_maturity'] = (df['maturity'] - today).dt.days / 365.25\n",
    "\n",
    "    bins = [0, 5, 10, 15, 20, 30, float('inf')]\n",
    "    labels = ['<5 years', '5-10 years', '10-15 years', '15-20 years', '20-30 years', '30+ years']\n",
    "\n",
    "    df['maturity_bucket'] = pd.cut(df['years_to_maturity'], bins=bins, labels=labels, right=False)\n",
    "\n",
    "    maturity_summary = (\n",
    "        df.groupby('maturity_bucket', observed=True)['Par']\n",
    "        .sum()\n",
    "        .reset_index()\n",
    "        .sort_values('maturity_bucket')\n",
    "    )\n",
    "\n",
    "    fig = px.bar(\n",
    "        maturity_summary,\n",
    "        x='maturity_bucket',\n",
    "        y='Par',\n",
    "        text='Par',\n",
    "        title='Portfolio Maturity Profile',\n",
    "        labels={'Par': 'Total Par Exposure', 'maturity_bucket': 'Maturity Bucket'},\n",
    "        color='Par',\n",
    "        color_continuous_scale=shared_color_scale\n",
    "    )\n",
    "    \n",
    "    fig.update_traces(texttemplate='%{text:.2s}', textposition='outside')\n",
    "    fig.update_layout(\n",
    "        width=900,\n",
    "        height=500,\n",
    "        uniformtext_minsize=8,\n",
    "        uniformtext_mode='hide',\n",
    "        plot_bgcolor='white',\n",
    "        xaxis_title='Maturity Bucket',\n",
    "        yaxis_title='Total Par Exposure',\n",
    "    )\n",
    "    \n",
    "    fig.show()\n",
    "\n",
    "analyze_maturity_profile(portfolio_data)"
   ]
  },
  {
   "cell_type": "markdown",
   "metadata": {},
   "source": [
    "### Question 7: Does the portfolio have any jump risk exposure?\n",
    "##### Identify obligors that have a significant chance of a downgrade to high-yield (junk) status (i.e., rated BBB with a negative outlook)"
   ]
  },
  {
   "cell_type": "code",
   "execution_count": 70,
   "metadata": {},
   "outputs": [
    {
     "data": {
      "text/html": [
       "<div>\n",
       "<style scoped>\n",
       "    .dataframe tbody tr th:only-of-type {\n",
       "        vertical-align: middle;\n",
       "    }\n",
       "\n",
       "    .dataframe tbody tr th {\n",
       "        vertical-align: top;\n",
       "    }\n",
       "\n",
       "    .dataframe thead th {\n",
       "        text-align: right;\n",
       "    }\n",
       "</style>\n",
       "<table border=\"1\" class=\"dataframe\">\n",
       "  <thead>\n",
       "    <tr style=\"text-align: right;\">\n",
       "      <th></th>\n",
       "      <th>cusip</th>\n",
       "      <th>Obligor</th>\n",
       "      <th>Obligor Name</th>\n",
       "      <th>maturity</th>\n",
       "      <th>coupon</th>\n",
       "      <th>Sec_Group</th>\n",
       "      <th>Sec_Type</th>\n",
       "      <th>book_yield</th>\n",
       "      <th>unrealized_gl</th>\n",
       "      <th>Par</th>\n",
       "      <th>Rating</th>\n",
       "      <th>Outlook</th>\n",
       "      <th>Sector_Level_1</th>\n",
       "      <th>Sector</th>\n",
       "      <th>Rating_Bucket</th>\n",
       "      <th>Is_Rated</th>\n",
       "      <th>years_to_maturity</th>\n",
       "      <th>maturity_bucket</th>\n",
       "    </tr>\n",
       "  </thead>\n",
       "  <tbody>\n",
       "    <tr>\n",
       "      <th>1</th>\n",
       "      <td>56678TAA7</td>\n",
       "      <td>201723</td>\n",
       "      <td>COMMERCIAL METALS COMPANY</td>\n",
       "      <td>2047-10-15</td>\n",
       "      <td>4.000</td>\n",
       "      <td>BND</td>\n",
       "      <td>MUNI</td>\n",
       "      <td>3.65993</td>\n",
       "      <td>-861401.04000</td>\n",
       "      <td>7175000.0</td>\n",
       "      <td>BB1</td>\n",
       "      <td>Stable</td>\n",
       "      <td>CORP</td>\n",
       "      <td>METL</td>\n",
       "      <td>HY</td>\n",
       "      <td>True</td>\n",
       "      <td>22.329911</td>\n",
       "      <td>20-30 years</td>\n",
       "    </tr>\n",
       "    <tr>\n",
       "      <th>2</th>\n",
       "      <td>64984EDG7</td>\n",
       "      <td>209111</td>\n",
       "      <td>CONSOLIDATED EDISON COMPANY OF NEW YORK INC</td>\n",
       "      <td>2039-05-01</td>\n",
       "      <td>-99.000</td>\n",
       "      <td>CASH</td>\n",
       "      <td>MVRDN</td>\n",
       "      <td>4.55000</td>\n",
       "      <td>99999.90000</td>\n",
       "      <td>100000.0</td>\n",
       "      <td>BBB1</td>\n",
       "      <td>Stable</td>\n",
       "      <td>CORP</td>\n",
       "      <td>ELEC</td>\n",
       "      <td>BBB</td>\n",
       "      <td>True</td>\n",
       "      <td>13.872690</td>\n",
       "      <td>10-15 years</td>\n",
       "    </tr>\n",
       "    <tr>\n",
       "      <th>3</th>\n",
       "      <td>4423485T1</td>\n",
       "      <td>210795</td>\n",
       "      <td>UNITED AIRLINES INC</td>\n",
       "      <td>2038-07-15</td>\n",
       "      <td>6.625</td>\n",
       "      <td>BND</td>\n",
       "      <td>MUNI</td>\n",
       "      <td>4.05000</td>\n",
       "      <td>-12979.08765</td>\n",
       "      <td>405000.0</td>\n",
       "      <td>BB3</td>\n",
       "      <td>Stable</td>\n",
       "      <td>CORP</td>\n",
       "      <td>AIRL</td>\n",
       "      <td>HY</td>\n",
       "      <td>True</td>\n",
       "      <td>13.078713</td>\n",
       "      <td>10-15 years</td>\n",
       "    </tr>\n",
       "    <tr>\n",
       "      <th>4</th>\n",
       "      <td>13050RAA0</td>\n",
       "      <td>210795</td>\n",
       "      <td>UNITED AIRLINES INC</td>\n",
       "      <td>2029-07-15</td>\n",
       "      <td>4.000</td>\n",
       "      <td>BND</td>\n",
       "      <td>MUNI</td>\n",
       "      <td>4.23300</td>\n",
       "      <td>32715.02500</td>\n",
       "      <td>2500000.0</td>\n",
       "      <td>BB3</td>\n",
       "      <td>Stable</td>\n",
       "      <td>CORP</td>\n",
       "      <td>AIRL</td>\n",
       "      <td>HY</td>\n",
       "      <td>True</td>\n",
       "      <td>4.079398</td>\n",
       "      <td>&lt;5 years</td>\n",
       "    </tr>\n",
       "    <tr>\n",
       "      <th>5</th>\n",
       "      <td>442349DH6</td>\n",
       "      <td>210795</td>\n",
       "      <td>UNITED AIRLINES INC</td>\n",
       "      <td>2027-07-15</td>\n",
       "      <td>5.000</td>\n",
       "      <td>BND</td>\n",
       "      <td>MUNI</td>\n",
       "      <td>4.37500</td>\n",
       "      <td>-8715.28750</td>\n",
       "      <td>250000.0</td>\n",
       "      <td>BB3</td>\n",
       "      <td>Stable</td>\n",
       "      <td>CORP</td>\n",
       "      <td>AIRL</td>\n",
       "      <td>HY</td>\n",
       "      <td>True</td>\n",
       "      <td>2.078029</td>\n",
       "      <td>&lt;5 years</td>\n",
       "    </tr>\n",
       "  </tbody>\n",
       "</table>\n",
       "</div>"
      ],
      "text/plain": [
       "       cusip Obligor                                 Obligor Name   maturity  \\\n",
       "1  56678TAA7  201723                    COMMERCIAL METALS COMPANY 2047-10-15   \n",
       "2  64984EDG7  209111  CONSOLIDATED EDISON COMPANY OF NEW YORK INC 2039-05-01   \n",
       "3  4423485T1  210795                          UNITED AIRLINES INC 2038-07-15   \n",
       "4  13050RAA0  210795                          UNITED AIRLINES INC 2029-07-15   \n",
       "5  442349DH6  210795                          UNITED AIRLINES INC 2027-07-15   \n",
       "\n",
       "   coupon Sec_Group Sec_Type  book_yield  unrealized_gl        Par Rating  \\\n",
       "1   4.000       BND     MUNI     3.65993  -861401.04000  7175000.0    BB1   \n",
       "2 -99.000      CASH    MVRDN     4.55000    99999.90000   100000.0   BBB1   \n",
       "3   6.625       BND     MUNI     4.05000   -12979.08765   405000.0    BB3   \n",
       "4   4.000       BND     MUNI     4.23300    32715.02500  2500000.0    BB3   \n",
       "5   5.000       BND     MUNI     4.37500    -8715.28750   250000.0    BB3   \n",
       "\n",
       "  Outlook Sector_Level_1 Sector Rating_Bucket  Is_Rated  years_to_maturity  \\\n",
       "1  Stable           CORP   METL            HY      True          22.329911   \n",
       "2  Stable           CORP   ELEC           BBB      True          13.872690   \n",
       "3  Stable           CORP   AIRL            HY      True          13.078713   \n",
       "4  Stable           CORP   AIRL            HY      True           4.079398   \n",
       "5  Stable           CORP   AIRL            HY      True           2.078029   \n",
       "\n",
       "  maturity_bucket  \n",
       "1     20-30 years  \n",
       "2     10-15 years  \n",
       "3     10-15 years  \n",
       "4        <5 years  \n",
       "5        <5 years  "
      ]
     },
     "execution_count": 70,
     "metadata": {},
     "output_type": "execute_result"
    }
   ],
   "source": [
    "portfolio_data.head()"
   ]
  },
  {
   "cell_type": "code",
   "execution_count": 71,
   "metadata": {},
   "outputs": [
    {
     "name": "stdout",
     "output_type": "stream",
     "text": [
      "['BB1' 'BBB1' 'BB3' 'BBB3' 'AA3' 'AA1' 'AAA' 'A1' 'A3' 'B1' 'CC' 'D'\n",
      " 'CCC1' 'B3']\n",
      "['Stable' 'Deteriorating' 'Provisional' 'Improving']\n"
     ]
    }
   ],
   "source": [
    "print(portfolio_data['Rating'].unique())\n",
    "print(portfolio_data['Outlook'].unique())"
   ]
  },
  {
   "cell_type": "code",
   "execution_count": 72,
   "metadata": {},
   "outputs": [],
   "source": [
    "# jump_risk_obligors = portfolio_data[\n",
    "#     portfolio_data['Rating_Bucket'].str.startswith('BBB', na=False) &\n",
    "#     (portfolio_data['Outlook'] == 'Deteriorating')\n",
    "# ]\n",
    "\n",
    "# jump_risk_summary = (\n",
    "#     jump_risk_obligors\n",
    "#     .groupby('Obligor')\n",
    "#     ['Par']\n",
    "#     .sum()\n",
    "#     .sort_values(ascending=False)\n",
    "#     .reset_index()\n",
    "# )\n",
    "# jump_risk_summary"
   ]
  },
  {
   "cell_type": "code",
   "execution_count": 73,
   "metadata": {},
   "outputs": [
    {
     "name": "stdout",
     "output_type": "stream",
     "text": [
      "Potential jump risk obligors:\n",
      "Obligor Rating       Outlook       Par\n",
      " F03594   BBB1 DETERIORATING 5675000.0\n",
      " J72490   BBB1 DETERIORATING 5000000.0\n",
      " F33523   BBB1 DETERIORATING 4750000.0\n",
      " B28793   BBB1 DETERIORATING 4645000.0\n",
      " C36392   BBB1 DETERIORATING 3720000.0\n",
      " J95341   BBB1 DETERIORATING 2540000.0\n",
      " K27485   BBB1 DETERIORATING 2000000.0\n",
      " C80556   BBB1 DETERIORATING 1925000.0\n",
      " C06037   BBB1 DETERIORATING 1180000.0\n",
      " J16715   BBB1 DETERIORATING  500000.0\n",
      " C80958   BBB3 DETERIORATING  250000.0\n",
      " J96990   BBB1 DETERIORATING  183000.0\n",
      " C41556   BBB1 DETERIORATING   75000.0\n",
      " C33785   BBB1 DETERIORATING   15000.0\n",
      " C36500   BBB1 DETERIORATING   15000.0\n",
      " C81644   BBB1 DETERIORATING    5000.0\n"
     ]
    },
    {
     "data": {
      "application/vnd.plotly.v1+json": {
       "config": {
        "plotlyServerURL": "https://plot.ly"
       },
       "data": [
        {
         "hovertemplate": "Rating=BBB1<br>Obligor=%{x}<br>Total Par Exposure=%{text}<extra></extra>",
         "legendgroup": "BBB1",
         "marker": {
          "color": "#FFA500",
          "pattern": {
           "shape": ""
          }
         },
         "name": "BBB1",
         "orientation": "v",
         "showlegend": true,
         "text": {
          "_inputArray": {
           "0": 5675000,
           "1": 5000000,
           "10": 183000,
           "11": 75000,
           "12": 15000,
           "13": 15000,
           "14": 5000,
           "2": 4750000,
           "3": 4645000,
           "4": 3720000,
           "5": 2540000,
           "6": 2000000,
           "7": 1925000,
           "8": 1180000,
           "9": 500000,
           "bdata": "AAAAAP6lVUEAAAAA0BJTQQAAAACsHlJBAAAAACK4UUEAAAAAoGFMQQAAAADwYENBAAAAAICEPkEAAAAAiF89QQAAAABgATJBAAAAAICEHkEAAAAAwFYGQQAAAACAT/JAAAAAAABMzUAAAAAAAEzNQAAAAAAAiLNA",
           "dtype": "f8",
           "shape": "15"
          },
          "bdata": "AAAAAP6lVUEAAAAA0BJTQQAAAACsHlJBAAAAACK4UUEAAAAAoGFMQQAAAADwYENBAAAAAICEPkEAAAAAiF89QQAAAABgATJBAAAAAICEHkEAAAAAwFYGQQAAAACAT/JAAAAAAABMzUAAAAAAAEzNQAAAAAAAiLNA",
          "dtype": "f8"
         },
         "textposition": "outside",
         "texttemplate": "%{text:.0f}",
         "type": "bar",
         "x": [
          "F03594",
          "J72490",
          "F33523",
          "B28793",
          "C36392",
          "J95341",
          "K27485",
          "C80556",
          "C06037",
          "J16715",
          "J96990",
          "C41556",
          "C33785",
          "C36500",
          "C81644"
         ],
         "xaxis": "x",
         "y": {
          "_inputArray": {
           "0": 5675000,
           "1": 5000000,
           "10": 183000,
           "11": 75000,
           "12": 15000,
           "13": 15000,
           "14": 5000,
           "2": 4750000,
           "3": 4645000,
           "4": 3720000,
           "5": 2540000,
           "6": 2000000,
           "7": 1925000,
           "8": 1180000,
           "9": 500000,
           "bdata": "AAAAAP6lVUEAAAAA0BJTQQAAAACsHlJBAAAAACK4UUEAAAAAoGFMQQAAAADwYENBAAAAAICEPkEAAAAAiF89QQAAAABgATJBAAAAAICEHkEAAAAAwFYGQQAAAACAT/JAAAAAAABMzUAAAAAAAEzNQAAAAAAAiLNA",
           "dtype": "f8",
           "shape": "15"
          },
          "bdata": "AAAAAP6lVUEAAAAA0BJTQQAAAACsHlJBAAAAACK4UUEAAAAAoGFMQQAAAADwYENBAAAAAICEPkEAAAAAiF89QQAAAABgATJBAAAAAICEHkEAAAAAwFYGQQAAAACAT/JAAAAAAABMzUAAAAAAAEzNQAAAAAAAiLNA",
          "dtype": "f8"
         },
         "yaxis": "y"
        },
        {
         "hovertemplate": "Rating=BBB3<br>Obligor=%{x}<br>Total Par Exposure=%{text}<extra></extra>",
         "legendgroup": "BBB3",
         "marker": {
          "color": "#FF4500",
          "pattern": {
           "shape": ""
          }
         },
         "name": "BBB3",
         "orientation": "v",
         "showlegend": true,
         "text": {
          "_inputArray": {
           "0": 250000,
           "bdata": "AAAAAICEDkE=",
           "dtype": "f8",
           "shape": "1"
          },
          "bdata": "AAAAAICEDkE=",
          "dtype": "f8"
         },
         "textposition": "outside",
         "texttemplate": "%{text:.0f}",
         "type": "bar",
         "x": [
          "C80958"
         ],
         "xaxis": "x",
         "y": {
          "_inputArray": {
           "0": 250000,
           "bdata": "AAAAAICEDkE=",
           "dtype": "f8",
           "shape": "1"
          },
          "bdata": "AAAAAICEDkE=",
          "dtype": "f8"
         },
         "yaxis": "y"
        }
       ],
       "layout": {
        "barmode": "relative",
        "height": 500,
        "legend": {
         "title": {
          "text": "Rating"
         },
         "tracegroupgap": 0
        },
        "plot_bgcolor": "white",
        "template": {
         "data": {
          "bar": [
           {
            "error_x": {
             "color": "#2a3f5f"
            },
            "error_y": {
             "color": "#2a3f5f"
            },
            "marker": {
             "line": {
              "color": "white",
              "width": 0.5
             },
             "pattern": {
              "fillmode": "overlay",
              "size": 10,
              "solidity": 0.2
             }
            },
            "type": "bar"
           }
          ],
          "barpolar": [
           {
            "marker": {
             "line": {
              "color": "white",
              "width": 0.5
             },
             "pattern": {
              "fillmode": "overlay",
              "size": 10,
              "solidity": 0.2
             }
            },
            "type": "barpolar"
           }
          ],
          "carpet": [
           {
            "aaxis": {
             "endlinecolor": "#2a3f5f",
             "gridcolor": "#C8D4E3",
             "linecolor": "#C8D4E3",
             "minorgridcolor": "#C8D4E3",
             "startlinecolor": "#2a3f5f"
            },
            "baxis": {
             "endlinecolor": "#2a3f5f",
             "gridcolor": "#C8D4E3",
             "linecolor": "#C8D4E3",
             "minorgridcolor": "#C8D4E3",
             "startlinecolor": "#2a3f5f"
            },
            "type": "carpet"
           }
          ],
          "choropleth": [
           {
            "colorbar": {
             "outlinewidth": 0,
             "ticks": ""
            },
            "type": "choropleth"
           }
          ],
          "contour": [
           {
            "colorbar": {
             "outlinewidth": 0,
             "ticks": ""
            },
            "colorscale": [
             [
              0,
              "#0d0887"
             ],
             [
              0.1111111111111111,
              "#46039f"
             ],
             [
              0.2222222222222222,
              "#7201a8"
             ],
             [
              0.3333333333333333,
              "#9c179e"
             ],
             [
              0.4444444444444444,
              "#bd3786"
             ],
             [
              0.5555555555555556,
              "#d8576b"
             ],
             [
              0.6666666666666666,
              "#ed7953"
             ],
             [
              0.7777777777777778,
              "#fb9f3a"
             ],
             [
              0.8888888888888888,
              "#fdca26"
             ],
             [
              1,
              "#f0f921"
             ]
            ],
            "type": "contour"
           }
          ],
          "contourcarpet": [
           {
            "colorbar": {
             "outlinewidth": 0,
             "ticks": ""
            },
            "type": "contourcarpet"
           }
          ],
          "heatmap": [
           {
            "colorbar": {
             "outlinewidth": 0,
             "ticks": ""
            },
            "colorscale": [
             [
              0,
              "#0d0887"
             ],
             [
              0.1111111111111111,
              "#46039f"
             ],
             [
              0.2222222222222222,
              "#7201a8"
             ],
             [
              0.3333333333333333,
              "#9c179e"
             ],
             [
              0.4444444444444444,
              "#bd3786"
             ],
             [
              0.5555555555555556,
              "#d8576b"
             ],
             [
              0.6666666666666666,
              "#ed7953"
             ],
             [
              0.7777777777777778,
              "#fb9f3a"
             ],
             [
              0.8888888888888888,
              "#fdca26"
             ],
             [
              1,
              "#f0f921"
             ]
            ],
            "type": "heatmap"
           }
          ],
          "histogram": [
           {
            "marker": {
             "pattern": {
              "fillmode": "overlay",
              "size": 10,
              "solidity": 0.2
             }
            },
            "type": "histogram"
           }
          ],
          "histogram2d": [
           {
            "colorbar": {
             "outlinewidth": 0,
             "ticks": ""
            },
            "colorscale": [
             [
              0,
              "#0d0887"
             ],
             [
              0.1111111111111111,
              "#46039f"
             ],
             [
              0.2222222222222222,
              "#7201a8"
             ],
             [
              0.3333333333333333,
              "#9c179e"
             ],
             [
              0.4444444444444444,
              "#bd3786"
             ],
             [
              0.5555555555555556,
              "#d8576b"
             ],
             [
              0.6666666666666666,
              "#ed7953"
             ],
             [
              0.7777777777777778,
              "#fb9f3a"
             ],
             [
              0.8888888888888888,
              "#fdca26"
             ],
             [
              1,
              "#f0f921"
             ]
            ],
            "type": "histogram2d"
           }
          ],
          "histogram2dcontour": [
           {
            "colorbar": {
             "outlinewidth": 0,
             "ticks": ""
            },
            "colorscale": [
             [
              0,
              "#0d0887"
             ],
             [
              0.1111111111111111,
              "#46039f"
             ],
             [
              0.2222222222222222,
              "#7201a8"
             ],
             [
              0.3333333333333333,
              "#9c179e"
             ],
             [
              0.4444444444444444,
              "#bd3786"
             ],
             [
              0.5555555555555556,
              "#d8576b"
             ],
             [
              0.6666666666666666,
              "#ed7953"
             ],
             [
              0.7777777777777778,
              "#fb9f3a"
             ],
             [
              0.8888888888888888,
              "#fdca26"
             ],
             [
              1,
              "#f0f921"
             ]
            ],
            "type": "histogram2dcontour"
           }
          ],
          "mesh3d": [
           {
            "colorbar": {
             "outlinewidth": 0,
             "ticks": ""
            },
            "type": "mesh3d"
           }
          ],
          "parcoords": [
           {
            "line": {
             "colorbar": {
              "outlinewidth": 0,
              "ticks": ""
             }
            },
            "type": "parcoords"
           }
          ],
          "pie": [
           {
            "automargin": true,
            "type": "pie"
           }
          ],
          "scatter": [
           {
            "fillpattern": {
             "fillmode": "overlay",
             "size": 10,
             "solidity": 0.2
            },
            "type": "scatter"
           }
          ],
          "scatter3d": [
           {
            "line": {
             "colorbar": {
              "outlinewidth": 0,
              "ticks": ""
             }
            },
            "marker": {
             "colorbar": {
              "outlinewidth": 0,
              "ticks": ""
             }
            },
            "type": "scatter3d"
           }
          ],
          "scattercarpet": [
           {
            "marker": {
             "colorbar": {
              "outlinewidth": 0,
              "ticks": ""
             }
            },
            "type": "scattercarpet"
           }
          ],
          "scattergeo": [
           {
            "marker": {
             "colorbar": {
              "outlinewidth": 0,
              "ticks": ""
             }
            },
            "type": "scattergeo"
           }
          ],
          "scattergl": [
           {
            "marker": {
             "colorbar": {
              "outlinewidth": 0,
              "ticks": ""
             }
            },
            "type": "scattergl"
           }
          ],
          "scattermap": [
           {
            "marker": {
             "colorbar": {
              "outlinewidth": 0,
              "ticks": ""
             }
            },
            "type": "scattermap"
           }
          ],
          "scattermapbox": [
           {
            "marker": {
             "colorbar": {
              "outlinewidth": 0,
              "ticks": ""
             }
            },
            "type": "scattermapbox"
           }
          ],
          "scatterpolar": [
           {
            "marker": {
             "colorbar": {
              "outlinewidth": 0,
              "ticks": ""
             }
            },
            "type": "scatterpolar"
           }
          ],
          "scatterpolargl": [
           {
            "marker": {
             "colorbar": {
              "outlinewidth": 0,
              "ticks": ""
             }
            },
            "type": "scatterpolargl"
           }
          ],
          "scatterternary": [
           {
            "marker": {
             "colorbar": {
              "outlinewidth": 0,
              "ticks": ""
             }
            },
            "type": "scatterternary"
           }
          ],
          "surface": [
           {
            "colorbar": {
             "outlinewidth": 0,
             "ticks": ""
            },
            "colorscale": [
             [
              0,
              "#0d0887"
             ],
             [
              0.1111111111111111,
              "#46039f"
             ],
             [
              0.2222222222222222,
              "#7201a8"
             ],
             [
              0.3333333333333333,
              "#9c179e"
             ],
             [
              0.4444444444444444,
              "#bd3786"
             ],
             [
              0.5555555555555556,
              "#d8576b"
             ],
             [
              0.6666666666666666,
              "#ed7953"
             ],
             [
              0.7777777777777778,
              "#fb9f3a"
             ],
             [
              0.8888888888888888,
              "#fdca26"
             ],
             [
              1,
              "#f0f921"
             ]
            ],
            "type": "surface"
           }
          ],
          "table": [
           {
            "cells": {
             "fill": {
              "color": "#EBF0F8"
             },
             "line": {
              "color": "white"
             }
            },
            "header": {
             "fill": {
              "color": "#C8D4E3"
             },
             "line": {
              "color": "white"
             }
            },
            "type": "table"
           }
          ]
         },
         "layout": {
          "annotationdefaults": {
           "arrowcolor": "#2a3f5f",
           "arrowhead": 0,
           "arrowwidth": 1
          },
          "autotypenumbers": "strict",
          "coloraxis": {
           "colorbar": {
            "outlinewidth": 0,
            "ticks": ""
           }
          },
          "colorscale": {
           "diverging": [
            [
             0,
             "#8e0152"
            ],
            [
             0.1,
             "#c51b7d"
            ],
            [
             0.2,
             "#de77ae"
            ],
            [
             0.3,
             "#f1b6da"
            ],
            [
             0.4,
             "#fde0ef"
            ],
            [
             0.5,
             "#f7f7f7"
            ],
            [
             0.6,
             "#e6f5d0"
            ],
            [
             0.7,
             "#b8e186"
            ],
            [
             0.8,
             "#7fbc41"
            ],
            [
             0.9,
             "#4d9221"
            ],
            [
             1,
             "#276419"
            ]
           ],
           "sequential": [
            [
             0,
             "#0d0887"
            ],
            [
             0.1111111111111111,
             "#46039f"
            ],
            [
             0.2222222222222222,
             "#7201a8"
            ],
            [
             0.3333333333333333,
             "#9c179e"
            ],
            [
             0.4444444444444444,
             "#bd3786"
            ],
            [
             0.5555555555555556,
             "#d8576b"
            ],
            [
             0.6666666666666666,
             "#ed7953"
            ],
            [
             0.7777777777777778,
             "#fb9f3a"
            ],
            [
             0.8888888888888888,
             "#fdca26"
            ],
            [
             1,
             "#f0f921"
            ]
           ],
           "sequentialminus": [
            [
             0,
             "#0d0887"
            ],
            [
             0.1111111111111111,
             "#46039f"
            ],
            [
             0.2222222222222222,
             "#7201a8"
            ],
            [
             0.3333333333333333,
             "#9c179e"
            ],
            [
             0.4444444444444444,
             "#bd3786"
            ],
            [
             0.5555555555555556,
             "#d8576b"
            ],
            [
             0.6666666666666666,
             "#ed7953"
            ],
            [
             0.7777777777777778,
             "#fb9f3a"
            ],
            [
             0.8888888888888888,
             "#fdca26"
            ],
            [
             1,
             "#f0f921"
            ]
           ]
          },
          "colorway": [
           "#636efa",
           "#EF553B",
           "#00cc96",
           "#ab63fa",
           "#FFA15A",
           "#19d3f3",
           "#FF6692",
           "#B6E880",
           "#FF97FF",
           "#FECB52"
          ],
          "font": {
           "color": "#2a3f5f"
          },
          "geo": {
           "bgcolor": "white",
           "lakecolor": "white",
           "landcolor": "white",
           "showlakes": true,
           "showland": true,
           "subunitcolor": "#C8D4E3"
          },
          "hoverlabel": {
           "align": "left"
          },
          "hovermode": "closest",
          "mapbox": {
           "style": "light"
          },
          "paper_bgcolor": "white",
          "plot_bgcolor": "white",
          "polar": {
           "angularaxis": {
            "gridcolor": "#EBF0F8",
            "linecolor": "#EBF0F8",
            "ticks": ""
           },
           "bgcolor": "white",
           "radialaxis": {
            "gridcolor": "#EBF0F8",
            "linecolor": "#EBF0F8",
            "ticks": ""
           }
          },
          "scene": {
           "xaxis": {
            "backgroundcolor": "white",
            "gridcolor": "#DFE8F3",
            "gridwidth": 2,
            "linecolor": "#EBF0F8",
            "showbackground": true,
            "ticks": "",
            "zerolinecolor": "#EBF0F8"
           },
           "yaxis": {
            "backgroundcolor": "white",
            "gridcolor": "#DFE8F3",
            "gridwidth": 2,
            "linecolor": "#EBF0F8",
            "showbackground": true,
            "ticks": "",
            "zerolinecolor": "#EBF0F8"
           },
           "zaxis": {
            "backgroundcolor": "white",
            "gridcolor": "#DFE8F3",
            "gridwidth": 2,
            "linecolor": "#EBF0F8",
            "showbackground": true,
            "ticks": "",
            "zerolinecolor": "#EBF0F8"
           }
          },
          "shapedefaults": {
           "line": {
            "color": "#2a3f5f"
           }
          },
          "ternary": {
           "aaxis": {
            "gridcolor": "#DFE8F3",
            "linecolor": "#A2B1C6",
            "ticks": ""
           },
           "baxis": {
            "gridcolor": "#DFE8F3",
            "linecolor": "#A2B1C6",
            "ticks": ""
           },
           "bgcolor": "white",
           "caxis": {
            "gridcolor": "#DFE8F3",
            "linecolor": "#A2B1C6",
            "ticks": ""
           }
          },
          "title": {
           "x": 0.05
          },
          "xaxis": {
           "automargin": true,
           "gridcolor": "#EBF0F8",
           "linecolor": "#EBF0F8",
           "ticks": "",
           "title": {
            "standoff": 15
           },
           "zerolinecolor": "#EBF0F8",
           "zerolinewidth": 2
          },
          "yaxis": {
           "automargin": true,
           "gridcolor": "#EBF0F8",
           "linecolor": "#EBF0F8",
           "ticks": "",
           "title": {
            "standoff": 15
           },
           "zerolinecolor": "#EBF0F8",
           "zerolinewidth": 2
          }
         }
        },
        "title": {
         "text": "Jump Risk Exposure: BBB-Rated Obligors with Negative Outlook"
        },
        "width": 1000,
        "xaxis": {
         "anchor": "y",
         "autorange": true,
         "domain": [
          0,
          1
         ],
         "range": [
          -0.5,
          15.5
         ],
         "tickangle": -45,
         "title": {
          "text": "Obligor"
         },
         "type": "category"
        },
        "yaxis": {
         "anchor": "x",
         "autorange": true,
         "domain": [
          0,
          1
         ],
         "range": [
          0,
          5973684.2105263155
         ],
         "title": {
          "text": "Total Par Exposure"
         },
         "type": "linear"
        }
       }
      }
     },
     "metadata": {},
     "output_type": "display_data"
    }
   ],
   "source": [
    "import plotly.express as px\n",
    "\n",
    "def analyze_jump_risk(df):\n",
    "    data = df.copy()\n",
    "    data['Rating'] = data['Rating'].astype(str).str.upper()\n",
    "    data['Outlook'] = data['Outlook'].astype(str).str.upper()\n",
    "    \n",
    "    jump_risk_df = data[\n",
    "        (data['Rating'].str.startswith('BBB')) &\n",
    "        (data['Outlook'] == 'DETERIORATING')\n",
    "    ]\n",
    "\n",
    "    jump_risk_summary = (\n",
    "        jump_risk_df.groupby(['Obligor', 'Rating', 'Outlook'], observed=True)['Par']\n",
    "        .sum()\n",
    "        .reset_index()\n",
    "        .sort_values(by='Par', ascending=False)\n",
    "    )\n",
    "\n",
    "    if jump_risk_summary.empty:\n",
    "        print(\"No obligors found with BBB rating and negative outlook (no jump-to-junk risk identified).\")\n",
    "    else:\n",
    "        print(\"Potential jump risk obligors:\")\n",
    "        print(jump_risk_summary.to_string(index=False))\n",
    "    \n",
    "        # Plot with orange-red-yellow color scale\n",
    "        fig = px.bar(\n",
    "            jump_risk_summary,\n",
    "            x='Obligor',\n",
    "            y='Par',\n",
    "            color='Rating',\n",
    "            text='Par',\n",
    "            title='Jump Risk Exposure: BBB-Rated Obligors with Negative Outlook',\n",
    "            labels={'Par': 'Total Par Exposure'},\n",
    "            color_discrete_sequence=['#FFA500', '#FF4500', '#FFD700']  # Orange, Red-Orange, Gold\n",
    "        )\n",
    "        \n",
    "        fig.update_traces(\n",
    "            textposition='outside',\n",
    "            texttemplate='%{text:.0f}'\n",
    "        )\n",
    "        \n",
    "        fig.update_layout(\n",
    "            xaxis_tickangle=-45,\n",
    "            width=1000,\n",
    "            height=500,\n",
    "            plot_bgcolor='white',\n",
    "            xaxis_title='Obligor',\n",
    "            yaxis_title='Total Par Exposure',\n",
    "            template='plotly_white'\n",
    "        )\n",
    "        \n",
    "        fig.show()\n",
    "\n",
    "analyze_jump_risk(portfolio_data)"
   ]
  },
  {
   "cell_type": "markdown",
   "metadata": {},
   "source": [
    "### Question 8: How geographically diversified is the portfolio?\n",
    "##### Calculate portfolio exposure by U.S. state, based on Par value."
   ]
  },
  {
   "cell_type": "code",
   "execution_count": 74,
   "metadata": {},
   "outputs": [
    {
     "data": {
      "text/html": [
       "<div>\n",
       "<style scoped>\n",
       "    .dataframe tbody tr th:only-of-type {\n",
       "        vertical-align: middle;\n",
       "    }\n",
       "\n",
       "    .dataframe tbody tr th {\n",
       "        vertical-align: top;\n",
       "    }\n",
       "\n",
       "    .dataframe thead th {\n",
       "        text-align: right;\n",
       "    }\n",
       "</style>\n",
       "<table border=\"1\" class=\"dataframe\">\n",
       "  <thead>\n",
       "    <tr style=\"text-align: right;\">\n",
       "      <th></th>\n",
       "      <th>State</th>\n",
       "      <th>Par</th>\n",
       "    </tr>\n",
       "  </thead>\n",
       "  <tbody>\n",
       "    <tr>\n",
       "      <th>4</th>\n",
       "      <td>CA</td>\n",
       "      <td>4.575003e+08</td>\n",
       "    </tr>\n",
       "    <tr>\n",
       "      <th>34</th>\n",
       "      <td>NY</td>\n",
       "      <td>4.172120e+08</td>\n",
       "    </tr>\n",
       "    <tr>\n",
       "      <th>38</th>\n",
       "      <td>PA</td>\n",
       "      <td>1.435400e+08</td>\n",
       "    </tr>\n",
       "    <tr>\n",
       "      <th>44</th>\n",
       "      <td>TX</td>\n",
       "      <td>1.389080e+08</td>\n",
       "    </tr>\n",
       "    <tr>\n",
       "      <th>14</th>\n",
       "      <td>IL</td>\n",
       "      <td>1.154199e+08</td>\n",
       "    </tr>\n",
       "    <tr>\n",
       "      <th>31</th>\n",
       "      <td>NJ</td>\n",
       "      <td>1.067850e+08</td>\n",
       "    </tr>\n",
       "    <tr>\n",
       "      <th>48</th>\n",
       "      <td>WA</td>\n",
       "      <td>7.664000e+07</td>\n",
       "    </tr>\n",
       "    <tr>\n",
       "      <th>19</th>\n",
       "      <td>MA</td>\n",
       "      <td>7.272660e+07</td>\n",
       "    </tr>\n",
       "    <tr>\n",
       "      <th>6</th>\n",
       "      <td>CT</td>\n",
       "      <td>7.029200e+07</td>\n",
       "    </tr>\n",
       "    <tr>\n",
       "      <th>46</th>\n",
       "      <td>VA</td>\n",
       "      <td>6.253600e+07</td>\n",
       "    </tr>\n",
       "    <tr>\n",
       "      <th>9</th>\n",
       "      <td>FL</td>\n",
       "      <td>6.030400e+07</td>\n",
       "    </tr>\n",
       "    <tr>\n",
       "      <th>22</th>\n",
       "      <td>MI</td>\n",
       "      <td>5.807200e+07</td>\n",
       "    </tr>\n",
       "    <tr>\n",
       "      <th>37</th>\n",
       "      <td>OR</td>\n",
       "      <td>5.548000e+07</td>\n",
       "    </tr>\n",
       "    <tr>\n",
       "      <th>3</th>\n",
       "      <td>AZ</td>\n",
       "      <td>5.070000e+07</td>\n",
       "    </tr>\n",
       "    <tr>\n",
       "      <th>20</th>\n",
       "      <td>MD</td>\n",
       "      <td>4.460600e+07</td>\n",
       "    </tr>\n",
       "    <tr>\n",
       "      <th>10</th>\n",
       "      <td>GA</td>\n",
       "      <td>4.410800e+07</td>\n",
       "    </tr>\n",
       "    <tr>\n",
       "      <th>27</th>\n",
       "      <td>NC</td>\n",
       "      <td>4.319800e+07</td>\n",
       "    </tr>\n",
       "    <tr>\n",
       "      <th>5</th>\n",
       "      <td>CO</td>\n",
       "      <td>3.479500e+07</td>\n",
       "    </tr>\n",
       "    <tr>\n",
       "      <th>35</th>\n",
       "      <td>OH</td>\n",
       "      <td>3.405500e+07</td>\n",
       "    </tr>\n",
       "    <tr>\n",
       "      <th>45</th>\n",
       "      <td>UT</td>\n",
       "      <td>2.481000e+07</td>\n",
       "    </tr>\n",
       "    <tr>\n",
       "      <th>23</th>\n",
       "      <td>MN</td>\n",
       "      <td>2.390500e+07</td>\n",
       "    </tr>\n",
       "    <tr>\n",
       "      <th>39</th>\n",
       "      <td>PR</td>\n",
       "      <td>2.219493e+07</td>\n",
       "    </tr>\n",
       "    <tr>\n",
       "      <th>7</th>\n",
       "      <td>DC</td>\n",
       "      <td>2.142300e+07</td>\n",
       "    </tr>\n",
       "    <tr>\n",
       "      <th>15</th>\n",
       "      <td>IN</td>\n",
       "      <td>2.088700e+07</td>\n",
       "    </tr>\n",
       "    <tr>\n",
       "      <th>11</th>\n",
       "      <td>HI</td>\n",
       "      <td>2.061000e+07</td>\n",
       "    </tr>\n",
       "    <tr>\n",
       "      <th>24</th>\n",
       "      <td>MO</td>\n",
       "      <td>1.644700e+07</td>\n",
       "    </tr>\n",
       "    <tr>\n",
       "      <th>29</th>\n",
       "      <td>NE</td>\n",
       "      <td>1.637500e+07</td>\n",
       "    </tr>\n",
       "    <tr>\n",
       "      <th>43</th>\n",
       "      <td>TN</td>\n",
       "      <td>1.633000e+07</td>\n",
       "    </tr>\n",
       "    <tr>\n",
       "      <th>33</th>\n",
       "      <td>NV</td>\n",
       "      <td>1.590750e+07</td>\n",
       "    </tr>\n",
       "    <tr>\n",
       "      <th>41</th>\n",
       "      <td>SC</td>\n",
       "      <td>1.558000e+07</td>\n",
       "    </tr>\n",
       "    <tr>\n",
       "      <th>18</th>\n",
       "      <td>LA</td>\n",
       "      <td>1.460500e+07</td>\n",
       "    </tr>\n",
       "    <tr>\n",
       "      <th>49</th>\n",
       "      <td>WI</td>\n",
       "      <td>1.375500e+07</td>\n",
       "    </tr>\n",
       "    <tr>\n",
       "      <th>1</th>\n",
       "      <td>AL</td>\n",
       "      <td>1.343000e+07</td>\n",
       "    </tr>\n",
       "    <tr>\n",
       "      <th>36</th>\n",
       "      <td>OK</td>\n",
       "      <td>1.191418e+07</td>\n",
       "    </tr>\n",
       "    <tr>\n",
       "      <th>32</th>\n",
       "      <td>NM</td>\n",
       "      <td>9.780000e+06</td>\n",
       "    </tr>\n",
       "    <tr>\n",
       "      <th>16</th>\n",
       "      <td>KS</td>\n",
       "      <td>9.735000e+06</td>\n",
       "    </tr>\n",
       "    <tr>\n",
       "      <th>17</th>\n",
       "      <td>KY</td>\n",
       "      <td>9.020000e+06</td>\n",
       "    </tr>\n",
       "    <tr>\n",
       "      <th>25</th>\n",
       "      <td>MS</td>\n",
       "      <td>7.640000e+06</td>\n",
       "    </tr>\n",
       "    <tr>\n",
       "      <th>0</th>\n",
       "      <td>AK</td>\n",
       "      <td>7.285000e+06</td>\n",
       "    </tr>\n",
       "    <tr>\n",
       "      <th>50</th>\n",
       "      <td>WV</td>\n",
       "      <td>6.547435e+06</td>\n",
       "    </tr>\n",
       "    <tr>\n",
       "      <th>13</th>\n",
       "      <td>ID</td>\n",
       "      <td>5.105000e+06</td>\n",
       "    </tr>\n",
       "    <tr>\n",
       "      <th>30</th>\n",
       "      <td>NH</td>\n",
       "      <td>5.087000e+06</td>\n",
       "    </tr>\n",
       "    <tr>\n",
       "      <th>21</th>\n",
       "      <td>ME</td>\n",
       "      <td>4.975000e+06</td>\n",
       "    </tr>\n",
       "    <tr>\n",
       "      <th>8</th>\n",
       "      <td>DE</td>\n",
       "      <td>4.730000e+06</td>\n",
       "    </tr>\n",
       "    <tr>\n",
       "      <th>42</th>\n",
       "      <td>SD</td>\n",
       "      <td>4.230000e+06</td>\n",
       "    </tr>\n",
       "    <tr>\n",
       "      <th>12</th>\n",
       "      <td>IA</td>\n",
       "      <td>3.400000e+06</td>\n",
       "    </tr>\n",
       "    <tr>\n",
       "      <th>40</th>\n",
       "      <td>RI</td>\n",
       "      <td>3.135000e+06</td>\n",
       "    </tr>\n",
       "    <tr>\n",
       "      <th>28</th>\n",
       "      <td>ND</td>\n",
       "      <td>2.450000e+06</td>\n",
       "    </tr>\n",
       "    <tr>\n",
       "      <th>47</th>\n",
       "      <td>VT</td>\n",
       "      <td>1.290000e+06</td>\n",
       "    </tr>\n",
       "    <tr>\n",
       "      <th>2</th>\n",
       "      <td>AR</td>\n",
       "      <td>9.950000e+05</td>\n",
       "    </tr>\n",
       "    <tr>\n",
       "      <th>26</th>\n",
       "      <td>MT</td>\n",
       "      <td>7.550000e+05</td>\n",
       "    </tr>\n",
       "    <tr>\n",
       "      <th>51</th>\n",
       "      <td>WY</td>\n",
       "      <td>3.750000e+05</td>\n",
       "    </tr>\n",
       "  </tbody>\n",
       "</table>\n",
       "</div>"
      ],
      "text/plain": [
       "   State           Par\n",
       "4     CA  4.575003e+08\n",
       "34    NY  4.172120e+08\n",
       "38    PA  1.435400e+08\n",
       "44    TX  1.389080e+08\n",
       "14    IL  1.154199e+08\n",
       "31    NJ  1.067850e+08\n",
       "48    WA  7.664000e+07\n",
       "19    MA  7.272660e+07\n",
       "6     CT  7.029200e+07\n",
       "46    VA  6.253600e+07\n",
       "9     FL  6.030400e+07\n",
       "22    MI  5.807200e+07\n",
       "37    OR  5.548000e+07\n",
       "3     AZ  5.070000e+07\n",
       "20    MD  4.460600e+07\n",
       "10    GA  4.410800e+07\n",
       "27    NC  4.319800e+07\n",
       "5     CO  3.479500e+07\n",
       "35    OH  3.405500e+07\n",
       "45    UT  2.481000e+07\n",
       "23    MN  2.390500e+07\n",
       "39    PR  2.219493e+07\n",
       "7     DC  2.142300e+07\n",
       "15    IN  2.088700e+07\n",
       "11    HI  2.061000e+07\n",
       "24    MO  1.644700e+07\n",
       "29    NE  1.637500e+07\n",
       "43    TN  1.633000e+07\n",
       "33    NV  1.590750e+07\n",
       "41    SC  1.558000e+07\n",
       "18    LA  1.460500e+07\n",
       "49    WI  1.375500e+07\n",
       "1     AL  1.343000e+07\n",
       "36    OK  1.191418e+07\n",
       "32    NM  9.780000e+06\n",
       "16    KS  9.735000e+06\n",
       "17    KY  9.020000e+06\n",
       "25    MS  7.640000e+06\n",
       "0     AK  7.285000e+06\n",
       "50    WV  6.547435e+06\n",
       "13    ID  5.105000e+06\n",
       "30    NH  5.087000e+06\n",
       "21    ME  4.975000e+06\n",
       "8     DE  4.730000e+06\n",
       "42    SD  4.230000e+06\n",
       "12    IA  3.400000e+06\n",
       "40    RI  3.135000e+06\n",
       "28    ND  2.450000e+06\n",
       "47    VT  1.290000e+06\n",
       "2     AR  9.950000e+05\n",
       "26    MT  7.550000e+05\n",
       "51    WY  3.750000e+05"
      ]
     },
     "metadata": {},
     "output_type": "display_data"
    },
    {
     "data": {
      "application/vnd.plotly.v1+json": {
       "config": {
        "plotlyServerURL": "https://plot.ly"
       },
       "data": [
        {
         "hovertemplate": "State=%{x}<br>Total Par Exposure=%{marker.color}<extra></extra>",
         "legendgroup": "",
         "marker": {
          "color": {
           "_inputArray": {
            "0": 457500341,
            "1": 417212026,
            "10": 60304000,
            "11": 58072000,
            "12": 55480000,
            "13": 50700000,
            "14": 44606000,
            "15": 44108000,
            "16": 43198000,
            "17": 34795000,
            "18": 34055000,
            "19": 24810000,
            "2": 143540000,
            "20": 23905000,
            "21": 22194927,
            "22": 21423000,
            "23": 20887000,
            "24": 20610000,
            "25": 16447000,
            "26": 16375000,
            "27": 16330000,
            "28": 15907500,
            "29": 15580000,
            "3": 138908028.92518,
            "30": 14605000,
            "31": 13755000,
            "32": 13430000,
            "33": 11914179.4182655,
            "34": 9780000,
            "35": 9735000,
            "36": 9020000,
            "37": 7640000,
            "38": 7285000,
            "39": 6547435,
            "4": 115419857.14285,
            "40": 5105000,
            "41": 5087000,
            "42": 4975000,
            "43": 4730000,
            "44": 4230000,
            "45": 3400000,
            "46": 3135000,
            "47": 2450000,
            "48": 1290000,
            "49": 995000,
            "5": 106785000,
            "50": 755000,
            "51": 375000,
            "6": 76640000,
            "7": 72726598.92,
            "8": 70292000,
            "9": 62536000,
            "bdata": "AAAAteZEu0EAAAB6Jt64QQAAAEB+HKFBMbHZ+SKPoEFFR5JEq4SbQQAAAKCjdZlBAAAAALxFkkF7FK4b4VaRQQAAAIBIwpBBAAAAAMrRjUEAAAAAVMGMQQAAAADesItBAAAAAHZ0ikEAAAAA9yyIQQAAAIARRYVBAAAAAEcIhUEAAACAMZmEQQAAAMBvl4BBAAAAwBo9gEEAAAAAIal3QQAAAIAuzHZBAAAA8K4qdUEAAACAOW50QQAAAIBd63NBAAAAAL2nc0EAAAAAw15vQQAAAACbO29BAAAAAKIlb0EAAACAVVduQQAAAABst21BAAAAAFnba0EAAAAATzxqQQAAAACenWlBVG5ibXi5ZkEAAAAAZKdiQQAAAABrkWJBAAAAAEw0YUEAAAAA8CRdQQAAAABCyltBAAAAwPr5WEEAAAAAWnlTQQAAAADGZ1NBAAAAAGb6UkEAAAAAJAtSQQAAAADcIlBBAAAAAKDwSUEAAAAADOtHQQAAAAAosUJBAAAAABCvM0EAAAAAcF0uQQAAAABwCidBAAAAAGDjFkE=",
            "dtype": "f8",
            "shape": "52"
           },
           "bdata": "AAAAteZEu0EAAAB6Jt64QQAAAEB+HKFBMbHZ+SKPoEFFR5JEq4SbQQAAAKCjdZlBAAAAALxFkkF7FK4b4VaRQQAAAIBIwpBBAAAAAMrRjUEAAAAAVMGMQQAAAADesItBAAAAAHZ0ikEAAAAA9yyIQQAAAIARRYVBAAAAAEcIhUEAAACAMZmEQQAAAMBvl4BBAAAAwBo9gEEAAAAAIal3QQAAAIAuzHZBAAAA8K4qdUEAAACAOW50QQAAAIBd63NBAAAAAL2nc0EAAAAAw15vQQAAAACbO29BAAAAAKIlb0EAAACAVVduQQAAAABst21BAAAAAFnba0EAAAAATzxqQQAAAACenWlBVG5ibXi5ZkEAAAAAZKdiQQAAAABrkWJBAAAAAEw0YUEAAAAA8CRdQQAAAABCyltBAAAAwPr5WEEAAAAAWnlTQQAAAADGZ1NBAAAAAGb6UkEAAAAAJAtSQQAAAADcIlBBAAAAAKDwSUEAAAAADOtHQQAAAAAosUJBAAAAABCvM0EAAAAAcF0uQQAAAABwCidBAAAAAGDjFkE=",
           "dtype": "f8"
          },
          "coloraxis": "coloraxis",
          "pattern": {
           "shape": ""
          }
         },
         "name": "",
         "orientation": "v",
         "showlegend": false,
         "text": {
          "_inputArray": {
           "0": 457500341,
           "1": 417212026,
           "10": 60304000,
           "11": 58072000,
           "12": 55480000,
           "13": 50700000,
           "14": 44606000,
           "15": 44108000,
           "16": 43198000,
           "17": 34795000,
           "18": 34055000,
           "19": 24810000,
           "2": 143540000,
           "20": 23905000,
           "21": 22194927,
           "22": 21423000,
           "23": 20887000,
           "24": 20610000,
           "25": 16447000,
           "26": 16375000,
           "27": 16330000,
           "28": 15907500,
           "29": 15580000,
           "3": 138908028.92518,
           "30": 14605000,
           "31": 13755000,
           "32": 13430000,
           "33": 11914179.4182655,
           "34": 9780000,
           "35": 9735000,
           "36": 9020000,
           "37": 7640000,
           "38": 7285000,
           "39": 6547435,
           "4": 115419857.14285,
           "40": 5105000,
           "41": 5087000,
           "42": 4975000,
           "43": 4730000,
           "44": 4230000,
           "45": 3400000,
           "46": 3135000,
           "47": 2450000,
           "48": 1290000,
           "49": 995000,
           "5": 106785000,
           "50": 755000,
           "51": 375000,
           "6": 76640000,
           "7": 72726598.92,
           "8": 70292000,
           "9": 62536000,
           "bdata": "AAAAteZEu0EAAAB6Jt64QQAAAEB+HKFBMbHZ+SKPoEFFR5JEq4SbQQAAAKCjdZlBAAAAALxFkkF7FK4b4VaRQQAAAIBIwpBBAAAAAMrRjUEAAAAAVMGMQQAAAADesItBAAAAAHZ0ikEAAAAA9yyIQQAAAIARRYVBAAAAAEcIhUEAAACAMZmEQQAAAMBvl4BBAAAAwBo9gEEAAAAAIal3QQAAAIAuzHZBAAAA8K4qdUEAAACAOW50QQAAAIBd63NBAAAAAL2nc0EAAAAAw15vQQAAAACbO29BAAAAAKIlb0EAAACAVVduQQAAAABst21BAAAAAFnba0EAAAAATzxqQQAAAACenWlBVG5ibXi5ZkEAAAAAZKdiQQAAAABrkWJBAAAAAEw0YUEAAAAA8CRdQQAAAABCyltBAAAAwPr5WEEAAAAAWnlTQQAAAADGZ1NBAAAAAGb6UkEAAAAAJAtSQQAAAADcIlBBAAAAAKDwSUEAAAAADOtHQQAAAAAosUJBAAAAABCvM0EAAAAAcF0uQQAAAABwCidBAAAAAGDjFkE=",
           "dtype": "f8",
           "shape": "52"
          },
          "bdata": "AAAAteZEu0EAAAB6Jt64QQAAAEB+HKFBMbHZ+SKPoEFFR5JEq4SbQQAAAKCjdZlBAAAAALxFkkF7FK4b4VaRQQAAAIBIwpBBAAAAAMrRjUEAAAAAVMGMQQAAAADesItBAAAAAHZ0ikEAAAAA9yyIQQAAAIARRYVBAAAAAEcIhUEAAACAMZmEQQAAAMBvl4BBAAAAwBo9gEEAAAAAIal3QQAAAIAuzHZBAAAA8K4qdUEAAACAOW50QQAAAIBd63NBAAAAAL2nc0EAAAAAw15vQQAAAACbO29BAAAAAKIlb0EAAACAVVduQQAAAABst21BAAAAAFnba0EAAAAATzxqQQAAAACenWlBVG5ibXi5ZkEAAAAAZKdiQQAAAABrkWJBAAAAAEw0YUEAAAAA8CRdQQAAAABCyltBAAAAwPr5WEEAAAAAWnlTQQAAAADGZ1NBAAAAAGb6UkEAAAAAJAtSQQAAAADcIlBBAAAAAKDwSUEAAAAADOtHQQAAAAAosUJBAAAAABCvM0EAAAAAcF0uQQAAAABwCidBAAAAAGDjFkE=",
          "dtype": "f8"
         },
         "textposition": "outside",
         "texttemplate": "%{text:.2s}",
         "type": "bar",
         "x": [
          "CA",
          "NY",
          "PA",
          "TX",
          "IL",
          "NJ",
          "WA",
          "MA",
          "CT",
          "VA",
          "FL",
          "MI",
          "OR",
          "AZ",
          "MD",
          "GA",
          "NC",
          "CO",
          "OH",
          "UT",
          "MN",
          "PR",
          "DC",
          "IN",
          "HI",
          "MO",
          "NE",
          "TN",
          "NV",
          "SC",
          "LA",
          "WI",
          "AL",
          "OK",
          "NM",
          "KS",
          "KY",
          "MS",
          "AK",
          "WV",
          "ID",
          "NH",
          "ME",
          "DE",
          "SD",
          "IA",
          "RI",
          "ND",
          "VT",
          "AR",
          "MT",
          "WY"
         ],
         "xaxis": "x",
         "y": {
          "_inputArray": {
           "0": 457500341,
           "1": 417212026,
           "10": 60304000,
           "11": 58072000,
           "12": 55480000,
           "13": 50700000,
           "14": 44606000,
           "15": 44108000,
           "16": 43198000,
           "17": 34795000,
           "18": 34055000,
           "19": 24810000,
           "2": 143540000,
           "20": 23905000,
           "21": 22194927,
           "22": 21423000,
           "23": 20887000,
           "24": 20610000,
           "25": 16447000,
           "26": 16375000,
           "27": 16330000,
           "28": 15907500,
           "29": 15580000,
           "3": 138908028.92518,
           "30": 14605000,
           "31": 13755000,
           "32": 13430000,
           "33": 11914179.4182655,
           "34": 9780000,
           "35": 9735000,
           "36": 9020000,
           "37": 7640000,
           "38": 7285000,
           "39": 6547435,
           "4": 115419857.14285,
           "40": 5105000,
           "41": 5087000,
           "42": 4975000,
           "43": 4730000,
           "44": 4230000,
           "45": 3400000,
           "46": 3135000,
           "47": 2450000,
           "48": 1290000,
           "49": 995000,
           "5": 106785000,
           "50": 755000,
           "51": 375000,
           "6": 76640000,
           "7": 72726598.92,
           "8": 70292000,
           "9": 62536000,
           "bdata": "AAAAteZEu0EAAAB6Jt64QQAAAEB+HKFBMbHZ+SKPoEFFR5JEq4SbQQAAAKCjdZlBAAAAALxFkkF7FK4b4VaRQQAAAIBIwpBBAAAAAMrRjUEAAAAAVMGMQQAAAADesItBAAAAAHZ0ikEAAAAA9yyIQQAAAIARRYVBAAAAAEcIhUEAAACAMZmEQQAAAMBvl4BBAAAAwBo9gEEAAAAAIal3QQAAAIAuzHZBAAAA8K4qdUEAAACAOW50QQAAAIBd63NBAAAAAL2nc0EAAAAAw15vQQAAAACbO29BAAAAAKIlb0EAAACAVVduQQAAAABst21BAAAAAFnba0EAAAAATzxqQQAAAACenWlBVG5ibXi5ZkEAAAAAZKdiQQAAAABrkWJBAAAAAEw0YUEAAAAA8CRdQQAAAABCyltBAAAAwPr5WEEAAAAAWnlTQQAAAADGZ1NBAAAAAGb6UkEAAAAAJAtSQQAAAADcIlBBAAAAAKDwSUEAAAAADOtHQQAAAAAosUJBAAAAABCvM0EAAAAAcF0uQQAAAABwCidBAAAAAGDjFkE=",
           "dtype": "f8",
           "shape": "52"
          },
          "bdata": "AAAAteZEu0EAAAB6Jt64QQAAAEB+HKFBMbHZ+SKPoEFFR5JEq4SbQQAAAKCjdZlBAAAAALxFkkF7FK4b4VaRQQAAAIBIwpBBAAAAAMrRjUEAAAAAVMGMQQAAAADesItBAAAAAHZ0ikEAAAAA9yyIQQAAAIARRYVBAAAAAEcIhUEAAACAMZmEQQAAAMBvl4BBAAAAwBo9gEEAAAAAIal3QQAAAIAuzHZBAAAA8K4qdUEAAACAOW50QQAAAIBd63NBAAAAAL2nc0EAAAAAw15vQQAAAACbO29BAAAAAKIlb0EAAACAVVduQQAAAABst21BAAAAAFnba0EAAAAATzxqQQAAAACenWlBVG5ibXi5ZkEAAAAAZKdiQQAAAABrkWJBAAAAAEw0YUEAAAAA8CRdQQAAAABCyltBAAAAwPr5WEEAAAAAWnlTQQAAAADGZ1NBAAAAAGb6UkEAAAAAJAtSQQAAAADcIlBBAAAAAKDwSUEAAAAADOtHQQAAAAAosUJBAAAAABCvM0EAAAAAcF0uQQAAAABwCidBAAAAAGDjFkE=",
          "dtype": "f8"
         },
         "yaxis": "y"
        }
       ],
       "layout": {
        "barmode": "relative",
        "coloraxis": {
         "colorbar": {
          "title": {
           "text": "Total Par Exposure"
          }
         },
         "colorscale": [
          [
           0,
           "rgb(255,255,204)"
          ],
          [
           0.125,
           "rgb(255,237,160)"
          ],
          [
           0.25,
           "rgb(254,217,118)"
          ],
          [
           0.375,
           "rgb(254,178,76)"
          ],
          [
           0.5,
           "rgb(253,141,60)"
          ],
          [
           0.625,
           "rgb(252,78,42)"
          ],
          [
           0.75,
           "rgb(227,26,28)"
          ],
          [
           0.875,
           "rgb(189,0,38)"
          ],
          [
           1,
           "rgb(128,0,38)"
          ]
         ]
        },
        "height": 500,
        "legend": {
         "tracegroupgap": 0
        },
        "plot_bgcolor": "white",
        "template": {
         "data": {
          "bar": [
           {
            "error_x": {
             "color": "#2a3f5f"
            },
            "error_y": {
             "color": "#2a3f5f"
            },
            "marker": {
             "line": {
              "color": "#E5ECF6",
              "width": 0.5
             },
             "pattern": {
              "fillmode": "overlay",
              "size": 10,
              "solidity": 0.2
             }
            },
            "type": "bar"
           }
          ],
          "barpolar": [
           {
            "marker": {
             "line": {
              "color": "#E5ECF6",
              "width": 0.5
             },
             "pattern": {
              "fillmode": "overlay",
              "size": 10,
              "solidity": 0.2
             }
            },
            "type": "barpolar"
           }
          ],
          "carpet": [
           {
            "aaxis": {
             "endlinecolor": "#2a3f5f",
             "gridcolor": "white",
             "linecolor": "white",
             "minorgridcolor": "white",
             "startlinecolor": "#2a3f5f"
            },
            "baxis": {
             "endlinecolor": "#2a3f5f",
             "gridcolor": "white",
             "linecolor": "white",
             "minorgridcolor": "white",
             "startlinecolor": "#2a3f5f"
            },
            "type": "carpet"
           }
          ],
          "choropleth": [
           {
            "colorbar": {
             "outlinewidth": 0,
             "ticks": ""
            },
            "type": "choropleth"
           }
          ],
          "contour": [
           {
            "colorbar": {
             "outlinewidth": 0,
             "ticks": ""
            },
            "colorscale": [
             [
              0,
              "#0d0887"
             ],
             [
              0.1111111111111111,
              "#46039f"
             ],
             [
              0.2222222222222222,
              "#7201a8"
             ],
             [
              0.3333333333333333,
              "#9c179e"
             ],
             [
              0.4444444444444444,
              "#bd3786"
             ],
             [
              0.5555555555555556,
              "#d8576b"
             ],
             [
              0.6666666666666666,
              "#ed7953"
             ],
             [
              0.7777777777777778,
              "#fb9f3a"
             ],
             [
              0.8888888888888888,
              "#fdca26"
             ],
             [
              1,
              "#f0f921"
             ]
            ],
            "type": "contour"
           }
          ],
          "contourcarpet": [
           {
            "colorbar": {
             "outlinewidth": 0,
             "ticks": ""
            },
            "type": "contourcarpet"
           }
          ],
          "heatmap": [
           {
            "colorbar": {
             "outlinewidth": 0,
             "ticks": ""
            },
            "colorscale": [
             [
              0,
              "#0d0887"
             ],
             [
              0.1111111111111111,
              "#46039f"
             ],
             [
              0.2222222222222222,
              "#7201a8"
             ],
             [
              0.3333333333333333,
              "#9c179e"
             ],
             [
              0.4444444444444444,
              "#bd3786"
             ],
             [
              0.5555555555555556,
              "#d8576b"
             ],
             [
              0.6666666666666666,
              "#ed7953"
             ],
             [
              0.7777777777777778,
              "#fb9f3a"
             ],
             [
              0.8888888888888888,
              "#fdca26"
             ],
             [
              1,
              "#f0f921"
             ]
            ],
            "type": "heatmap"
           }
          ],
          "histogram": [
           {
            "marker": {
             "pattern": {
              "fillmode": "overlay",
              "size": 10,
              "solidity": 0.2
             }
            },
            "type": "histogram"
           }
          ],
          "histogram2d": [
           {
            "colorbar": {
             "outlinewidth": 0,
             "ticks": ""
            },
            "colorscale": [
             [
              0,
              "#0d0887"
             ],
             [
              0.1111111111111111,
              "#46039f"
             ],
             [
              0.2222222222222222,
              "#7201a8"
             ],
             [
              0.3333333333333333,
              "#9c179e"
             ],
             [
              0.4444444444444444,
              "#bd3786"
             ],
             [
              0.5555555555555556,
              "#d8576b"
             ],
             [
              0.6666666666666666,
              "#ed7953"
             ],
             [
              0.7777777777777778,
              "#fb9f3a"
             ],
             [
              0.8888888888888888,
              "#fdca26"
             ],
             [
              1,
              "#f0f921"
             ]
            ],
            "type": "histogram2d"
           }
          ],
          "histogram2dcontour": [
           {
            "colorbar": {
             "outlinewidth": 0,
             "ticks": ""
            },
            "colorscale": [
             [
              0,
              "#0d0887"
             ],
             [
              0.1111111111111111,
              "#46039f"
             ],
             [
              0.2222222222222222,
              "#7201a8"
             ],
             [
              0.3333333333333333,
              "#9c179e"
             ],
             [
              0.4444444444444444,
              "#bd3786"
             ],
             [
              0.5555555555555556,
              "#d8576b"
             ],
             [
              0.6666666666666666,
              "#ed7953"
             ],
             [
              0.7777777777777778,
              "#fb9f3a"
             ],
             [
              0.8888888888888888,
              "#fdca26"
             ],
             [
              1,
              "#f0f921"
             ]
            ],
            "type": "histogram2dcontour"
           }
          ],
          "mesh3d": [
           {
            "colorbar": {
             "outlinewidth": 0,
             "ticks": ""
            },
            "type": "mesh3d"
           }
          ],
          "parcoords": [
           {
            "line": {
             "colorbar": {
              "outlinewidth": 0,
              "ticks": ""
             }
            },
            "type": "parcoords"
           }
          ],
          "pie": [
           {
            "automargin": true,
            "type": "pie"
           }
          ],
          "scatter": [
           {
            "fillpattern": {
             "fillmode": "overlay",
             "size": 10,
             "solidity": 0.2
            },
            "type": "scatter"
           }
          ],
          "scatter3d": [
           {
            "line": {
             "colorbar": {
              "outlinewidth": 0,
              "ticks": ""
             }
            },
            "marker": {
             "colorbar": {
              "outlinewidth": 0,
              "ticks": ""
             }
            },
            "type": "scatter3d"
           }
          ],
          "scattercarpet": [
           {
            "marker": {
             "colorbar": {
              "outlinewidth": 0,
              "ticks": ""
             }
            },
            "type": "scattercarpet"
           }
          ],
          "scattergeo": [
           {
            "marker": {
             "colorbar": {
              "outlinewidth": 0,
              "ticks": ""
             }
            },
            "type": "scattergeo"
           }
          ],
          "scattergl": [
           {
            "marker": {
             "colorbar": {
              "outlinewidth": 0,
              "ticks": ""
             }
            },
            "type": "scattergl"
           }
          ],
          "scattermap": [
           {
            "marker": {
             "colorbar": {
              "outlinewidth": 0,
              "ticks": ""
             }
            },
            "type": "scattermap"
           }
          ],
          "scattermapbox": [
           {
            "marker": {
             "colorbar": {
              "outlinewidth": 0,
              "ticks": ""
             }
            },
            "type": "scattermapbox"
           }
          ],
          "scatterpolar": [
           {
            "marker": {
             "colorbar": {
              "outlinewidth": 0,
              "ticks": ""
             }
            },
            "type": "scatterpolar"
           }
          ],
          "scatterpolargl": [
           {
            "marker": {
             "colorbar": {
              "outlinewidth": 0,
              "ticks": ""
             }
            },
            "type": "scatterpolargl"
           }
          ],
          "scatterternary": [
           {
            "marker": {
             "colorbar": {
              "outlinewidth": 0,
              "ticks": ""
             }
            },
            "type": "scatterternary"
           }
          ],
          "surface": [
           {
            "colorbar": {
             "outlinewidth": 0,
             "ticks": ""
            },
            "colorscale": [
             [
              0,
              "#0d0887"
             ],
             [
              0.1111111111111111,
              "#46039f"
             ],
             [
              0.2222222222222222,
              "#7201a8"
             ],
             [
              0.3333333333333333,
              "#9c179e"
             ],
             [
              0.4444444444444444,
              "#bd3786"
             ],
             [
              0.5555555555555556,
              "#d8576b"
             ],
             [
              0.6666666666666666,
              "#ed7953"
             ],
             [
              0.7777777777777778,
              "#fb9f3a"
             ],
             [
              0.8888888888888888,
              "#fdca26"
             ],
             [
              1,
              "#f0f921"
             ]
            ],
            "type": "surface"
           }
          ],
          "table": [
           {
            "cells": {
             "fill": {
              "color": "#EBF0F8"
             },
             "line": {
              "color": "white"
             }
            },
            "header": {
             "fill": {
              "color": "#C8D4E3"
             },
             "line": {
              "color": "white"
             }
            },
            "type": "table"
           }
          ]
         },
         "layout": {
          "annotationdefaults": {
           "arrowcolor": "#2a3f5f",
           "arrowhead": 0,
           "arrowwidth": 1
          },
          "autotypenumbers": "strict",
          "coloraxis": {
           "colorbar": {
            "outlinewidth": 0,
            "ticks": ""
           }
          },
          "colorscale": {
           "diverging": [
            [
             0,
             "#8e0152"
            ],
            [
             0.1,
             "#c51b7d"
            ],
            [
             0.2,
             "#de77ae"
            ],
            [
             0.3,
             "#f1b6da"
            ],
            [
             0.4,
             "#fde0ef"
            ],
            [
             0.5,
             "#f7f7f7"
            ],
            [
             0.6,
             "#e6f5d0"
            ],
            [
             0.7,
             "#b8e186"
            ],
            [
             0.8,
             "#7fbc41"
            ],
            [
             0.9,
             "#4d9221"
            ],
            [
             1,
             "#276419"
            ]
           ],
           "sequential": [
            [
             0,
             "#0d0887"
            ],
            [
             0.1111111111111111,
             "#46039f"
            ],
            [
             0.2222222222222222,
             "#7201a8"
            ],
            [
             0.3333333333333333,
             "#9c179e"
            ],
            [
             0.4444444444444444,
             "#bd3786"
            ],
            [
             0.5555555555555556,
             "#d8576b"
            ],
            [
             0.6666666666666666,
             "#ed7953"
            ],
            [
             0.7777777777777778,
             "#fb9f3a"
            ],
            [
             0.8888888888888888,
             "#fdca26"
            ],
            [
             1,
             "#f0f921"
            ]
           ],
           "sequentialminus": [
            [
             0,
             "#0d0887"
            ],
            [
             0.1111111111111111,
             "#46039f"
            ],
            [
             0.2222222222222222,
             "#7201a8"
            ],
            [
             0.3333333333333333,
             "#9c179e"
            ],
            [
             0.4444444444444444,
             "#bd3786"
            ],
            [
             0.5555555555555556,
             "#d8576b"
            ],
            [
             0.6666666666666666,
             "#ed7953"
            ],
            [
             0.7777777777777778,
             "#fb9f3a"
            ],
            [
             0.8888888888888888,
             "#fdca26"
            ],
            [
             1,
             "#f0f921"
            ]
           ]
          },
          "colorway": [
           "#636efa",
           "#EF553B",
           "#00cc96",
           "#ab63fa",
           "#FFA15A",
           "#19d3f3",
           "#FF6692",
           "#B6E880",
           "#FF97FF",
           "#FECB52"
          ],
          "font": {
           "color": "#2a3f5f"
          },
          "geo": {
           "bgcolor": "white",
           "lakecolor": "white",
           "landcolor": "#E5ECF6",
           "showlakes": true,
           "showland": true,
           "subunitcolor": "white"
          },
          "hoverlabel": {
           "align": "left"
          },
          "hovermode": "closest",
          "mapbox": {
           "style": "light"
          },
          "paper_bgcolor": "white",
          "plot_bgcolor": "#E5ECF6",
          "polar": {
           "angularaxis": {
            "gridcolor": "white",
            "linecolor": "white",
            "ticks": ""
           },
           "bgcolor": "#E5ECF6",
           "radialaxis": {
            "gridcolor": "white",
            "linecolor": "white",
            "ticks": ""
           }
          },
          "scene": {
           "xaxis": {
            "backgroundcolor": "#E5ECF6",
            "gridcolor": "white",
            "gridwidth": 2,
            "linecolor": "white",
            "showbackground": true,
            "ticks": "",
            "zerolinecolor": "white"
           },
           "yaxis": {
            "backgroundcolor": "#E5ECF6",
            "gridcolor": "white",
            "gridwidth": 2,
            "linecolor": "white",
            "showbackground": true,
            "ticks": "",
            "zerolinecolor": "white"
           },
           "zaxis": {
            "backgroundcolor": "#E5ECF6",
            "gridcolor": "white",
            "gridwidth": 2,
            "linecolor": "white",
            "showbackground": true,
            "ticks": "",
            "zerolinecolor": "white"
           }
          },
          "shapedefaults": {
           "line": {
            "color": "#2a3f5f"
           }
          },
          "ternary": {
           "aaxis": {
            "gridcolor": "white",
            "linecolor": "white",
            "ticks": ""
           },
           "baxis": {
            "gridcolor": "white",
            "linecolor": "white",
            "ticks": ""
           },
           "bgcolor": "#E5ECF6",
           "caxis": {
            "gridcolor": "white",
            "linecolor": "white",
            "ticks": ""
           }
          },
          "title": {
           "x": 0.05
          },
          "xaxis": {
           "automargin": true,
           "gridcolor": "white",
           "linecolor": "white",
           "ticks": "",
           "title": {
            "standoff": 15
           },
           "zerolinecolor": "white",
           "zerolinewidth": 2
          },
          "yaxis": {
           "automargin": true,
           "gridcolor": "white",
           "linecolor": "white",
           "ticks": "",
           "title": {
            "standoff": 15
           },
           "zerolinecolor": "white",
           "zerolinewidth": 2
          }
         }
        },
        "title": {
         "text": "Portfolio Exposure by U.S. State"
        },
        "width": 1000,
        "xaxis": {
         "anchor": "y",
         "autorange": true,
         "domain": [
          0,
          1
         ],
         "range": [
          -0.5,
          51.5
         ],
         "tickangle": -45,
         "title": {
          "text": "State"
         },
         "type": "category"
        },
        "yaxis": {
         "anchor": "x",
         "autorange": true,
         "domain": [
          0,
          1
         ],
         "range": [
          0,
          481579306.31578946
         ],
         "title": {
          "text": "Total Par Exposure"
         },
         "type": "linear"
        }
       }
      },
      "image/png": "[encoded data removed]"
     },
     "metadata": {},
     "output_type": "display_data"
    }
   ],
   "source": [
    "def analyze_geographic_diversity(df):\n",
    "\n",
    "    if 'State' not in df.columns:\n",
    "        print(\"The dataset does not contain a 'State' column. Please provide the correct column for geographic info.\")\n",
    "        return\n",
    "\n",
    "    state_exposure = (\n",
    "        df.groupby('State', observed=True)['Par']\n",
    "        .sum()\n",
    "        .reset_index()\n",
    "        .sort_values(by='Par', ascending=False)\n",
    "    )\n",
    "    \n",
    "    display(state_exposure)\n",
    "    \n",
    "    fig = px.bar(\n",
    "        state_exposure,\n",
    "        x='State',\n",
    "        y='Par',\n",
    "        text='Par',\n",
    "        title='Portfolio Exposure by U.S. State',\n",
    "        labels={'Par': 'Total Par Exposure'},\n",
    "        color='Par',\n",
    "        color_continuous_scale=shared_color_scale\n",
    "    )\n",
    "    \n",
    "    fig.update_traces(texttemplate='%{text:.2s}', textposition='outside')\n",
    "    fig.update_layout(\n",
    "        xaxis_tickangle=-45,\n",
    "        width=1000,\n",
    "        height=500,\n",
    "        plot_bgcolor='white'\n",
    "    )\n",
    "    \n",
    "    fig.show()\n",
    "\n",
    "\n",
    "analyze_geographic_diversity(merged_data)\n"
   ]
  },
  {
   "cell_type": "code",
   "execution_count": null,
   "metadata": {},
   "outputs": [],
   "source": []
  },
  {
   "cell_type": "code",
   "execution_count": null,
   "metadata": {},
   "outputs": [],
   "source": []
  },
  {
   "cell_type": "code",
   "execution_count": null,
   "metadata": {},
   "outputs": [],
   "source": []
  },
  {
   "cell_type": "code",
   "execution_count": null,
   "metadata": {},
   "outputs": [],
   "source": []
  },
  {
   "cell_type": "code",
   "execution_count": null,
   "metadata": {},
   "outputs": [],
   "source": []
  }
 ],
 "metadata": {
  "kernelspec": {
   "display_name": "Python 3 (ipykernel)",
   "language": "python",
   "name": "python3"
  },
  "language_info": {
   "codemirror_mode": {
    "name": "ipython",
    "version": 3
   },
   "file_extension": ".py",
   "mimetype": "text/x-python",
   "name": "python",
   "nbconvert_exporter": "python",
   "pygments_lexer": "ipython3",
   "version": "3.10.12"
  }
 },
 "nbformat": 4,
 "nbformat_minor": 4
}
